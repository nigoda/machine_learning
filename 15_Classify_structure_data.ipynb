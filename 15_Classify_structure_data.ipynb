{
  "nbformat": 4,
  "nbformat_minor": 0,
  "metadata": {
    "colab": {
      "name": "15.Classify_structure_data.ipynb",
      "provenance": [],
      "authorship_tag": "ABX9TyMH1EZoqr0bGLMLjcibeDMT",
      "include_colab_link": true
    },
    "kernelspec": {
      "name": "python3",
      "display_name": "Python 3"
    }
  },
  "cells": [
    {
      "cell_type": "markdown",
      "metadata": {
        "id": "view-in-github",
        "colab_type": "text"
      },
      "source": [
        "<a href=\"https://colab.research.google.com/github/nigoda/machine_learning/blob/main/15_Classify_structure_data.ipynb\" target=\"_parent\"><img src=\"https://colab.research.google.com/assets/colab-badge.svg\" alt=\"Open In Colab\"/></a>"
      ]
    },
    {
      "cell_type": "markdown",
      "metadata": {
        "id": "rEPD7hCOdTX9"
      },
      "source": [
        "# **Classify Structure Data**\n",
        "\n",
        "How to build a classifier for a structure data(e.g tabular data in a CSV). Use keras to define the model, and feature column as a bridge to map from columns in a CSV to feature for model training.\n",
        "\n",
        "\n",
        "\n",
        "*   Load a CSV file using pandas\n",
        "*   Build an input pipeline to batch and shuffle the rows using tf.data\n",
        "*   Map from columns in the CSV  to feature columns.\n",
        "*   Build, train, and evaluate a model using keras.\n",
        "\n",
        "*Dataset : Clevenland clinic foundation for Heart Disease description*"
      ]
    },
    {
      "cell_type": "markdown",
      "metadata": {
        "id": "PsEOxLibhE62"
      },
      "source": [
        "### **Import TensorFlow and other libraries**\n",
        "\n",
        "we will use sklearn for splitting the data into traning and test set."
      ]
    },
    {
      "cell_type": "code",
      "metadata": {
        "colab": {
          "base_uri": "https://localhost:8080/"
        },
        "id": "RBfYjnmzgxJ0",
        "outputId": "5e2d34d0-bb46-4c23-d4a4-5ef0ff514e7b"
      },
      "source": [
        "!pip install sklearn"
      ],
      "execution_count": null,
      "outputs": [
        {
          "output_type": "stream",
          "text": [
            "Requirement already satisfied: sklearn in /usr/local/lib/python3.6/dist-packages (0.0)\n",
            "Requirement already satisfied: scikit-learn in /usr/local/lib/python3.6/dist-packages (from sklearn) (0.22.2.post1)\n",
            "Requirement already satisfied: scipy>=0.17.0 in /usr/local/lib/python3.6/dist-packages (from scikit-learn->sklearn) (1.4.1)\n",
            "Requirement already satisfied: numpy>=1.11.0 in /usr/local/lib/python3.6/dist-packages (from scikit-learn->sklearn) (1.19.5)\n",
            "Requirement already satisfied: joblib>=0.11 in /usr/local/lib/python3.6/dist-packages (from scikit-learn->sklearn) (1.0.0)\n"
          ],
          "name": "stdout"
        }
      ]
    },
    {
      "cell_type": "code",
      "metadata": {
        "colab": {
          "base_uri": "https://localhost:8080/"
        },
        "id": "xHuXTy6fdDYc",
        "outputId": "5f5e9462-0ca6-46a9-f337-fc696edc51b9"
      },
      "source": [
        "from __future__ import absolute_import, division, print_function, unicode_literals\n",
        "\n",
        "import numpy as np\n",
        "import pandas as pd\n",
        "\n",
        "!pip install tensorflow==2.0.0-beta1\n",
        "import tensorflow as tf\n",
        "\n",
        "from tensorflow import feature_column\n",
        "from tensorflow.keras import layers\n",
        "from sklearn.model_selection import train_test_split"
      ],
      "execution_count": null,
      "outputs": [
        {
          "output_type": "stream",
          "text": [
            "Requirement already satisfied: tensorflow==2.0.0-beta1 in /usr/local/lib/python3.6/dist-packages (2.0.0b1)\n",
            "Requirement already satisfied: numpy<2.0,>=1.14.5 in /usr/local/lib/python3.6/dist-packages (from tensorflow==2.0.0-beta1) (1.19.5)\n",
            "Requirement already satisfied: six>=1.10.0 in /usr/local/lib/python3.6/dist-packages (from tensorflow==2.0.0-beta1) (1.15.0)\n",
            "Requirement already satisfied: protobuf>=3.6.1 in /usr/local/lib/python3.6/dist-packages (from tensorflow==2.0.0-beta1) (3.12.4)\n",
            "Requirement already satisfied: keras-applications>=1.0.6 in /usr/local/lib/python3.6/dist-packages (from tensorflow==2.0.0-beta1) (1.0.8)\n",
            "Requirement already satisfied: tb-nightly<1.14.0a20190604,>=1.14.0a20190603 in /usr/local/lib/python3.6/dist-packages (from tensorflow==2.0.0-beta1) (1.14.0a20190603)\n",
            "Requirement already satisfied: termcolor>=1.1.0 in /usr/local/lib/python3.6/dist-packages (from tensorflow==2.0.0-beta1) (1.1.0)\n",
            "Requirement already satisfied: grpcio>=1.8.6 in /usr/local/lib/python3.6/dist-packages (from tensorflow==2.0.0-beta1) (1.32.0)\n",
            "Requirement already satisfied: google-pasta>=0.1.6 in /usr/local/lib/python3.6/dist-packages (from tensorflow==2.0.0-beta1) (0.2.0)\n",
            "Requirement already satisfied: gast>=0.2.0 in /usr/local/lib/python3.6/dist-packages (from tensorflow==2.0.0-beta1) (0.3.3)\n",
            "Requirement already satisfied: keras-preprocessing>=1.0.5 in /usr/local/lib/python3.6/dist-packages (from tensorflow==2.0.0-beta1) (1.1.2)\n",
            "Requirement already satisfied: tf-estimator-nightly<1.14.0.dev2019060502,>=1.14.0.dev2019060501 in /usr/local/lib/python3.6/dist-packages (from tensorflow==2.0.0-beta1) (1.14.0.dev2019060501)\n",
            "Requirement already satisfied: astor>=0.6.0 in /usr/local/lib/python3.6/dist-packages (from tensorflow==2.0.0-beta1) (0.8.1)\n",
            "Requirement already satisfied: wheel>=0.26 in /usr/local/lib/python3.6/dist-packages (from tensorflow==2.0.0-beta1) (0.36.2)\n",
            "Requirement already satisfied: absl-py>=0.7.0 in /usr/local/lib/python3.6/dist-packages (from tensorflow==2.0.0-beta1) (0.10.0)\n",
            "Requirement already satisfied: wrapt>=1.11.1 in /usr/local/lib/python3.6/dist-packages (from tensorflow==2.0.0-beta1) (1.12.1)\n",
            "Requirement already satisfied: setuptools in /usr/local/lib/python3.6/dist-packages (from protobuf>=3.6.1->tensorflow==2.0.0-beta1) (53.0.0)\n",
            "Requirement already satisfied: h5py in /usr/local/lib/python3.6/dist-packages (from keras-applications>=1.0.6->tensorflow==2.0.0-beta1) (2.10.0)\n",
            "Requirement already satisfied: werkzeug>=0.11.15 in /usr/local/lib/python3.6/dist-packages (from tb-nightly<1.14.0a20190604,>=1.14.0a20190603->tensorflow==2.0.0-beta1) (1.0.1)\n",
            "Requirement already satisfied: markdown>=2.6.8 in /usr/local/lib/python3.6/dist-packages (from tb-nightly<1.14.0a20190604,>=1.14.0a20190603->tensorflow==2.0.0-beta1) (3.3.3)\n",
            "Requirement already satisfied: importlib-metadata; python_version < \"3.8\" in /usr/local/lib/python3.6/dist-packages (from markdown>=2.6.8->tb-nightly<1.14.0a20190604,>=1.14.0a20190603->tensorflow==2.0.0-beta1) (3.4.0)\n",
            "Requirement already satisfied: zipp>=0.5 in /usr/local/lib/python3.6/dist-packages (from importlib-metadata; python_version < \"3.8\"->markdown>=2.6.8->tb-nightly<1.14.0a20190604,>=1.14.0a20190603->tensorflow==2.0.0-beta1) (3.4.0)\n",
            "Requirement already satisfied: typing-extensions>=3.6.4; python_version < \"3.8\" in /usr/local/lib/python3.6/dist-packages (from importlib-metadata; python_version < \"3.8\"->markdown>=2.6.8->tb-nightly<1.14.0a20190604,>=1.14.0a20190603->tensorflow==2.0.0-beta1) (3.7.4.3)\n"
          ],
          "name": "stdout"
        }
      ]
    },
    {
      "cell_type": "markdown",
      "metadata": {
        "id": "xqmBz7Hviwl4"
      },
      "source": [
        "Use Pandas to create a dataframe"
      ]
    },
    {
      "cell_type": "code",
      "metadata": {
        "colab": {
          "base_uri": "https://localhost:8080/",
          "height": 215
        },
        "id": "UWWJnwibieDB",
        "outputId": "6c9e5a1f-1646-4f5d-ccfb-be82f0c0d97c"
      },
      "source": [
        "URL = \"https://storage.googleapis.com/download.tensorflow.org/data/heart.csv\"\n",
        "dataframe = pd.read_csv(URL)\n",
        "dataframe.head()"
      ],
      "execution_count": null,
      "outputs": [
        {
          "output_type": "execute_result",
          "data": {
            "text/html": [
              "<div>\n",
              "<style scoped>\n",
              "    .dataframe tbody tr th:only-of-type {\n",
              "        vertical-align: middle;\n",
              "    }\n",
              "\n",
              "    .dataframe tbody tr th {\n",
              "        vertical-align: top;\n",
              "    }\n",
              "\n",
              "    .dataframe thead th {\n",
              "        text-align: right;\n",
              "    }\n",
              "</style>\n",
              "<table border=\"1\" class=\"dataframe\">\n",
              "  <thead>\n",
              "    <tr style=\"text-align: right;\">\n",
              "      <th></th>\n",
              "      <th>age</th>\n",
              "      <th>sex</th>\n",
              "      <th>cp</th>\n",
              "      <th>trestbps</th>\n",
              "      <th>chol</th>\n",
              "      <th>fbs</th>\n",
              "      <th>restecg</th>\n",
              "      <th>thalach</th>\n",
              "      <th>exang</th>\n",
              "      <th>oldpeak</th>\n",
              "      <th>slope</th>\n",
              "      <th>ca</th>\n",
              "      <th>thal</th>\n",
              "      <th>target</th>\n",
              "    </tr>\n",
              "  </thead>\n",
              "  <tbody>\n",
              "    <tr>\n",
              "      <th>0</th>\n",
              "      <td>63</td>\n",
              "      <td>1</td>\n",
              "      <td>1</td>\n",
              "      <td>145</td>\n",
              "      <td>233</td>\n",
              "      <td>1</td>\n",
              "      <td>2</td>\n",
              "      <td>150</td>\n",
              "      <td>0</td>\n",
              "      <td>2.3</td>\n",
              "      <td>3</td>\n",
              "      <td>0</td>\n",
              "      <td>fixed</td>\n",
              "      <td>0</td>\n",
              "    </tr>\n",
              "    <tr>\n",
              "      <th>1</th>\n",
              "      <td>67</td>\n",
              "      <td>1</td>\n",
              "      <td>4</td>\n",
              "      <td>160</td>\n",
              "      <td>286</td>\n",
              "      <td>0</td>\n",
              "      <td>2</td>\n",
              "      <td>108</td>\n",
              "      <td>1</td>\n",
              "      <td>1.5</td>\n",
              "      <td>2</td>\n",
              "      <td>3</td>\n",
              "      <td>normal</td>\n",
              "      <td>1</td>\n",
              "    </tr>\n",
              "    <tr>\n",
              "      <th>2</th>\n",
              "      <td>67</td>\n",
              "      <td>1</td>\n",
              "      <td>4</td>\n",
              "      <td>120</td>\n",
              "      <td>229</td>\n",
              "      <td>0</td>\n",
              "      <td>2</td>\n",
              "      <td>129</td>\n",
              "      <td>1</td>\n",
              "      <td>2.6</td>\n",
              "      <td>2</td>\n",
              "      <td>2</td>\n",
              "      <td>reversible</td>\n",
              "      <td>0</td>\n",
              "    </tr>\n",
              "    <tr>\n",
              "      <th>3</th>\n",
              "      <td>37</td>\n",
              "      <td>1</td>\n",
              "      <td>3</td>\n",
              "      <td>130</td>\n",
              "      <td>250</td>\n",
              "      <td>0</td>\n",
              "      <td>0</td>\n",
              "      <td>187</td>\n",
              "      <td>0</td>\n",
              "      <td>3.5</td>\n",
              "      <td>3</td>\n",
              "      <td>0</td>\n",
              "      <td>normal</td>\n",
              "      <td>0</td>\n",
              "    </tr>\n",
              "    <tr>\n",
              "      <th>4</th>\n",
              "      <td>41</td>\n",
              "      <td>0</td>\n",
              "      <td>2</td>\n",
              "      <td>130</td>\n",
              "      <td>204</td>\n",
              "      <td>0</td>\n",
              "      <td>2</td>\n",
              "      <td>172</td>\n",
              "      <td>0</td>\n",
              "      <td>1.4</td>\n",
              "      <td>1</td>\n",
              "      <td>0</td>\n",
              "      <td>normal</td>\n",
              "      <td>0</td>\n",
              "    </tr>\n",
              "  </tbody>\n",
              "</table>\n",
              "</div>"
            ],
            "text/plain": [
              "   age  sex  cp  trestbps  chol  ...  oldpeak  slope  ca        thal  target\n",
              "0   63    1   1       145   233  ...      2.3      3   0       fixed       0\n",
              "1   67    1   4       160   286  ...      1.5      2   3      normal       1\n",
              "2   67    1   4       120   229  ...      2.6      2   2  reversible       0\n",
              "3   37    1   3       130   250  ...      3.5      3   0      normal       0\n",
              "4   41    0   2       130   204  ...      1.4      1   0      normal       0\n",
              "\n",
              "[5 rows x 14 columns]"
            ]
          },
          "metadata": {
            "tags": []
          },
          "execution_count": 61
        }
      ]
    },
    {
      "cell_type": "markdown",
      "metadata": {
        "id": "hjL5TRhlmHni"
      },
      "source": [
        "Split the dataframe into train, validation, and test"
      ]
    },
    {
      "cell_type": "code",
      "metadata": {
        "colab": {
          "base_uri": "https://localhost:8080/"
        },
        "id": "vQFtlh0KjZC-",
        "outputId": "ad7cb826-ad58-4da3-f854-005e604ff1ed"
      },
      "source": [
        "train, test = train_test_split(dataframe, test_size=0.2)\n",
        "train, val = train_test_split(train, test_size=0.2)\n",
        "print(len(train), 'train examples')\n",
        "print(len(val), 'validation examples')\n",
        "print(len(test), 'test examples')"
      ],
      "execution_count": null,
      "outputs": [
        {
          "output_type": "stream",
          "text": [
            "193 train examples\n",
            "49 validation examples\n",
            "61 test examples\n"
          ],
          "name": "stdout"
        }
      ]
    },
    {
      "cell_type": "markdown",
      "metadata": {
        "id": "3roy3QBInMsD"
      },
      "source": [
        "### **Creatre an input pipeline using tf.data**\n",
        "\n",
        "Next, we will wrap the dataframes with `td.data`. This will enable us to use feature columns as a bridge to map from the columns in the Pandas dataframe to featurea used to train the model. If we were working with a very large CSV file(so large that is does not fit into memory), we would use `tf.data` to read it from disk directly.  "
      ]
    },
    {
      "cell_type": "code",
      "metadata": {
        "id": "Kn--XUbioOmL"
      },
      "source": [
        "# A utility method to create a tf.data dataset from a Pandas Dataframe\n",
        "def df_to_dataset(dataframe, shuffle=True, batch_size=32):\n",
        "  dataframe = dataframe.copy()\n",
        "  labels = dataframe.pop('target')\n",
        "  ds = tf.data.Dataset.from_tensor_slices((dict(dataframe), labels))\n",
        "  if shuffle:\n",
        "    ds = ds.shuffle(buffer_size=len(dataframe))\n",
        "  ds = ds.batch(batch_size)\n",
        "  return ds"
      ],
      "execution_count": null,
      "outputs": []
    },
    {
      "cell_type": "markdown",
      "metadata": {
        "id": "E6nI_nL7paqr"
      },
      "source": [
        "Lets understand what this function is doing:\n",
        "\n",
        "1.   Copy the input dataframe so that the changes are not presisted.\n",
        "2.   Pop the labels column from the dataframe with pop method,which returns the label column and remove it from the dataframe.\n",
        "3.   Create dataset from tensor slices. The tensor slices are created by obtaining dictionary representation of the dataframe and the label column.\n",
        "4.   Shuffle the dataset in case method.\n",
        "5.   Get a batch of tensors of specified size and return it.\n",
        "\n"
      ]
    },
    {
      "cell_type": "code",
      "metadata": {
        "id": "Yk94T1SDsq3C"
      },
      "source": [
        "batch_size = 5 # A small batch sized is used for demonstration purposes\n",
        "train_ds = df_to_dataset(train, batch_size=batch_size)\n",
        "val_ds = df_to_dataset(val, shuffle=False, batch_size=batch_size)\n",
        "test_ds = df_to_dataset(test, shuffle=False, batch_size=batch_size)"
      ],
      "execution_count": null,
      "outputs": []
    },
    {
      "cell_type": "markdown",
      "metadata": {
        "id": "jeYaI0uVwKAO"
      },
      "source": [
        "### **Understand the input pipeline**\n",
        "\n",
        "Now that we have created the input pipeline, Let's call it to see the formate of the data it returns. We have used a small batch size to keep the output readable."
      ]
    },
    {
      "cell_type": "code",
      "metadata": {
        "colab": {
          "base_uri": "https://localhost:8080/"
        },
        "id": "LE9-Bw-OtzeT",
        "outputId": "ad972f23-8f8b-4f35-ed08-8eb5c217d102"
      },
      "source": [
        "for feature_batch, label_batch in train_ds.take(1):\n",
        "  print('Every feature:',list(feature_batch.keys()))\n",
        "  print('A batch of ages: ', feature_batch['age'])\n",
        "  print('A batch of target: ', label_batch)"
      ],
      "execution_count": null,
      "outputs": [
        {
          "output_type": "stream",
          "text": [
            "Every feature: ['age', 'sex', 'cp', 'trestbps', 'chol', 'fbs', 'restecg', 'thalach', 'exang', 'oldpeak', 'slope', 'ca', 'thal']\n",
            "A batch of ages:  tf.Tensor([54 56 58 50 58], shape=(5,), dtype=int32)\n",
            "A batch of target:  tf.Tensor([0 0 1 0 0], shape=(5,), dtype=int32)\n"
          ],
          "name": "stdout"
        }
      ]
    },
    {
      "cell_type": "markdown",
      "metadata": {
        "id": "PSQi9SCax5y-"
      },
      "source": [
        "### **Demonstrate several types of feature columns**\n",
        "\n",
        "TensorFlow provides many types of feature columns. In this section, we will create several types of feature columns, and demonstrate how they transform a column from the dataframe."
      ]
    },
    {
      "cell_type": "code",
      "metadata": {
        "id": "iTct7M1xyjrc"
      },
      "source": [
        "# We will use this batch to demonstrate several types of feature columns.\n",
        "example_batch = next(iter(train_ds))[0]"
      ],
      "execution_count": null,
      "outputs": []
    },
    {
      "cell_type": "code",
      "metadata": {
        "id": "gswdLzGay4MV"
      },
      "source": [
        "# A utility method to create a feature column and to transform a batch of data.\n",
        "def demo(feature_column):\n",
        "  feature_layer = layers.DenseFeatures(feature_column)\n",
        "  print(feature_layer(example_batch).numpy())"
      ],
      "execution_count": null,
      "outputs": []
    },
    {
      "cell_type": "markdown",
      "metadata": {
        "id": "YTTMdQ04zcED"
      },
      "source": [
        "### **Numeric columns**\n",
        "\n",
        "The output of a feature column becomes the input to the model(using the demo function define above, we will be able to see exactly how each column from the dataframe is transformed). A `numeric column` is the simplest type of column. It is used to represent real valued features. When using this column, your model will receive the column value from the dataframe unchanged."
      ]
    },
    {
      "cell_type": "code",
      "metadata": {
        "colab": {
          "base_uri": "https://localhost:8080/"
        },
        "id": "UDwpekP9zaUE",
        "outputId": "29cc515b-2e09-4701-c53d-900d5700f55a"
      },
      "source": [
        "age = feature_column.numeric_column(\"age\")\n",
        "demo(age)"
      ],
      "execution_count": null,
      "outputs": [
        {
          "output_type": "stream",
          "text": [
            "[[54.]\n",
            " [56.]\n",
            " [58.]\n",
            " [50.]\n",
            " [58.]]\n"
          ],
          "name": "stdout"
        }
      ]
    },
    {
      "cell_type": "markdown",
      "metadata": {
        "id": "xg9FmL933iXm"
      },
      "source": [
        "### **Bucketized columns**\n",
        "Often, you don't want to feed a number directly into the model, but instead spilt its value into different categories based on numerical ranges. Consider raw data that represents a persons's age. Instead of representing age as a numeric column, we could split the age into several buckets using a `bucketized column`. Notice the one-hot values below descibe which age range each row matches."
      ]
    },
    {
      "cell_type": "code",
      "metadata": {
        "id": "X7Y1vc6d1rxd",
        "colab": {
          "base_uri": "https://localhost:8080/"
        },
        "outputId": "1fd46a29-5eee-4ff3-a23b-a9fed9562381"
      },
      "source": [
        "age_buckets = feature_column.bucketized_column(age, boundaries=[18, 25, 30, 35, 40, 45, 50, 55, 60, 65])\n",
        "demo(age_buckets)"
      ],
      "execution_count": null,
      "outputs": [
        {
          "output_type": "stream",
          "text": [
            "[[0. 0. 0. 0. 0. 0. 0. 1. 0. 0. 0.]\n",
            " [0. 0. 0. 0. 0. 0. 0. 0. 1. 0. 0.]\n",
            " [0. 0. 0. 0. 0. 0. 0. 0. 1. 0. 0.]\n",
            " [0. 0. 0. 0. 0. 0. 0. 1. 0. 0. 0.]\n",
            " [0. 0. 0. 0. 0. 0. 0. 0. 1. 0. 0.]]\n"
          ],
          "name": "stdout"
        }
      ]
    },
    {
      "cell_type": "markdown",
      "metadata": {
        "id": "QeVrz_xcT-ux"
      },
      "source": [
        "### **Categorical columns**\n",
        "\n",
        "In this dataset, that is represented as a string(e.g. 'fixed','normal',or'reversib;e'). We cannot feed string directly to a model. Instead, we must first map them to numeric values. The categorical vocabulary columns provide a way to represent string as a one-hot vector(much like you have seen above with age buckets). The vocabulary can be passed as a list using `Categorical_column_with_vocabulary_list`, or loaded from a file using `categorical_column_with_vocabulary_file`.\n"
      ]
    },
    {
      "cell_type": "code",
      "metadata": {
        "colab": {
          "base_uri": "https://localhost:8080/"
        },
        "id": "2qUuyTNFT3QE",
        "outputId": "a57d78bd-4558-4d60-d358-c6530de00c2f"
      },
      "source": [
        "thal = feature_column.categorical_column_with_vocabulary_list(\n",
        "    'thal',['fixed','normal','reversible'])\n",
        "thal_one_hot = feature_column.indicator_column(thal)\n",
        "demo(thal_one_hot)"
      ],
      "execution_count": null,
      "outputs": [
        {
          "output_type": "stream",
          "text": [
            "[[0. 1. 0.]\n",
            " [1. 0. 0.]\n",
            " [0. 0. 1.]\n",
            " [0. 0. 1.]\n",
            " [0. 1. 0.]]\n"
          ],
          "name": "stdout"
        }
      ]
    },
    {
      "cell_type": "markdown",
      "metadata": {
        "id": "25DyocSDbk1N"
      },
      "source": [
        "### **Embedding columns**\n",
        "\n",
        "Suppose instead of having just a few possible srting , we have thousand(or more) values per categorical . For a number of reasons, as the number of categorical grow larger,it becomes infeasible to train a neural network using one-hot encodings. We can use an embedding column to overcome this limitation. Instead of representing the data as a one-hot vector of many dimensions,as `embedding column` repressent that data as a lower-dimensional, dense vector in which each cell can contain any number, not just 0 or 1. The size of the embedding(8, in the example below) is a parameter that must be turned.\n",
        "\n",
        "key point: using an embedding column is best when a categorical column has many possible values. We are using one here for demonstraction purpose, so you have a complete example you can modify for a different dataset in the future."
      ]
    },
    {
      "cell_type": "code",
      "metadata": {
        "colab": {
          "base_uri": "https://localhost:8080/"
        },
        "id": "JazHzjn6efaI",
        "outputId": "4a3db08f-8137-40e3-a05e-bb4ce398bd21"
      },
      "source": [
        "# Notice the input to the embedding column is the categorical column\n",
        "# we previously created\n",
        "thal_embedding = feature_column.embedding_column(thal, dimension=8)\n",
        "demo(thal_embedding)"
      ],
      "execution_count": null,
      "outputs": [
        {
          "output_type": "stream",
          "text": [
            "[[-0.30729973 -0.39098382 -0.35466993 -0.66526955  0.2597974  -0.23162203\n",
            "   0.6121564  -0.15612991]\n",
            " [ 0.12556003 -0.22928041 -0.3129179   0.16608681  0.19093558  0.6859717\n",
            "  -0.5167214  -0.22028807]\n",
            " [-0.00785702  0.62338656  0.52729785  0.0894713   0.30477864 -0.11983582\n",
            "   0.19623291  0.09423055]\n",
            " [-0.00785702  0.62338656  0.52729785  0.0894713   0.30477864 -0.11983582\n",
            "   0.19623291  0.09423055]\n",
            " [-0.30729973 -0.39098382 -0.35466993 -0.66526955  0.2597974  -0.23162203\n",
            "   0.6121564  -0.15612991]]\n"
          ],
          "name": "stdout"
        }
      ]
    },
    {
      "cell_type": "markdown",
      "metadata": {
        "id": "2MHFY-7se9OA"
      },
      "source": [
        "### **Hashed feature columns**\n",
        "\n",
        "Another way to represent a categorical with a large number of values is to use a `categorical_column_with_hash_bucket`.This feature column calculates a hash values of the input, then selects one of the hash_bucket_size bucket to encode a string. When using this column,you do not need to provide the vocabulary, and you can choose to make the number of hash_bucket significantly smaller than the number of actual categorical to save space.\n",
        "\n",
        "key point: An important downside of this technique is that there may be collisions in which different strings are mapped to the same bucket. In practice, this can work well for some datasets regardless."
      ]
    },
    {
      "cell_type": "code",
      "metadata": {
        "colab": {
          "base_uri": "https://localhost:8080/"
        },
        "id": "mxKhKG9Hd9IU",
        "outputId": "e2ad804c-c28e-4322-ff47-4b3c85161029"
      },
      "source": [
        "thal_hashed = feature_column.categorical_column_with_hash_bucket(\n",
        "    'thal', hash_bucket_size = 1000)\n",
        "demo(feature_column.indicator_column(thal_hashed)) "
      ],
      "execution_count": null,
      "outputs": [
        {
          "output_type": "stream",
          "text": [
            "[[0. 0. 0. ... 0. 0. 0.]\n",
            " [0. 0. 0. ... 0. 0. 0.]\n",
            " [0. 0. 0. ... 0. 0. 0.]\n",
            " [0. 0. 0. ... 0. 0. 0.]\n",
            " [0. 0. 0. ... 0. 0. 0.]]\n"
          ],
          "name": "stdout"
        }
      ]
    },
    {
      "cell_type": "markdown",
      "metadata": {
        "id": "F96vob8cd8eG"
      },
      "source": [
        "### **Crossed feature columns**\n",
        "\n",
        "Combining features into a single feature, better known as `feature crosses`, enables a model to learn separate weights for each combination of features. Here,we will create a new feature that is the cross of age and thal. Note that crossed_column does not build the full tabel of all possible combinations(which could be very large). Instead, it is backed by a hashed_column, so you can choose how large the tabel is.\n"
      ]
    },
    {
      "cell_type": "code",
      "metadata": {
        "colab": {
          "base_uri": "https://localhost:8080/"
        },
        "id": "rxafuTgzi1ae",
        "outputId": "cd343d4e-d334-4de0-f8a9-e82581f7a30b"
      },
      "source": [
        "crossed_feature = feature_column.crossed_column([age_buckets, thal], hash_bucket_size=1000)\n",
        "demo(feature_column.indicator_column(crossed_feature))"
      ],
      "execution_count": null,
      "outputs": [
        {
          "output_type": "stream",
          "text": [
            "[[0. 0. 0. ... 0. 0. 0.]\n",
            " [0. 0. 0. ... 0. 0. 0.]\n",
            " [0. 0. 0. ... 0. 0. 0.]\n",
            " [0. 0. 0. ... 0. 0. 0.]\n",
            " [0. 0. 0. ... 0. 0. 0.]]\n"
          ],
          "name": "stdout"
        }
      ]
    },
    {
      "cell_type": "markdown",
      "metadata": {
        "id": "PkOgo7nsjnk-"
      },
      "source": [
        "## **choose which columns to use**\n",
        "\n",
        "We have seen how to use several types of feature columns. Now we will use them to train the model. The goal of this to show you the complete code(eg mechanics) needed to work with feature columns. We have selected a few columns arbitrarily to train our model below.\n",
        "\n",
        "key point: If your aim is to build an accurate model, try a larger dataset of yours own, and think carefully about which features are the most meaningful to include, and how they should be represented.\n"
      ]
    },
    {
      "cell_type": "code",
      "metadata": {
        "id": "OERGaX_jnhOp"
      },
      "source": [
        "feature_columns = []\n",
        "\n",
        "# numeric cols\n",
        "for header in ['age','trestbps','chol','thalach','oldpeak','slope','ca']:\n",
        "  feature_columns.append(feature_column.numeric_column(header))\n",
        "\n",
        "# bucketized cols\n",
        "age_buckets = feature_column.bucketized_column(age, boundaries=[18, 25, 30, 35, 40, 45, 50, 55, 60, 65])\n",
        "feature_columns.append(age_buckets)\n",
        "\n",
        "# indicator cols\n",
        "thal = feature_column.categorical_column_with_vocabulary_list(\n",
        "    'thal', ['fixed','normal','reversible'])\n",
        "thal_one_hot = feature_column.indicator_column(thal)\n",
        "feature_columns.append(thal_one_hot)\n",
        "\n",
        "# embedding cols\n",
        "thal_embedding = feature_column.embedding_column(thal, dimension=8)\n",
        "feature_columns.append(thal_embedding)\n",
        "\n",
        "# crossed cols\n",
        "crossed_feature = feature_column.crossed_column([age_buckets, thal], hash_bucket_size=1000) \n",
        "crossed_feature = feature_column.indicator_column(crossed_feature)\n",
        "feature_columns.append(crossed_feature)"
      ],
      "execution_count": null,
      "outputs": []
    },
    {
      "cell_type": "markdown",
      "metadata": {
        "id": "CkdIzDtJrN8L"
      },
      "source": [
        "### **Create a feature layer**\n",
        "Now that we have defined our feature columns, we will use a `DenseFeatures` layer to input them to our keras model.\n"
      ]
    },
    {
      "cell_type": "code",
      "metadata": {
        "id": "dkiOgs9aqAsL"
      },
      "source": [
        "feature_layer = tf.keras.layers.DenseFeatures(feature_columns)"
      ],
      "execution_count": null,
      "outputs": []
    },
    {
      "cell_type": "markdown",
      "metadata": {
        "id": "QGoDBoUUr1Gg"
      },
      "source": [
        "Earlier, we used a small batch size to demonstrate how feature columns worked. We create a new input pipeline with a large batch size."
      ]
    },
    {
      "cell_type": "code",
      "metadata": {
        "id": "ShTGeMYGrxT4"
      },
      "source": [
        "batch_size = 32\n",
        "train_ds = df_to_dataset(train, batch_size=batch_size)\n",
        "val_ds = df_to_dataset(val, shuffle=False, batch_size=batch_size)\n",
        "test_ds = df_to_dataset(test, shuffle=False, batch_size=batch_size)"
      ],
      "execution_count": null,
      "outputs": []
    },
    {
      "cell_type": "markdown",
      "metadata": {
        "id": "Kxu9fmy9sqSX"
      },
      "source": [
        "### **Create, compile, and train the model**\n"
      ]
    },
    {
      "cell_type": "code",
      "metadata": {
        "id": "3ovcqIpJspVO"
      },
      "source": [
        "# Create a baseline model with logistic regression\n",
        "model = tf.keras.Sequential([\n",
        "    feature_layer,\n",
        "    layers.Dense(1, activation='sigmoid')\n",
        "])"
      ],
      "execution_count": null,
      "outputs": []
    },
    {
      "cell_type": "code",
      "metadata": {
        "colab": {
          "base_uri": "https://localhost:8080/"
        },
        "id": "9JvwXCJetXJk",
        "outputId": "8dde0160-c6a9-4000-d08c-b509830c8b0b"
      },
      "source": [
        "model.compile(optimizer='adam',\n",
        "              loss='binary_crossentropy',\n",
        "              metrics=['accuracy'],\n",
        "              run_eagerly=True)\n",
        "\n",
        "model.fit(train_ds,\n",
        "          validation_data = val_ds,\n",
        "          epochs = 5)"
      ],
      "execution_count": null,
      "outputs": [
        {
          "output_type": "stream",
          "text": [
            "Epoch 1/5\n",
            "WARNING:tensorflow:Entity <bound method DenseFeatures.call of <tensorflow.python.feature_column.feature_column_v2.DenseFeatures object at 0x7f0b6919e630>> could not be transformed and will be executed as-is. Please report this to the AutoGraph team. When filing the bug, set the verbosity to 10 (on Linux, `export AUTOGRAPH_VERBOSITY=10`) and attach the full output. Cause: converting <bound method DenseFeatures.call of <tensorflow.python.feature_column.feature_column_v2.DenseFeatures object at 0x7f0b6919e630>>: AttributeError: module 'gast' has no attribute 'Num'\n",
            "WARNING: Entity <bound method DenseFeatures.call of <tensorflow.python.feature_column.feature_column_v2.DenseFeatures object at 0x7f0b6919e630>> could not be transformed and will be executed as-is. Please report this to the AutoGraph team. When filing the bug, set the verbosity to 10 (on Linux, `export AUTOGRAPH_VERBOSITY=10`) and attach the full output. Cause: converting <bound method DenseFeatures.call of <tensorflow.python.feature_column.feature_column_v2.DenseFeatures object at 0x7f0b6919e630>>: AttributeError: module 'gast' has no attribute 'Num'\n",
            "7/7 [==============================] - 1s 72ms/step - loss: 4.6716 - accuracy: 0.7412 - val_loss: 2.6235 - val_accuracy: 0.8163\n",
            "Epoch 2/5\n",
            "7/7 [==============================] - 0s 30ms/step - loss: 3.7645 - accuracy: 0.7412 - val_loss: 2.0477 - val_accuracy: 0.8163\n",
            "Epoch 3/5\n",
            "7/7 [==============================] - 0s 28ms/step - loss: 2.6602 - accuracy: 0.7392 - val_loss: 1.4089 - val_accuracy: 0.8163\n",
            "Epoch 4/5\n",
            "7/7 [==============================] - 0s 27ms/step - loss: 1.5933 - accuracy: 0.6941 - val_loss: 1.2433 - val_accuracy: 0.5306\n",
            "Epoch 5/5\n",
            "7/7 [==============================] - 0s 28ms/step - loss: 1.2525 - accuracy: 0.5465 - val_loss: 1.6864 - val_accuracy: 0.3673\n"
          ],
          "name": "stdout"
        },
        {
          "output_type": "execute_result",
          "data": {
            "text/plain": [
              "<tensorflow.python.keras.callbacks.History at 0x7f0b68f92f28>"
            ]
          },
          "metadata": {
            "tags": []
          },
          "execution_count": 78
        }
      ]
    },
    {
      "cell_type": "code",
      "metadata": {
        "colab": {
          "base_uri": "https://localhost:8080/"
        },
        "id": "rXb5rN3Lt75I",
        "outputId": "2e2296d5-cb41-4161-d120-43c616a7ff6c"
      },
      "source": [
        "loss, accuracy = model.evaluate(test_ds)\n",
        "print(\"Accuracy\", accuracy)"
      ],
      "execution_count": null,
      "outputs": [
        {
          "output_type": "stream",
          "text": [
            "2/2 [==============================] - 0s 19ms/step - loss: 1.6621 - accuracy: 0.3607\n",
            "Accuracy 0.36065573\n"
          ],
          "name": "stdout"
        }
      ]
    },
    {
      "cell_type": "markdown",
      "metadata": {
        "id": "iThndrtDuwl4"
      },
      "source": [
        "## **Build Neural Network based model**\n"
      ]
    },
    {
      "cell_type": "code",
      "metadata": {
        "colab": {
          "base_uri": "https://localhost:8080/"
        },
        "id": "2IBLgNN-uSHE",
        "outputId": "cf43038a-c57b-4d3d-c8ac-dd79f3a3eacd"
      },
      "source": [
        "model_nn = tf.keras.Sequential([\n",
        "   feature_layer,\n",
        "   layers.Dense(128, activation='relu'),\n",
        "   layers.Dense(128, activation='relu'),\n",
        "   layers.Dense(1, activation='sigmoid')\n",
        "])\n",
        "\n",
        "model_nn.compile(optimizer='adam',\n",
        "              loss='binary_crossentropy',\n",
        "              metrics=['accuracy'],\n",
        "              run_eagerly=True)\n",
        "\n",
        "model_nn.fit(train_ds,\n",
        "          validation_data = val_ds,\n",
        "          epochs = 5)"
      ],
      "execution_count": null,
      "outputs": [
        {
          "output_type": "stream",
          "text": [
            "Epoch 1/5\n",
            "WARNING:tensorflow:Entity <bound method DenseFeatures.call of <tensorflow.python.feature_column.feature_column_v2.DenseFeatures object at 0x7f0b6919e630>> could not be transformed and will be executed as-is. Please report this to the AutoGraph team. When filing the bug, set the verbosity to 10 (on Linux, `export AUTOGRAPH_VERBOSITY=10`) and attach the full output. Cause: converting <bound method DenseFeatures.call of <tensorflow.python.feature_column.feature_column_v2.DenseFeatures object at 0x7f0b6919e630>>: AttributeError: module 'gast' has no attribute 'Num'\n",
            "WARNING: Entity <bound method DenseFeatures.call of <tensorflow.python.feature_column.feature_column_v2.DenseFeatures object at 0x7f0b6919e630>> could not be transformed and will be executed as-is. Please report this to the AutoGraph team. When filing the bug, set the verbosity to 10 (on Linux, `export AUTOGRAPH_VERBOSITY=10`) and attach the full output. Cause: converting <bound method DenseFeatures.call of <tensorflow.python.feature_column.feature_column_v2.DenseFeatures object at 0x7f0b6919e630>>: AttributeError: module 'gast' has no attribute 'Num'\n",
            "7/7 [==============================] - 1s 81ms/step - loss: 5.1880 - accuracy: 0.3981 - val_loss: 1.6488 - val_accuracy: 0.8163\n",
            "Epoch 2/5\n",
            "7/7 [==============================] - 0s 32ms/step - loss: 1.2549 - accuracy: 0.7058 - val_loss: 2.2611 - val_accuracy: 0.1837\n",
            "Epoch 3/5\n",
            "7/7 [==============================] - 0s 34ms/step - loss: 1.6311 - accuracy: 0.4070 - val_loss: 0.7109 - val_accuracy: 0.8163\n",
            "Epoch 4/5\n",
            "7/7 [==============================] - 0s 31ms/step - loss: 0.6818 - accuracy: 0.7390 - val_loss: 1.1149 - val_accuracy: 0.2041\n",
            "Epoch 5/5\n",
            "7/7 [==============================] - 0s 34ms/step - loss: 0.9440 - accuracy: 0.4662 - val_loss: 0.4975 - val_accuracy: 0.8163\n"
          ],
          "name": "stdout"
        },
        {
          "output_type": "execute_result",
          "data": {
            "text/plain": [
              "<tensorflow.python.keras.callbacks.History at 0x7f0b66bbbeb8>"
            ]
          },
          "metadata": {
            "tags": []
          },
          "execution_count": 86
        }
      ]
    },
    {
      "cell_type": "code",
      "metadata": {
        "colab": {
          "base_uri": "https://localhost:8080/"
        },
        "id": "Kth5JlwYv4dP",
        "outputId": "28f19066-7845-4305-9172-1b225f43cc87"
      },
      "source": [
        "print(model_nn.summary())"
      ],
      "execution_count": null,
      "outputs": [
        {
          "output_type": "stream",
          "text": [
            "Model: \"sequential_8\"\n",
            "_________________________________________________________________\n",
            "Layer (type)                 Output Shape              Param #   \n",
            "=================================================================\n",
            "dense_features_20 (DenseFeat multiple                  24        \n",
            "_________________________________________________________________\n",
            "dense_24 (Dense)             multiple                  131840    \n",
            "_________________________________________________________________\n",
            "dense_25 (Dense)             multiple                  16512     \n",
            "_________________________________________________________________\n",
            "dense_26 (Dense)             multiple                  129       \n",
            "=================================================================\n",
            "Total params: 148,505\n",
            "Trainable params: 148,505\n",
            "Non-trainable params: 0\n",
            "_________________________________________________________________\n",
            "None\n"
          ],
          "name": "stdout"
        }
      ]
    },
    {
      "cell_type": "code",
      "metadata": {
        "colab": {
          "base_uri": "https://localhost:8080/"
        },
        "id": "MguUDA09wkwn",
        "outputId": "c9c6eb4f-6ff9-4fa5-ce2d-9b82f1633ac8"
      },
      "source": [
        "loss, accuracy = model_nn.evaluate(test_ds)\n",
        "print(\"Accuracy\", accuracy)"
      ],
      "execution_count": null,
      "outputs": [
        {
          "output_type": "stream",
          "text": [
            "2/2 [==============================] - 0s 18ms/step - loss: 0.7560 - accuracy: 0.6557\n",
            "Accuracy 0.6557377\n"
          ],
          "name": "stdout"
        }
      ]
    },
    {
      "cell_type": "markdown",
      "metadata": {
        "id": "rNriouZjyEVa"
      },
      "source": [
        "key point: You will typically see best result with deep learning with much larger and more complex datasets. When working with a small dataset like this one, we recommend using a decision tree or random forest as a strong baseline. The goal of this exercise is not to train an accurate model, but to demonstrate the mechanics of working with structure data, so you have code to use as a startin point when working with your own datasets in the future."
      ]
    }
  ]
}