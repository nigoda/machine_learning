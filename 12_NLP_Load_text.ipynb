{
  "nbformat": 4,
  "nbformat_minor": 0,
  "metadata": {
    "colab": {
      "name": "12.NLP_Load_text.ipynb",
      "provenance": [],
      "collapsed_sections": [
        "d_RW5dnhKqUt",
        "aYye3m0oWePC",
        "7spi2HYPbAhO",
        "2ru6-jPAeYKE",
        "zR_V5fdilZWV",
        "b3LIIAk6oprA"
      ],
      "authorship_tag": "ABX9TyMUmZGgLLZb1h/g2lYuxL0M",
      "include_colab_link": true
    },
    "kernelspec": {
      "name": "python3",
      "display_name": "Python 3"
    },
    "widgets": {
      "application/vnd.jupyter.widget-state+json": {
        "4132dbb98c584a0b86a1b593892d4eef": {
          "model_module": "@jupyter-widgets/controls",
          "model_name": "HBoxModel",
          "state": {
            "_view_name": "HBoxView",
            "_dom_classes": [],
            "_model_name": "HBoxModel",
            "_view_module": "@jupyter-widgets/controls",
            "_model_module_version": "1.5.0",
            "_view_count": null,
            "_view_module_version": "1.5.0",
            "box_style": "",
            "layout": "IPY_MODEL_51a652b5290a44478f695ec898b8148e",
            "_model_module": "@jupyter-widgets/controls",
            "children": [
              "IPY_MODEL_75f23efb52374d79917d49b582e94579",
              "IPY_MODEL_1a43cc590ec3407eab625034cc814826"
            ]
          }
        },
        "51a652b5290a44478f695ec898b8148e": {
          "model_module": "@jupyter-widgets/base",
          "model_name": "LayoutModel",
          "state": {
            "_view_name": "LayoutView",
            "grid_template_rows": null,
            "right": null,
            "justify_content": null,
            "_view_module": "@jupyter-widgets/base",
            "overflow": null,
            "_model_module_version": "1.2.0",
            "_view_count": null,
            "flex_flow": null,
            "width": null,
            "min_width": null,
            "border": null,
            "align_items": null,
            "bottom": null,
            "_model_module": "@jupyter-widgets/base",
            "top": null,
            "grid_column": null,
            "overflow_y": null,
            "overflow_x": null,
            "grid_auto_flow": null,
            "grid_area": null,
            "grid_template_columns": null,
            "flex": null,
            "_model_name": "LayoutModel",
            "justify_items": null,
            "grid_row": null,
            "max_height": null,
            "align_content": null,
            "visibility": null,
            "align_self": null,
            "height": null,
            "min_height": null,
            "padding": null,
            "grid_auto_rows": null,
            "grid_gap": null,
            "max_width": null,
            "order": null,
            "_view_module_version": "1.2.0",
            "grid_template_areas": null,
            "object_position": null,
            "object_fit": null,
            "grid_auto_columns": null,
            "margin": null,
            "display": null,
            "left": null
          }
        },
        "75f23efb52374d79917d49b582e94579": {
          "model_module": "@jupyter-widgets/controls",
          "model_name": "FloatProgressModel",
          "state": {
            "_view_name": "ProgressView",
            "style": "IPY_MODEL_28f07a35d2924902b572ef96e147cb73",
            "_dom_classes": [],
            "description": "Dl Completed...: 100%",
            "_model_name": "FloatProgressModel",
            "bar_style": "success",
            "max": 1,
            "_view_module": "@jupyter-widgets/controls",
            "_model_module_version": "1.5.0",
            "value": 1,
            "_view_count": null,
            "_view_module_version": "1.5.0",
            "orientation": "horizontal",
            "min": 0,
            "description_tooltip": null,
            "_model_module": "@jupyter-widgets/controls",
            "layout": "IPY_MODEL_b7d43f1a097c4689b490cfcc69926823"
          }
        },
        "1a43cc590ec3407eab625034cc814826": {
          "model_module": "@jupyter-widgets/controls",
          "model_name": "HTMLModel",
          "state": {
            "_view_name": "HTMLView",
            "style": "IPY_MODEL_64522d9ceb77493b8de4b107fe6868bd",
            "_dom_classes": [],
            "description": "",
            "_model_name": "HTMLModel",
            "placeholder": "​",
            "_view_module": "@jupyter-widgets/controls",
            "_model_module_version": "1.5.0",
            "value": " 1/1 [00:04&lt;00:00,  4.79s/ url]",
            "_view_count": null,
            "_view_module_version": "1.5.0",
            "description_tooltip": null,
            "_model_module": "@jupyter-widgets/controls",
            "layout": "IPY_MODEL_7dd3070e01fe42f192cb6ea03f8bcc8e"
          }
        },
        "28f07a35d2924902b572ef96e147cb73": {
          "model_module": "@jupyter-widgets/controls",
          "model_name": "ProgressStyleModel",
          "state": {
            "_view_name": "StyleView",
            "_model_name": "ProgressStyleModel",
            "description_width": "initial",
            "_view_module": "@jupyter-widgets/base",
            "_model_module_version": "1.5.0",
            "_view_count": null,
            "_view_module_version": "1.2.0",
            "bar_color": null,
            "_model_module": "@jupyter-widgets/controls"
          }
        },
        "b7d43f1a097c4689b490cfcc69926823": {
          "model_module": "@jupyter-widgets/base",
          "model_name": "LayoutModel",
          "state": {
            "_view_name": "LayoutView",
            "grid_template_rows": null,
            "right": null,
            "justify_content": null,
            "_view_module": "@jupyter-widgets/base",
            "overflow": null,
            "_model_module_version": "1.2.0",
            "_view_count": null,
            "flex_flow": null,
            "width": null,
            "min_width": null,
            "border": null,
            "align_items": null,
            "bottom": null,
            "_model_module": "@jupyter-widgets/base",
            "top": null,
            "grid_column": null,
            "overflow_y": null,
            "overflow_x": null,
            "grid_auto_flow": null,
            "grid_area": null,
            "grid_template_columns": null,
            "flex": null,
            "_model_name": "LayoutModel",
            "justify_items": null,
            "grid_row": null,
            "max_height": null,
            "align_content": null,
            "visibility": null,
            "align_self": null,
            "height": null,
            "min_height": null,
            "padding": null,
            "grid_auto_rows": null,
            "grid_gap": null,
            "max_width": null,
            "order": null,
            "_view_module_version": "1.2.0",
            "grid_template_areas": null,
            "object_position": null,
            "object_fit": null,
            "grid_auto_columns": null,
            "margin": null,
            "display": null,
            "left": null
          }
        },
        "64522d9ceb77493b8de4b107fe6868bd": {
          "model_module": "@jupyter-widgets/controls",
          "model_name": "DescriptionStyleModel",
          "state": {
            "_view_name": "StyleView",
            "_model_name": "DescriptionStyleModel",
            "description_width": "",
            "_view_module": "@jupyter-widgets/base",
            "_model_module_version": "1.5.0",
            "_view_count": null,
            "_view_module_version": "1.2.0",
            "_model_module": "@jupyter-widgets/controls"
          }
        },
        "7dd3070e01fe42f192cb6ea03f8bcc8e": {
          "model_module": "@jupyter-widgets/base",
          "model_name": "LayoutModel",
          "state": {
            "_view_name": "LayoutView",
            "grid_template_rows": null,
            "right": null,
            "justify_content": null,
            "_view_module": "@jupyter-widgets/base",
            "overflow": null,
            "_model_module_version": "1.2.0",
            "_view_count": null,
            "flex_flow": null,
            "width": null,
            "min_width": null,
            "border": null,
            "align_items": null,
            "bottom": null,
            "_model_module": "@jupyter-widgets/base",
            "top": null,
            "grid_column": null,
            "overflow_y": null,
            "overflow_x": null,
            "grid_auto_flow": null,
            "grid_area": null,
            "grid_template_columns": null,
            "flex": null,
            "_model_name": "LayoutModel",
            "justify_items": null,
            "grid_row": null,
            "max_height": null,
            "align_content": null,
            "visibility": null,
            "align_self": null,
            "height": null,
            "min_height": null,
            "padding": null,
            "grid_auto_rows": null,
            "grid_gap": null,
            "max_width": null,
            "order": null,
            "_view_module_version": "1.2.0",
            "grid_template_areas": null,
            "object_position": null,
            "object_fit": null,
            "grid_auto_columns": null,
            "margin": null,
            "display": null,
            "left": null
          }
        },
        "8e14b9f8cf36492995924c06b6a94245": {
          "model_module": "@jupyter-widgets/controls",
          "model_name": "HBoxModel",
          "state": {
            "_view_name": "HBoxView",
            "_dom_classes": [],
            "_model_name": "HBoxModel",
            "_view_module": "@jupyter-widgets/controls",
            "_model_module_version": "1.5.0",
            "_view_count": null,
            "_view_module_version": "1.5.0",
            "box_style": "",
            "layout": "IPY_MODEL_a547693533a149009e93bf1d91220793",
            "_model_module": "@jupyter-widgets/controls",
            "children": [
              "IPY_MODEL_bbfb001e4a624201bcd827752ebc0900",
              "IPY_MODEL_2cce866007f84e6598df6428220d2226"
            ]
          }
        },
        "a547693533a149009e93bf1d91220793": {
          "model_module": "@jupyter-widgets/base",
          "model_name": "LayoutModel",
          "state": {
            "_view_name": "LayoutView",
            "grid_template_rows": null,
            "right": null,
            "justify_content": null,
            "_view_module": "@jupyter-widgets/base",
            "overflow": null,
            "_model_module_version": "1.2.0",
            "_view_count": null,
            "flex_flow": null,
            "width": null,
            "min_width": null,
            "border": null,
            "align_items": null,
            "bottom": null,
            "_model_module": "@jupyter-widgets/base",
            "top": null,
            "grid_column": null,
            "overflow_y": null,
            "overflow_x": null,
            "grid_auto_flow": null,
            "grid_area": null,
            "grid_template_columns": null,
            "flex": null,
            "_model_name": "LayoutModel",
            "justify_items": null,
            "grid_row": null,
            "max_height": null,
            "align_content": null,
            "visibility": null,
            "align_self": null,
            "height": null,
            "min_height": null,
            "padding": null,
            "grid_auto_rows": null,
            "grid_gap": null,
            "max_width": null,
            "order": null,
            "_view_module_version": "1.2.0",
            "grid_template_areas": null,
            "object_position": null,
            "object_fit": null,
            "grid_auto_columns": null,
            "margin": null,
            "display": null,
            "left": null
          }
        },
        "bbfb001e4a624201bcd827752ebc0900": {
          "model_module": "@jupyter-widgets/controls",
          "model_name": "FloatProgressModel",
          "state": {
            "_view_name": "ProgressView",
            "style": "IPY_MODEL_bd97c47f2a0749c59a10a6a0db6002f3",
            "_dom_classes": [],
            "description": "Dl Size...: 100%",
            "_model_name": "FloatProgressModel",
            "bar_style": "success",
            "max": 1,
            "_view_module": "@jupyter-widgets/controls",
            "_model_module_version": "1.5.0",
            "value": 1,
            "_view_count": null,
            "_view_module_version": "1.5.0",
            "orientation": "horizontal",
            "min": 0,
            "description_tooltip": null,
            "_model_module": "@jupyter-widgets/controls",
            "layout": "IPY_MODEL_d917628509264b5988077f7fc0cc1170"
          }
        },
        "2cce866007f84e6598df6428220d2226": {
          "model_module": "@jupyter-widgets/controls",
          "model_name": "HTMLModel",
          "state": {
            "_view_name": "HTMLView",
            "style": "IPY_MODEL_276e8a908b5049d48c0febbe1f965598",
            "_dom_classes": [],
            "description": "",
            "_model_name": "HTMLModel",
            "placeholder": "​",
            "_view_module": "@jupyter-widgets/controls",
            "_model_module_version": "1.5.0",
            "value": " 80/80 [00:04&lt;00:00, 16.87 MiB/s]",
            "_view_count": null,
            "_view_module_version": "1.5.0",
            "description_tooltip": null,
            "_model_module": "@jupyter-widgets/controls",
            "layout": "IPY_MODEL_a67b300e05e3411a8bfeb1dde432a1f9"
          }
        },
        "bd97c47f2a0749c59a10a6a0db6002f3": {
          "model_module": "@jupyter-widgets/controls",
          "model_name": "ProgressStyleModel",
          "state": {
            "_view_name": "StyleView",
            "_model_name": "ProgressStyleModel",
            "description_width": "initial",
            "_view_module": "@jupyter-widgets/base",
            "_model_module_version": "1.5.0",
            "_view_count": null,
            "_view_module_version": "1.2.0",
            "bar_color": null,
            "_model_module": "@jupyter-widgets/controls"
          }
        },
        "d917628509264b5988077f7fc0cc1170": {
          "model_module": "@jupyter-widgets/base",
          "model_name": "LayoutModel",
          "state": {
            "_view_name": "LayoutView",
            "grid_template_rows": null,
            "right": null,
            "justify_content": null,
            "_view_module": "@jupyter-widgets/base",
            "overflow": null,
            "_model_module_version": "1.2.0",
            "_view_count": null,
            "flex_flow": null,
            "width": null,
            "min_width": null,
            "border": null,
            "align_items": null,
            "bottom": null,
            "_model_module": "@jupyter-widgets/base",
            "top": null,
            "grid_column": null,
            "overflow_y": null,
            "overflow_x": null,
            "grid_auto_flow": null,
            "grid_area": null,
            "grid_template_columns": null,
            "flex": null,
            "_model_name": "LayoutModel",
            "justify_items": null,
            "grid_row": null,
            "max_height": null,
            "align_content": null,
            "visibility": null,
            "align_self": null,
            "height": null,
            "min_height": null,
            "padding": null,
            "grid_auto_rows": null,
            "grid_gap": null,
            "max_width": null,
            "order": null,
            "_view_module_version": "1.2.0",
            "grid_template_areas": null,
            "object_position": null,
            "object_fit": null,
            "grid_auto_columns": null,
            "margin": null,
            "display": null,
            "left": null
          }
        },
        "276e8a908b5049d48c0febbe1f965598": {
          "model_module": "@jupyter-widgets/controls",
          "model_name": "DescriptionStyleModel",
          "state": {
            "_view_name": "StyleView",
            "_model_name": "DescriptionStyleModel",
            "description_width": "",
            "_view_module": "@jupyter-widgets/base",
            "_model_module_version": "1.5.0",
            "_view_count": null,
            "_view_module_version": "1.2.0",
            "_model_module": "@jupyter-widgets/controls"
          }
        },
        "a67b300e05e3411a8bfeb1dde432a1f9": {
          "model_module": "@jupyter-widgets/base",
          "model_name": "LayoutModel",
          "state": {
            "_view_name": "LayoutView",
            "grid_template_rows": null,
            "right": null,
            "justify_content": null,
            "_view_module": "@jupyter-widgets/base",
            "overflow": null,
            "_model_module_version": "1.2.0",
            "_view_count": null,
            "flex_flow": null,
            "width": null,
            "min_width": null,
            "border": null,
            "align_items": null,
            "bottom": null,
            "_model_module": "@jupyter-widgets/base",
            "top": null,
            "grid_column": null,
            "overflow_y": null,
            "overflow_x": null,
            "grid_auto_flow": null,
            "grid_area": null,
            "grid_template_columns": null,
            "flex": null,
            "_model_name": "LayoutModel",
            "justify_items": null,
            "grid_row": null,
            "max_height": null,
            "align_content": null,
            "visibility": null,
            "align_self": null,
            "height": null,
            "min_height": null,
            "padding": null,
            "grid_auto_rows": null,
            "grid_gap": null,
            "max_width": null,
            "order": null,
            "_view_module_version": "1.2.0",
            "grid_template_areas": null,
            "object_position": null,
            "object_fit": null,
            "grid_auto_columns": null,
            "margin": null,
            "display": null,
            "left": null
          }
        },
        "957a14f5762d4ddcb419d7bf17ddbc05": {
          "model_module": "@jupyter-widgets/controls",
          "model_name": "HBoxModel",
          "state": {
            "_view_name": "HBoxView",
            "_dom_classes": [],
            "_model_name": "HBoxModel",
            "_view_module": "@jupyter-widgets/controls",
            "_model_module_version": "1.5.0",
            "_view_count": null,
            "_view_module_version": "1.5.0",
            "box_style": "",
            "layout": "IPY_MODEL_cb7eecf7c0a44c5bac0a59580d95d731",
            "_model_module": "@jupyter-widgets/controls",
            "children": [
              "IPY_MODEL_46e898d2d3ce47eda80de03e33b1be3c",
              "IPY_MODEL_214645176476432cbb6419e3b8b12ff7"
            ]
          }
        },
        "cb7eecf7c0a44c5bac0a59580d95d731": {
          "model_module": "@jupyter-widgets/base",
          "model_name": "LayoutModel",
          "state": {
            "_view_name": "LayoutView",
            "grid_template_rows": null,
            "right": null,
            "justify_content": null,
            "_view_module": "@jupyter-widgets/base",
            "overflow": null,
            "_model_module_version": "1.2.0",
            "_view_count": null,
            "flex_flow": null,
            "width": null,
            "min_width": null,
            "border": null,
            "align_items": null,
            "bottom": null,
            "_model_module": "@jupyter-widgets/base",
            "top": null,
            "grid_column": null,
            "overflow_y": null,
            "overflow_x": null,
            "grid_auto_flow": null,
            "grid_area": null,
            "grid_template_columns": null,
            "flex": null,
            "_model_name": "LayoutModel",
            "justify_items": null,
            "grid_row": null,
            "max_height": null,
            "align_content": null,
            "visibility": null,
            "align_self": null,
            "height": null,
            "min_height": null,
            "padding": null,
            "grid_auto_rows": null,
            "grid_gap": null,
            "max_width": null,
            "order": null,
            "_view_module_version": "1.2.0",
            "grid_template_areas": null,
            "object_position": null,
            "object_fit": null,
            "grid_auto_columns": null,
            "margin": null,
            "display": null,
            "left": null
          }
        },
        "46e898d2d3ce47eda80de03e33b1be3c": {
          "model_module": "@jupyter-widgets/controls",
          "model_name": "FloatProgressModel",
          "state": {
            "_view_name": "ProgressView",
            "style": "IPY_MODEL_60b034872d6d43ddab9bf354304b6bdb",
            "_dom_classes": [],
            "description": "",
            "_model_name": "FloatProgressModel",
            "bar_style": "info",
            "max": 1,
            "_view_module": "@jupyter-widgets/controls",
            "_model_module_version": "1.5.0",
            "value": 1,
            "_view_count": null,
            "_view_module_version": "1.5.0",
            "orientation": "horizontal",
            "min": 0,
            "description_tooltip": null,
            "_model_module": "@jupyter-widgets/controls",
            "layout": "IPY_MODEL_c5742c98bfe541eea53c64e24d2173cf"
          }
        },
        "214645176476432cbb6419e3b8b12ff7": {
          "model_module": "@jupyter-widgets/controls",
          "model_name": "HTMLModel",
          "state": {
            "_view_name": "HTMLView",
            "style": "IPY_MODEL_e7d1b0c4a9834afe8daf09d2337e556c",
            "_dom_classes": [],
            "description": "",
            "_model_name": "HTMLModel",
            "placeholder": "​",
            "_view_module": "@jupyter-widgets/controls",
            "_model_module_version": "1.5.0",
            "value": " 25000/0 [00:13&lt;00:00, 3224.03 examples/s]",
            "_view_count": null,
            "_view_module_version": "1.5.0",
            "description_tooltip": null,
            "_model_module": "@jupyter-widgets/controls",
            "layout": "IPY_MODEL_98b0e81a32b3434284424570f7b9b2bb"
          }
        },
        "60b034872d6d43ddab9bf354304b6bdb": {
          "model_module": "@jupyter-widgets/controls",
          "model_name": "ProgressStyleModel",
          "state": {
            "_view_name": "StyleView",
            "_model_name": "ProgressStyleModel",
            "description_width": "initial",
            "_view_module": "@jupyter-widgets/base",
            "_model_module_version": "1.5.0",
            "_view_count": null,
            "_view_module_version": "1.2.0",
            "bar_color": null,
            "_model_module": "@jupyter-widgets/controls"
          }
        },
        "c5742c98bfe541eea53c64e24d2173cf": {
          "model_module": "@jupyter-widgets/base",
          "model_name": "LayoutModel",
          "state": {
            "_view_name": "LayoutView",
            "grid_template_rows": null,
            "right": null,
            "justify_content": null,
            "_view_module": "@jupyter-widgets/base",
            "overflow": null,
            "_model_module_version": "1.2.0",
            "_view_count": null,
            "flex_flow": null,
            "width": null,
            "min_width": null,
            "border": null,
            "align_items": null,
            "bottom": null,
            "_model_module": "@jupyter-widgets/base",
            "top": null,
            "grid_column": null,
            "overflow_y": null,
            "overflow_x": null,
            "grid_auto_flow": null,
            "grid_area": null,
            "grid_template_columns": null,
            "flex": null,
            "_model_name": "LayoutModel",
            "justify_items": null,
            "grid_row": null,
            "max_height": null,
            "align_content": null,
            "visibility": null,
            "align_self": null,
            "height": null,
            "min_height": null,
            "padding": null,
            "grid_auto_rows": null,
            "grid_gap": null,
            "max_width": null,
            "order": null,
            "_view_module_version": "1.2.0",
            "grid_template_areas": null,
            "object_position": null,
            "object_fit": null,
            "grid_auto_columns": null,
            "margin": null,
            "display": null,
            "left": null
          }
        },
        "e7d1b0c4a9834afe8daf09d2337e556c": {
          "model_module": "@jupyter-widgets/controls",
          "model_name": "DescriptionStyleModel",
          "state": {
            "_view_name": "StyleView",
            "_model_name": "DescriptionStyleModel",
            "description_width": "",
            "_view_module": "@jupyter-widgets/base",
            "_model_module_version": "1.5.0",
            "_view_count": null,
            "_view_module_version": "1.2.0",
            "_model_module": "@jupyter-widgets/controls"
          }
        },
        "98b0e81a32b3434284424570f7b9b2bb": {
          "model_module": "@jupyter-widgets/base",
          "model_name": "LayoutModel",
          "state": {
            "_view_name": "LayoutView",
            "grid_template_rows": null,
            "right": null,
            "justify_content": null,
            "_view_module": "@jupyter-widgets/base",
            "overflow": null,
            "_model_module_version": "1.2.0",
            "_view_count": null,
            "flex_flow": null,
            "width": null,
            "min_width": null,
            "border": null,
            "align_items": null,
            "bottom": null,
            "_model_module": "@jupyter-widgets/base",
            "top": null,
            "grid_column": null,
            "overflow_y": null,
            "overflow_x": null,
            "grid_auto_flow": null,
            "grid_area": null,
            "grid_template_columns": null,
            "flex": null,
            "_model_name": "LayoutModel",
            "justify_items": null,
            "grid_row": null,
            "max_height": null,
            "align_content": null,
            "visibility": null,
            "align_self": null,
            "height": null,
            "min_height": null,
            "padding": null,
            "grid_auto_rows": null,
            "grid_gap": null,
            "max_width": null,
            "order": null,
            "_view_module_version": "1.2.0",
            "grid_template_areas": null,
            "object_position": null,
            "object_fit": null,
            "grid_auto_columns": null,
            "margin": null,
            "display": null,
            "left": null
          }
        },
        "9799a871157b4c5ba6e0ff75147bf838": {
          "model_module": "@jupyter-widgets/controls",
          "model_name": "HBoxModel",
          "state": {
            "_view_name": "HBoxView",
            "_dom_classes": [],
            "_model_name": "HBoxModel",
            "_view_module": "@jupyter-widgets/controls",
            "_model_module_version": "1.5.0",
            "_view_count": null,
            "_view_module_version": "1.5.0",
            "box_style": "",
            "layout": "IPY_MODEL_79b588967090474e81500dbb78d5b0e2",
            "_model_module": "@jupyter-widgets/controls",
            "children": [
              "IPY_MODEL_df2ff0146f844f72b425bbfbceba9eaa",
              "IPY_MODEL_7c863da82bf244fd8d8057ee8b6d21cb"
            ]
          }
        },
        "79b588967090474e81500dbb78d5b0e2": {
          "model_module": "@jupyter-widgets/base",
          "model_name": "LayoutModel",
          "state": {
            "_view_name": "LayoutView",
            "grid_template_rows": null,
            "right": null,
            "justify_content": null,
            "_view_module": "@jupyter-widgets/base",
            "overflow": null,
            "_model_module_version": "1.2.0",
            "_view_count": null,
            "flex_flow": null,
            "width": null,
            "min_width": null,
            "border": null,
            "align_items": null,
            "bottom": null,
            "_model_module": "@jupyter-widgets/base",
            "top": null,
            "grid_column": null,
            "overflow_y": null,
            "overflow_x": null,
            "grid_auto_flow": null,
            "grid_area": null,
            "grid_template_columns": null,
            "flex": null,
            "_model_name": "LayoutModel",
            "justify_items": null,
            "grid_row": null,
            "max_height": null,
            "align_content": null,
            "visibility": null,
            "align_self": null,
            "height": null,
            "min_height": null,
            "padding": null,
            "grid_auto_rows": null,
            "grid_gap": null,
            "max_width": null,
            "order": null,
            "_view_module_version": "1.2.0",
            "grid_template_areas": null,
            "object_position": null,
            "object_fit": null,
            "grid_auto_columns": null,
            "margin": null,
            "display": null,
            "left": null
          }
        },
        "df2ff0146f844f72b425bbfbceba9eaa": {
          "model_module": "@jupyter-widgets/controls",
          "model_name": "FloatProgressModel",
          "state": {
            "_view_name": "ProgressView",
            "style": "IPY_MODEL_03e6fabcbe0145548a7cb61445e8e90f",
            "_dom_classes": [],
            "description": " 30%",
            "_model_name": "FloatProgressModel",
            "bar_style": "danger",
            "max": 25000,
            "_view_module": "@jupyter-widgets/controls",
            "_model_module_version": "1.5.0",
            "value": 7416,
            "_view_count": null,
            "_view_module_version": "1.5.0",
            "orientation": "horizontal",
            "min": 0,
            "description_tooltip": null,
            "_model_module": "@jupyter-widgets/controls",
            "layout": "IPY_MODEL_b2f8edfd585f42eea213ad6b4c495368"
          }
        },
        "7c863da82bf244fd8d8057ee8b6d21cb": {
          "model_module": "@jupyter-widgets/controls",
          "model_name": "HTMLModel",
          "state": {
            "_view_name": "HTMLView",
            "style": "IPY_MODEL_75f8d0d60518419fa78ef2d50f85bd05",
            "_dom_classes": [],
            "description": "",
            "_model_name": "HTMLModel",
            "placeholder": "​",
            "_view_module": "@jupyter-widgets/controls",
            "_model_module_version": "1.5.0",
            "value": " 7416/25000 [00:00&lt;00:00, 74159.01 examples/s]",
            "_view_count": null,
            "_view_module_version": "1.5.0",
            "description_tooltip": null,
            "_model_module": "@jupyter-widgets/controls",
            "layout": "IPY_MODEL_c0733af47e4e49a7ac1cc439e2f3e58d"
          }
        },
        "03e6fabcbe0145548a7cb61445e8e90f": {
          "model_module": "@jupyter-widgets/controls",
          "model_name": "ProgressStyleModel",
          "state": {
            "_view_name": "StyleView",
            "_model_name": "ProgressStyleModel",
            "description_width": "initial",
            "_view_module": "@jupyter-widgets/base",
            "_model_module_version": "1.5.0",
            "_view_count": null,
            "_view_module_version": "1.2.0",
            "bar_color": null,
            "_model_module": "@jupyter-widgets/controls"
          }
        },
        "b2f8edfd585f42eea213ad6b4c495368": {
          "model_module": "@jupyter-widgets/base",
          "model_name": "LayoutModel",
          "state": {
            "_view_name": "LayoutView",
            "grid_template_rows": null,
            "right": null,
            "justify_content": null,
            "_view_module": "@jupyter-widgets/base",
            "overflow": null,
            "_model_module_version": "1.2.0",
            "_view_count": null,
            "flex_flow": null,
            "width": null,
            "min_width": null,
            "border": null,
            "align_items": null,
            "bottom": null,
            "_model_module": "@jupyter-widgets/base",
            "top": null,
            "grid_column": null,
            "overflow_y": null,
            "overflow_x": null,
            "grid_auto_flow": null,
            "grid_area": null,
            "grid_template_columns": null,
            "flex": null,
            "_model_name": "LayoutModel",
            "justify_items": null,
            "grid_row": null,
            "max_height": null,
            "align_content": null,
            "visibility": null,
            "align_self": null,
            "height": null,
            "min_height": null,
            "padding": null,
            "grid_auto_rows": null,
            "grid_gap": null,
            "max_width": null,
            "order": null,
            "_view_module_version": "1.2.0",
            "grid_template_areas": null,
            "object_position": null,
            "object_fit": null,
            "grid_auto_columns": null,
            "margin": null,
            "display": null,
            "left": null
          }
        },
        "75f8d0d60518419fa78ef2d50f85bd05": {
          "model_module": "@jupyter-widgets/controls",
          "model_name": "DescriptionStyleModel",
          "state": {
            "_view_name": "StyleView",
            "_model_name": "DescriptionStyleModel",
            "description_width": "",
            "_view_module": "@jupyter-widgets/base",
            "_model_module_version": "1.5.0",
            "_view_count": null,
            "_view_module_version": "1.2.0",
            "_model_module": "@jupyter-widgets/controls"
          }
        },
        "c0733af47e4e49a7ac1cc439e2f3e58d": {
          "model_module": "@jupyter-widgets/base",
          "model_name": "LayoutModel",
          "state": {
            "_view_name": "LayoutView",
            "grid_template_rows": null,
            "right": null,
            "justify_content": null,
            "_view_module": "@jupyter-widgets/base",
            "overflow": null,
            "_model_module_version": "1.2.0",
            "_view_count": null,
            "flex_flow": null,
            "width": null,
            "min_width": null,
            "border": null,
            "align_items": null,
            "bottom": null,
            "_model_module": "@jupyter-widgets/base",
            "top": null,
            "grid_column": null,
            "overflow_y": null,
            "overflow_x": null,
            "grid_auto_flow": null,
            "grid_area": null,
            "grid_template_columns": null,
            "flex": null,
            "_model_name": "LayoutModel",
            "justify_items": null,
            "grid_row": null,
            "max_height": null,
            "align_content": null,
            "visibility": null,
            "align_self": null,
            "height": null,
            "min_height": null,
            "padding": null,
            "grid_auto_rows": null,
            "grid_gap": null,
            "max_width": null,
            "order": null,
            "_view_module_version": "1.2.0",
            "grid_template_areas": null,
            "object_position": null,
            "object_fit": null,
            "grid_auto_columns": null,
            "margin": null,
            "display": null,
            "left": null
          }
        },
        "a068c6228fba4fb393683062b6da1ed8": {
          "model_module": "@jupyter-widgets/controls",
          "model_name": "HBoxModel",
          "state": {
            "_view_name": "HBoxView",
            "_dom_classes": [],
            "_model_name": "HBoxModel",
            "_view_module": "@jupyter-widgets/controls",
            "_model_module_version": "1.5.0",
            "_view_count": null,
            "_view_module_version": "1.5.0",
            "box_style": "",
            "layout": "IPY_MODEL_c8bc686ae9ff4fcba1b99db4612874b1",
            "_model_module": "@jupyter-widgets/controls",
            "children": [
              "IPY_MODEL_23e462f456bb4fbea9ad22c0d2aa839e",
              "IPY_MODEL_78597b3ece9d4cf88f74c8ab214556b4"
            ]
          }
        },
        "c8bc686ae9ff4fcba1b99db4612874b1": {
          "model_module": "@jupyter-widgets/base",
          "model_name": "LayoutModel",
          "state": {
            "_view_name": "LayoutView",
            "grid_template_rows": null,
            "right": null,
            "justify_content": null,
            "_view_module": "@jupyter-widgets/base",
            "overflow": null,
            "_model_module_version": "1.2.0",
            "_view_count": null,
            "flex_flow": null,
            "width": null,
            "min_width": null,
            "border": null,
            "align_items": null,
            "bottom": null,
            "_model_module": "@jupyter-widgets/base",
            "top": null,
            "grid_column": null,
            "overflow_y": null,
            "overflow_x": null,
            "grid_auto_flow": null,
            "grid_area": null,
            "grid_template_columns": null,
            "flex": null,
            "_model_name": "LayoutModel",
            "justify_items": null,
            "grid_row": null,
            "max_height": null,
            "align_content": null,
            "visibility": null,
            "align_self": null,
            "height": null,
            "min_height": null,
            "padding": null,
            "grid_auto_rows": null,
            "grid_gap": null,
            "max_width": null,
            "order": null,
            "_view_module_version": "1.2.0",
            "grid_template_areas": null,
            "object_position": null,
            "object_fit": null,
            "grid_auto_columns": null,
            "margin": null,
            "display": null,
            "left": null
          }
        },
        "23e462f456bb4fbea9ad22c0d2aa839e": {
          "model_module": "@jupyter-widgets/controls",
          "model_name": "FloatProgressModel",
          "state": {
            "_view_name": "ProgressView",
            "style": "IPY_MODEL_2079ab49ee314146b9e3fcf662a213d9",
            "_dom_classes": [],
            "description": "",
            "_model_name": "FloatProgressModel",
            "bar_style": "info",
            "max": 1,
            "_view_module": "@jupyter-widgets/controls",
            "_model_module_version": "1.5.0",
            "value": 1,
            "_view_count": null,
            "_view_module_version": "1.5.0",
            "orientation": "horizontal",
            "min": 0,
            "description_tooltip": null,
            "_model_module": "@jupyter-widgets/controls",
            "layout": "IPY_MODEL_a65e55260aa544dbb7f987d7bff7ad1c"
          }
        },
        "78597b3ece9d4cf88f74c8ab214556b4": {
          "model_module": "@jupyter-widgets/controls",
          "model_name": "HTMLModel",
          "state": {
            "_view_name": "HTMLView",
            "style": "IPY_MODEL_a42e521bb528496ba7f76bd2a0dfba99",
            "_dom_classes": [],
            "description": "",
            "_model_name": "HTMLModel",
            "placeholder": "​",
            "_view_module": "@jupyter-widgets/controls",
            "_model_module_version": "1.5.0",
            "value": " 25000/0 [00:14&lt;00:00, 3277.16 examples/s]",
            "_view_count": null,
            "_view_module_version": "1.5.0",
            "description_tooltip": null,
            "_model_module": "@jupyter-widgets/controls",
            "layout": "IPY_MODEL_b210d00cfb3a4177a898418818dbbb35"
          }
        },
        "2079ab49ee314146b9e3fcf662a213d9": {
          "model_module": "@jupyter-widgets/controls",
          "model_name": "ProgressStyleModel",
          "state": {
            "_view_name": "StyleView",
            "_model_name": "ProgressStyleModel",
            "description_width": "initial",
            "_view_module": "@jupyter-widgets/base",
            "_model_module_version": "1.5.0",
            "_view_count": null,
            "_view_module_version": "1.2.0",
            "bar_color": null,
            "_model_module": "@jupyter-widgets/controls"
          }
        },
        "a65e55260aa544dbb7f987d7bff7ad1c": {
          "model_module": "@jupyter-widgets/base",
          "model_name": "LayoutModel",
          "state": {
            "_view_name": "LayoutView",
            "grid_template_rows": null,
            "right": null,
            "justify_content": null,
            "_view_module": "@jupyter-widgets/base",
            "overflow": null,
            "_model_module_version": "1.2.0",
            "_view_count": null,
            "flex_flow": null,
            "width": null,
            "min_width": null,
            "border": null,
            "align_items": null,
            "bottom": null,
            "_model_module": "@jupyter-widgets/base",
            "top": null,
            "grid_column": null,
            "overflow_y": null,
            "overflow_x": null,
            "grid_auto_flow": null,
            "grid_area": null,
            "grid_template_columns": null,
            "flex": null,
            "_model_name": "LayoutModel",
            "justify_items": null,
            "grid_row": null,
            "max_height": null,
            "align_content": null,
            "visibility": null,
            "align_self": null,
            "height": null,
            "min_height": null,
            "padding": null,
            "grid_auto_rows": null,
            "grid_gap": null,
            "max_width": null,
            "order": null,
            "_view_module_version": "1.2.0",
            "grid_template_areas": null,
            "object_position": null,
            "object_fit": null,
            "grid_auto_columns": null,
            "margin": null,
            "display": null,
            "left": null
          }
        },
        "a42e521bb528496ba7f76bd2a0dfba99": {
          "model_module": "@jupyter-widgets/controls",
          "model_name": "DescriptionStyleModel",
          "state": {
            "_view_name": "StyleView",
            "_model_name": "DescriptionStyleModel",
            "description_width": "",
            "_view_module": "@jupyter-widgets/base",
            "_model_module_version": "1.5.0",
            "_view_count": null,
            "_view_module_version": "1.2.0",
            "_model_module": "@jupyter-widgets/controls"
          }
        },
        "b210d00cfb3a4177a898418818dbbb35": {
          "model_module": "@jupyter-widgets/base",
          "model_name": "LayoutModel",
          "state": {
            "_view_name": "LayoutView",
            "grid_template_rows": null,
            "right": null,
            "justify_content": null,
            "_view_module": "@jupyter-widgets/base",
            "overflow": null,
            "_model_module_version": "1.2.0",
            "_view_count": null,
            "flex_flow": null,
            "width": null,
            "min_width": null,
            "border": null,
            "align_items": null,
            "bottom": null,
            "_model_module": "@jupyter-widgets/base",
            "top": null,
            "grid_column": null,
            "overflow_y": null,
            "overflow_x": null,
            "grid_auto_flow": null,
            "grid_area": null,
            "grid_template_columns": null,
            "flex": null,
            "_model_name": "LayoutModel",
            "justify_items": null,
            "grid_row": null,
            "max_height": null,
            "align_content": null,
            "visibility": null,
            "align_self": null,
            "height": null,
            "min_height": null,
            "padding": null,
            "grid_auto_rows": null,
            "grid_gap": null,
            "max_width": null,
            "order": null,
            "_view_module_version": "1.2.0",
            "grid_template_areas": null,
            "object_position": null,
            "object_fit": null,
            "grid_auto_columns": null,
            "margin": null,
            "display": null,
            "left": null
          }
        },
        "2407bcab669b4415a8a7c8f4c16ab336": {
          "model_module": "@jupyter-widgets/controls",
          "model_name": "HBoxModel",
          "state": {
            "_view_name": "HBoxView",
            "_dom_classes": [],
            "_model_name": "HBoxModel",
            "_view_module": "@jupyter-widgets/controls",
            "_model_module_version": "1.5.0",
            "_view_count": null,
            "_view_module_version": "1.5.0",
            "box_style": "",
            "layout": "IPY_MODEL_f1eba064300447f0849b349468f6eeaa",
            "_model_module": "@jupyter-widgets/controls",
            "children": [
              "IPY_MODEL_52f00da9d5ad4378a40e4e9472e51bef",
              "IPY_MODEL_d8aa2fb3858d4298a59e37a71983effc"
            ]
          }
        },
        "f1eba064300447f0849b349468f6eeaa": {
          "model_module": "@jupyter-widgets/base",
          "model_name": "LayoutModel",
          "state": {
            "_view_name": "LayoutView",
            "grid_template_rows": null,
            "right": null,
            "justify_content": null,
            "_view_module": "@jupyter-widgets/base",
            "overflow": null,
            "_model_module_version": "1.2.0",
            "_view_count": null,
            "flex_flow": null,
            "width": null,
            "min_width": null,
            "border": null,
            "align_items": null,
            "bottom": null,
            "_model_module": "@jupyter-widgets/base",
            "top": null,
            "grid_column": null,
            "overflow_y": null,
            "overflow_x": null,
            "grid_auto_flow": null,
            "grid_area": null,
            "grid_template_columns": null,
            "flex": null,
            "_model_name": "LayoutModel",
            "justify_items": null,
            "grid_row": null,
            "max_height": null,
            "align_content": null,
            "visibility": null,
            "align_self": null,
            "height": null,
            "min_height": null,
            "padding": null,
            "grid_auto_rows": null,
            "grid_gap": null,
            "max_width": null,
            "order": null,
            "_view_module_version": "1.2.0",
            "grid_template_areas": null,
            "object_position": null,
            "object_fit": null,
            "grid_auto_columns": null,
            "margin": null,
            "display": null,
            "left": null
          }
        },
        "52f00da9d5ad4378a40e4e9472e51bef": {
          "model_module": "@jupyter-widgets/controls",
          "model_name": "FloatProgressModel",
          "state": {
            "_view_name": "ProgressView",
            "style": "IPY_MODEL_6d3933124e804870b448cb6b64f7ba88",
            "_dom_classes": [],
            "description": " 31%",
            "_model_name": "FloatProgressModel",
            "bar_style": "danger",
            "max": 25000,
            "_view_module": "@jupyter-widgets/controls",
            "_model_module_version": "1.5.0",
            "value": 7733,
            "_view_count": null,
            "_view_module_version": "1.5.0",
            "orientation": "horizontal",
            "min": 0,
            "description_tooltip": null,
            "_model_module": "@jupyter-widgets/controls",
            "layout": "IPY_MODEL_b7983f6b3d8b4250ade39cf1d2119a96"
          }
        },
        "d8aa2fb3858d4298a59e37a71983effc": {
          "model_module": "@jupyter-widgets/controls",
          "model_name": "HTMLModel",
          "state": {
            "_view_name": "HTMLView",
            "style": "IPY_MODEL_660fc92927eb4b6892f6c324b0b39d4c",
            "_dom_classes": [],
            "description": "",
            "_model_name": "HTMLModel",
            "placeholder": "​",
            "_view_module": "@jupyter-widgets/controls",
            "_model_module_version": "1.5.0",
            "value": " 7733/25000 [00:00&lt;00:00, 77326.39 examples/s]",
            "_view_count": null,
            "_view_module_version": "1.5.0",
            "description_tooltip": null,
            "_model_module": "@jupyter-widgets/controls",
            "layout": "IPY_MODEL_85d8062793d044029ec891697ae0c9d5"
          }
        },
        "6d3933124e804870b448cb6b64f7ba88": {
          "model_module": "@jupyter-widgets/controls",
          "model_name": "ProgressStyleModel",
          "state": {
            "_view_name": "StyleView",
            "_model_name": "ProgressStyleModel",
            "description_width": "initial",
            "_view_module": "@jupyter-widgets/base",
            "_model_module_version": "1.5.0",
            "_view_count": null,
            "_view_module_version": "1.2.0",
            "bar_color": null,
            "_model_module": "@jupyter-widgets/controls"
          }
        },
        "b7983f6b3d8b4250ade39cf1d2119a96": {
          "model_module": "@jupyter-widgets/base",
          "model_name": "LayoutModel",
          "state": {
            "_view_name": "LayoutView",
            "grid_template_rows": null,
            "right": null,
            "justify_content": null,
            "_view_module": "@jupyter-widgets/base",
            "overflow": null,
            "_model_module_version": "1.2.0",
            "_view_count": null,
            "flex_flow": null,
            "width": null,
            "min_width": null,
            "border": null,
            "align_items": null,
            "bottom": null,
            "_model_module": "@jupyter-widgets/base",
            "top": null,
            "grid_column": null,
            "overflow_y": null,
            "overflow_x": null,
            "grid_auto_flow": null,
            "grid_area": null,
            "grid_template_columns": null,
            "flex": null,
            "_model_name": "LayoutModel",
            "justify_items": null,
            "grid_row": null,
            "max_height": null,
            "align_content": null,
            "visibility": null,
            "align_self": null,
            "height": null,
            "min_height": null,
            "padding": null,
            "grid_auto_rows": null,
            "grid_gap": null,
            "max_width": null,
            "order": null,
            "_view_module_version": "1.2.0",
            "grid_template_areas": null,
            "object_position": null,
            "object_fit": null,
            "grid_auto_columns": null,
            "margin": null,
            "display": null,
            "left": null
          }
        },
        "660fc92927eb4b6892f6c324b0b39d4c": {
          "model_module": "@jupyter-widgets/controls",
          "model_name": "DescriptionStyleModel",
          "state": {
            "_view_name": "StyleView",
            "_model_name": "DescriptionStyleModel",
            "description_width": "",
            "_view_module": "@jupyter-widgets/base",
            "_model_module_version": "1.5.0",
            "_view_count": null,
            "_view_module_version": "1.2.0",
            "_model_module": "@jupyter-widgets/controls"
          }
        },
        "85d8062793d044029ec891697ae0c9d5": {
          "model_module": "@jupyter-widgets/base",
          "model_name": "LayoutModel",
          "state": {
            "_view_name": "LayoutView",
            "grid_template_rows": null,
            "right": null,
            "justify_content": null,
            "_view_module": "@jupyter-widgets/base",
            "overflow": null,
            "_model_module_version": "1.2.0",
            "_view_count": null,
            "flex_flow": null,
            "width": null,
            "min_width": null,
            "border": null,
            "align_items": null,
            "bottom": null,
            "_model_module": "@jupyter-widgets/base",
            "top": null,
            "grid_column": null,
            "overflow_y": null,
            "overflow_x": null,
            "grid_auto_flow": null,
            "grid_area": null,
            "grid_template_columns": null,
            "flex": null,
            "_model_name": "LayoutModel",
            "justify_items": null,
            "grid_row": null,
            "max_height": null,
            "align_content": null,
            "visibility": null,
            "align_self": null,
            "height": null,
            "min_height": null,
            "padding": null,
            "grid_auto_rows": null,
            "grid_gap": null,
            "max_width": null,
            "order": null,
            "_view_module_version": "1.2.0",
            "grid_template_areas": null,
            "object_position": null,
            "object_fit": null,
            "grid_auto_columns": null,
            "margin": null,
            "display": null,
            "left": null
          }
        },
        "255db36824364e758183755a5d19a423": {
          "model_module": "@jupyter-widgets/controls",
          "model_name": "HBoxModel",
          "state": {
            "_view_name": "HBoxView",
            "_dom_classes": [],
            "_model_name": "HBoxModel",
            "_view_module": "@jupyter-widgets/controls",
            "_model_module_version": "1.5.0",
            "_view_count": null,
            "_view_module_version": "1.5.0",
            "box_style": "",
            "layout": "IPY_MODEL_4440c6185e1e4e3eb7491c0145d9fd30",
            "_model_module": "@jupyter-widgets/controls",
            "children": [
              "IPY_MODEL_d5b282836c9646acac904ef19c9a01fe",
              "IPY_MODEL_7fc1afc1b2d74826934dc737242141ae"
            ]
          }
        },
        "4440c6185e1e4e3eb7491c0145d9fd30": {
          "model_module": "@jupyter-widgets/base",
          "model_name": "LayoutModel",
          "state": {
            "_view_name": "LayoutView",
            "grid_template_rows": null,
            "right": null,
            "justify_content": null,
            "_view_module": "@jupyter-widgets/base",
            "overflow": null,
            "_model_module_version": "1.2.0",
            "_view_count": null,
            "flex_flow": null,
            "width": null,
            "min_width": null,
            "border": null,
            "align_items": null,
            "bottom": null,
            "_model_module": "@jupyter-widgets/base",
            "top": null,
            "grid_column": null,
            "overflow_y": null,
            "overflow_x": null,
            "grid_auto_flow": null,
            "grid_area": null,
            "grid_template_columns": null,
            "flex": null,
            "_model_name": "LayoutModel",
            "justify_items": null,
            "grid_row": null,
            "max_height": null,
            "align_content": null,
            "visibility": null,
            "align_self": null,
            "height": null,
            "min_height": null,
            "padding": null,
            "grid_auto_rows": null,
            "grid_gap": null,
            "max_width": null,
            "order": null,
            "_view_module_version": "1.2.0",
            "grid_template_areas": null,
            "object_position": null,
            "object_fit": null,
            "grid_auto_columns": null,
            "margin": null,
            "display": null,
            "left": null
          }
        },
        "d5b282836c9646acac904ef19c9a01fe": {
          "model_module": "@jupyter-widgets/controls",
          "model_name": "FloatProgressModel",
          "state": {
            "_view_name": "ProgressView",
            "style": "IPY_MODEL_58d2440331f5408eb863e6fae40d70c1",
            "_dom_classes": [],
            "description": "",
            "_model_name": "FloatProgressModel",
            "bar_style": "info",
            "max": 1,
            "_view_module": "@jupyter-widgets/controls",
            "_model_module_version": "1.5.0",
            "value": 1,
            "_view_count": null,
            "_view_module_version": "1.5.0",
            "orientation": "horizontal",
            "min": 0,
            "description_tooltip": null,
            "_model_module": "@jupyter-widgets/controls",
            "layout": "IPY_MODEL_0280f5766e79439dab0816531d0a8dad"
          }
        },
        "7fc1afc1b2d74826934dc737242141ae": {
          "model_module": "@jupyter-widgets/controls",
          "model_name": "HTMLModel",
          "state": {
            "_view_name": "HTMLView",
            "style": "IPY_MODEL_8b9059873d3d4b43b259dfa17e4752f0",
            "_dom_classes": [],
            "description": "",
            "_model_name": "HTMLModel",
            "placeholder": "​",
            "_view_module": "@jupyter-widgets/controls",
            "_model_module_version": "1.5.0",
            "value": " 50000/0 [00:20&lt;00:00, 3106.96 examples/s]",
            "_view_count": null,
            "_view_module_version": "1.5.0",
            "description_tooltip": null,
            "_model_module": "@jupyter-widgets/controls",
            "layout": "IPY_MODEL_40aa2d2a3227432380926395a80526a1"
          }
        },
        "58d2440331f5408eb863e6fae40d70c1": {
          "model_module": "@jupyter-widgets/controls",
          "model_name": "ProgressStyleModel",
          "state": {
            "_view_name": "StyleView",
            "_model_name": "ProgressStyleModel",
            "description_width": "initial",
            "_view_module": "@jupyter-widgets/base",
            "_model_module_version": "1.5.0",
            "_view_count": null,
            "_view_module_version": "1.2.0",
            "bar_color": null,
            "_model_module": "@jupyter-widgets/controls"
          }
        },
        "0280f5766e79439dab0816531d0a8dad": {
          "model_module": "@jupyter-widgets/base",
          "model_name": "LayoutModel",
          "state": {
            "_view_name": "LayoutView",
            "grid_template_rows": null,
            "right": null,
            "justify_content": null,
            "_view_module": "@jupyter-widgets/base",
            "overflow": null,
            "_model_module_version": "1.2.0",
            "_view_count": null,
            "flex_flow": null,
            "width": null,
            "min_width": null,
            "border": null,
            "align_items": null,
            "bottom": null,
            "_model_module": "@jupyter-widgets/base",
            "top": null,
            "grid_column": null,
            "overflow_y": null,
            "overflow_x": null,
            "grid_auto_flow": null,
            "grid_area": null,
            "grid_template_columns": null,
            "flex": null,
            "_model_name": "LayoutModel",
            "justify_items": null,
            "grid_row": null,
            "max_height": null,
            "align_content": null,
            "visibility": null,
            "align_self": null,
            "height": null,
            "min_height": null,
            "padding": null,
            "grid_auto_rows": null,
            "grid_gap": null,
            "max_width": null,
            "order": null,
            "_view_module_version": "1.2.0",
            "grid_template_areas": null,
            "object_position": null,
            "object_fit": null,
            "grid_auto_columns": null,
            "margin": null,
            "display": null,
            "left": null
          }
        },
        "8b9059873d3d4b43b259dfa17e4752f0": {
          "model_module": "@jupyter-widgets/controls",
          "model_name": "DescriptionStyleModel",
          "state": {
            "_view_name": "StyleView",
            "_model_name": "DescriptionStyleModel",
            "description_width": "",
            "_view_module": "@jupyter-widgets/base",
            "_model_module_version": "1.5.0",
            "_view_count": null,
            "_view_module_version": "1.2.0",
            "_model_module": "@jupyter-widgets/controls"
          }
        },
        "40aa2d2a3227432380926395a80526a1": {
          "model_module": "@jupyter-widgets/base",
          "model_name": "LayoutModel",
          "state": {
            "_view_name": "LayoutView",
            "grid_template_rows": null,
            "right": null,
            "justify_content": null,
            "_view_module": "@jupyter-widgets/base",
            "overflow": null,
            "_model_module_version": "1.2.0",
            "_view_count": null,
            "flex_flow": null,
            "width": null,
            "min_width": null,
            "border": null,
            "align_items": null,
            "bottom": null,
            "_model_module": "@jupyter-widgets/base",
            "top": null,
            "grid_column": null,
            "overflow_y": null,
            "overflow_x": null,
            "grid_auto_flow": null,
            "grid_area": null,
            "grid_template_columns": null,
            "flex": null,
            "_model_name": "LayoutModel",
            "justify_items": null,
            "grid_row": null,
            "max_height": null,
            "align_content": null,
            "visibility": null,
            "align_self": null,
            "height": null,
            "min_height": null,
            "padding": null,
            "grid_auto_rows": null,
            "grid_gap": null,
            "max_width": null,
            "order": null,
            "_view_module_version": "1.2.0",
            "grid_template_areas": null,
            "object_position": null,
            "object_fit": null,
            "grid_auto_columns": null,
            "margin": null,
            "display": null,
            "left": null
          }
        },
        "7256fe30a1364daf993e0d4b1bdf6697": {
          "model_module": "@jupyter-widgets/controls",
          "model_name": "HBoxModel",
          "state": {
            "_view_name": "HBoxView",
            "_dom_classes": [],
            "_model_name": "HBoxModel",
            "_view_module": "@jupyter-widgets/controls",
            "_model_module_version": "1.5.0",
            "_view_count": null,
            "_view_module_version": "1.5.0",
            "box_style": "",
            "layout": "IPY_MODEL_0ceb8741fa274dea86ab973eaf8e8631",
            "_model_module": "@jupyter-widgets/controls",
            "children": [
              "IPY_MODEL_e8783e8fcad34f55a7560512b31e3585",
              "IPY_MODEL_0d76cc4d43954216afd1de339dd143e2"
            ]
          }
        },
        "0ceb8741fa274dea86ab973eaf8e8631": {
          "model_module": "@jupyter-widgets/base",
          "model_name": "LayoutModel",
          "state": {
            "_view_name": "LayoutView",
            "grid_template_rows": null,
            "right": null,
            "justify_content": null,
            "_view_module": "@jupyter-widgets/base",
            "overflow": null,
            "_model_module_version": "1.2.0",
            "_view_count": null,
            "flex_flow": null,
            "width": null,
            "min_width": null,
            "border": null,
            "align_items": null,
            "bottom": null,
            "_model_module": "@jupyter-widgets/base",
            "top": null,
            "grid_column": null,
            "overflow_y": null,
            "overflow_x": null,
            "grid_auto_flow": null,
            "grid_area": null,
            "grid_template_columns": null,
            "flex": null,
            "_model_name": "LayoutModel",
            "justify_items": null,
            "grid_row": null,
            "max_height": null,
            "align_content": null,
            "visibility": null,
            "align_self": null,
            "height": null,
            "min_height": null,
            "padding": null,
            "grid_auto_rows": null,
            "grid_gap": null,
            "max_width": null,
            "order": null,
            "_view_module_version": "1.2.0",
            "grid_template_areas": null,
            "object_position": null,
            "object_fit": null,
            "grid_auto_columns": null,
            "margin": null,
            "display": null,
            "left": null
          }
        },
        "e8783e8fcad34f55a7560512b31e3585": {
          "model_module": "@jupyter-widgets/controls",
          "model_name": "FloatProgressModel",
          "state": {
            "_view_name": "ProgressView",
            "style": "IPY_MODEL_e40dd6a5151347b6a188f0f6af4ebaa0",
            "_dom_classes": [],
            "description": " 92%",
            "_model_name": "FloatProgressModel",
            "bar_style": "danger",
            "max": 50000,
            "_view_module": "@jupyter-widgets/controls",
            "_model_module_version": "1.5.0",
            "value": 45854,
            "_view_count": null,
            "_view_module_version": "1.5.0",
            "orientation": "horizontal",
            "min": 0,
            "description_tooltip": null,
            "_model_module": "@jupyter-widgets/controls",
            "layout": "IPY_MODEL_d11fd3e9764b4deba24bae33ccbf6249"
          }
        },
        "0d76cc4d43954216afd1de339dd143e2": {
          "model_module": "@jupyter-widgets/controls",
          "model_name": "HTMLModel",
          "state": {
            "_view_name": "HTMLView",
            "style": "IPY_MODEL_01d9088060a74c568e018ac04d0b2662",
            "_dom_classes": [],
            "description": "",
            "_model_name": "HTMLModel",
            "placeholder": "​",
            "_view_module": "@jupyter-widgets/controls",
            "_model_module_version": "1.5.0",
            "value": " 45854/50000 [00:00&lt;03:26, 20.10 examples/s]",
            "_view_count": null,
            "_view_module_version": "1.5.0",
            "description_tooltip": null,
            "_model_module": "@jupyter-widgets/controls",
            "layout": "IPY_MODEL_f719954db7ba4276b1f7fec10b125db8"
          }
        },
        "e40dd6a5151347b6a188f0f6af4ebaa0": {
          "model_module": "@jupyter-widgets/controls",
          "model_name": "ProgressStyleModel",
          "state": {
            "_view_name": "StyleView",
            "_model_name": "ProgressStyleModel",
            "description_width": "initial",
            "_view_module": "@jupyter-widgets/base",
            "_model_module_version": "1.5.0",
            "_view_count": null,
            "_view_module_version": "1.2.0",
            "bar_color": null,
            "_model_module": "@jupyter-widgets/controls"
          }
        },
        "d11fd3e9764b4deba24bae33ccbf6249": {
          "model_module": "@jupyter-widgets/base",
          "model_name": "LayoutModel",
          "state": {
            "_view_name": "LayoutView",
            "grid_template_rows": null,
            "right": null,
            "justify_content": null,
            "_view_module": "@jupyter-widgets/base",
            "overflow": null,
            "_model_module_version": "1.2.0",
            "_view_count": null,
            "flex_flow": null,
            "width": null,
            "min_width": null,
            "border": null,
            "align_items": null,
            "bottom": null,
            "_model_module": "@jupyter-widgets/base",
            "top": null,
            "grid_column": null,
            "overflow_y": null,
            "overflow_x": null,
            "grid_auto_flow": null,
            "grid_area": null,
            "grid_template_columns": null,
            "flex": null,
            "_model_name": "LayoutModel",
            "justify_items": null,
            "grid_row": null,
            "max_height": null,
            "align_content": null,
            "visibility": null,
            "align_self": null,
            "height": null,
            "min_height": null,
            "padding": null,
            "grid_auto_rows": null,
            "grid_gap": null,
            "max_width": null,
            "order": null,
            "_view_module_version": "1.2.0",
            "grid_template_areas": null,
            "object_position": null,
            "object_fit": null,
            "grid_auto_columns": null,
            "margin": null,
            "display": null,
            "left": null
          }
        },
        "01d9088060a74c568e018ac04d0b2662": {
          "model_module": "@jupyter-widgets/controls",
          "model_name": "DescriptionStyleModel",
          "state": {
            "_view_name": "StyleView",
            "_model_name": "DescriptionStyleModel",
            "description_width": "",
            "_view_module": "@jupyter-widgets/base",
            "_model_module_version": "1.5.0",
            "_view_count": null,
            "_view_module_version": "1.2.0",
            "_model_module": "@jupyter-widgets/controls"
          }
        },
        "f719954db7ba4276b1f7fec10b125db8": {
          "model_module": "@jupyter-widgets/base",
          "model_name": "LayoutModel",
          "state": {
            "_view_name": "LayoutView",
            "grid_template_rows": null,
            "right": null,
            "justify_content": null,
            "_view_module": "@jupyter-widgets/base",
            "overflow": null,
            "_model_module_version": "1.2.0",
            "_view_count": null,
            "flex_flow": null,
            "width": null,
            "min_width": null,
            "border": null,
            "align_items": null,
            "bottom": null,
            "_model_module": "@jupyter-widgets/base",
            "top": null,
            "grid_column": null,
            "overflow_y": null,
            "overflow_x": null,
            "grid_auto_flow": null,
            "grid_area": null,
            "grid_template_columns": null,
            "flex": null,
            "_model_name": "LayoutModel",
            "justify_items": null,
            "grid_row": null,
            "max_height": null,
            "align_content": null,
            "visibility": null,
            "align_self": null,
            "height": null,
            "min_height": null,
            "padding": null,
            "grid_auto_rows": null,
            "grid_gap": null,
            "max_width": null,
            "order": null,
            "_view_module_version": "1.2.0",
            "grid_template_areas": null,
            "object_position": null,
            "object_fit": null,
            "grid_auto_columns": null,
            "margin": null,
            "display": null,
            "left": null
          }
        }
      }
    }
  },
  "cells": [
    {
      "cell_type": "markdown",
      "metadata": {
        "id": "view-in-github",
        "colab_type": "text"
      },
      "source": [
        "<a href=\"https://colab.research.google.com/github/nigoda/machine_learning/blob/main/12_NLP_Load_text.ipynb\" target=\"_parent\"><img src=\"https://colab.research.google.com/assets/colab-badge.svg\" alt=\"Open In Colab\"/></a>"
      ]
    },
    {
      "cell_type": "markdown",
      "metadata": {
        "id": "dFKlNWAFnnOF"
      },
      "source": [
        "# **Load text**\n",
        "\n",
        "Next, you will use lower-level utilities like *tf.data.TextLineDataset* to load text files, and *tf.text* to preprocess the data for finer-grain control"
      ]
    },
    {
      "cell_type": "code",
      "metadata": {
        "id": "6WAI6g9Rm88x"
      },
      "source": [
        "import collections\n",
        "import pathlib\n",
        "import re\n",
        "import string\n",
        "\n",
        "import tensorflow as tf\n",
        "\n",
        "from tensorflow.keras import layers\n",
        "from tensorflow.keras import losses\n",
        "from tensorflow.keras import preprocessing\n",
        "from tensorflow.keras import utils\n",
        "from tensorflow.keras.layers.experimental.preprocessing import TextVectorization\n",
        "\n",
        "import tensorflow_datasets as tfds"
      ],
      "execution_count": null,
      "outputs": []
    },
    {
      "cell_type": "code",
      "metadata": {
        "colab": {
          "base_uri": "https://localhost:8080/"
        },
        "id": "CwtDhhd2qXvz",
        "outputId": "6c3af475-edf6-4590-b25a-538a7cdb253d"
      },
      "source": [
        "!pip install tensorflow-text"
      ],
      "execution_count": null,
      "outputs": [
        {
          "output_type": "stream",
          "text": [
            "Collecting tensorflow-text\n",
            "\u001b[?25l  Downloading https://files.pythonhosted.org/packages/a0/86/22ad798f94d564c3e423758b60ddd3689e83ad629b3f31ff2ae45a6e3eed/tensorflow_text-2.4.3-cp36-cp36m-manylinux1_x86_64.whl (3.4MB)\n",
            "\u001b[K     |████████████████████████████████| 3.4MB 5.0MB/s \n",
            "\u001b[?25hRequirement already satisfied: tensorflow<2.5,>=2.4.0 in /usr/local/lib/python3.6/dist-packages (from tensorflow-text) (2.4.0)\n",
            "Requirement already satisfied: tensorflow-hub>=0.8.0 in /usr/local/lib/python3.6/dist-packages (from tensorflow-text) (0.11.0)\n",
            "Requirement already satisfied: google-pasta~=0.2 in /usr/local/lib/python3.6/dist-packages (from tensorflow<2.5,>=2.4.0->tensorflow-text) (0.2.0)\n",
            "Requirement already satisfied: absl-py~=0.10 in /usr/local/lib/python3.6/dist-packages (from tensorflow<2.5,>=2.4.0->tensorflow-text) (0.10.0)\n",
            "Requirement already satisfied: astunparse~=1.6.3 in /usr/local/lib/python3.6/dist-packages (from tensorflow<2.5,>=2.4.0->tensorflow-text) (1.6.3)\n",
            "Requirement already satisfied: keras-preprocessing~=1.1.2 in /usr/local/lib/python3.6/dist-packages (from tensorflow<2.5,>=2.4.0->tensorflow-text) (1.1.2)\n",
            "Requirement already satisfied: termcolor~=1.1.0 in /usr/local/lib/python3.6/dist-packages (from tensorflow<2.5,>=2.4.0->tensorflow-text) (1.1.0)\n",
            "Requirement already satisfied: wrapt~=1.12.1 in /usr/local/lib/python3.6/dist-packages (from tensorflow<2.5,>=2.4.0->tensorflow-text) (1.12.1)\n",
            "Requirement already satisfied: gast==0.3.3 in /usr/local/lib/python3.6/dist-packages (from tensorflow<2.5,>=2.4.0->tensorflow-text) (0.3.3)\n",
            "Requirement already satisfied: tensorboard~=2.4 in /usr/local/lib/python3.6/dist-packages (from tensorflow<2.5,>=2.4.0->tensorflow-text) (2.4.0)\n",
            "Requirement already satisfied: tensorflow-estimator<2.5.0,>=2.4.0rc0 in /usr/local/lib/python3.6/dist-packages (from tensorflow<2.5,>=2.4.0->tensorflow-text) (2.4.0)\n",
            "Requirement already satisfied: numpy~=1.19.2 in /usr/local/lib/python3.6/dist-packages (from tensorflow<2.5,>=2.4.0->tensorflow-text) (1.19.5)\n",
            "Requirement already satisfied: protobuf>=3.9.2 in /usr/local/lib/python3.6/dist-packages (from tensorflow<2.5,>=2.4.0->tensorflow-text) (3.12.4)\n",
            "Requirement already satisfied: six~=1.15.0 in /usr/local/lib/python3.6/dist-packages (from tensorflow<2.5,>=2.4.0->tensorflow-text) (1.15.0)\n",
            "Requirement already satisfied: opt-einsum~=3.3.0 in /usr/local/lib/python3.6/dist-packages (from tensorflow<2.5,>=2.4.0->tensorflow-text) (3.3.0)\n",
            "Requirement already satisfied: typing-extensions~=3.7.4 in /usr/local/lib/python3.6/dist-packages (from tensorflow<2.5,>=2.4.0->tensorflow-text) (3.7.4.3)\n",
            "Requirement already satisfied: grpcio~=1.32.0 in /usr/local/lib/python3.6/dist-packages (from tensorflow<2.5,>=2.4.0->tensorflow-text) (1.32.0)\n",
            "Requirement already satisfied: h5py~=2.10.0 in /usr/local/lib/python3.6/dist-packages (from tensorflow<2.5,>=2.4.0->tensorflow-text) (2.10.0)\n",
            "Requirement already satisfied: flatbuffers~=1.12.0 in /usr/local/lib/python3.6/dist-packages (from tensorflow<2.5,>=2.4.0->tensorflow-text) (1.12)\n",
            "Requirement already satisfied: wheel~=0.35 in /usr/local/lib/python3.6/dist-packages (from tensorflow<2.5,>=2.4.0->tensorflow-text) (0.36.2)\n",
            "Requirement already satisfied: markdown>=2.6.8 in /usr/local/lib/python3.6/dist-packages (from tensorboard~=2.4->tensorflow<2.5,>=2.4.0->tensorflow-text) (3.3.3)\n",
            "Requirement already satisfied: setuptools>=41.0.0 in /usr/local/lib/python3.6/dist-packages (from tensorboard~=2.4->tensorflow<2.5,>=2.4.0->tensorflow-text) (51.3.3)\n",
            "Requirement already satisfied: werkzeug>=0.11.15 in /usr/local/lib/python3.6/dist-packages (from tensorboard~=2.4->tensorflow<2.5,>=2.4.0->tensorflow-text) (1.0.1)\n",
            "Requirement already satisfied: tensorboard-plugin-wit>=1.6.0 in /usr/local/lib/python3.6/dist-packages (from tensorboard~=2.4->tensorflow<2.5,>=2.4.0->tensorflow-text) (1.7.0)\n",
            "Requirement already satisfied: requests<3,>=2.21.0 in /usr/local/lib/python3.6/dist-packages (from tensorboard~=2.4->tensorflow<2.5,>=2.4.0->tensorflow-text) (2.23.0)\n",
            "Requirement already satisfied: google-auth-oauthlib<0.5,>=0.4.1 in /usr/local/lib/python3.6/dist-packages (from tensorboard~=2.4->tensorflow<2.5,>=2.4.0->tensorflow-text) (0.4.2)\n",
            "Requirement already satisfied: google-auth<2,>=1.6.3 in /usr/local/lib/python3.6/dist-packages (from tensorboard~=2.4->tensorflow<2.5,>=2.4.0->tensorflow-text) (1.17.2)\n",
            "Requirement already satisfied: importlib-metadata; python_version < \"3.8\" in /usr/local/lib/python3.6/dist-packages (from markdown>=2.6.8->tensorboard~=2.4->tensorflow<2.5,>=2.4.0->tensorflow-text) (3.3.0)\n",
            "Requirement already satisfied: certifi>=2017.4.17 in /usr/local/lib/python3.6/dist-packages (from requests<3,>=2.21.0->tensorboard~=2.4->tensorflow<2.5,>=2.4.0->tensorflow-text) (2020.12.5)\n",
            "Requirement already satisfied: urllib3!=1.25.0,!=1.25.1,<1.26,>=1.21.1 in /usr/local/lib/python3.6/dist-packages (from requests<3,>=2.21.0->tensorboard~=2.4->tensorflow<2.5,>=2.4.0->tensorflow-text) (1.24.3)\n",
            "Requirement already satisfied: idna<3,>=2.5 in /usr/local/lib/python3.6/dist-packages (from requests<3,>=2.21.0->tensorboard~=2.4->tensorflow<2.5,>=2.4.0->tensorflow-text) (2.10)\n",
            "Requirement already satisfied: chardet<4,>=3.0.2 in /usr/local/lib/python3.6/dist-packages (from requests<3,>=2.21.0->tensorboard~=2.4->tensorflow<2.5,>=2.4.0->tensorflow-text) (3.0.4)\n",
            "Requirement already satisfied: requests-oauthlib>=0.7.0 in /usr/local/lib/python3.6/dist-packages (from google-auth-oauthlib<0.5,>=0.4.1->tensorboard~=2.4->tensorflow<2.5,>=2.4.0->tensorflow-text) (1.3.0)\n",
            "Requirement already satisfied: rsa<5,>=3.1.4; python_version >= \"3\" in /usr/local/lib/python3.6/dist-packages (from google-auth<2,>=1.6.3->tensorboard~=2.4->tensorflow<2.5,>=2.4.0->tensorflow-text) (4.6)\n",
            "Requirement already satisfied: pyasn1-modules>=0.2.1 in /usr/local/lib/python3.6/dist-packages (from google-auth<2,>=1.6.3->tensorboard~=2.4->tensorflow<2.5,>=2.4.0->tensorflow-text) (0.2.8)\n",
            "Requirement already satisfied: cachetools<5.0,>=2.0.0 in /usr/local/lib/python3.6/dist-packages (from google-auth<2,>=1.6.3->tensorboard~=2.4->tensorflow<2.5,>=2.4.0->tensorflow-text) (4.2.0)\n",
            "Requirement already satisfied: zipp>=0.5 in /usr/local/lib/python3.6/dist-packages (from importlib-metadata; python_version < \"3.8\"->markdown>=2.6.8->tensorboard~=2.4->tensorflow<2.5,>=2.4.0->tensorflow-text) (3.4.0)\n",
            "Requirement already satisfied: oauthlib>=3.0.0 in /usr/local/lib/python3.6/dist-packages (from requests-oauthlib>=0.7.0->google-auth-oauthlib<0.5,>=0.4.1->tensorboard~=2.4->tensorflow<2.5,>=2.4.0->tensorflow-text) (3.1.0)\n",
            "Requirement already satisfied: pyasn1>=0.1.3 in /usr/local/lib/python3.6/dist-packages (from rsa<5,>=3.1.4; python_version >= \"3\"->google-auth<2,>=1.6.3->tensorboard~=2.4->tensorflow<2.5,>=2.4.0->tensorflow-text) (0.4.8)\n",
            "Installing collected packages: tensorflow-text\n",
            "Successfully installed tensorflow-text-2.4.3\n"
          ],
          "name": "stdout"
        }
      ]
    },
    {
      "cell_type": "code",
      "metadata": {
        "id": "5KarKmU3qOCq"
      },
      "source": [
        "import tensorflow_text as tf_text"
      ],
      "execution_count": null,
      "outputs": []
    },
    {
      "cell_type": "markdown",
      "metadata": {
        "id": "XRWJitAUvzjt"
      },
      "source": [
        "## Example 1: Predict the tag for a stack Overflow question"
      ]
    },
    {
      "cell_type": "markdown",
      "metadata": {
        "id": "c9xi8Q-OwD4Z"
      },
      "source": [
        "### Download and explore the dataset"
      ]
    },
    {
      "cell_type": "code",
      "metadata": {
        "id": "_00VndOHqU4H",
        "colab": {
          "base_uri": "https://localhost:8080/"
        },
        "outputId": "1abbe01e-46eb-4b76-cb66-3b9d745a4225"
      },
      "source": [
        "data_url = 'https://storage.googleapis.com/download.tensorflow.org/data/stack_overflow_16k.tar.gz'\n",
        "dataset = utils.get_file(\n",
        "    'stack_overflow_16k.tar.gz',\n",
        "    data_url,\n",
        "    untar=True,\n",
        "    cache_dir='stack_overflow',\n",
        "    cache_subdir=''\n",
        ")\n",
        "dataset_dir = pathlib.Path(dataset).parent"
      ],
      "execution_count": null,
      "outputs": [
        {
          "output_type": "stream",
          "text": [
            "Downloading data from https://storage.googleapis.com/download.tensorflow.org/data/stack_overflow_16k.tar.gz\n",
            "6053888/6053168 [==============================] - 0s 0us/step\n"
          ],
          "name": "stdout"
        }
      ]
    },
    {
      "cell_type": "code",
      "metadata": {
        "colab": {
          "base_uri": "https://localhost:8080/"
        },
        "id": "yswdMKfmw3Mf",
        "outputId": "b611bc8d-9dda-403c-9d86-c2f8c68a6cc9"
      },
      "source": [
        "list(dataset_dir.iterdir())"
      ],
      "execution_count": null,
      "outputs": [
        {
          "output_type": "execute_result",
          "data": {
            "text/plain": [
              "[PosixPath('/tmp/.keras/test'),\n",
              " PosixPath('/tmp/.keras/stack_overflow_16k.tar.gz.tar.gz'),\n",
              " PosixPath('/tmp/.keras/train'),\n",
              " PosixPath('/tmp/.keras/README.md')]"
            ]
          },
          "metadata": {
            "tags": []
          },
          "execution_count": 5
        }
      ]
    },
    {
      "cell_type": "code",
      "metadata": {
        "colab": {
          "base_uri": "https://localhost:8080/"
        },
        "id": "NGifoWRYxB7X",
        "outputId": "3081cd96-31d9-47df-e5c7-f390735c24af"
      },
      "source": [
        "train_dir = dataset_dir/'train'\n",
        "list(train_dir.iterdir())"
      ],
      "execution_count": null,
      "outputs": [
        {
          "output_type": "execute_result",
          "data": {
            "text/plain": [
              "[PosixPath('/tmp/.keras/train/csharp'),\n",
              " PosixPath('/tmp/.keras/train/javascript'),\n",
              " PosixPath('/tmp/.keras/train/java'),\n",
              " PosixPath('/tmp/.keras/train/python')]"
            ]
          },
          "metadata": {
            "tags": []
          },
          "execution_count": 6
        }
      ]
    },
    {
      "cell_type": "markdown",
      "metadata": {
        "id": "etxEhiW_xO5N"
      },
      "source": [
        "The train/cshape, train/java, train/python and train/javascript directories contain many text files, each of which is a stack Overflow question. Print a file and inspect the data."
      ]
    },
    {
      "cell_type": "code",
      "metadata": {
        "colab": {
          "base_uri": "https://localhost:8080/"
        },
        "id": "CJHiZjkWxo7p",
        "outputId": "0b1f4aa9-5c69-4b28-d8e7-ad74d4cdfb6d"
      },
      "source": [
        "sample_file = train_dir/'python/1775.txt'\n",
        "with open(sample_file) as f:\n",
        "  print(f.read())"
      ],
      "execution_count": null,
      "outputs": [
        {
          "output_type": "stream",
          "text": [
            "\"check if a numbers comes before the same number but am not getting any output from the code number =[2,3,4,9,9,5,1].def checklist(list1):.    for i in range(len(list1 - 1)):..if list1[i] == 9 and list1[i+1] == 9:.            return true.    return false...this code does not output any value either true or false, it is suppose to output true if 9 comes after 9 or false if otherwise .[enter image description here][1]..[1]: https://i.stack.imgur.com/kwm0s.png  this link contain the code and the output\"\n",
            "\n"
          ],
          "name": "stdout"
        }
      ]
    },
    {
      "cell_type": "markdown",
      "metadata": {
        "id": "NmW-KwFhyLZH"
      },
      "source": [
        "### Load the dataset\n",
        "\n",
        "Next, you will load the data off disk and prepare it into a format suitable for training. To do so, you will use *text_dataset_from_directory* utility to create a labeled *tf.data.Dataset*. If you're new to tf.data, it's a power collection of tools for building input pipeline.\n",
        "\n",
        "The *preprocessing.text_dataset_from_directory* expect a directory structure as follows.\n",
        "\n",
        "train/\n",
        "\n",
        "...csharp/\n",
        "......1.txt\n",
        "......2.txt\n",
        "\n",
        "...java/\n",
        "......1.txt\n",
        "......2.txt\n",
        "\n",
        "...javascript/\n",
        "......1.txt\n",
        "......2.txt\n",
        "\n",
        "...python/\n",
        "......1.txt\n",
        "......2.txt\n",
        "\n",
        "When running a ML experiment,it is a best practice to divide your dataset into three splits:train,validation, and test. The Stack Overflow dataset has already been divided into train and test,but it lacks a validation set. Create a validation set using an 80:20 split of the training data by using the validation_split argument below.\n",
        "\n"
      ]
    },
    {
      "cell_type": "code",
      "metadata": {
        "colab": {
          "base_uri": "https://localhost:8080/"
        },
        "id": "dn0V5iAT0Ofr",
        "outputId": "3c95a87a-dd54-4347-81d4-43ee863b64dc"
      },
      "source": [
        "batch_size = 32\n",
        "seed = 42\n",
        "\n",
        "raw_train_ds = preprocessing.text_dataset_from_directory(\n",
        "    train_dir,\n",
        "    batch_size = batch_size,\n",
        "    validation_split=0.2,\n",
        "    subset='training',\n",
        "    seed=seed\n",
        ") "
      ],
      "execution_count": null,
      "outputs": [
        {
          "output_type": "stream",
          "text": [
            "Found 8000 files belonging to 4 classes.\n",
            "Using 6400 files for training.\n"
          ],
          "name": "stdout"
        }
      ]
    },
    {
      "cell_type": "markdown",
      "metadata": {
        "id": "aBSg3rzc2gip"
      },
      "source": [
        "There are 8,000 examples in the training folder, of which you will use 80%(or 6,400) for training. \n",
        "\n",
        "Train a model by passing a tf.data.Dataset directly to model.fit.\n",
        "\n",
        "First, iterate over the dataset and print out a few examples, to get a feel for the data. "
      ]
    },
    {
      "cell_type": "code",
      "metadata": {
        "colab": {
          "base_uri": "https://localhost:8080/"
        },
        "id": "rt-55XJ63U6E",
        "outputId": "81566057-787f-4128-93f8-987df9f55876"
      },
      "source": [
        "for text_batch, label_batch in raw_train_ds.take(1):\n",
        "  for i in range(10):\n",
        "    print(\"Question : \",text_batch.numpy()[i][:100], '...')\n",
        "    print(\"Labels : \",label_batch.numpy()[i])"
      ],
      "execution_count": null,
      "outputs": [
        {
          "output_type": "stream",
          "text": [
            "Question :  b'\"my tester is going to the wrong constructor i am new to programming so if i ask a question that can' ...\n",
            "Labels :  1\n",
            "Question :  b'\"blank code slow skin detection this code changes the color space to lab and using a threshold finds' ...\n",
            "Labels :  3\n",
            "Question :  b'\"option and validation in blank i want to add a new option on my system where i want to add two text' ...\n",
            "Labels :  1\n",
            "Question :  b'\"exception: dynamic sql generation for the updatecommand is not supported against a selectcommand th' ...\n",
            "Labels :  0\n",
            "Question :  b'\"parameter with question mark and super in blank, i\\'ve come across a method that is formatted like t' ...\n",
            "Labels :  1\n",
            "Question :  b'call two objects wsdl the first time i got a very strange wsdl. ..i would like to call the object (i' ...\n",
            "Labels :  0\n",
            "Question :  b'how to correctly make the icon for systemtray in blank using icon sizes of any dimension for systemt' ...\n",
            "Labels :  0\n",
            "Question :  b'\"is there a way to check a variable that exists in a different script than the original one? i\\'m try' ...\n",
            "Labels :  3\n",
            "Question :  b'\"blank control flow i made a number which asks for 2 numbers with blank and responds with  the corre' ...\n",
            "Labels :  0\n",
            "Question :  b'\"credentials cannot be used for ntlm authentication i am getting org.apache.commons.httpclient.auth.' ...\n",
            "Labels :  1\n"
          ],
          "name": "stdout"
        }
      ]
    },
    {
      "cell_type": "markdown",
      "metadata": {
        "id": "F54Opn7aH790"
      },
      "source": [
        "The labels are 0,1,2 or 3. To see which of these correspond to which string label, you can check class_names property on the dataset."
      ]
    },
    {
      "cell_type": "code",
      "metadata": {
        "colab": {
          "base_uri": "https://localhost:8080/"
        },
        "id": "9YJ_oK6uIgq4",
        "outputId": "8ae140a1-9e61-4745-b774-3aecadf8d732"
      },
      "source": [
        "for i,label in enumerate(raw_train_ds.class_names):\n",
        "  print(\"Label\", i, \"corresponds to\", label)"
      ],
      "execution_count": null,
      "outputs": [
        {
          "output_type": "stream",
          "text": [
            "Label 0 corresponds to csharp\n",
            "Label 1 corresponds to java\n",
            "Label 2 corresponds to javascript\n",
            "Label 3 corresponds to python\n"
          ],
          "name": "stdout"
        }
      ]
    },
    {
      "cell_type": "code",
      "metadata": {
        "colab": {
          "base_uri": "https://localhost:8080/"
        },
        "id": "iJ8-mIJ5Jcwv",
        "outputId": "1659b4bc-34ae-4ad8-a08e-3214db8eac43"
      },
      "source": [
        "raw_val_ds = preprocessing.text_dataset_from_directory(\n",
        "    train_dir,\n",
        "    batch_size=batch_size,\n",
        "    validation_split=0.2,\n",
        "    subset ='validation',\n",
        "    seed=seed\n",
        ")"
      ],
      "execution_count": null,
      "outputs": [
        {
          "output_type": "stream",
          "text": [
            "Found 8000 files belonging to 4 classes.\n",
            "Using 1600 files for validation.\n"
          ],
          "name": "stdout"
        }
      ]
    },
    {
      "cell_type": "code",
      "metadata": {
        "colab": {
          "base_uri": "https://localhost:8080/"
        },
        "id": "MbXs9gEgKA6N",
        "outputId": "4c3910d1-8283-4e0b-a236-5882f7200b13"
      },
      "source": [
        "test_dir = dataset_dir/'test'\n",
        "raw_test_ds = preprocessing.text_dataset_from_directory(\n",
        "    test_dir, batch_size=batch_size)"
      ],
      "execution_count": null,
      "outputs": [
        {
          "output_type": "stream",
          "text": [
            "Found 8000 files belonging to 4 classes.\n"
          ],
          "name": "stdout"
        }
      ]
    },
    {
      "cell_type": "markdown",
      "metadata": {
        "id": "d_RW5dnhKqUt"
      },
      "source": [
        "### Prepare the dataset for training\n",
        "\n",
        "Next, you will standardize,tokenize,and vectorize the data using the *preprocessing.TextVectorization* layer.\n",
        "\n",
        "\n",
        "\n",
        "*   Standardization refers to preprocessing the text, typically to remove punctuation or HTML elements to simplify the dataset.\n",
        "\n",
        "*   Tokennization refers to splitting strings into tokens(for example, splittinig a sentence into individual words by splitting on whitespace).   \n",
        "\n",
        "*   Vectorization refers to converting tokens into number so they can be fed into a neural network.\n",
        "\n",
        "All of these tasks can be accomplished with this layer. You can learn more about each of thses in the API doc.\n",
        "\n",
        "\n",
        "\n",
        "*   The default standardization convert text to lowercase and remove punctuation.\n",
        "\n",
        "*   The default tokenizer splits on whitespace.\n",
        "\n",
        "*   The default vectorization mode is int. this outputs integer indices(one per token). This mode can be used to build models that take word order into account. You can also use other modes, like binary, to build bag-of-word models.\n",
        "\n",
        "Build two modes t learn more about these. First, use the binary model to build a bag-of-words model. Next, you will use the int mode with a 1D ConvNet.\n",
        "\n",
        "\n",
        "\n",
        "\n",
        "\n",
        "\n"
      ]
    },
    {
      "cell_type": "code",
      "metadata": {
        "id": "UrSwHVv2PhkS"
      },
      "source": [
        "VOCAB_SIZE = 10000\n",
        "\n",
        "binary_vectorize_layer = TextVectorization(\n",
        "    max_tokens=VOCAB_SIZE,\n",
        "    output_mode='binary'\n",
        ")"
      ],
      "execution_count": null,
      "outputs": []
    },
    {
      "cell_type": "markdown",
      "metadata": {
        "id": "JOcvSLQAQMQc"
      },
      "source": [
        "For int mode,in addition to maximun vocabulary size, you need to set an explicit maximum sequence length, Which will cause the layer to pad or truncate sequences to exactly sequence_length values."
      ]
    },
    {
      "cell_type": "code",
      "metadata": {
        "id": "8yBDm64NQLgR"
      },
      "source": [
        "MAX_SEQUENCE_LENGTH = 250\n",
        "\n",
        "int_vectorize_layer = TextVectorization(\n",
        "    max_tokens=VOCAB_SIZE,\n",
        "    output_mode='int',\n",
        "    output_sequence_length=MAX_SEQUENCE_LENGTH)"
      ],
      "execution_count": null,
      "outputs": []
    },
    {
      "cell_type": "markdown",
      "metadata": {
        "id": "5DIuwCuwRR8j"
      },
      "source": [
        "Next, you will call adapt to fit the state of the preprocessing layer to the dataset."
      ]
    },
    {
      "cell_type": "code",
      "metadata": {
        "id": "ZkRcCMqERjYN"
      },
      "source": [
        "#Make a text-only dataset (without labels), then call adapt\n",
        "train_text = raw_train_ds.map(lambda text, labels:text)\n",
        "binary_vectorize_layer.adapt(train_text)\n",
        "int_vectorize_layer.adapt(train_text)"
      ],
      "execution_count": null,
      "outputs": []
    },
    {
      "cell_type": "markdown",
      "metadata": {
        "id": "jAPJglAISVSN"
      },
      "source": [
        "See the result of using these layers to preprocess data:"
      ]
    },
    {
      "cell_type": "code",
      "metadata": {
        "id": "5jOjwUGfScAJ"
      },
      "source": [
        "def binary_vectorize_text(text, label):\n",
        "  text = tf.expand_dims(text, -1)\n",
        "  return binary_vectorize_layer(text), label"
      ],
      "execution_count": null,
      "outputs": []
    },
    {
      "cell_type": "code",
      "metadata": {
        "id": "D2j4xsw8S2mO"
      },
      "source": [
        "def int_vectorize_text(text, label):\n",
        "  text = tf.expand_dims(text, -1)\n",
        "  return int_vectorize_layer(text), label"
      ],
      "execution_count": null,
      "outputs": []
    },
    {
      "cell_type": "code",
      "metadata": {
        "colab": {
          "base_uri": "https://localhost:8080/"
        },
        "id": "yA_JWQvcTLKA",
        "outputId": "05dc7a1d-dec6-41d3-d674-632c8ee75def"
      },
      "source": [
        "# Retrieve a batch (of 32 reviews and labels) from the dataset\n",
        "text_batch, label_batch = next(iter(raw_test_ds))\n",
        "first_question, first_label = text_batch[0], label_batch[0]\n",
        "print(\"Question\", first_question)\n",
        "print(\"Label\", first_label)"
      ],
      "execution_count": null,
      "outputs": [
        {
          "output_type": "stream",
          "text": [
            "Question tf.Tensor(b\"how to get 4 unique random numbers in range <0;9>? i want to get 4 unique random floating point numbers in the range &lt;0;9>. how could i do that. is it possible to do this with a single function so i don't need to generate random numbers in a loop?\\n\", shape=(), dtype=string)\n",
            "Label tf.Tensor(0, shape=(), dtype=int32)\n"
          ],
          "name": "stdout"
        }
      ]
    },
    {
      "cell_type": "code",
      "metadata": {
        "colab": {
          "base_uri": "https://localhost:8080/"
        },
        "id": "pETjg1-7UBm4",
        "outputId": "b644e8bf-8d00-468c-fc94-880d491c4124"
      },
      "source": [
        "print(\"'binary' vectorized question:\",\n",
        "      binary_vectorize_text(first_question, first_label)[0])"
      ],
      "execution_count": null,
      "outputs": [
        {
          "output_type": "stream",
          "text": [
            "'binary' vectorized question: tf.Tensor([[1. 1. 1. ... 0. 0. 0.]], shape=(1, 10000), dtype=float32)\n"
          ],
          "name": "stdout"
        }
      ]
    },
    {
      "cell_type": "code",
      "metadata": {
        "colab": {
          "base_uri": "https://localhost:8080/"
        },
        "id": "F8S9bFjwUeaF",
        "outputId": "64a5a5d7-f352-445a-a9ff-a2a2fabd0518"
      },
      "source": [
        "print(\"'int' vectorized question:\",\n",
        "      int_vectorize_text(first_question, first_label)[0])"
      ],
      "execution_count": null,
      "outputs": [
        {
          "output_type": "stream",
          "text": [
            "'int' vectorized question: tf.Tensor(\n",
            "[[  24    4   41  149  723  247  183    7  427 1928    3   46    4   41\n",
            "   149  723  247 3676  316  183    7    2  427    1   24  176    3   40\n",
            "    14    6   11  204    4   40   13   21    5  394   38   50    3  129\n",
            "    78    4  647  247  183    7    5  123    0    0    0    0    0    0\n",
            "     0    0    0    0    0    0    0    0    0    0    0    0    0    0\n",
            "     0    0    0    0    0    0    0    0    0    0    0    0    0    0\n",
            "     0    0    0    0    0    0    0    0    0    0    0    0    0    0\n",
            "     0    0    0    0    0    0    0    0    0    0    0    0    0    0\n",
            "     0    0    0    0    0    0    0    0    0    0    0    0    0    0\n",
            "     0    0    0    0    0    0    0    0    0    0    0    0    0    0\n",
            "     0    0    0    0    0    0    0    0    0    0    0    0    0    0\n",
            "     0    0    0    0    0    0    0    0    0    0    0    0    0    0\n",
            "     0    0    0    0    0    0    0    0    0    0    0    0    0    0\n",
            "     0    0    0    0    0    0    0    0    0    0    0    0    0    0\n",
            "     0    0    0    0    0    0    0    0    0    0    0    0    0    0\n",
            "     0    0    0    0    0    0    0    0    0    0    0    0    0    0\n",
            "     0    0    0    0    0    0    0    0    0    0    0    0    0    0\n",
            "     0    0    0    0    0    0    0    0    0    0    0    0]], shape=(1, 250), dtype=int64)\n"
          ],
          "name": "stdout"
        }
      ]
    },
    {
      "cell_type": "markdown",
      "metadata": {
        "id": "AiJx4uCvU-bv"
      },
      "source": [
        "  Binary mode returns an array denoting which tokens exist at least once in the input, while int mode replace each token by an integer, thus preserving their order. You can lookup the token(string) that each integer corresponds to by calling .get_vocabulary() on the layer."
      ]
    },
    {
      "cell_type": "code",
      "metadata": {
        "colab": {
          "base_uri": "https://localhost:8080/"
        },
        "id": "eUEinmvcVr6S",
        "outputId": "4d579375-ad88-46bf-a980-c870af1f8903"
      },
      "source": [
        "print(\"1289 --->\", int_vectorize_layer.get_vocabulary()[1289])\n",
        "print(\"313 --->\", int_vectorize_layer.get_vocabulary()[313])\n",
        "print(\"Vocabulary size: {}\".format(len(int_vectorize_layer.get_vocabulary())))"
      ],
      "execution_count": null,
      "outputs": [
        {
          "output_type": "stream",
          "text": [
            "1289 ---> roman\n",
            "313 ---> source\n",
            "Vocabulary size: 10000\n"
          ],
          "name": "stdout"
        }
      ]
    },
    {
      "cell_type": "markdown",
      "metadata": {
        "id": "aYye3m0oWePC"
      },
      "source": [
        "### Ready to train a model"
      ]
    },
    {
      "cell_type": "code",
      "metadata": {
        "id": "2QOZogh0WrzJ"
      },
      "source": [
        "binary_train_ds = raw_train_ds.map(binary_vectorize_text)\n",
        "binary_val_ds = raw_val_ds.map(binary_vectorize_text)\n",
        "binary_test_ds = raw_test_ds.map(binary_vectorize_text)\n",
        "\n",
        "int_train_ds = raw_train_ds.map(int_vectorize_text)\n",
        "int_val_ds = raw_val_ds.map(int_vectorize_text)\n",
        "int_test_ds = raw_test_ds.map(int_vectorize_text)"
      ],
      "execution_count": null,
      "outputs": []
    },
    {
      "cell_type": "markdown",
      "metadata": {
        "id": "7spi2HYPbAhO"
      },
      "source": [
        "### Configure the dataset for performance\n",
        "\n",
        "These are two important methods you should use when loading data to make sure that I/O does not become blocking.\n",
        "\n",
        "*.cache()* keeps data in memory after it's loaded off disk. This will ensure the dataset does not become a battleneck while training your model. If your dataset is too large to fit into memory, you can also use this method to create a performate on disk cache, Which is more efficient to  read than many small files.\n",
        "\n",
        "*.prefetch()* overlaps data preprocessing and model execution while training.\n",
        "\n"
      ]
    },
    {
      "cell_type": "code",
      "metadata": {
        "id": "BXrwrlluclMS"
      },
      "source": [
        "AUTOTUNE = tf.data.AUTOTUNE\n",
        "\n",
        "def configure_dataset(dataset):\n",
        "  return dataset.cache().prefetch(buffer_size = AUTOTUNE)"
      ],
      "execution_count": null,
      "outputs": []
    },
    {
      "cell_type": "code",
      "metadata": {
        "id": "qy-pq4ctdORK"
      },
      "source": [
        "binary_train_ds = configure_dataset(binary_train_ds)\n",
        "binary_val_ds = configure_dataset(binary_val_ds)\n",
        "binary_test_ds = configure_dataset(binary_test_ds)\n",
        "\n",
        "int_train_ds = configure_dataset(int_train_ds)\n",
        "int_val_ds = configure_dataset(int_val_ds)\n",
        "int_test_ds = configure_dataset(int_test_ds)"
      ],
      "execution_count": null,
      "outputs": []
    },
    {
      "cell_type": "markdown",
      "metadata": {
        "id": "2ru6-jPAeYKE"
      },
      "source": [
        "### Train the model\n",
        "\n",
        "It's time to create our neural network. For the binary vectorized data, train a simple bag-of-words linear model:"
      ]
    },
    {
      "cell_type": "code",
      "metadata": {
        "colab": {
          "base_uri": "https://localhost:8080/"
        },
        "id": "UPdTtkrve0t9",
        "outputId": "838262e8-9c97-4d75-dde2-ac52fc01e5a7"
      },
      "source": [
        "binary_model = tf.keras.Sequential([layers.Dense(4)])\n",
        "binary_model.compile(\n",
        "    loss=losses.SparseCategoricalCrossentropy(from_logits=True),\n",
        "    optimizer = 'adam',\n",
        "    metrics = ['accuracy'])\n",
        "history = binary_model.fit(\n",
        "    binary_train_ds, validation_data=binary_val_ds, epochs=10)"
      ],
      "execution_count": null,
      "outputs": [
        {
          "output_type": "stream",
          "text": [
            "Epoch 1/10\n",
            "200/200 [==============================] - 5s 21ms/step - loss: 1.2433 - accuracy: 0.5219 - val_loss: 0.9177 - val_accuracy: 0.7681\n",
            "Epoch 2/10\n",
            "200/200 [==============================] - 1s 4ms/step - loss: 0.8218 - accuracy: 0.8223 - val_loss: 0.7528 - val_accuracy: 0.7950\n",
            "Epoch 3/10\n",
            "200/200 [==============================] - 1s 4ms/step - loss: 0.6538 - accuracy: 0.8569 - val_loss: 0.6665 - val_accuracy: 0.8094\n",
            "Epoch 4/10\n",
            "200/200 [==============================] - 1s 4ms/step - loss: 0.5538 - accuracy: 0.8834 - val_loss: 0.6126 - val_accuracy: 0.8225\n",
            "Epoch 5/10\n",
            "200/200 [==============================] - 1s 4ms/step - loss: 0.4845 - accuracy: 0.9016 - val_loss: 0.5756 - val_accuracy: 0.8319\n",
            "Epoch 6/10\n",
            "200/200 [==============================] - 1s 5ms/step - loss: 0.4322 - accuracy: 0.9140 - val_loss: 0.5488 - val_accuracy: 0.8350\n",
            "Epoch 7/10\n",
            "200/200 [==============================] - 1s 5ms/step - loss: 0.3907 - accuracy: 0.9267 - val_loss: 0.5285 - val_accuracy: 0.8363\n",
            "Epoch 8/10\n",
            "200/200 [==============================] - 1s 5ms/step - loss: 0.3565 - accuracy: 0.9326 - val_loss: 0.5128 - val_accuracy: 0.8344\n",
            "Epoch 9/10\n",
            "200/200 [==============================] - 1s 4ms/step - loss: 0.3276 - accuracy: 0.9378 - val_loss: 0.5005 - val_accuracy: 0.8356\n",
            "Epoch 10/10\n",
            "200/200 [==============================] - 1s 4ms/step - loss: 0.3027 - accuracy: 0.9452 - val_loss: 0.4907 - val_accuracy: 0.8388\n"
          ],
          "name": "stdout"
        }
      ]
    },
    {
      "cell_type": "markdown",
      "metadata": {
        "id": "75SXzwbgf64V"
      },
      "source": [
        "Next, you will use the int vectorized layer to build a 1D ConvNet."
      ]
    },
    {
      "cell_type": "code",
      "metadata": {
        "id": "VemsN5-UgQ0e"
      },
      "source": [
        "def create_model(vocab_size, num_labels):\n",
        "  model = tf.keras.Sequential([\n",
        "      layers.Embedding(vocab_size, 64, mask_zero=True),\n",
        "      layers.Conv1D(64, 5, padding =\"valid\", activation=\"relu\", strides = 2),\n",
        "      layers.GlobalMaxPooling1D(),\n",
        "      layers.Dense(num_labels)\n",
        "  ])\n",
        "  return model"
      ],
      "execution_count": null,
      "outputs": []
    },
    {
      "cell_type": "code",
      "metadata": {
        "colab": {
          "base_uri": "https://localhost:8080/"
        },
        "id": "ixuyWF1xhQOJ",
        "outputId": "a8d2663c-e2e0-449c-829c-bebdb1fccbc2"
      },
      "source": [
        "# vocab_size is VOCAB_SIZE + 1 since 0 is used additionally for padding.\n",
        "int_model = create_model(vocab_size=VOCAB_SIZE + 1, num_labels=4)\n",
        "int_model.compile(\n",
        "    loss=losses.SparseCategoricalCrossentropy(from_logits=True),\n",
        "    optimizer ='adam',\n",
        "    metrics = ['accuracy'])\n",
        "\n",
        "history = int_model.fit(int_train_ds, validation_data=int_val_ds, epochs=5)\n"
      ],
      "execution_count": null,
      "outputs": [
        {
          "output_type": "stream",
          "text": [
            "Epoch 1/5\n",
            "200/200 [==============================] - 8s 38ms/step - loss: 1.3043 - accuracy: 0.3786 - val_loss: 0.7979 - val_accuracy: 0.7038\n",
            "Epoch 2/5\n",
            "200/200 [==============================] - 5s 27ms/step - loss: 0.7256 - accuracy: 0.7091 - val_loss: 0.5672 - val_accuracy: 0.7812\n",
            "Epoch 3/5\n",
            "200/200 [==============================] - 5s 26ms/step - loss: 0.4595 - accuracy: 0.8425 - val_loss: 0.5062 - val_accuracy: 0.8025\n",
            "Epoch 4/5\n",
            "200/200 [==============================] - 5s 27ms/step - loss: 0.2795 - accuracy: 0.9297 - val_loss: 0.4941 - val_accuracy: 0.8169\n",
            "Epoch 5/5\n",
            "200/200 [==============================] - 6s 28ms/step - loss: 0.1529 - accuracy: 0.9700 - val_loss: 0.5111 - val_accuracy: 0.8100\n"
          ],
          "name": "stdout"
        }
      ]
    },
    {
      "cell_type": "markdown",
      "metadata": {
        "id": "7dtoWqkujekm"
      },
      "source": [
        "Compare the two models:"
      ]
    },
    {
      "cell_type": "code",
      "metadata": {
        "colab": {
          "base_uri": "https://localhost:8080/"
        },
        "id": "2Vdi1M0Cji53",
        "outputId": "7cfaa633-1280-4b83-f902-ec5eb8d1cbda"
      },
      "source": [
        "print(\"Liner model on binary vectorized data: \")\n",
        "print(binary_model.summary())"
      ],
      "execution_count": null,
      "outputs": [
        {
          "output_type": "stream",
          "text": [
            "Liner model on binary vectorized data: \n",
            "Model: \"sequential\"\n",
            "_________________________________________________________________\n",
            "Layer (type)                 Output Shape              Param #   \n",
            "=================================================================\n",
            "dense (Dense)                (None, 4)                 40004     \n",
            "=================================================================\n",
            "Total params: 40,004\n",
            "Trainable params: 40,004\n",
            "Non-trainable params: 0\n",
            "_________________________________________________________________\n",
            "None\n"
          ],
          "name": "stdout"
        }
      ]
    },
    {
      "cell_type": "code",
      "metadata": {
        "colab": {
          "base_uri": "https://localhost:8080/"
        },
        "id": "DRi1xGF9j5Sv",
        "outputId": "ce1783c8-b62f-4cc7-bfe6-1c9f33477ba9"
      },
      "source": [
        "print(\"ConvNet model on int vectorizer data:\")\n",
        "print(int_model.summary())"
      ],
      "execution_count": null,
      "outputs": [
        {
          "output_type": "stream",
          "text": [
            "ConvNet model on int vectorizer data:\n",
            "Model: \"sequential_1\"\n",
            "_________________________________________________________________\n",
            "Layer (type)                 Output Shape              Param #   \n",
            "=================================================================\n",
            "embedding (Embedding)        (None, None, 64)          640064    \n",
            "_________________________________________________________________\n",
            "conv1d (Conv1D)              (None, None, 64)          20544     \n",
            "_________________________________________________________________\n",
            "global_max_pooling1d (Global (None, 64)                0         \n",
            "_________________________________________________________________\n",
            "dense_1 (Dense)              (None, 4)                 260       \n",
            "=================================================================\n",
            "Total params: 660,868\n",
            "Trainable params: 660,868\n",
            "Non-trainable params: 0\n",
            "_________________________________________________________________\n",
            "None\n"
          ],
          "name": "stdout"
        }
      ]
    },
    {
      "cell_type": "markdown",
      "metadata": {
        "id": "GkO-S2ZXkOrc"
      },
      "source": [
        "Evaluate both models on the test data:"
      ]
    },
    {
      "cell_type": "code",
      "metadata": {
        "colab": {
          "base_uri": "https://localhost:8080/"
        },
        "id": "1lvBWuXhkUvX",
        "outputId": "0a441a33-cc80-461c-8f2b-b0ff03d58d77"
      },
      "source": [
        "binary_loss, binary_accuracy = binary_model.evaluate(binary_test_ds)\n",
        "int_loss, int_accuracy = int_model.evaluate(int_test_ds)\n",
        "\n",
        "print(\"Binary model accuracy : {:2.2%}\".format(binary_accuracy))\n",
        "print(\"Int model accuracy : {:2.2%}\".format(int_accuracy))"
      ],
      "execution_count": null,
      "outputs": [
        {
          "output_type": "stream",
          "text": [
            "250/250 [==============================] - 3s 13ms/step - loss: 0.5172 - accuracy: 0.8151\n",
            "250/250 [==============================] - 4s 16ms/step - loss: 0.5386 - accuracy: 0.8048\n",
            "Binary model accuracy : 81.51%\n",
            "Int model accuracy : 80.48%\n"
          ],
          "name": "stdout"
        }
      ]
    },
    {
      "cell_type": "markdown",
      "metadata": {
        "id": "zR_V5fdilZWV"
      },
      "source": [
        "### Export the model\n",
        "\n",
        "In the code above, applied the TextVectorization layer to yhe dataset before feeding twxt to the model. If you want to make model capable of processing raw strings(for example, to simplify deploying it), you can include the TextVectorization layer inside your model. To do so you can create a new model using the weights you just trained."
      ]
    },
    {
      "cell_type": "code",
      "metadata": {
        "colab": {
          "base_uri": "https://localhost:8080/"
        },
        "id": "zwBRliphmSCw",
        "outputId": "5c4e54f0-2ae6-4c4e-cb7d-2a3c88c6219b"
      },
      "source": [
        "export_model = tf.keras.Sequential(\n",
        "    [binary_vectorize_layer, binary_model,\n",
        "     layers.Activation('sigmoid')])\n",
        "\n",
        "export_model.compile(\n",
        "    loss=losses.SparseCategoricalCrossentropy(from_logits=False),\n",
        "    optimizer='adam',\n",
        "    metrics = ['accuracy'])\n",
        "\n",
        "# Test it with 'raw_test_ds', which yiels raw string\n",
        "loss, accuracy = export_model.evaluate(raw_test_ds)\n",
        "print(\"Accuracy: {:2.2%}\".format(binary_accuracy))\n"
      ],
      "execution_count": null,
      "outputs": [
        {
          "output_type": "stream",
          "text": [
            "250/250 [==============================] - 4s 13ms/step - loss: 0.5222 - accuracy: 0.8222\n",
            "Accuracy: 81.51%\n"
          ],
          "name": "stdout"
        }
      ]
    },
    {
      "cell_type": "markdown",
      "metadata": {
        "id": "nl6Nt5oJnzee"
      },
      "source": [
        "Now your model can take raw strings as input and predict a score for each label using *model.predict*. Define a function to find the label with the maximum score"
      ]
    },
    {
      "cell_type": "code",
      "metadata": {
        "id": "y7F3WIiBnzJz"
      },
      "source": [
        "def get_string_labels(predicted_score_batch):\n",
        "  predicted_int_labels = tf.argmax(predicted_score_batch, axis=1)\n",
        "  predicted_labels = tf.gather(raw_train_ds.class_names, predicted_int_labels)\n",
        "  return predicted_labels"
      ],
      "execution_count": null,
      "outputs": []
    },
    {
      "cell_type": "markdown",
      "metadata": {
        "id": "b3LIIAk6oprA"
      },
      "source": [
        "### Run interence on new data"
      ]
    },
    {
      "cell_type": "code",
      "metadata": {
        "colab": {
          "base_uri": "https://localhost:8080/"
        },
        "id": "WpgOGw6_ouHT",
        "outputId": "7d150f9f-e48d-4341-e05f-2c7b9bb61a5f"
      },
      "source": [
        "inputs = [\n",
        "          \" public String getDepartment() {return department;\", #python\n",
        "          \"debug public static void main(string[] args) {...}\", # java\n",
        "]\n",
        "predicted_scores = export_model.predict(inputs)\n",
        "predicted_labels = get_string_labels(predicted_scores)\n",
        "for input, label in zip(inputs, predicted_labels):\n",
        "  print(\"Question: \",input)\n",
        "  print(\"Predicted label:\", label.numpy())"
      ],
      "execution_count": null,
      "outputs": [
        {
          "output_type": "stream",
          "text": [
            "Question:   public String getDepartment() {return department;\n",
            "Predicted label: b'csharp'\n",
            "Question:  debug public static void main(string[] args) {...}\n",
            "Predicted label: b'csharp'\n"
          ],
          "name": "stdout"
        }
      ]
    },
    {
      "cell_type": "markdown",
      "metadata": {
        "id": "BQbJMgtCqIg_"
      },
      "source": [
        "# **Example 2: Predict the author of Illiad translations**"
      ]
    },
    {
      "cell_type": "code",
      "metadata": {
        "id": "3H3-nWQRrW3I",
        "colab": {
          "base_uri": "https://localhost:8080/"
        },
        "outputId": "bba85190-66aa-49ae-fa4e-6fb8abf4cec1"
      },
      "source": [
        "DIRECTORY_URL = 'https://storage.googleapis.com/download.tensorflow.org/data/illiad/'\n",
        "FILE_NAMES = ['cowper.txt', 'derby.txt', 'butler.txt']\n",
        "\n",
        "for name in FILE_NAMES:\n",
        "  text_dir = utils.get_file(name, origin=DIRECTORY_URL + name)"
      ],
      "execution_count": null,
      "outputs": [
        {
          "output_type": "stream",
          "text": [
            "Downloading data from https://storage.googleapis.com/download.tensorflow.org/data/illiad/cowper.txt\n",
            "819200/815980 [==============================] - 0s 0us/step\n",
            "Downloading data from https://storage.googleapis.com/download.tensorflow.org/data/illiad/derby.txt\n",
            "811008/809730 [==============================] - 0s 0us/step\n",
            "Downloading data from https://storage.googleapis.com/download.tensorflow.org/data/illiad/butler.txt\n",
            "811008/807992 [==============================] - 0s 0us/step\n"
          ],
          "name": "stdout"
        }
      ]
    },
    {
      "cell_type": "code",
      "metadata": {
        "colab": {
          "base_uri": "https://localhost:8080/"
        },
        "id": "hj6fJSBKuYgh",
        "outputId": "bc4821a0-41b6-49a3-b32d-e3cec9d9c066"
      },
      "source": [
        "print(text_dir)"
      ],
      "execution_count": null,
      "outputs": [
        {
          "output_type": "stream",
          "text": [
            "/root/.keras/datasets/butler.txt\n"
          ],
          "name": "stdout"
        }
      ]
    },
    {
      "cell_type": "code",
      "metadata": {
        "id": "xC9C-8MmukZc"
      },
      "source": [
        "parent_dir = pathlib.Path(text_dir).parent"
      ],
      "execution_count": null,
      "outputs": []
    },
    {
      "cell_type": "code",
      "metadata": {
        "colab": {
          "base_uri": "https://localhost:8080/"
        },
        "id": "5FtXWuURu1O1",
        "outputId": "1e33f273-8dd1-4f56-f362-14d0ccca0b9e"
      },
      "source": [
        "print(parent_dir)\n",
        "print(\" \")\n",
        "list(parent_dir.iterdir())\n"
      ],
      "execution_count": null,
      "outputs": [
        {
          "output_type": "stream",
          "text": [
            "/root/.keras/datasets\n",
            " \n"
          ],
          "name": "stdout"
        },
        {
          "output_type": "execute_result",
          "data": {
            "text/plain": [
              "[PosixPath('/root/.keras/datasets/derby.txt'),\n",
              " PosixPath('/root/.keras/datasets/butler.txt'),\n",
              " PosixPath('/root/.keras/datasets/cowper.txt')]"
            ]
          },
          "metadata": {
            "tags": []
          },
          "execution_count": 37
        }
      ]
    },
    {
      "cell_type": "markdown",
      "metadata": {
        "id": "2fL1oPsYvPLe"
      },
      "source": [
        "## Load the dataset\n",
        "\n",
        "You will use `TextLineDataset`, Which is designed to create a `tf.data.Dataset` from a text file in which each example is a line of text from the original file, Whereas `text_dataset_from_directory` treats all contents of a file as a single example.\n",
        "`TextLineDataset` is useful for text data that is primarily line-based(for example,poetry or error logs).\n",
        "\n",
        "Iterte through these files, loading each one into its own dataset. Each example needs to be individually labeled, so use `tf.data.Dataset.map` to apply a labeler function to each one. This will iterate over every example in the dataset, returning (example, labels) pairs."
      ]
    },
    {
      "cell_type": "code",
      "metadata": {
        "id": "wWDdmdTGxQ7c"
      },
      "source": [
        "def labeler(example, index):\n",
        "  return example, tf.cast(index, tf.int64)"
      ],
      "execution_count": null,
      "outputs": []
    },
    {
      "cell_type": "code",
      "metadata": {
        "colab": {
          "base_uri": "https://localhost:8080/"
        },
        "id": "lCI6gaP0xgqw",
        "outputId": "0760d10d-8685-471e-d6e1-fb2f1a1ff3d7"
      },
      "source": [
        "labeled_data_sets = []\n",
        "\n",
        "for i, file_name in enumerate(FILE_NAMES):\n",
        "  lines_dataset = tf.data.TextLineDataset(str(parent_dir/file_name))\n",
        "  labeled_dataset = lines_dataset = lines_dataset.map(lambda ex: labeler(ex, i))\n",
        "  labeled_data_sets.append(labeled_dataset)\n",
        "\n",
        "print(labeled_data_sets[0])"
      ],
      "execution_count": null,
      "outputs": [
        {
          "output_type": "stream",
          "text": [
            "<MapDataset shapes: ((), ()), types: (tf.string, tf.int64)>\n"
          ],
          "name": "stdout"
        }
      ]
    },
    {
      "cell_type": "markdown",
      "metadata": {
        "id": "09mXumf-y7mI"
      },
      "source": [
        "Next, you'll combine these labeled datasets into a single dataset, and shuffle it."
      ]
    },
    {
      "cell_type": "code",
      "metadata": {
        "id": "xD3x734tzGEk"
      },
      "source": [
        "BUFFER_SIZE = 50000\n",
        "BATCH_SIZE = 64\n",
        "VALIDATION_SIZE = 5000"
      ],
      "execution_count": null,
      "outputs": []
    },
    {
      "cell_type": "code",
      "metadata": {
        "id": "tfBrFccXzZb8"
      },
      "source": [
        "all_labeled_data = labeled_data_sets[0]\n",
        "for labeled_dataset in labeled_data_sets[1:]:\n",
        "  all_labeled_data = all_labeled_data.concatenate(labeled_dataset)\n",
        "\n",
        "all_labeled_data = all_labeled_data.shuffle(\n",
        "    BUFFER_SIZE, reshuffle_each_iteration=False)"
      ],
      "execution_count": null,
      "outputs": []
    },
    {
      "cell_type": "code",
      "metadata": {
        "colab": {
          "base_uri": "https://localhost:8080/"
        },
        "id": "4tDmQixr0tQd",
        "outputId": "7cc6b51e-8de8-412a-de6b-d6461bc0f844"
      },
      "source": [
        "for text, label in all_labeled_data.take(10):\n",
        "  print(\"Sentence: \", text.numpy())\n",
        "  print(\"label: \", label.numpy())"
      ],
      "execution_count": null,
      "outputs": [
        {
          "output_type": "stream",
          "text": [
            "Sentence:  b'Within my tent, leaning against the wall,'\n",
            "label:  0\n",
            "Sentence:  b'for the mules to pass you. Afterwards when I have taken the body home'\n",
            "label:  2\n",
            "Sentence:  b'In beauty far surpassing all their sex:'\n",
            "label:  1\n",
            "Sentence:  b'sent on a like design to the camp of the Grecians. From him they are'\n",
            "label:  1\n",
            "Sentence:  b'A barrier against all the winds of heaven,'\n",
            "label:  0\n",
            "Sentence:  b'With rapid strides he came; the mountains huge'\n",
            "label:  0\n",
            "Sentence:  b'The routed sons of Greece should feel how much'\n",
            "label:  1\n",
            "Sentence:  b'From Venus, child of Jove; his mother owns'\n",
            "label:  1\n",
            "Sentence:  b'From Chiron, justest of the Centaurs, he.'\n",
            "label:  1\n",
            "Sentence:  b\"Oft as Achilles, swift of foot, essay'd\"\n",
            "label:  1\n"
          ],
          "name": "stdout"
        }
      ]
    },
    {
      "cell_type": "markdown",
      "metadata": {
        "id": "AjB8_GLQ1EIr"
      },
      "source": [
        "### Prepare the dataset for training\n",
        "Instead of using the Keras `TextVectorization` layer to preprocess our text dataset, you will now use the `tf.text API` to standardize and tokenize the data, buid a vocabulary and use `StaticVocabularyTable` to map tokens to integers to feed to the model.\n",
        "\n",
        "While tf.text provides various tokenizers, you will use the `UnicodeScriptTokenizer`to tokenize our dataset. Defiine a function to convert thr text to lower-case and tokenize it. You will use `tf.data.dataset.map` to apply the tokenization to the dataset."
      ]
    },
    {
      "cell_type": "code",
      "metadata": {
        "id": "T3evDkd62ojr"
      },
      "source": [
        "tokenizer = tf_text.UnicodeScriptTokenizer()"
      ],
      "execution_count": null,
      "outputs": []
    },
    {
      "cell_type": "code",
      "metadata": {
        "id": "MNGP0bW32yKl"
      },
      "source": [
        "def tokenize(text, unused_label):\n",
        "  lower_case = tf_text.case_fold_utf8(text)\n",
        "  return tokenizer.tokenize(lower_case)"
      ],
      "execution_count": null,
      "outputs": []
    },
    {
      "cell_type": "code",
      "metadata": {
        "id": "bzstzOXG3PEE",
        "colab": {
          "base_uri": "https://localhost:8080/"
        },
        "outputId": "1b46ad48-dc4c-40f5-afb7-499fb4854933"
      },
      "source": [
        "tokenized_ds = all_labeled_data.map(tokenize)"
      ],
      "execution_count": null,
      "outputs": [
        {
          "output_type": "stream",
          "text": [
            "WARNING:tensorflow:From /usr/local/lib/python3.6/dist-packages/tensorflow/python/util/dispatch.py:201: batch_gather (from tensorflow.python.ops.array_ops) is deprecated and will be removed after 2017-10-25.\n",
            "Instructions for updating:\n",
            "`tf.batch_gather` is deprecated, please use `tf.gather` with `batch_dims=-1` instead.\n"
          ],
          "name": "stdout"
        }
      ]
    },
    {
      "cell_type": "code",
      "metadata": {
        "colab": {
          "base_uri": "https://localhost:8080/"
        },
        "id": "qcrdSjZh3f2x",
        "outputId": "23aaecce-341c-4540-8848-db2a8f900394"
      },
      "source": [
        "for text_batch in tokenized_ds.take(5):\n",
        "  print(\"Tokens: \", text_batch.numpy())"
      ],
      "execution_count": null,
      "outputs": [
        {
          "output_type": "stream",
          "text": [
            "Tokens:  [b'within' b'my' b'tent' b',' b'leaning' b'against' b'the' b'wall' b',']\n",
            "Tokens:  [b'for' b'the' b'mules' b'to' b'pass' b'you' b'.' b'afterwards' b'when'\n",
            " b'i' b'have' b'taken' b'the' b'body' b'home']\n",
            "Tokens:  [b'in' b'beauty' b'far' b'surpassing' b'all' b'their' b'sex' b':']\n",
            "Tokens:  [b'sent' b'on' b'a' b'like' b'design' b'to' b'the' b'camp' b'of' b'the'\n",
            " b'grecians' b'.' b'from' b'him' b'they' b'are']\n",
            "Tokens:  [b'a' b'barrier' b'against' b'all' b'the' b'winds' b'of' b'heaven' b',']\n"
          ],
          "name": "stdout"
        }
      ]
    },
    {
      "cell_type": "markdown",
      "metadata": {
        "id": "dE8YIlok3xtY"
      },
      "source": [
        "Next,you will build a vocabulary by sorting tokens by frequency and keeping the top `VOCAB_SIZE` tokens."
      ]
    },
    {
      "cell_type": "code",
      "metadata": {
        "colab": {
          "base_uri": "https://localhost:8080/"
        },
        "id": "_9dNdWwl4B1y",
        "outputId": "85e6a44d-e229-460c-9f6b-0854efb14fd4"
      },
      "source": [
        "tokenized_ds = configure_dataset(tokenized_ds)\n",
        "\n",
        "vocab_dict = collections.defaultdict(lambda: 0)\n",
        "for toks in tokenized_ds.as_numpy_iterator():\n",
        "  for tok in toks:\n",
        "    vocab_dict[tok] += 1\n",
        "print(vocab_dict)\n",
        "\n",
        "vocab = sorted(vocab_dict.items(), key=lambda x:x[1], reverse = True)\n",
        "vocab = [token for token, count in vocab]\n",
        "vocab = vocab[:VOCAB_SIZE]\n",
        "vocab_size = len(vocab)\n",
        "print(\"Vocab size: \", vocab_size)\n",
        "print(\"First five vocab entries: \", vocab[:5])\n",
        "\n"
      ],
      "execution_count": null,
      "outputs": [
        {
          "output_type": "stream",
          "text": [
            "defaultdict(<function <lambda> at 0x7f28f4521d90>, {b'within': 264, b'my': 2230, b'tent': 241, b',': 45478, b'leaning': 15, b'against': 347, b'the': 28299, b'wall': 269, b'for': 3401, b'mules': 71, b'to': 9868, b'pass': 225, b'you': 1901, b'.': 11635, b'afterwards': 10, b'when': 1558, b'i': 3351, b'have': 1262, b'taken': 78, b'body': 340, b'home': 259, b'in': 6568, b'beauty': 42, b'far': 510, b'surpassing': 20, b'all': 3037, b'their': 2382, b'sex': 11, b':': 1712, b'sent': 273, b'on': 3152, b'a': 4327, b'like': 421, b'design': 33, b'camp': 145, b'of': 13489, b'grecians': 150, b'from': 3407, b'him': 3744, b'they': 2621, b'are': 927, b'barrier': 17, b'winds': 66, b'heaven': 319, b'with': 5675, b'rapid': 75, b'strides': 10, b'he': 7004, b'came': 565, b';': 8664, b'mountains': 47, b'huge': 117, b'routed': 21, b'sons': 471, b'greece': 272, b'should': 643, b'feel': 47, b'how': 301, b'much': 267, b'venus': 109, b'child': 152, b'jove': 1376, b'his': 8503, b'mother': 259, b'owns': 5, b'chiron': 12, b'justest': 5, b'centaurs': 5, b'oft': 103, b'as': 3035, b'achilles': 1267, b'swift': 297, b'foot': 247, b'essay': 28, b\"'\": 15695, b'd': 8802, b'if': 945, b'we': 1033, b'must': 204, b'perish': 94, b'or': 1272, b'be': 1343, b'sav': 17, b'and': 17012, b'ward': 12, b'neptune': 184, b'earth': 366, b'high': 374, b'shook': 65, b'left': 387, b'thee': 842, b'living': 58, b'now': 1459, b'generous': 14, b'chief': 471, b'!': 1225, b'your': 824, b'armour': 303, b'but': 3353, b'noble': 421, b'hector': 1465, b'marked': 10, b'running': 43, b'up': 451, b'men': 841, b'troy': 698, b'women': 130, b'?': 878, b'god': 390, b'her': 1428, b'neat': 8, b'-': 3464, b'hair': 140, b'maidens': 26, b'gave': 328, b'command': 122, b'splendid': 44, b'porticoes': 1, b'which': 881, b'by': 2780, b'ship': 134, b'though': 499, b'it': 1938, b'is': 1511, b'twelve': 100, b'days': 91, b'that': 3062, b'has': 429, b'signs': 17, b'proper': 15, b'force': 265, b'also': 333, b'godlike': 222, b'chromius': 21, b'leaving': 38, b'there': 865, b'at': 1978, b'once': 391, b'o': 704, b'ermantled': 3, b'snowy': 17, b'veil': 78, b'son': 2525, b'scyros': 8, b'native': 52, b'prize': 173, b'me': 1751, b'because': 55, b'gods': 767, b'steeds': 364, b'betake': 2, b'them': 1841, b'ships': 1007, b'sail': 33, b'brave': 479, b'beautiful': 17, b'heroes': 91, b'crest': 48, b'tossing': 8, b'retiring': 30, b'seized': 84, b'rang': 98, b'loudly': 48, b'about': 351, b'breast': 217, b'fled': 133, b'front': 154, b'river': 157, b'then': 2087, b'none': 275, b'may': 849, b'blame': 53, b'retreat': 47, b'loss': 67, b'one': 848, b'so': 1844, b'valiant': 316, b'fiercely': 48, b'joy': 71, b'wise': 60, b'ulysses': 377, b'seat': 117, b'\"': 751, b'thou': 1482, b'tydeus': 197, b'dearest': 45, b'soul': 189, b's': 2393, b'nine': 81, b'hero': 155, b'bore': 307, b'peril': 13, b'quickly': 38, b'seen': 78, b'incorruptible': 4, b'evermore': 12, b'were': 1156, b'satisfied': 27, b'soon': 260, b'had': 1571, b'enough': 44, b'eat': 41, b'drink': 70, b'consumed': 14, b'juno': 341, b'moved': 66, b'mind': 225, b'th': 396, b'seeing': 83, b'saturn': 201, b'found': 237, b'plague': 11, b'achaians': 72, b'late': 42, b'plumes': 14, b'horse': 98, b'neither': 158, b'shields': 75, b'nor': 1054, b'ashen': 30, b'spears': 176, b'love': 109, b'comrades': 150, b'lavished': 1, b'upon': 744, b'more': 425, b'than': 330, b'others': 220, b'shall': 1208, b'our': 845, b'task': 54, b'who': 1713, b'name': 95, b'less': 106, b'sleep': 162, b'ere': 157, b'yet': 845, b'met': 110, b'eye': 60, b'polydamas': 96, b'aeneas': 185, b'making': 34, b'moan': 16, b'drew': 198, b'no': 861, b'man': 827, b'thy': 1296, b'greeks': 779, b'behalf': 29, b'accosted': 5, b'gentle': 49, b'answer': 186, b'heard': 273, b'never': 249, b'ending': 1, b'toil': 118, b'turned': 71, b'keen': 79, b'eyes': 310, b'away': 322, b'witness': 27, b'guard': 129, b'plighted': 7, b'truce': 24, b'.\"': 1410, b'savoury': 2, b'unacceptable': 1, b'those': 290, b'us': 592, b'leleges': 7, b'vain': 189, b'therefore': 350, b'proves': 9, b'polish': 42, b'richest': 12, b'oil': 22, b'divine': 93, b'younger': 27, b'years': 72, b'equal': 54, b'renown': 128, b'might': 483, b'borne': 120, b'back': 496, b'into': 625, b'suit': 33, b'urged': 67, b'not': 2266, b'milky': 2, b'nostrils': 13, b'firm': 135, b'set': 259, b'dust': 207, b'gory': 12, b'eyeballs': 3, b'dropp': 34, b'spake': 167, b'himself': 465, b'attentive': 4, b'mark': 105, b'aimed': 31, b'head': 373, b'near': 197, b'top': 54, b'helmet': 151, b'struck': 332, b'charioteer': 95, b'lot': 69, b'ajax': 518, b'whom': 1053, b'laughter': 16, b'loving': 11, b'thus': 1557, b'first': 581, b'sea': 265, b'blew': 7, b'big': 20, b'rose': 154, b'waves': 67, b'burning': 48, b'flames': 71, b'achaeans': 548, b'will': 1426, b'kindle': 13, b'face': 158, b'this': 1015, b'alone': 249, b'unsupported': 1, b'meet': 158, b'death': 485, b'rous': 174, b'its': 307, b'lair': 10, b'mountain': 123, b'side': 454, b'teucer': 110, b'replied': 172, b'terrify': 4, b'under': 218, b'own': 575, b'roof': 22, b'ocean': 116, b'wave': 47, b'sped': 70, b'haste': 204, b'daughter': 209, b'great': 524, b'proud': 74, b'spirit': 126, b'hither': 111, b'grace': 22, b'hast': 209, b'named': 34, b'wrap': 6, b'fire': 289, b'beaked': 12, b'ensues': 7, b'alcatho\\xc3\\xbcs': 6, b'hard': 131, b'matter': 35, b'take': 374, b'compact': 13, b'beneath': 292, b'monarch': 76, b'prytanis': 3, b'would': 669, b'slain': 358, b'bade': 148, b'lead': 66, b'whose': 257, b'tough': 24, b'sides': 62, b'spent': 21, b'many': 512, b'staff': 34, b'irrepressible': 2, b'sight': 123, b'burnish': 17, b'gold': 194, b'silver': 161, b'trappings': 5, b'hung': 58, b':--': 10, b'wound': 134, b'cured': 4, b'was': 1914, b'mortal': 155, b'mould': 4, b'tell': 146, b'ye': 502, b'whither': 20, b'went': 443, b'lest': 186, b'immortals': 84, b'fail': 56, b'wroth': 13, b'envoy': 7, b'hercules': 39, b'open': 74, b'accord': 15, b'--': 779, b'gates': 194, b'over': 354, b'hours': 17, b'preside': 4, b'departure': 1, b'palace': 32, b'deadly': 44, b'wan': 2, b'grew': 22, b'every': 190, b'cheek': 24, b'do': 359, b'small': 47, b'praise': 48, b'while': 801, b'around': 356, b'silence': 42, b'stood': 581, b'battle': 692, b'pygmaean': 1, b'race': 145, b'roll': 41, b'fast': 150, b'wheel': 31, b'prime': 24, b'vigor': 12, b'midst': 91, b'reconciled': 7, b'agamemnon': 512, b'puts': 8, b'down': 568, b'sideways': 5, b'aslope': 1, b'o\\xc3\\xafliades': 11, b'prepared': 43, b'predestin': 1, b'greek': 50, b'city': 445, b'utterly': 25, b'destroy': 65, b'can': 355, b'know': 264, b'names': 8, b'send': 99, b'grant': 75, b'burial': 11, b'rites': 54, b'hand': 885, b'mighty': 334, b'sword': 173, b'boast': 89, b'oeneus': 30, b'vineyard': 17, b'haunting': 3, b'wrought': 120, b'harm': 34, b'put': 167, b'courage': 170, b'heart': 410, b'speaking': 19, b'voice': 211, b'lycaon': 61, b'shalt': 134, b'rejoice': 13, b'here': 423, b'chiefest': 8, b'clouds': 76, b'hit': 73, b'middle': 76, b'wing': 108, b'she': 958, b'circling': 19, b'bounding': 12, b'coursers': 73, b'grecian': 196, b'fleet': 335, b'truth': 48, b'begat': 19, b'pitying': 27, b'suppliant': 37, b'view': 39, b'lashing': 2, b'furious': 96, b'sweep': 5, b'dark': 157, b'blue': 56, b'give': 364, b'these': 586, b'words': 357, b'life': 244, b'killed': 141, b'sound': 75, b'trojan': 360, b'feet': 219, b'turn': 300, b'wide': 183, b'indeed': 144, b'said': 841, b'anger': 160, b',\"': 850, b'alas': 54, b'what': 420, b'marvel': 15, b'am': 226, b'approach': 123, b'semblance': 16, b'close': 291, b'stature': 22, b'bulk': 13, b'space': 70, b'where': 526, b'wider': 4, b'grows': 7, b'road': 22, b'astyalus': 3, b'pidytes': 1, b'percote': 13, b'aretaon': 2, b'ablerus': 3, b'fell': 510, b'blade': 34, b'collar': 13, b'bone': 56, b'neck': 136, b'even': 478, b'two': 599, b'moliones': 2, b'actor': 22, b'unless': 19, b'behind': 203, b'cover': 62, b'trojans': 1130, b'began': 141, b'lose': 21, b'stationed': 7, b'lowermost': 1, b'spurs': 6, b'fountained': 9, b'ida': 138, b'antimachus': 12, b'striking': 13, b'spear': 1071, b'girdle': 17, b'flies': 44, b'prey': 72, b'bodies': 41, b'been': 332, b'rescue': 42, b'save': 177, b'joints': 7, b'fierce': 200, b'viewing': 7, b'ease': 73, b'bravest': 106, b'anon': 14, b'excites': 4, b'war': 432, b'agenor': 45, b'search': 19, b'myself': 186, b'nourish': 4, b'lap': 15, b'physician': 3, b'aesculapius': 13, b'come': 440, b'see': 348, b'menelaus': 379, b'immediately': 4, b'some': 680, b'fleecy': 4, b'flocks': 61, b'dear': 139, b'comrade': 137, b'patroclus': 537, b'fallen': 108, b'valued': 8, b'whereby': 7, b'reign': 35, b'st': 303, b'er': 567, b'supreme': 34, b'asterop\\xc3\\xa6us': 9, b'saw': 344, b'van': 62, b'martial': 26, b'steed': 33, b'safe': 84, b'stored': 4, b'lies': 108, b'foam': 25, b'sprung': 34, b'goddess': 243, b'feeling': 4, b'quick': 86, b'did': 547, b'sire': 184, b'things': 54, b'repose': 13, b'peacefully': 1, b'bones': 59, b'night': 269, b'overspread': 15, b'each': 447, b'orders': 39, b'people': 260, b'setting': 16, b'severally': 3, b'hands': 452, b'uplift': 5, b'immortal': 164, b'beam': 30, b'\\xc3\\xa6acides': 21, b'argives': 163, b'better': 134, b'stopped': 3, b'fellow': 54, b'mouth': 34, b'peerless': 5, b'leech': 7, b'could': 341, b'fates': 10, b'doom': 148, b'lord': 151, b'thunder': 44, b'tlepolemus': 31, b'sarpedon': 141, b'thigh': 51, b'accomplished': 5, b'withdrawn': 27, b'say': 200, b'last': 163, b'ornaments': 1, b'issued': 12, b'forth': 463, b'fountains': 7, b'fourth': 41, b'time': 245, b'father': 455, b'balanced': 4, b'golden': 201, b'strong': 175, b'fain': 35, b'attack': 53, b'triumph': 78, b'wills': 9, b'shot': 40, b'shame': 109, b'very': 87, b'hour': 60, b'decides': 2, b'afar': 48, b'respected': 4, b'ilius': 97, b'priam': 500, b'medon': 17, b'slew': 214, b'iasus': 4, b'yield': 74, b'subdued': 49, b'matchless': 39, b'offspring': 62, b'bright': 193, b'brace': 4, b'well': 549, b'shield': 403, b'feed': 28, b'brisk': 10, b'injure': 2, b'chariot': 350, b'break': 77, b'ever': 243, b'fighting': 165, b'mischief': 30, b'intolerable': 7, b'hears': 10, b'hear': 249, b'visit': 31, b'oceanus': 31, b'present': 46, b'let': 629, b'devote': 5, b'ourselves': 64, b'lofty': 157, b'ilium': 191, b'sure': 78, b'shepherd': 39, b'wounded': 169, b'springing': 27, b'trembled': 22, b'equals': 2, b'sake': 67, b'guardian': 52, b'towers': 37, b')': 177, b'coming': 105, b'weapon': 100, b'beheld': 86, b'shunn': 17, b'upspringing': 2, b'lash': 33, b'reins': 92, b'uprear': 2, b'wonder': 23, b'transport': 4, b'inspir': 16, b'iphitus': 8, b'made': 349, b'get': 54, b'horses': 469, b'giving': 32, b'lycians': 84, b'saying': 252, b'why': 172, b'prowess': 42, b'follow': 94, b'long': 395, b'ertook': 7, b'fame': 55, b'equestrian': 20, b'swifter': 10, b'throughout': 56, b'house': 281, b'daughters': 66, b'wail': 14, b'prepare': 37, b'feast': 56, b'greater': 31, b'skill': 104, b'hope': 119, b'glory': 158, b'distress': 30, b'goodly': 65, b'sheep': 74, b'full': 284, b'fleec': 3, b'atreus': 292, b'scamandrius': 5, b'strophius': 2, b'huntsman': 3, b'insupportable': 5, b'disdain': 8, b'athletic': 1, b'buprasium': 11, b'erst': 32, b'bucolion': 6, b'pasturing': 3, b'embraced': 6, b'mankind': 36, b'generation': 5, b'meets': 13, b'delay': 30, b'most': 265, b'irksome': 2, b'dispatch': 26, b'preparation': 3, b'falsely': 9, b'swear': 48, b'dwelt': 106, b'fat': 49, b'fertile': 51, b'soil': 71, b'quarrelled': 3, b'angrily': 6, b'broke': 62, b'understood': 6, b'entering': 22, b'secured': 16, b'thyself': 109, b'dawn': 45, b'day': 405, b'successless': 1, b'illustrious': 90, b'bearing': 108, b'message': 45, b'peace': 67, b'cadmeians': 1, b'flew': 192, b'fearing': 14, b'dire': 40, b'mischance': 2, b'tempted': 2, b'move': 50, b'conflict': 47, b'such': 603, b'length': 130, b'already': 73, b'slept': 37, b'inhumed': 2, b'reach': 182, b'goal': 32, b'angry': 121, b'fought': 125, b'both': 584, b'vault': 15, b'sharp': 75, b'above': 131, b'scarce': 35, b'lab': 3, b'ring': 276, b'survive': 14, b'dar': 27, b'defy': 11, b'care': 116, b'make': 234, b'speed': 117, b'induce': 3, b'sthenelus': 34, b'retort': 3, b'diomed': 192, b'checks': 3, b'right': 249, b'smote': 130, b'groans': 27, b'warrior': 206, b'sore': 36, b'afraid': 30, b'tydides': 96, b'aside': 70, b'ahead': 6, b'princes': 56, b'brimming': 11, b'cups': 28, b'mad': 29, b'laid': 193, b'grieved': 8, b'speak': 180, b'mermerus': 3, b'phalces': 6, b'stripp': 48, b'arms': 532, b'depart': 19, b'step': 38, b'clasp': 44, b'wife': 158, b'achieve': 6, b'phoenix': 47, b'captain': 32, b'company': 16, b'alcimedon': 18, b'nigh': 39, b'appointed': 12, b'tow': 96, b'rs': 58, b'drove': 187, b'consultation': 6, b'debate': 15, b'allow': 9, b'wisely': 12, b'turns': 43, b'commands': 34, b'hath': 411, b'unchilded': 1, b'panic': 72, b'victory': 82, b'wrath': 155, b'mortals': 40, b'bringing': 20, b'light': 126, b'glorious': 156, b'quell': 33, b'majestic': 17, b'dread': 109, b'cythus': 1, b'enienes': 3, b'led': 278, b'adverse': 11, b'fate': 167, b'impell': 21, b'seek': 121, b'either': 159, b'declining': 4, b'go': 428, b'crying': 11, b'widowed': 3, b'astyanax': 9, b'erewhile': 19, b'priameian': 12, b'destruction': 64, b'purposed': 7, b'powers': 75, b'call': 249, b'thetis': 131, b'melanippus': 22, b'icetaon': 4, b'loud': 274, b'roar': 45, b'tearing': 10, b'after': 246, b'water': 84, b'garden': 8, b'leads': 19, b'think': 94, b'wholly': 8, b'vile': 15, b'honoured': 15, b'among': 400, b'eurypylus': 57, b'heaped': 8, b'dead': 300, b'sadly': 5, b'silently': 4, b'pyre': 47, b'having': 65, b'burned': 16, b'skilful': 34, b'held': 244, b'broad': 139, b'shoulders': 141, b'assail': 84, b'purpose': 57, b'pelegon': 11, b'ponderous': 28, b'casque': 24, b'thereon': 42, b'live': 59, b'lycurgus': 17, b'phyleus': 28, b'polydorus': 11, b'wish': 60, b'burn': 91, b'edged': 16, b'falchion': 34, b'cease': 64, b'unprofitable': 3, b'tears': 127, b'mindful': 17, b'bulwarks': 7, b'dare': 93, b'ween': 15, b'proth\\xc3\\xb6us': 1, b'periphetes': 7, b'prince': 43, b'white': 107, b'barley': 20, b'porridge': 2, b'rers': 2, b'meal': 50, b'returning': 45, b'aged': 76, b'peleus': 364, b'apollo': 331, b'join': 96, b'host': 547, b'again': 413, b'sleeping': 25, b'ground': 354, b'thracians': 23, b'myrmidons': 120, b'news': 15, b'phthia': 48, b'baffled': 9, b'cruel': 42, b'dart': 18, b'astynous': 4, b'hypeiron': 2, b'traversed': 9, b'macebearer': 1, b'bow': 211, b'phoebus': 134, b'hoping': 8, b'appease': 13, b'through': 756, b'flock': 40, b'snow': 37, b'ewes': 3, b'cloth': 13, b'form': 126, b'rack': 4, b'pain': 67, b'groaning': 54, b'blood': 335, b'wilt': 60, b'warriors': 171, b'pause': 26, b'earnest': 29, b'intercession': 2, b'friend': 211, b'dogs': 136, b'vultures': 31, b'devour': 29, b'lay': 277, b'stretched': 11, b'priceless': 3, b'aegis': 78, b'knows': 42, b'age': 77, b'sacrifice': 54, b'danaans': 111, b'propitiate': 2, b'arose': 86, b'accomplish': 19, b'arts': 24, b'burnt': 26, b'along': 90, b'unmov': 15, b'behold': 82, b'ambrosial': 34, b'roses': 1, b'flesh': 93, b'torn': 31, b'find': 161, b'parents': 79, b'brothers': 44, b'lost': 68, b'chase': 60, b'scatter': 52, b'moment': 71, b'unperceived': 7, b'alike': 100, b'minerva': 232, b'endowed': 9, b'strength': 219, b'nevertheless': 41, b'scamander': 48, b'fall': 284, b'receiv': 35, b'gift': 67, b'attacked': 11, b'fight': 841, b'defence': 57, b'being': 100, b'slaughtered': 5, b'true': 83, b'king': 550, b'straight': 91, b'eddying': 27, b'depths': 21, b'human': 33, b'disease': 7, b'die': 94, b'galleys': 22, b'lie': 100, b'miss': 44, b'sorely': 22, b'accounted': 2, b'wisest': 19, b'oh': 158, b'charged': 40, b'wine': 136, b'steadfastness': 1, b'triumphant': 14, b'refused': 20, b'doing': 26, b'best': 170, b'inform': 11, b'bid': 120, b'expecting': 16, b'deck': 13, b'onward': 52, b'lifting': 20, b'press': 119, b'gape': 3, b'hide': 78, b'still': 485, b'blow': 57, b'subdu': 3, b'dreaded': 3, b'before': 533, b'fear': 312, b'used': 14, b'allies': 73, b'ordinances': 2, b'forgo': 2, b'mounted': 50, b'(': 205, b'waited': 16, b'till': 411, b'morning': 41, b'dazzling': 47, b'brass': 173, b'contrive': 7, b'although': 78, b'mercury': 37, b'useful': 6, b'driving': 43, b'remote': 59, b'consign': 13, b'meriones': 183, b'discourse': 7, b'other': 574, b'capaneus': 22, b'epeans': 21, b'sepulchral': 2, b'pomp': 4, b'entomb': 7, b'nothing': 87, b'slanderer': 1, b'seducer': 2, b'tried': 17, b'single': 71, b'pierced': 130, b'impetuous': 33, b'contest': 40, b'hot': 37, b'between': 202, b'touch': 54, b\",'\": 85, b'mid': 108, b'throng': 80, b'burst': 20, b'abroad': 37, b'shaking': 35, b'afflicted': 14, b'dana\\xc3\\xaf': 25, b'lions': 31, b'amid': 186, b'tumult': 39, b'appearing': 4, b'walks': 8, b'boyish': 4, b'past': 61, b'sharpest': 8, b'always': 43, b'laying': 8, b'law': 36, b'share': 80, b'nodded': 19, b'glitt': 73, b'crests': 17, b'contrived': 4, b'banish': 5, b'trusty': 12, b'spy': 20, b'sprang': 238, b'off': 326, b'car': 207, b'briseis': 26, b'bring': 181, b'venture': 15, b'calchas': 22, b'truly': 22, b'prophesied': 4, b'gathered': 37, b'round': 353, b'holding': 28, b'upwards': 8, b'fan': 3, b'threshing': 7, b'floor': 23, b'impulse': 11, b'wayward': 1, b'beside': 310, b'shoulder': 117, b'blades': 6, b'shaggy': 16, b'pelion': 12, b'heights': 104, b'smitten': 13, b'any': 165, b'sally': 10, b'likeness': 38, b'iris': 120, b'spoke': 338, b'old': 281, b'liberties': 1, b'royal': 119, b'hurl': 134, b'unsparing': 6, b'threw': 104, b'encased': 1, b'cloud': 157, b'compeller': 21, b'closely': 30, b'awaken': 2, b'joyful': 12, b'end': 116, b'thrice': 89, b'turning': 54, b'withstand': 16, b'foe': 90, b'prevent': 8, b'socus': 19, b'cried': 118, b'look': 124, b'summit': 33, b'sat': 212, b'draw': 89, b'gloomy': 24, b'citadel': 16, b'flight': 199, b'feasting': 8, b'eteocles': 3, b'hall': 14, b'intercourse': 5, b'woman': 88, b'holds': 29, b'enormous': 11, b'crush': 15, b'stretch': 61, b'supine': 19, b'trod': 7, b'plain': 288, b'pois': 11, b'pond': 61, b'panting': 17, b'gain': 69, b'town': 103, b'argos': 106, b'alalcomene': 3, b'hesitating': 2, b'else': 64, b'brought': 227, b'easily': 33, b'good': 201, b'climb': 14, b'sister': 29, b'husband': 57, b'duty': 12, b'calls': 23, b'brightest': 11, b'charioteership': 1, b'meleager': 17, b'tethys': 6, b'yore': 2, b'scout': 6, b'champing': 5, b'provender': 4, b'pursuit': 48, b'art': 189, b'averted': 6, b'unfriendly': 1, b'aloud': 109, b'work': 94, b'acamas': 33, b'eusorus': 2, b'arsino\\xc3\\xbcs': 1, b'selected': 9, b'rest': 200, b'mak': 4, b'boasting': 10, b'speech': 146, b'canst': 25, b'longer': 107, b'ambassador': 8, b'mail': 51, b'clad': 108, b'footed': 51, b'queen': 86, b'uprose': 38, b'approved': 8, b'converse': 32, b'free': 39, b'conduct': 15, b'fitted': 24, b'gripe': 4, b'sturdy': 40, b'took': 377, b'ten': 73, b'talents': 22, b'perceived': 23, b'laerces': 3, b'wage': 31, b'dauntless': 68, b'vanward': 3, b'rush': 135, b'pasture': 12, b'chiefs': 212, b'ancient': 63, b'craft': 3, b'remember': 31, b'settled': 9, b'purposing': 7, b'judge': 30, b'confronting': 2, b'diomede': 104, b'famed': 53, b'shielded': 15, b'thankful': 5, b'breathing': 30, b'grief': 164, b'conspicous': 1, b'orion': 9, b'dog': 19, b'anxious': 15, b'oileus': 42, b'captive': 23, b'belly': 21, b'tripod': 34, b'cauldron': 10, b'boiling': 7, b'return': 313, b'adresteia': 1, b'land': 150, b'apaesus': 2, b'pityeia': 2, b'frightened': 10, b'bravely': 9, b'spare': 25, b'sinewy': 3, b'uprais': 7, b'oary': 4, b'barks': 31, b'hoped': 7, b'pow': 85, b'r': 150, b'charm': 5, b'bitter': 62, b'pains': 11, b'delight': 23, b'covenant': 14, b'sidonian': 4, b'alexandrus': 49, b'sidon': 4, b'slays': 11, b'distribute': 2, b'large': 64, b'semele': 6, b'bacchus': 9, b'decision': 5, b'margin': 15, b'sounding': 38, b'deep': 285, b'didst': 39, b'fraud': 7, b'impede': 4, b'course': 141, b'foes': 65, b'contempt': 5, b'ruin': 33, b'armor': 66, b'dispatched': 1, b'antilochus': 167, b'themselves': 150, b'patient': 19, b'chide': 7, b'reproach': 30, b'boundless': 28, b'observ': 5, b'remiss': 13, b'lighted': 6, b'conqu': 3, b'fro': 15, b'farthest': 11, b'cannot': 76, b'however': 66, b'refrain': 8, b'reject': 5, b'prayer': 86, b'infix': 8, b'sliding': 6, b'prostrate': 29, b'suffered': 14, b'discord': 18, b'invigor': 1, b'dryas': 5, b'wandering': 10, b'conqueror': 12, b'cast': 106, b'stuck': 13, b'heavily': 30, b'distributed': 4, b'libation': 19, b'gratify': 11, b'imperial': 24, b'consort': 11, b'fill': 174, b'piteously': 3, b'unhappy': 17, b'counsellors': 18, b'shown': 10, b'spar': 9, b'bear': 243, b'tidings': 56, b'gallant': 64, b'neleus': 36, b'horn': 13, b'cattle': 46, b'too': 254, b'herd': 49, b'grav': 4, b'n': 397, b'slow': 35, b'mount': 36, b'prove': 69, b'offered': 32, b'honour': 153, b'rhesus': 18, b'caresus': 3, b'heptaporus': 3, b'forgat': 6, b'pallas': 280, b'huntress': 9, b'spoil': 61, b'vaunt': 18, b'address': 231, b'wealthy': 29, b'transfixt': 2, b'heralds': 57, b'obey': 77, b'olympus': 189, b'hemm': 13, b'ransom': 86, b'birth': 61, b'yawned': 1, b'jaws': 31, b'nay': 24, b'twere': 25, b'aid': 197, b'buckler': 46, b'brazen': 154, b'ought': 10, b'private': 5, b'citizen': 1, b'confess': 6, b'reasonable': 4, b'counsel': 170, b'persuaded': 8, b'brother': 176, b'pair': 29, b'cut': 94, b'lock': 11, b'offer': 44, b'holy': 17, b'hecatomb': 36, b'erbearing': 2, b'strain': 20, b'bier': 24, b'waggon': 17, b'goats': 26, b'out': 439, b'countless': 23, b'sought': 105, b'gifts': 130, b'doubt': 21, b'able': 18, b'persuade': 17, b'portends': 1, b'miserable': 17, b'awhile': 42, b'labours': 24, b'bucklers': 18, b'lances': 12, b'restor': 17, b'cry': 128, b'without': 163, b'autumnal': 6, b'star': 32, b'brilliant': 6, b'ray': 4, b'remembrance': 15, b'numerous': 99, b'wrongs': 14, b'unnumber': 5, b'tower': 42, b'dilating': 1, b'smile': 10, b'encouraging': 10, b'band': 84, b'hearts': 75, b'redoubtable': 12, b'dispenser': 3, b'noted': 5, b'guarded': 23, b'shrewd': 5, b'brows': 44, b'dryops': 3, b'prone': 33, b'limbs': 130, b'relax': 17, b'telamonian': 25, b'sprightly': 4, b'blaze': 25, b'place': 127, b'burthen': 8, b'assign': 21, b'cleft': 3, b'hollow': 45, b'rock': 58, b'fortune': 8, b'escape': 84, b'frequent': 19, b'beacon': 4, b'fires': 56, b'ask': 53, b'soldier': 19, b'vaunting': 26, b'shouted': 69, b'gird': 7, b'hearing': 22, b'remark': 3, b'falling': 24, b'moreover': 57, b'lightnings': 12, b'thoas': 42, b'withdrew': 57, b'downward': 11, b'sullen': 8, b'seize': 56, b'slumbers': 10, b'melancholy': 3, b'chorus': 1, b'rocks': 17, b'glens': 3, b'oechalia': 5, b'vigorous': 12, b'grasp': 64, b'defenceless': 3, b'willing': 28, b'thousand': 30, b'measures': 15, b'specially': 3, b'pluto': 22, b'proserpine': 5, b'short': 54, b'soe': 20, b'final': 6, b'plunder': 12, b'lawful': 3, b'spoils': 76, b'heal': 26, b'wounds': 46, b'lightning': 50, b'towards': 139, b'tents': 95, b'telamon': 116, b'takes': 32, b'learn': 99, b'breath': 49, b'shadowy': 7, b'disperse': 6, b'kept': 101, b'watch': 89, b'falls': 43, b'impediment': 3, b'check': 59, b'immeasurable': 5, b'shrill': 31, b'clamoring': 10, b'toward': 57, b'suffer': 54, b'dardans': 14, b'fam': 21, b'foals': 10, b'produced': 16, b'champions': 13, b'foremost': 159, b'friends': 226, b'weigh': 19, b'occasion': 18, b'youthful': 26, b'thrasymedes': 20, b'whereon': 79, b'yoke': 66, b'slung': 14, b'hale': 3, b'flash': 39, b'autumn': 5, b'shines': 10, b'slay': 111, b'crews': 4, b'bewilder': 6, b'smoke': 26, b'looked': 43, b'arrow': 155, b'leaping': 9, b'board': 48, b'deceives': 1, b'dream': 27, b'omen': 19, b'faith': 15, b'win': 50, b'amercement': 2, b'sum': 9, b'panther': 6, b'thicket': 8, b'depth': 8, b'legions': 6, b'rekindling': 3, b'horrid': 5, b'shaft': 91, b'remain': 86, b'vocal': 3, b'trumpet': 6, b'throat': 31, b'olympian': 83, b'appertains': 3, b'detain': 23, b'planted': 29, b'heaps': 16, b'public': 37, b'maw': 7, b'ev': 111, b'ry': 149, b'quarter': 16, b'eager': 75, b'crowd': 112, b'seated': 49, b'gargarus': 11, b'wrapt': 11, b'writh': 3, b'wild': 83, b'wood': 54, b'pigeon': 4, b'farther': 19, b'shuttle': 4, b'loos': 14, b'plac': 70, b'beat': 48, b'kill': 68, b'fondly': 4, b'beget': 1, b'next': 235, b'an': 369, b'iron': 58, b'clod': 2, b'herdsman': 7, b'self': 99, b'debt': 8, b'discharg': 1, b'forego': 2, b'chased': 23, b'heav': 264, b'frantic': 6, b'passion': 15, b'maddened': 3, b'instructions': 6, b'vouchsafe': 28, b'whole': 121, b'granted': 14, b'aim': 89, b'pierc': 30, b'shivered': 2, b'three': 94, b'four': 44, b'pieces': 28, b'pray': 164, b'looking': 55, b'nward': 6, b'wheels': 26, b'flaming': 12, b'brands': 5, b'vict': 40, b'tamer': 3, b'venerate': 1, b'bent': 60, b'impatient': 24, b'victorious': 29, b'densest': 4, b'noblest': 42, b'fruit': 23, b'lance': 84, b'vulcan': 125, b'winged': 37, b'prodigious': 6, b'stone': 96, b'heads': 52, b'joined': 14, b'lament': 19, b'fords': 2, b'alpheus': 16, b'steep': 17, b'snatching': 2, b'hasty': 12, b'counsels': 51, b'incline': 18, b'kine': 8, b'spring': 78, b'pails': 4, b'gone': 63, b'part': 132, b'prizes': 32, b'remaining': 6, b'mercy': 9, b'rich': 143, b'sanctuary': 4, b'filled': 41, b'dolon': 38, b'fresh': 77, b'assurance': 8, b'lain': 11, b'asteropaeus': 21, b'thunderstorm': 1, b'buffet': 4, b'salt': 11, b':\"': 54, b'shouting': 44, b'deftly': 6, b'frame': 4, b'stool': 3, b'arrive': 13, b'drawn': 39, b'alive': 76, b'celebrate': 9, b'marring': 1, b'graceful': 24, b'visage': 6, b'defil': 9, b'deferr': 3, b'respite': 16, b'beauteous': 36, b'altar': 28, b'raised': 74, b'tending': 2, b'nymph': 23, b'comes': 55, b'secret': 41, b'impress': 6, b'tracks': 2, b'sandy': 12, b'struggling': 14, b'support': 14, b'everlasting': 9, b'lived': 39, b'leaves': 33, b'gainsaid': 4, b'called': 64, b'skull': 10, b'cap': 5, b'common': 38, b'headgear': 1, b'advanced': 53, b'direct': 31, b'listen': 34, b'done': 100, b'ne': 47, b'receive': 55, b'retreating': 11, b'further': 56, b'complaint': 7, b'arm': 316, b'ophelestes': 6, b'daetor': 2, b'ormenus': 12, b'display': 12, b'gathering': 9, b'trick': 4, b'played': 7, b'thine': 225, b'wast': 23, b'young': 99, b'hiss': 3, b'warning': 4, b'whirlpools': 1, b'avail': 36, b'nought': 75, b'couch': 42, b'manner': 17, b'gashing': 1, b'talthybius': 26, b'eurybates': 9, b'oak': 39, b'poplar': 9, b'pine': 23, b'shipwrights': 1, b'felled': 6, b'thick': 122, b'intermixt': 1, b'born': 167, b'kings': 43, b'sternly': 15, b'hold': 177, b'breastplate': 39, b'iv': 1, b'difficulty': 7, b'persuades': 3, b'seal': 5, b'sesamus': 2, b'cytorus': 3, b'lovely': 64, b'nyssa': 2, b'shameful': 6, b'rout': 37, b'fawns': 10, b'hind': 7, b'crushes': 2, b'robbing': 2, b'word': 106, b'tasted': 9, b'spits': 21, b'herbage': 4, b'hira': 2, b'pher\\xc3\\xa6': 3, b'stately': 10, b'built': 123, b'safety': 63, b'otryntes': 3, b'iphition': 5, b'wav': 10, b'turncoat': 1, b'whining': 3, b'colour': 8, b'price': 22, b'affirm': 3, b'fine': 23, b'preferr': 6, b'woo': 5, b'wed': 6, b'loins': 8, b'strenuous': 7, b'superior': 38, b'conference': 6, b'sun': 115, b'atrides': 127, b'scanty': 6, b'measure': 13, b'excell': 15, b'stayed': 53, b'belt': 62, b'defied': 6, b'pylians': 17, b'steel': 26, b'fountain': 15, b'heroic': 35, b'faithful': 35, b'strife': 91, b'times': 42, b'upheaved': 6, b'spread': 118, b'ranks': 238, b'ravening': 9, b'anchises': 44, b'breed': 8, b'obtain': 27, b'conceives': 1, b'terror': 63, b'dreadful': 39, b'cunning': 28, b'ambush': 27, b'ascended': 9, b'known': 33, b'army': 32, b'way': 288, b'sev': 55, b'fold': 25, b'glancing': 48, b'driven': 76, b'affrighted': 6, b'skies': 50, b'sued': 10, b'mourn': 76, b'friendship': 18, b'glaucus': 67, b'glance': 18, b'athwart': 15, b'files': 3, b'paris': 150, b'intervention': 1, b'attempt': 32, b'rob': 20, b'discredit': 2, b'wept': 41, b'bespake': 51, b'resting': 11, b'topmost': 50, b'height': 63, b'seven': 34, b'pamper': 5, b'bulls': 21, b'framed': 9, b'children': 89, b'prating': 3, b'rebuke': 26, b'zeal': 20, b'menoetiades': 21, b'crave': 1, b'ignorant': 11, b'void': 12, b'sense': 23, b'mutilated': 1, b'brandish': 13, b'advised': 7, b'propitiation': 2, b'rage': 115, b'advise': 19, b'together': 111, b'whether': 112, b'eleventh': 6, b'risen': 15, b'boreas': 25, b'ether': 8, b'fly': 138, b'shun': 19, b'judgment': 22, b'depriv': 3, b'question': 19, b'perilous': 5, b'straits': 5, b'hosts': 63, b'multitudes': 15, b'pursuers': 2, b'covered': 32, b'filth': 3, b'clutched': 7, b'grovelling': 2, b'droves': 2, b'bounds': 27, b'dwell': 79, b'answered': 148, b'nestor': 288, b'achaean': 35, b'ertoil': 1, b'different': 4, b'mares': 44, b'enhanced': 2, b'wheresoe': 2, b'crouched': 5, b'low': 55, b'overflying': 2, b'agility': 3, b'thrown': 47, b'radiant': 54, b'vouchsafes': 8, b'need': 77, b'infantry': 11, b'given': 112, b'slander': 3, b'quarrelling': 10, b'means': 25, b'hurt': 18, b'doubtless': 18, b'least': 49, b'dardan': 16, b'little': 105, b'reck': 8, b'automedon': 68, b'folly': 21, b'progeny': 15, b'derived': 3, b'machaon': 48, b'interpose': 7, b'field': 302, b'follower': 26, b'weight': 42, b'dragging': 30, b'esteem': 19, b'iamenus': 4, b'orestes': 15, b'bids': 40, b'stentor': 3, b'victims': 9, b'almighty': 9, b'bull': 56, b'resent': 7, b'inspires': 5, b'yours': 13, b'walls': 158, b'carolling': 1, b'slender': 9, b'nether': 12, b'links': 1, b'pull': 9, b'prayed': 47, b'valorously': 2, b'ends': 13, b'inquire': 5, b'convey': 26, b'uproar': 27, b'attaching': 2, b'rail': 11, b'unflinching': 4, b'waking': 1, b'deiphobus': 68, b'desolate': 7, b'inclined': 11, b'bowels': 24, b'sweet': 48, b'nectar': 16, b'mixing': 15, b'bowl': 17, b'served': 23, b'guile': 4, b'stream': 169, b'trickled': 3, b'knight': 31, b'gerene': 16, b'strode': 19, b'lycomedes': 14, b'laocritus': 1, b'batter': 16, b'sorrow': 111, b'whensoe': 1, b'destined': 19, b'backward': 40, b'raz': 6, b'wherein': 12, b'trust': 27, b'year': 28, b'wind': 103, b'rain': 30, b'instant': 45, b'gratified': 5, b'desire': 45, b'defend': 45, b'stay': 170, b'ah': 74, b'sterns': 16, b'meanwhile': 104, b'maeon': 4, b'obedient': 25, b'complying': 1, b'princely': 9, b'parch': 8, b'burns': 9, b'warlike': 148, b'foil': 4, b'prompt': 22, b'murd': 10, b'shafts': 34, b'pour': 111, b'west': 15, b'hustles': 1, b'south': 14, b'beats': 9, b'arrows': 57, b'lulls': 2, b'fair': 333, b'bronze': 131, b'point': 141, b'passed': 32, b'tusks': 13, b'gleam': 16, b'curved': 4, b'speared': 11, b'atymnius': 5, b'advanc': 28, b'champion': 29, b'ereuthalion': 10, b'bold': 157, b'forces': 30, b'shout': 65, b'vainly': 15, b'trusting': 14, b'cries': 29, b'mars': 337, b'stripped': 25, b'vaunted': 19, b'ours': 58, b'lying': 61, b'mangled': 11, b'sounds': 14, b'stand': 272, b'detains': 6, b'trial': 25, b'desperately': 5, b'token': 11, b'sov': 16, b'power': 67, b'giv': 47, b'henceforth': 28, b'advance': 22, b'lack': 15, b'aught': 60, b'guests': 13, b'entertain': 16, b'upshot': 2, b'straw': 3, b'sickles': 3, b'reaped': 1, b'worthier': 5, b'oaths': 24, b'stor': 7, b'forty': 26, b'tenthredon': 3, b'multitude': 58, b'apart': 83, b'devouring': 17, b'compunction': 1, b'excepting': 2, b'waters': 75, b'headless': 2, b'rhodes': 6, b'divided': 23, b'communities': 1, b'according': 7, b'descending': 30, b'mine': 140, b'fiery': 84, b'undisturbed': 1, b'piercing': 27, b'entreat': 6, b'honourable': 8, b'courtesy': 7, b'encounter': 63, b'quit': 29, b'grateful': 10, b'dreary': 2, b'eternal': 25, b'darkness': 117, b'whelm': 9, b'houses': 10, b'ripeness': 1, b'youth': 106, b'trusted': 12, b'waned': 1, b'furnish': 11, b'enclosed': 4, b'dwellest': 2, b'wintry': 19, b'dodona': 8, b'sway': 39, b'eyed': 48, b'frown': 6, b'limb': 20, b'ears': 43, b'labor': 30, b'phrygia': 14, b'saugarius': 1, b'litter': 14, b'quivering': 19, b'scourge': 23, b'pursued': 46, b'ardent': 36, b'slaughtering': 13, b'reached': 67, b'mansion': 16, b'wheresoever': 3, b'whereat': 4, b'anguish': 32, b'gazes': 1, b'black': 52, b'pitch': 13, b'sweeps': 12, b'thread': 7, b'bound': 105, b'owes': 2, b'helen': 137, b'restored': 15, b'largely': 3, b'bribed': 1, b'enforced': 8, b'sate': 7, b'battles': 6, b'benighted': 1, b'dying': 27, b'canister': 1, b'ended': 60, b'folding': 5, b'sparta': 11, b'twentieth': 7, b'seaman': 3, b'trembles': 4, b'pelides': 23, b'tripods': 21, b'sullied': 3, b'warded': 2, b'stationary': 3, b'liv': 14, b'fostered': 1, b'established': 3, b'athens': 8, b'braggart': 5, b'cowards': 9, b'bris\\xc3\\xabis': 12, b'embattled': 12, b'adamant': 1, b'direst': 1, b'sisters': 20, b'nereus': 2, b'lifeless': 14, b'lend': 4, b'ear': 76, b'interrupt': 2, b'eighty': 3, b'select': 5, b'cheeks': 22, b'rends': 4, b'inconsolable': 2, b'erring': 4, b'molus': 6, b'choose': 37, b'twenty': 58, b'maids': 16, b'massy': 20, b'magnificent': 16, b'bristle': 1, b'e': 125, b'en': 100, b'baulk': 2, b'distinct': 4, b'rearmost': 5, b'active': 35, b'moulder': 1, b'foreign': 11, b'repast': 16, b'half': 51, b'thrash': 1, b'case': 17, b'amphidamas': 9, b'bestow': 42, b'flung': 52, b'vex': 18, b'affairs': 2, b'strangers': 14, b'ills': 17, b'herself': 60, b'trembling': 33, b'followers': 38, b'mayst': 26, b'engages': 2, b'proceeds': 2, b'morrow': 29, b'engage': 34, b'combin': 4, b'upper': 12, b'chamber': 35, b'bred': 22, b'salamis': 6, b'enter': 46, b'beloved': 23, b'solemn': 48, b'import': 4, b'pledge': 5, b'taking': 43, b'died': 70, b'needing': 3, b'protecting': 8, b'snatch': 19, b'nly': 41, b'latona': 22, b'idomeneus': 211, b'deeply': 42, b'hellas': 15, b'decreed': 21, b'wedded': 22, b'loosen': 4, b'brand': 4, b'supplication': 7, b'onset': 54, b'narrowly': 8, b'escap': 15, b'seats': 25, b'row': 2, b'assembly': 53, b'vaunts': 11, b'fulfil': 9, b'stockyard': 4, b'lion': 137, b'tired': 9, b'attacking': 7, b'hounds': 45, b'keep': 123, b'shades': 68, b'durst': 5, b'shoot': 16, b'account': 31, b'repulsed': 14, b'mus': 14, b'sable': 40, b'bearers': 6, b'sovereign': 48, b'morn': 57, b'kind': 50, b'growing': 11, b'bane': 22, b'rod': 4, b'measurement': 1, b'lurk': 3, b'assistance': 14, b'profit': 13, b'nourishing': 1, b'woes': 30, b'surely': 55, b'hate': 36, b'mightiest': 29, b'cause': 130, b'censure': 11, b'_': 41, b'_.': 2, b'daybreak': 10, b'idaeus': 33, b'sacred': 97, b'character': 1, b'appoint': 5, b'astyoche': 4, b'solemnly': 4, b'speeches': 10, b'presents': 24, b'ceremonies': 1, b'grievous': 20, b'unlook': 3, b'violence': 23, b'bellerophon': 30, b'euphorbus': 23, b'flowing': 54, b'oppos': 22, b'curious': 10, b'workmanship': 11, b'mazy': 1, b'dance': 27, b'cleave': 4, b'bottom': 10, b'sheer': 26, b'stubborn': 51, b'glebe': 10, b'channel': 6, b'choicest': 18, b'double': 70, b'layers': 11, b'frustrate': 4, b'blessed': 31, b'poor': 24, b'knew': 101, b'beyond': 68, b'aiding': 2, b'withholds': 2, b'rule': 30, b'phalanx': 39, b'guarding': 8, b'mixed': 7, b'achaia': 72, b'beguiled': 7, b'tricked': 1, b'told': 56, b'covet': 4, b'feats': 19, b'likely': 6, b'weather': 4, b'impairs': 1, b'elephenor': 6, b'couldst': 5, b'numbered': 2, b'!\"': 16, b'uncertain': 7, b'thence': 117, b'drive': 121, b'terrible': 80, b'palm': 14, b'want': 44, b'since': 179, b'forthwith': 59, b'scale': 15, b'flying': 141, b'clean': 17, b'worn': 36, b'vouchsafed': 27, b'driv': 52, b'weighty': 25, b'pisander': 15, b'maemalus': 2, b'finest': 12, b'spearman': 16, b'smooth': 36, b'skinn': 7, b'boughs': 19, b'unladen': 1, b'aloft': 32, b'halting': 9, b'steps': 45, b'supporting': 8, b'forgotten': 20, b'herds': 33, b'battlements': 23, b'ox': 47, b'hurled': 27, b'hewn': 15, b'makes': 22, b'dress': 11, b'wool': 10, b'lacedaemon': 9, b'sham': 3, b'refuse': 28, b'fearful': 42, b'accept': 43, b'pell': 11, b'mell': 11, b'painful': 6, b'boxing': 4, b'leave': 145, b'lo': 17, b'bewray': 1, b'run': 34, b'summon': 33, b'remit': 6, b'eminence': 8, b'sublime': 14, b'crippled': 5, b'architect': 6, b'loved': 62, b'andromache': 34, b'infant': 31, b'boy': 34, b'load': 14, b'opposition': 5, b'exulting': 35, b'subtly': 2, b'lur': 4, b'exhaustion': 2, b'panthous': 30, b'grudg': 2, b'dolops': 17, b'versed': 5, b'ways': 22, b'sufferings': 4, b'only': 141, b'fools': 14, b'phorcys': 9, b'phaenops': 6, b'displeasure': 22, b'felt': 67, b'euaemon': 13, b'glut': 17, b'carrion': 7, b'birds': 28, b'going': 73, b'thisbe': 3, b'doves': 6, b'unnamed': 1, b'beckon': 1, b'fetch': 17, b'bosom': 94, b'drench': 13, b'cheering': 34, b'lots': 18, b'peisander': 8, b'inhabited': 3, b'cities': 46, b'stars': 14, b'despite': 27, b'corpses': 22, b'another': 208, b'dries': 4, b'new': 62, b'gladdening': 1, b'scare': 13, b'taunts': 10, b'avenging': 8, b'erthrew': 7, b'beating': 13, b'fun': 36, b'ral': 95, b'mound': 25, b'require': 4, b'acquisition': 2, b'order': 68, b'menoetius': 73, b'hostile': 50, b'survey': 13, b'anew': 12, b'echemon': 2, b'fuel': 16, b'minded': 31, b'lour': 2, b'peneleus': 16, b'crested': 32, b'timely': 5, b'fugitive': 9, b'dared': 34, b'abide': 24, b'mare': 32, b'abounding': 12, b'ordain': 29, b'exult': 3, b'breathed': 13, b'protection': 6, b'wield': 14, b'highest': 23, b'luxuriant': 6, b'verdure': 1, b'bursts': 1, b'chariots': 81, b'urging': 18, b'forward': 127, b'putting': 7, b'continual': 15, b'earn': 7, b'combat': 97, b'mingle': 12, b'assembled': 50, b'funereal': 11, b'pile': 40, b'wrist': 18, b'room': 19, b'thracian': 34, b'epeian': 2, b'hairy': 6, b'resplendent': 24, b'casques': 5, b'begone': 6, b'sits': 15, b\":'\": 8, b'match': 17, b'binding': 4, b'gleaming': 44, b'circuit': 2, b'reconcile': 2, b'mysians': 12, b'stichius': 8, b'menestheus': 25, b'leaders': 54, b'cicones': 2, b'corse': 9, b'bed': 58, b'dames': 16, b'stands': 45, b'humour': 3, b'exhorted': 12, b'relinquish': 2, b'glad': 62, b'darting': 14, b'arras': 6, b'warm': 31, b'mantles': 8, b'help': 84, b'regards': 6, b'table': 26, b'portions': 6, b'elsewhere': 9, b'receiving': 5, b'smiled': 22, b'inviolable': 4, b'styx': 10, b'promises': 9, b'silent': 43, b'flood': 67, b'forebodes': 1, b'axius': 17, b'diffused': 4, b'dedicate': 2, b'pay': 42, b'pride': 49, b'cherish': 14, b'stratagem': 8, b'infamy': 1, b'arisen': 6, b'renewing': 1, b'ardour': 8, b'jaw': 10, b'presence': 47, b'visible': 7, b'importuned': 3, b'pilots': 1, b'helmsmen': 2, b'stewards': 2, b'grazed': 11, b'elbow': 14, b'drawing': 49, b'asius': 58, b'hyrtacus': 16, b'groan': 42, b'ning': 59, b'demands': 10, b'stout': 39, b'polypoetes': 21, b'pirithous': 13, b'charg': 13, b'refulgent': 8, b'dame': 6, b'exciting': 8, b'rais': 35, b'appeased': 9, b'dew': 14, b'disc': 2, b'trying': 22, b'inspire': 7, b'breathe': 12, b'laomedon': 32, b'injurious': 8, b'hurling': 10, b'shadow': 13, b'compelling': 8, b'inciting': 1, b'vent': 8, b'pointless': 1, b'transfix': 17, b'chest': 73, b'split': 9, b'pole': 22, b'future': 32, b'works': 20, b'pleas': 20, b'brethren': 16, b'flashes': 7, b'wrestler': 1, b'meed': 20, b'pulling': 3, b'stronger': 40, b'freely': 16, b'finish': 8, b'camirus': 1, b'occupied': 16, b'council': 124, b'peak': 23, b'stung': 13, b'caught': 61, b'brief': 5, b'masses': 16, b'seer': 23, b'diviner': 1, b'omens': 9, b'amphimachus': 21, b'thalpius': 3, b'cavern': 5, b'doomed': 8, b'wrested': 3, b'whip': 34, b'hearkened': 2, b'doughty': 3, b'plucking': 4, b'cloak': 10, b'bend': 12, b'broken': 46, b'just': 92, b'demand': 7, b'funeral': 35, b'gorgeous': 17, b'haply': 36, b'hangs': 10, b'disaster': 13, b'indignant': 38, b'meat': 25, b'carefully': 7, b'smaller': 8, b'spitted': 3, b'lapith\\xc3\\xa6': 3, b'assailable': 1, b'ilithuia': 2, b'cyprian': 6, b'persuading': 4, b'gives': 37, b'leader': 77, b'defending': 7, b'helpers': 2, b'few': 43, b'expire': 2, b'talking': 17, b'idly': 11, b'simois': 16, b'hill': 27, b'callicolone': 5, b'permit': 18, b'destructive': 5, b'slaughter': 103, b'sticks': 2, b'pursue': 25, b'eniopeus': 3, b'carried': 32, b'punish': 7, b'advancing': 41, b'denounced': 4, b'rear': 65, b'girdled': 2, b'thebes': 48, b'alcmena': 9, b'marshalled': 3, b'phoceans': 4, b'valour': 45, b'country': 57, b'elis': 18, b'scene': 23, b'sometimes': 12, b'clatt': 7, b'hoofs': 14, b'lustily': 5, b'compete': 3, b'posted': 6, b'intend': 8, b'chas': 6, b'desp': 5, b'rate': 18, b'quench': 19, b'chiefly': 9, b'minyeius': 1, b'arene': 5, b'distant': 67, b'isles': 12, b'slav': 6, b'pledg': 5, b'roused': 48, b'noise': 6, b'tramp': 16, b'sarcastic': 1, b'pointed': 56, b'saturnian': 39, b'deprived': 8, b'breaking': 17, b'bowstring': 5, b'shudder': 12, b'stooping': 11, b'seiz': 31, b'thenceforth': 19, b'youths': 76, b'achaian': 39, b'thursting': 1, b'stress': 12, b'endures': 2, b'sin': 14, b'shooting': 3, b'*': 2, b'finds': 10, b'casts': 2, b'unbeheld': 1, b'elude': 9, b'cranes': 9, b'swans': 6, b'asian': 1, b'mead': 11, b'befriend': 6, b'openly': 5, b'twins': 6, b'crethon': 7, b'orsilochus': 14, b'erect': 22, b'sack': 33, b'requite': 8, b'fourfold': 5, b'unscar': 1, b'baying': 5, b'second': 38, b'preserved': 11, b'slaying': 25, b'ran': 84, b'red': 28, b'encircled': 12, b'conspicuous': 11, b'hungry': 10, b'erleap': 2, b'lopping': 1, b'ages': 4, b'unborn': 5, b'direction': 3, b'forms': 9, b'soft': 35, b'dalliance': 4, b'music': 12, b'adjusting': 3, b'vessels': 27, b'decks': 6, b'mov': 43, b'feared': 11, b'master': 24, b'faster': 5, b'eating': 5, b'drinking': 6, b'enclos': 6, b'fulfill': 11, b'corn': 38, b'stained': 15, b'baneful': 5, b'interchang': 3, b'withdraw': 24, b'chokes': 1, b'seem': 50, b'fetter': 2, b'frost': 3, b'avoided': 6, b'watched': 5, b'embraces': 11, b'numbers': 29, b'charge': 105, b'won': 46, b'avert': 12, b'pours': 13, b'craggy': 7, b'studded': 23, b'antiphates': 3, b'deed': 27, b'clear': 62, b'diffus': 2, b'discern': 22, b'merry': 2, b'twinkling': 1, b'mutual': 43, b'conferr': 12, b'meantime': 115, b'thrust': 63, b'steadfastly': 2, b'fruits': 9, b'harvest': 9, b'drag': 24, b'zephyrus': 15, b'tempests': 4, b'talaion': 2, b'opposite': 30, b'otrynteus': 5, b'priest': 35, b'blameless': 6, b'spreading': 11, b'roots': 13, b'lift': 28, b'bearded': 7, b'chasing': 7, b'deer': 8, b'robbed': 13, b'recoiling': 1, b'flings': 5, b'giant': 12, b'curves': 1, b'impend': 3, b'passage': 16, b'got': 51, b'bless': 11, b'bride': 27, b'kinsman': 12, b'athenians': 9, b'armed': 39, b'trench': 74, b'rages': 9, b'thwarting': 1, b'plans': 8, b'wrapped': 15, b'vest': 18, b'pondered': 1, b'feigning': 1, b'needful': 6, b'respectively': 2, b'banks': 63, b're': 11, b'echoed': 6, b'concern': 9, b'moisten': 3, b'lips': 43, b'palate': 2, b'favoured': 4, b'wealth': 59, b'hyrtius': 3, b'memory': 6, b'wives': 93, b'chance': 25, b'rejoicing': 19, b'flush': 4, b'inside': 27, b'harbour': 1, b'furled': 1, b'sails': 5, b'restore': 28, b'preserve': 10, b'liberate': 2, b'taught': 28, b'clearly': 5, b'incensed': 31, b'seeks': 9, b'necessitous': 2, b'suggesting': 3, b'effect': 18, b'green': 17, b'utmost': 43, b'soldiers': 24, b'married': 12, b'eldest': 18, b'hippodameia': 2, b'poeonian': 2, b'cupbearer': 2, b'darts': 36, b'numberless': 10, b'arrived': 59, b'satiate': 6, b'success': 22, b'trepann': 1, b'resolute': 11, b'hence': 77, b'hyrtacides': 4, b'tawny': 14, b'await': 19, b'quitting': 3, b'swaying': 3, b'arisbas': 3, b'combatants': 11, b'elders': 27, b'exerting': 1, b'caused': 19, b'consigns': 1, b'deliver': 18, b'gasping': 18, b'dragg': 46, b'foul': 51, b'dishonor': 11, b'thunders': 10, b'rattling': 17, b'sky': 19, b'divides': 6, b'oath': 59, b'confusion': 32, b'scatheless': 10, b'meeting': 18, b'boeotian': 9, b'thongs': 8, b'aided': 6, b'path': 15, b'goest': 1, b'mule': 24, b'seest': 13, b'interlac': 2, b'oenides': 1, b'faithless': 7, b'motionless': 7, b'buried': 20, b'portheus': 3, b'certain': 18, b'play': 19, b'studs': 13, b'eels': 6, b'fishes': 17, b'busy': 22, b'nibbling': 1, b'pale': 17, b'suddenly': 18, b'serpent': 19, b'due': 91, b'requital': 3, b'saved': 40, b'renounce': 14, b'behoves': 10, b'regret': 9, b'pleased': 40, b'avenger': 4, b'mightier': 21, b'marking': 4, b'choice': 14, b'aids': 13, b'drooping': 5, b'centre': 25, b'sang': 7, b'rful': 11, b'wins': 7, b'thanks': 7, b'recompense': 16, b'awaits': 9, b'dismay': 33, b'lycia': 67, b'cave': 20, b'streets': 16, b'reigning': 2, b'ruler': 14, b'slacken': 4, b'explored': 1, b'empty': 23, b'highways': 5, b'drivers': 11, b'scales': 18, b'favour': 31, b'weary': 33, b'five': 26, b'ilioneus': 9, b'hesius': 1, b'ocalea': 3, b'fray': 57, b'drones': 1, b'unwept': 2, b'piteous': 10, b'unhappiest': 2, b'grieve': 11, b'vanquish': 48, b'\\xc3\\xa6neas': 79, b'key': 8, b'spine': 16, b'ushering': 1, b'amplest': 6, b'size': 17, b'skin': 47, b'door': 20, b'lengthen': 7, b'feud': 7, b'spearmen': 5, b'thought': 79, b'refreshment': 9, b'guilt': 8, b'avenge': 42, b'babel': 1, b'unmindful': 11, b'howl': 1, b'leafy': 4, b'oaks': 6, b'arch': 2, b'quitted': 3, b'donn': 25, b'stain': 30, b'mynes': 6, b'epistrophus': 9, b'overturn': 4, b'plates': 7, b'scaly': 1, b'yielding': 14, b'manly': 14, b'tamarisks': 3, b'bank': 30, b'pastured': 2, b'ram': 10, b'standing': 102, b'hasten': 17, b'nuptials': 1, b'temple': 29, b'hang': 10, b'holiest': 1, b'ruling': 13, b'earthquake': 17, b'breaker': 6, b'spurious': 9, b'shores': 39, b'avoiding': 2, b'lines': 8, b'shrank': 13, b'border': 8, b'wondrous': 16, b'ash': 20, b'thund': 27, b'flashing': 21, b'detach': 1, b'torrent': 16, b'sincerity': 12, b'hopeful': 1, b'sir': 37, b'reverend': 3, b'dispersed': 16, b'encourage': 10, b'ajaces': 48, b'bay': 23, b'helping': 11, b'honor': 44, b'phylace': 12, b'butt': 3, b'ceaseless': 24, b'palms': 14, b'sprawling': 3, b'downright': 3, b'stroke': 45, b'resistless': 17, b'nobly': 14, b'sign': 47, b'captains': 30, b'straitly': 6, b'spiry': 6, b'folds': 11, b'devoured': 3, b'ready': 40, b'launch': 30, b'prophet': 14, b'warn': 20, b'bark': 33, b'pities': 3, b'applause': 18, b'hopes': 28, b'marriage': 19, b'revelry': 1, b'tore': 43, b'mocking': 2, b'influence': 7, b'gen': 31, b'wondering': 3, b'strokes': 2, b'briny': 4, b'pool': 1, b'sudden': 57, b'pavement': 1, b'shod': 12, b'wanton': 7, b'sand': 21, b'builds': 1, b'plaything': 1, b'expert': 21, b'dealt': 21, b'rudely': 4, b'disk': 16, b'wealthiest': 5, b'lands': 18, b'seizing': 23, b'javelin': 11, b'cretan': 17, b'presently': 46, b'ruing': 2, b'levell': 5, b'shore': 89, b'dishonour': 15, b'shelt': 10, b'podarge': 5, b'chanting': 2, b'p\\xc3\\xa6ans': 2, b'confirm': 15, b'claim': 32, b'hilt': 8, b'races': 5, b'skilled': 13, b'ridge': 6, b'cord': 17, b'mourned': 9, b'outrage': 7, b'strip': 40, b'lifted': 61, b'serve': 23, b'mingling': 14, b'frankincense': 1, b'offerings': 21, b'received': 61, b'nurtur': 3, b'swine': 5, b'gaz': 16, b'despoil': 24, b'ill': 119, b'recline': 1, b'seems': 57, b'driver': 24, b'strive': 25, b'array': 59, b'hey': 1, b'odius': 6, b'blessing': 2, b'curse': 21, b'simoeisius': 4, b'forfeit': 13, b'clashed': 2, b'maid': 32, b'retire': 33, b'accoutred': 6, b'chalcis': 9, b'cymindis': 2, b'swords': 23, b'messengers': 19, b'misery': 5, b'weakling': 2, b'rather': 46, b'superiors': 5, b'lamentation': 17, b'bared': 6, b'midway': 25, b'boots': 3, b'wrangle': 7, b'fruitless': 5, b'tenth': 23, b'sanction': 1, b'assist': 17, b'team': 1, b'provoked': 2, b'boys': 13, b'boldly': 16, b'blazing': 30, b'snake': 14, b'portent': 13, b'writhing': 9, b'keeping': 18, b'bitterly': 24, b'rue': 18, b'hereafter': 63, b'impudence': 3, b'wrong': 46, b'fills': 12, b'useless': 6, b'push': 20, b'unjustly': 1, b'spacious': 37, b'ades': 13, b'released': 6, b'i\\xc3\\xa4menus': 2, b'menon': 3, b'panthus': 13, b'bands': 45, b'rev': 16, b'rence': 17, b'followed': 36, b'awful': 51, b'terribly': 5, b'troubling': 4, b'trouble': 23, b'alien': 5, b'worse': 31, b'aenus': 1, b'tendons': 17, b'crushed': 5, b'pitiless': 8, b'deiopites': 2, b'sage': 63, b'encompass': 13, b'resumed': 7, b'dardanus': 35, b'decide': 17, b'notwithstanding': 3, b'retains': 2, b'precaution': 1, b'coursing': 3, b'purposeless': 1, b'boxer': 8, b'foiled': 4, b'striving': 4, b'main': 37, b'lusty': 15, b'manhood': 16, b'wear': 14, b'suppers': 5, b'wheat': 9, b'olenian': 5, b'overwhelmed': 3, b'desist': 7, b'extended': 31, b'sinew': 6, b'twang': 3, b'rd': 44, b'obeying': 5, b'bienor': 2, b'reclin': 4, b'kindly': 14, b'virgin': 16, b'unrewarded': 1, b'headlong': 48, b'schedius': 9, b'perimedes': 3, b'fed': 48, b'guardians': 7, b'gate': 51, b'sort': 6, b'urn': 14, b'wants': 11, b'supply': 8, b'erflew': 1, b'pieria': 4, b'plains': 31, b'ithacensian': 1, b'invigorated': 2, b'loudest': 9, b'shouts': 42, b'pleasant': 18, b'opo\\xc3\\xabis': 2, b'possessed': 7, b'shrinks': 4, b'physicians': 2, b'thirsting': 5, b'getting': 7, b'grey': 23, b'wolf': 8, b'pylian': 17, b'orator': 4, b'streams': 31, b'honours': 13, b'lives': 41, b'swam': 8, b'thither': 56, b'whirling': 23, b'eddies': 8, b'excel': 19, b'oar': 4, b'across': 35, b'nurtured': 2, b'abundance': 9, b'heirloom': 2, b'memorial': 2, b'helm': 101, b'wore': 21, b'horsehair': 16, b'plume': 14, b'unhappier': 1, b'outside': 19, b'escaped': 21, b'hadst': 27, b'yok': 8, b'collars': 2, b'attach': 6, b'wait': 46, b'beard': 15, b'pleaded': 2, b'deaths': 8, b'escapes': 7, b'court': 26, b'roasting': 2, b'heifer': 17, b'injury': 3, b'languid': 6, b'designs': 7, b'intrepid': 2, b'mystic': 2, b'tongue': 35, b'raze': 11, b'grisly': 1, b'expect': 21, b'gall': 9, b'repress': 13, b'vehemence': 2, b'endured': 14, b'planks': 3, b'riven': 3, b'archer': 52, b'pythos': 1, b'cyanus': 5, b'show': 74, b'pouring': 16, b'barring': 1, b'applauded': 7, b'advice': 59, b'charms': 8, b'heavenly': 20, b'sole': 20, b'questioned': 3, b'mourning': 33, b'lambs': 48, b'resembling': 4, b'savage': 27, b'boar': 52, b'understand': 9, b'sad': 48, b'looks': 22, b'ceasing': 11, b'careless': 11, b'radiance': 3, b'darted': 30, b'inactive': 2, b'belong': 3, b'inheritor': 1, b'demesnes': 1, b'cebriones': 37, b'loves': 20, b'navel': 9, b'screaming': 13, b'knees': 132, b'urge': 51, b'cuirass': 25, b'bounded': 10, b'upstarting': 7, b'placed': 63, b'cup': 78, b'carians': 4, b'barbarous': 3, b'fitting': 20, b'dug': 13, b'bloody': 69, b'laborious': 12, b'tasks': 9, b'servile': 4, b'lamentations': 5, b'disturb': 12, b'mouths': 10, b'rewarded': 1, b'richly': 22, b'interchange': 5, b'loosed': 20, b'leucus': 6, b'raged': 24, b'forest': 57, b'raging': 18, b'rehearse': 2, b'fleets': 1, b'deem': 88, b'respect': 31, b'charging': 6, b'amopaon': 3, b'polyaemon': 2, b'plated': 6, b'ruthless': 26, b'destiny': 27, b'ey': 52, b'wisdom': 25, b'conducting': 2, b'wherefore': 32, b'summoning': 7, b'settling': 4, b'degrees': 5, b'rolls': 9, b'arous': 8, b'phthias': 1, b'hardy': 12, b'strove': 24, b'carcase': 17, b'?\"': 75, b'denied': 14, b'adamas': 14, b'render': 9, b'heap': 32, b'rough': 15, b'forge': 7, b'wont': 31, b'genuine': 3, b'knightly': 1, b'greatly': 29, b'weeping': 96, b'peteus': 6, b'commiserate': 2, b'nereids': 6, b'barrow': 12, b'hurriedly': 1, b'mingled': 36, b'dislodging': 1, b'marry': 7, b'wedding': 5, b'pylus': 13, b'distance': 17, b'chided': 2, b'harmed': 1, b'girl': 39, b'yokes': 1, b'shed': 33, b'pity': 83, b'forbearance': 1, b'grim': 11, b'tros': 16, b'bare': 17, b'budge': 1, b'hides': 19, b'reprimanded': 1, b'invoked': 9, b'busily': 5, b'melt': 6, b'chairs': 1, b'circle': 18, b'cracked': 3, b'entangled': 8, b'betide': 5, b'bored': 2, b'clandestine': 6, b'amyntor': 7, b'upraised': 8, b'leisure': 7, b'donned': 10, b'aeacus': 24, b'inlaid': 8, b'pursuing': 16, b'gated': 7, b'maternal': 4, b'wafted': 7, b'thersites': 13, b'unmeasur': 2, b'goat': 27, b'rocky': 16, b'wash': 21, b'manes': 18, b'bath': 18, b'fragrant': 21, b'panted': 6, b'pierce': 31, b'admonish': 6, b'fond': 19, b'mourns': 8, b'welkin': 1, b'sinks': 5, b'roars': 5, b'store': 48, b'promise': 47, b'fig': 14, b'tree': 45, b'dismounted': 8, b'spearmanship': 3, b'drop': 7, b'assuming': 10, b'polites': 12, b'withhold': 10, b'hippodamia': 4, b'hop': 16, b'hundred': 56, b'keeps': 17, b'forbore': 1, b'anthemion': 5, b'simo\\xc3\\xafs': 5, b'contented': 6, b'chine': 5, b'hog': 4, b'dignity': 5, b'breasts': 19, b'tott': 1, b'impedes': 1, b'tearful': 4, b'seed': 4, b'peer': 32, b'forget': 31, b'sink': 12, b'shapeless': 1, b'dagger': 6, b'plan': 11, b'rescuing': 4, b'matters': 8, b'read': 4, b'triple': 8, b'barb': 13, b'sinking': 4, b'lean': 10, b'blooming': 8, b'balmy': 5, b'revenge': 31, b'raid': 1, b'starting': 15, b'vanquishing': 1, b'disarm': 2, b'please': 26, b'hued': 3, b'whirlwind': 15, b'taint': 4, b'dardanians': 16, b'lovers': 2, b'spoiler': 4, b'conceal': 17, b'list': 7, b'deliberate': 9, b'deceive': 4, b'chalky': 2, b'titan': 1, b'asteria': 1, b'ungentle': 1, b'provision': 3, b'unyielding': 5, b'hateful': 10, b'necessity': 13, b'unweariable': 5, b'stern': 65, b'regard': 14, b'remains': 20, b'wiles': 20, b'upsends': 1, b'torches': 6, b'shows': 9, b'scape': 17, b'shunning': 7, b'retired': 42, b'blithe': 3, b'thryos': 1, b'repulse': 14, b'meeds': 2, b'marble': 6, b'consummate': 3, b'failing': 4, b'ambitious': 6, b'wo': 31, b'complete': 18, b'household': 12, b'cares': 22, b'enquire': 8, b'co\\xc3\\xabtaneous': 1, b'creeping': 1, b'infinite': 19, b'vow': 25, b'offering': 31, b'shrine': 20, b'goes': 23, b'shone': 17, b'watchfires': 9, b'shrouded': 8, b'groin': 9, b'lodg': 3, b'decoys': 1, b'bossed': 5, b'broils': 4, b'soar': 14, b'spouse': 37, b'pinion': 4, b'promised': 27, b'firstling': 8, b'tomb': 60, b'ago': 3, b'note': 24, b'alarm': 22, b'distraught': 3, b'doors': 31, b'branch': 11, b'orcus': 1, b'eleven': 15, b'stormed': 1, b'stalwart': 37, b'thracia': 2, b'chosen': 38, b'outward': 8, b'clothed': 15, b'raiment': 14, b'grasped': 17, b'hound': 18, b'pursues': 14, b'newly': 29, b'protracted': 2, b'opus': 3, b'luckless': 2, b'homicide': 3, b'revolving': 9, b'mace': 8, b'entrapping': 1, b'abundant': 15, b'stores': 13, b'descent': 19, b'hell': 14, b'rolling': 30, b'extol': 1, b'aloof': 57, b'guidance': 4, b'sends': 37, b'brise\\xc3\\xafs': 4, b'mentes': 3, b'consternation': 5, b'envoys': 6, b'vernal': 4, b'flow': 26, b'unmoved': 6, b',(': 11, b'appears': 22, b'uncomplying': 1, b'besmirched': 1, b'waiting': 21, b'undaunted': 30, b'doubled': 5, b'ample': 75, b'downy': 2, b'wasting': 12, b'urg': 35, b'unsheathing': 1, b'swells': 3, b'uncheck': 2, b'harness': 17, b'sleek': 8, b'darker': 3, b'curl': 4, b'sees': 24, b'steers': 6, b'messenger': 46, b'older': 11, b'prudent': 39, b'delicate': 8, b'plum': 1, b'breeze': 17, b'pleasure': 29, b\";'\": 11, b'suppose': 3, b'famous': 15, b'world': 22, b'crown': 59, b'vie': 15, b'mettle': 6, b'control': 14, b'fewer': 11, b'resolve': 11, b'reserv': 1, b'fir': 14, b'amaz': 4, b'landed': 4, b'allure': 1, b'promachus': 9, b'renew': 16, b'stalked': 1, b'fool': 37, b'wouldst': 47, b'stricken': 23, b'dispels': 2, b'mass': 42, b'stepmother': 3, b'eriopis': 5, b'acquisitions': 2, b'downcast': 5, b'ministers': 15, b'assailing': 8, b'manacling': 1, b'depended': 2, b'mounting': 18, b'stab': 2, b'rival': 21, b'awe': 21, b'kindled': 36, b'consum': 4, b'meges': 31, b'service': 24, b'implore': 6, b'madly': 7, b'raising': 12, b'jupiter': 32, b'eurytus': 9, b'oechalian': 3, b'al\\xc3\\xb6eus': 1, b'thirteen': 4, b'moons': 1, b'deaf': 3, b'hoarse': 3, b'throated': 4, b'breathless': 16, b'throne': 40, b'uprooted': 6, b'elevating': 1, b'harden': 2, b'stake': 6, b'remained': 11, b'whene': 10, b'nuptial': 8, b'ties': 6, b'trifles': 1, b'treasures': 22, b'wasted': 7, b'trickster': 3, b'bad': 13, b'luck': 7, b'yearned': 4, b'bethought': 5, b'rouse': 39, b'phylas': 6, b'cherishing': 1, b'lotus': 10, b'meads': 6, b'incorrigible': 1, b'loveliest': 20, b'labour': 33, b'captives': 17, b'ta': 5, b'sold': 13, b'polydore': 4, b'courts': 15, b'assembler': 13, b'andraemon': 8, b'waster': 8, b'surpass': 22, b'hecuba': 27, b'corpse': 74, b'stupendous': 1, b'suited': 5, b'state': 19, b'slumber': 19, b'wearied': 14, b'profound': 16, b'consecrated': 5, b'youngest': 17, b'gatherer': 6, b'thighs': 26, b'caul': 2, b'involved': 9, b'abstained': 2, b'taunt': 9, b'report': 27, b'fifty': 50, b'cars': 34, b'servants': 23, b'mean': 30, b'sit': 67, b'conflicting': 8, b'thoughts': 46, b'divide': 16, b'fared': 3, b'removed': 3, b'opened': 15, b'expected': 7, b'mock': 5, b'false': 30, b'kneel': 4, b'fixed': 9, b'movement': 4, b'confer': 4, b'busied': 12, b'handling': 1, b'prop': 9, b'season': 13, b'clamor': 15, b'foolhardy': 1, b'besought': 21, b'beds': 4, b'laughingly': 1, b'rash': 7, b'enjoin': 22, b'fury': 108, b'fired': 25, b'realm': 22, b'disposed': 20, b'intervals': 3, b'reserve': 5, b'flay': 10, b'sworn': 13, b'dragon': 4, b'larger': 9, b'irregular': 1, b'loose': 31, b'attended': 24, b'unfearing': 1, b'rivers': 16, b'seas': 12, b'believe': 9, b'roaring': 11, b'hunter': 18, b'comply': 4, b'acceptable': 5, b'vanquished': 22, b'resentment': 21, b'climbed': 3, b'tallest': 3, b'soothing': 17, b'interrupting': 2, b'consecrate': 2, b'strict': 5, b'ercame': 3, b'councillors': 27, b'monument': 8, b'ilus': 17, b'clamors': 7, b'extreme': 12, b'justly': 8, b'calydon': 17, b'damastor': 3, b'pyris': 2, b'ipheus': 3, b'euippus': 2, b'polymelus': 3, b'argeas': 2, b'subdues': 2, b'steer': 13, b'fatten': 4, b'spied': 3, b'guiding': 3, b'rend': 18, b'propitious': 12, b'allot': 2, b'line': 37, b'highly': 5, b'causeless': 3, b'viewless': 7, b'uncas': 1, b'befallen': 12, b'retain': 19, b'mem': 16, b'murder': 2, b'attendant': 28, b'sacked': 19, b'gan': 4, b'minds': 20, b'discordant': 2, b'shatter': 14, b'fling': 9, b'beach': 41, b'squadrons': 4, b'venerable': 14, b'floats': 2, b'fields': 32, b'heaviest': 3, b'ripp': 6, b'cowardly': 8, b'creatures': 6, b'readier': 1, b'replace': 3, b'cloudy': 6, b'dense': 25, b'stooped': 4, b'avoid': 15, b'goddesses': 42, b'sheepyards': 1, b'preferring': 4, b'perceive': 9, b'entered': 8, b'rulest': 8, b'begot': 13, b'deucalion': 18, b'disabled': 15, b'scal': 6, b'courageous': 9, b'deeds': 65, b'hypeirochus': 3, b'widow': 18, b'scornful': 9, b'isus': 7, b'antiphus': 19, b'bastard': 25, b'untouch': 9, b'immaculate': 1, b'confederates': 2, b'weak': 17, b'feeble': 18, b'befitting': 3, b'capacious': 7, b'survived': 7, b'curst': 3, b'curiosity': 2, b'palsied': 1, b'ones': 24, b'pastur': 2, b'marshy': 7, b'wretched': 15, b'deipyrus': 13, b'aphareus': 9, b'axes': 21, b'hits': 2, b'girt': 29, b'allotting': 1, b'demesne': 1, b'passing': 22, b'richness': 1, b'spared': 6, b'pressing': 22, b'humors': 1, b'timed': 1, b'beware': 17, b'constrain': 12, b'unbodied': 1, b'hapless': 23, b'excellent': 19, b'workwomen': 2, b'lesbians': 6, b'complaints': 4, b'plying': 9, b'severe': 32, b'axe': 25, b'cauldrons': 7, b'united': 14, b'cumberer': 1, b'unfulfill': 3, b'hasting': 12, b'breadth': 12, b'augment': 1, b'former': 30, b'handed': 23, b'heretofore': 25, b'delicacies': 1, b'voyaged': 1, b'accents': 47, b'graz': 5, b'laughed': 9, b'swiftly': 33, b'proetus': 12, b'devised': 7, b'request': 15, b'feature': 5, b'understanding': 12, b'accomplishments': 3, b'naves': 3, b'rounded': 4, b'itymoneus': 3, b'fastened': 9, b'eetion': 25, b'brow': 37, b'imbrued': 2, b'contend': 40, b'tops': 17, b'propose': 6, b'judgement': 15, b'rings': 38, b'readiest': 4, b'obedience': 6, b'prolong': 6, b'eagle': 33, b'chasm': 2, b'erymas': 6, b'amphoterus': 3, b'epaltes': 3, b'echius': 11, b'supper': 12, b'fault': 19, b'corselet': 17, b'guards': 19, b'servant': 17, b'unmark': 5, b'goatsmilk': 1, b'cheese': 3, b'whitest': 3, b'sisyphus': 5, b'craftiest': 2, b';\"': 10, b'gather': 62, b'untimely': 6, b'helpless': 21, b'disorder': 6, b'dusty': 10, b'favorable': 3, b'portion': 34, b'enfeebled': 1, b'unwieldy': 1, b'cubits': 12, b'otryntides': 1, b'winnowing': 3, b'yellow': 10, b'ceres': 12, b'blows': 17, b'sift': 1, b'washed': 15, b'anointed': 12, b'inherent': 2, b'worth': 27, b'embroil': 2, b'freighted': 5, b'seeking': 24, b'beeves': 17, b'unappeas': 5, b'adventurous': 1, b'perform': 42, b'griev': 14, b'foully': 7, b'tremble': 12, b'matrons': 17, b'smite': 16, b'nastes': 7, b'arid': 3, b'leto': 12, b'spray': 7, b'blown': 3, b'wicked': 5, b'clang': 9, b'ceased': 75, b'mingles': 4, b'peneus': 9, b'learned': 3, b'dash': 33, b'tip': 1, b'horns': 13, b'poised': 15, b'station': 31, b'possess': 36, b'din': 28, b'rays': 3, b'rising': 33, b'rav': 16, b'wolves': 20, b'kids': 6, b'swiftest': 26, b'pace': 12, b'err': 15, b'lycian': 56, b'polishing': 2, b'quaking': 1, b'lemnos': 33, b'hedged': 1, b'flank': 24, b'addressed': 18, b'withholding': 1, b'minishes': 2, b'wars': 10, b'clasps': 20, b'sapless': 3, b'decay': 5, b'sprinkled': 10, b'scourging': 1, b'deceit': 3, b'glossy': 11, b'clamorous': 7, b'deigns': 1, b'hoary': 48, b'prison': 5, b',--': 8, b'lieger': 2, b'whence': 58, b'torpid': 3, b'unseemly': 11, b'monger': 1, b'sedition': 1, b'railer': 3, b'idas': 3, b'strongest': 21, b'howe': 2, b'speaker': 4, b'seemly': 6, b'invite': 4, b'turmoil': 10, b'swarms': 6, b'buzz': 3, b'homestead': 4, b'bolt': 16, b'drank': 14, b'chose': 22, b'inmost': 12, b'below': 62, b'undisturb': 4, b'surrounded': 9, b'harrying': 1, b'buy': 4, b'eumelus': 30, b'scaean': 25, b'echechlus': 2, b'hafted': 2, b'crete': 26, b'hail': 31, b'slightly': 3, b'oiled': 1, b'girls': 2, b'crowned': 3, b'garlands': 3, b'socket': 7, b'fruitful': 20, b'steersmen': 1, b'rudders': 1, b'witnesses': 8, b'instructor': 1, b'fowl': 5, b'feeding': 16, b'geese': 9, b'battalions': 13, b'com': 12, b'companies': 12, b'heeded': 14, b'entangling': 2, b'restive': 2, b'threaten': 14, b'girth': 2, b'sixteen': 3, b'shaven': 1, b'smith': 4, b'augur': 13, b'savory': 4, b'food': 57, b'quaff': 5, b'welled': 5, b'reliance': 1, b'emboss': 8, b'alastor': 14, b'haemon': 5, b'whate': 15, b'largest': 12, b'robe': 37, b'beautifully': 4, b'perforce': 26, b'elm': 3, b'trunk': 8, b'whenever': 9, b'dardanian': 14, b'daring': 30, b'springs': 35, b'gorges': 4, b'diminish': 2, b'troops': 68, b'phylacus': 7, b'protesilaus': 13, b'sordid': 6, b'paid': 28, b'secure': 27, b'receiver': 1, b'soothed': 4, b'ford': 8, b'xanthus': 71, b'spilled': 1, b'irretrievable': 1, b'deceived': 5, b'glozing': 1, b'appear': 71, b'rushed': 15, b'blindness': 2, b'insult': 22, b'carnage': 15, b'opheltius': 6, b'opites': 3, b'bitterest': 2, b'abandon': 13, b'bread': 20, b'enduring': 2, b'brawling': 4, b'bawling': 2, b'nester': 2, b'inwards': 2, b'widely': 7, b'gap': 2, b'op': 8, b'yields': 8, b'commanded': 25, b'bereav': 2, b'stirring': 11, b'reprove': 4, b'convened': 12, b'proportions': 1, b'tall': 23, b'vessel': 27, b'madman': 7, b'chaunting': 2, b'joyous': 14, b'paean': 1, b'swept': 35, b'footsteps': 8, b'dappled': 3, b'mischiefs': 3, b'askant': 1, b'altogether': 7, b'hunched': 1, b'timber': 11, b'mast': 16, b'sweating': 8, b'dazed': 9, b'smothered': 2, b'victor': 15, b'dashing': 12, b'marvelled': 11, b'happy': 8, b'thyrum': 1, b'babes': 11, b'fatherless': 3, b'vigour': 34, b'effectual': 7, b'beguile': 2, b'fitter': 2, b'incites': 2, b'quoits': 1, b'jav': 33, b'lins': 12, b'whil': 1, b'embark': 10, b'oenom\\xc3\\xa4us': 1, b'greatness': 3, b'observed': 6, b'coffer': 4, b'lid': 6, b'colors': 1, b'belov': 18, b'closer': 6, b'throw': 27, b'object': 6, b'forgettest': 1, b'handled': 7, b'descended': 26, b'hiketaon': 4, b'echoing': 7, b'exadius': 3, b'coeneus': 2, b'counsell': 5, b'troubled': 22, b'boars': 13, b'enops': 7, b'thestor': 10, b'murmurs': 5, b'monstrous': 6, b'scouring': 7, b'limpid': 6, b'dies': 13, b'submissive': 2, b'desires': 7, b'dracius': 3, b'amphion': 3, b'sitting': 42, b'crouch': 8, b'impartial': 4, b'slayer': 28, b'clay': 3, b'desirous': 6, b'log': 2, b'gully': 1, b'winter': 12, b'permitted': 1, b'ascending': 22, b'comfort': 21, b'kindred': 13, b'hellespont': 29, b'confirmed': 1, b'myriads': 2, b'flowers': 8, b'framing': 1, b'fixt': 11, b'repent': 2, b'prevail': 45, b'eudorus': 6, b'preserv': 8, b'stag': 31, b'broadly': 2, b'athen\\xc3\\xa6an': 8, b'intemperate': 1, b'mild': 4, b'mood': 16, b'yielded': 12, b'suspecting': 3, b'upbraided': 6, b'tis': 61, b'projecting': 8, b'trailing': 6, b'thessaly': 1, b'admetus': 11, b't': 11, b'sustain': 43, b'foundations': 5, b'dull': 3, b'thing': 17, b'loosened': 1, b'floods': 9, b'ruddy': 20, b'unmatch': 7, b'issuing': 24, b'arriving': 22, b'\\xc3\\xa6sculapius': 4, b'proceed': 13, b'sling': 6, b'fairest': 24, b'marshal': 4, b'ponder': 10, b'cheat': 2, b'expell': 5, b'misdeem': 3, b'ped\\xc3\\xa6us': 2, b'uprouse': 2, b'timid': 10, b'hare': 8, b'flare': 5, b'brimstone': 2, b'wanting': 13, b'horsed': 4, b'poeonians': 2, b'keepers': 2, b'leathern': 11, b'headpiece': 4, b'narrow': 29, b'rescind': 1, b'brawny': 13, b'!--': 3, b'refuge': 16, b'lyrnessus': 14, b'unwounded': 6, b'theano': 11, b'unlock': 2, b'glanced': 5, b'plunged': 23, b'grown': 21, b'spirits': 16, b'stirr': 17, b'arising': 10, b'unaided': 10, b'eluded': 3, b'oenops': 6, b'oresbius': 3, b'itself': 43, b'joins': 6, b'skimm': 6, b'bar': 14, b'fit': 9, b'answ': 4, b'passionate': 2, b'erpow': 5, b'furthermore': 8, b'impart': 12, b'pressed': 17, b'naked': 10, b'redemption': 6, b'bereft': 23, b'archeptolemus': 6, b'wander': 10, b'erynnis': 3, b'vengeful': 3, b'waits': 9, b'quiver': 19, b'casket': 2, b'storm': 72, b'fortification': 3, b'protect': 44, b'flanked': 1, b'oxen': 39, b'loser': 3, b'stride': 9, b'clothe': 5, b'fondled': 1, b'feasted': 13, b'easier': 11, b'boon': 22, b'denies': 1, b'lake': 12, b'disclose': 2, b'omnipotent': 11, b'homeward': 28, b'onchestus': 2, b'arne': 5, b'claims': 9, b'bewail': 8, b'significant': 1, b'motion': 6, b'gladness': 1, b'lightly': 19, b'penn': 2, b'inconsiderate': 2, b'trepidation': 1, b'whetted': 1, b'conquers': 4, b'dearly': 16, b'renders': 1, b'unimpair': 4, b'massive': 13, b'covering': 6, b'angered': 10, b'doings': 8, b'murderous': 23, b'diores': 13, b'lashed': 16, b'marks': 5, b'steadfast': 7, b'ascalaphus': 18, b'instead': 8, b'carriage': 3, b'transgressed': 1, b'antenor': 71, b'bows': 9, b'javelins': 5, b'hacked': 5, b'meadows': 10, b'leeches': 3, b'ply': 14, b'attend': 31, b'compared': 5, b'bury': 12, b'changed': 14, b'retained': 1, b'pore': 2, b'ranged': 26, b'walk': 7, b'creep': 2, b'expos': 4, b'maintains': 3, b'marched': 8, b'shaken': 6, b'victim': 24, b'detested': 5, b'unsheath': 1, b'titans': 3, b'completed': 6, b'conclude': 2, b'deity': 14, b'pelasgian': 13, b'quarters': 16, b'firstlings': 4, b'worker': 2, b'leather': 3, b'concord': 2, b'exist': 1, b'imbrus': 8, b'rude': 16, b'tenedos': 12, b'appall': 21, b'yonder': 22, b'incite': 7, b'deplor': 1, b'absence': 10, b'points': 8, b'despair': 8, b'fearless': 13, b'lays': 6, b'arise': 30, b'dispute': 15, b'dwelling': 16, b'erichthonius': 4, b'exhort': 21, b'perchance': 47, b'slaughterer': 2, b'aretus': 11, b'whensoever': 2, b'miletus': 5, b'formidable': 1, b'receives': 3, b'banquet': 29, b'lingering': 5, b'flame': 32, b'idle': 17, b'diligence': 2, b'desired': 7, b'i\\xc3\\xa4lmenus': 2, b'chryses': 18, b'welfare': 2, b'threshold': 20, b'shirt': 17, b'descendants': 1, b'nobler': 9, b'theirs': 24, b'invoke': 4, b'\\xc3\\xa6gis': 21, b'herbs': 9, b'dismiss': 40, b'dresus': 3, b'bruised': 5, b'lowing': 5, b'use': 28, b'rebuked': 19, b'leap': 59, b'pounded': 1, b'root': 8, b'applied': 9, b'eaten': 9, b'drunk': 3, b'hitherto': 9, b'backwards': 11, b'tithonus': 6, b'clytius': 13, b'helmets': 18, b'unconscious': 11, b'eyelids': 9, b'closed': 27, b'proficient': 1, b'reserved': 5, b'otherwise': 6, b'stones': 38, b'cautious': 8, b'calamities': 6, b'id\\xc3\\xa6an': 9, b'penetrated': 1, b'bladder': 4, b'doer': 1, b'wayfarer': 2, b'voices': 5, b'vision': 10, b'embarking': 7, b'bate': 1, b'jot': 3, b'robes': 12, b'purple': 26, b'blazed': 4, b'evemon': 1, b'attendants': 15, b'forage': 9, b'pal': 1, b'smould': 2, b'sank': 31, b'acclaim': 2, b'fenced': 12, b'stretching': 7, b'knowing': 9, b'twofold': 4, b'consummation': 2, b'erebus': 9, b'herald': 50, b'cricket': 1, b'lin': 24, b'dam': 8, b'cyllenian': 2, b'otus': 6, b'branded': 2, b'murderer': 1, b'girding': 2, b'livelong': 10, b'missed': 19, b'coerulean': 6, b'tress': 1, b'hindrance': 4, b'release': 14, b'partake': 6, b'compassion': 22, b'mournful': 14, b'ensign': 1, b'woollen': 4, b'confiding': 8, b'celestial': 9, b'defer': 1, b'thronging': 11, b'sorrowful': 10, b'happened': 3, b'brushwood': 4, b'hurrying': 16, b'encas': 6, b'instructed': 6, b'horsemanship': 6, b'sportive': 3, b'wedged': 3, b'boss': 10, b'mantled': 6, b'enjoyed': 3, b'powr': 1, b'song': 21, b'orb': 17, b'begun': 8, b'le\\xc3\\xaftus': 5, b'resenting': 4, b'hire': 8, b'withheld': 15, b'fellied': 3, b'waged': 18, b'bequeath': 2, b'thyestes': 6, b'drives': 20, b'browsed': 3, b'hearest': 1, b'various': 23, b'delineated': 1, b'exact': 5, b'dusky': 4, b'whoever': 5, b'toiling': 7, b'confed': 2, b'safely': 25, b'cassandra': 6, b'capture': 8, b'disgrace': 27, b'epeus': 5, b'muscles': 8, b'corridor': 4, b'jeopardy': 1, b'verge': 12, b'prophecy': 5, b'inestimable': 5, b'repos': 7, b'inscriber': 1, b'extend': 5, b'startled': 11, b'cutting': 20, b'rowers': 8, b'mann': 11, b'unknown': 10, b'bosses': 5, b'tin': 30, b'confront': 18, b'hypsenor': 7, b'hippasus': 15, b'evil': 87, b'guided': 12, b'kicks': 1, b'balance': 9, b'boasts': 18, b'delivers': 3, b'soever': 5, b'scatters': 3, b'same': 77, b'exalted': 6, b'ranging': 6, b'consider': 18, b'throttling': 1, b'strap': 6, b'misty': 5, b'grand': 1, b'consult': 8, b'dissolved': 4, b',)': 13, b'walked': 1, b'meteor': 3, b'scheming': 7, b'limits': 7, b'conducted': 13, b'weapons': 43, b'whomsoever': 3, b'emprize': 3, b'argive': 29, b'passes': 6, b'intersect': 1, b'unbearable': 3, b'eludes': 1, b'leafiest': 1, b'covert': 7, b'hid': 16, b'protest': 1, b'forehead': 19, b'visor': 6, b'opoeis': 3, b\"'.\": 1, b'confounded': 5, b'states': 4, b'auxiliars': 1, b'efforts': 7, b'resentful': 11, b'stalls': 9, b'unable': 3, b'moaned': 1, b'foretell': 5, b'agony': 5, b'dig': 3, b'rul': 13, b'unshelter': 1, b'range': 26, b'overhung': 1, b'dropped': 11, b'unretreating': 1, b'polyides': 3, b'coffers': 2, b'welter': 1, b'harangued': 3, b'coon': 6, b'baths': 5, b'crimson': 15, b'places': 17, b'divers': 3, b'tongues': 16, b'phereclus': 5, b'laodice': 11, b'sceptre': 51, b'swore': 14, b'ignobly': 2, b'trackless': 1, b'waste': 30, b'usurping': 1, b'squire': 29, b'comest': 7, b'befalls': 2, b'act': 32, b'propitiating': 2, b'yourselves': 48, b'suggestion': 1, b'scaping': 2, b'reed': 6, b'louring': 3, b'proclaiming': 2, b'rained': 12, b'perished': 13, b'pang': 4, b'endure': 29, b'glanc': 2, b'reigned': 4, b'excelling': 8, b'orth\\xc3\\xa6us': 1, b'sleepless': 3, b'exhorts': 6, b'number': 23, b'assembling': 6, b'lynxes': 2, b'hills': 20, b'fish': 10, b'leaps': 8, b'air': 55, b'yon': 28, b'haughty': 42, b'angled': 2, b'cleaves': 2, b'striker': 1, b'lust': 11, b'don': 12, b'torture': 3, b'amends': 10, b'eioneus': 4, b'slack': 23, b'menela\\xc3\\xbcs': 12, b'archery': 5, b'requiring': 1, b'raise': 43, b'mastor': 4, b'cytheran': 2, b'guest': 29, b'shade': 12, b'cromne': 1, b'aegialus': 2, b'sufficed': 13, b'olenus': 2, b'pylene': 2, b'circus': 7, b'inflamed': 3, b'interposing': 5, b'became': 14, b'clasped': 7, b'leitus': 10, b'melanthus': 1, b'ditch': 30, b'ordains': 5, b'spectres': 2, b'unsubstantial': 1, b'alarms': 1, b'abused': 1, b'affectionate': 3, b'consent': 22, b'offers': 5, b'riches': 9, b'sulphur': 4, b'fumed': 3, b'rinsed': 2, b'molions': 3, b'perpetual': 3, b'embrace': 28, b'exchange': 11, b'bestridden': 2, b'clust': 1, b'slope': 4, b'deepens': 1, b'structure': 5, b'furiously': 31, b'havoc': 29, b'minister': 11, b'paphlagonians': 8, b'bearer': 7, b'regions': 3, b'heavens': 17, b'wag': 10, b'shirking': 3, b'resounded': 3, b'sprinkling': 6, b'drugs': 7, b'assuasive': 1, b'sandals': 15, b'elegant': 5, b'attired': 7, b'despis': 7, b'tribes': 19, b'clans': 4, b'favor': 9, b'lesbos': 12, b'northward': 2, b'macar': 2, b'despised': 1, b'persecuted': 1, b'valor': 16, b'begrimed': 2, b'fraught': 16, b'alcimus': 8, b'bladed': 4, b'shock': 13, b'resign': 17, b'lowering': 5, b'forbid': 5, b'liest': 4, b'started': 18, b'temples': 17, b'stepping': 5, b'finding': 10, b'deserted': 7, b'lords': 3, b'deathless': 8, b'polynices': 4, b'briseus': 3, b'fronted': 7, b'convulsive': 2, b'sobs': 3, b'promis': 21, b'tons': 1, b'shingle': 1, b'whirl': 18, b'gusty': 3, b'poem': 6, b'book': 16, b'except': 23, b'unwedded': 2, b'polymele': 2, b'awaking': 6, b'vacant': 5, b'ewe': 4, b'gender': 1, b'worms': 8, b'desecrate': 1, b'says': 14, b'mt': 13, b'fathers': 9, b'incontinent': 26, b'wrapp': 14, b'dione': 7, b'encourages': 3, b'arduous': 12, b'profuse': 20, b'fears': 23, b'retires': 7, b'measured': 8, b'acres': 3, b'extremity': 8, b'forsook': 10, b'cov': 8, b'wrinkles': 1, b'nearer': 6, b'ablution': 3, b'tepid': 5, b'ordinance': 2, b'patrons': 1, b'bridal': 5, b'unspeakable': 7, b'sacrificed': 4, b'filling': 7, b'oxhide': 4, b'tychius': 3, b'hyle': 4, b'straiten': 1, b'dealing': 10, b'sober': 2, b'continues': 13, b'fetters': 4, b'roods': 1, b'offence': 14, b'robust': 6, b'origin': 9, b'prayers': 17, b'mud': 3, b'unbidden': 2, b'caldrons': 9, b'rare': 11, b'record': 5, b'courser': 4, b'halts': 1, b'wet': 14, b'beseech': 9, b'carry': 34, b'assault': 39, b'scoured': 3, b'intent': 42, b'innumerous': 2, b'thirst': 41, b'hunger': 36, b'tires': 2, b'twain': 16, b'endless': 16, b'slackening': 2, b'leading': 23, b'brides': 3, b'usher': 1, b'brag': 3, b'talk': 23, b'assists': 3, b'withstands': 1, b'adds': 2, b'thundering': 24, b'third': 56, b'ibex': 2, b'boded': 3, b'rever': 7, b'unrelaxing': 1, b'solution': 1, b'moving': 11, b'branching': 1, b'prov': 5, b'dst': 5, b'pernicious': 11, b'climbing': 6, b'prevails': 11, b'concluded': 2, b'cake': 4, b'strew': 6, b'nurse': 26, b'beasts': 21, b'hecamede': 6, b'mix': 21, b'voic': 9, b'damsel': 4, b'halted': 7, b'greav': 22, b'upswept': 1, b'gusts': 4, b'brain': 20, b'concerning': 9, b'selepus': 1, b'grieving': 12, b'cold': 14, b'moon': 15, b'darkest': 2, b'milk': 18, b'aegae': 4, b'glittering': 35, b'compensation': 10, b'siege': 3, b'laogonus': 6, b'onetor': 4, b'flower': 10, b'priests': 4, b'begged': 1, b'promising': 5, b'terrified': 7, b'early': 30, b'querulous': 1, b'discover': 9, b'whomsoe': 4, b'windy': 3, b'ephyra': 8, b'pandarus': 30, b'zephyr': 5, b'notus': 4, b'homed': 2, b'roving': 3, b'rank': 49, b'deicoon': 2, b'pergasus': 3, b'striding': 8, b'teuthras': 4, b'renowned': 3, b'id\\xc3\\xa6us': 14, b'beaker': 6, b'waft': 5, b'paramour': 4, b'soothsayer': 3, b'podarces': 10, b'lower': 12, b'slackness': 8, b'watchful': 12, b'alegenor': 3, b'levels': 2, b'lissom': 2, b'oils': 6, b'anointing': 5, b'dares': 11, b'bellowing': 8, b'overtake': 10, b'thrusts': 1, b'thrace': 22, b'ephyri': 3, b'heating': 1, b'unaccustom': 2, b'ennomus': 9, b'backs': 3, b'lave': 6, b'alighting': 5, b'lampus': 14, b'olizon': 3, b'philoctetes': 5, b'spurr': 2, b'portal': 9, b'tend': 9, b'convicted': 2, b'stripling': 2, b'maned': 10, b'ravenous': 2, b'jackals': 8, b'priestess': 3, b'phidippus': 2, b'tendon': 2, b'paralys': 2, b'coron\\xc3\\xa6a': 1, b'grassy': 14, b'flinching': 4, b'event': 10, b'worst': 12, b'epe\\xc3\\xbcs': 4, b'ventures': 1, b'councillor': 7, b'fiercest': 10, b'pharis': 1, b'exhorting': 19, b'podes': 6, b'inward': 9, b'parts': 16, b'tugg': 4, b'several': 26, b'inferior': 24, b'woful': 12, b'erthrown': 6, b'smiling': 13, b'mien': 10, b'hew': 7, b'obeyed': 16, b'laden': 15, b'gloom': 13, b'sooner': 18, b'spreads': 11, b'mist': 16, b'matron': 3, b'naval': 6, b'disobey': 9, b'spoken': 40, b'proudly': 8, b'threatening': 13, b'clothes': 2, b'accent': 2, b'portentous': 8, b'scap': 5, b'peteos': 11, b'domestic': 8, b'train': 34, b'agitation': 2, b'plainly': 14, b'honors': 8, b'threat': 21, b'struggles': 4, b'touching': 3, b'woke': 5, b'throned': 12, b'gamboll': 1, b'monsters': 2, b'honest': 3, b'succour': 17, b'forbids': 7, b'owe': 8, b'grieves': 5, b'resume': 5, b'entreated': 3, b'extract': 2, b'healing': 12, b'apply': 3, b'endow': 7, b'girded': 6, b'curling': 4, b'bushy': 5, b'fable': 2, b'unerring': 8, b'until': 40, b'preference': 4, b'hades': 55, b'nevermore': 3, b'ershadowing': 7, b'dooms': 2, b'tartarian': 1, b'persephone': 1, b'kneeling': 3, b'vomited': 1, b'unarm': 6, b'forewarn': 2, b'bowing': 3, b'megas': 2, b'autono\\xc3\\xbcs': 2, b'incessant': 10, b'cheerless': 2, b'decrepid': 1, b'throngs': 3, b'unloose': 2, b'aetolians': 16, b'fawn': 12, b'vale': 14, b'grove': 12, b'swerving': 4, b'abode': 43, b'something': 5, b'soaring': 12, b'claws': 1, b'determine': 8, b'cope': 22, b'ennobling': 2, b'ent': 5, b'alcestis': 3, b'praised': 11, b'ally': 3, b'spoiled': 5, b'dispersing': 4, b'!(': 6, b'shar': 12, b'smiths': 2, b'laothoe': 4, b'haired': 11, b'yoked': 16, b'comeliness': 2, b'forsooth': 8, b'hospitable': 11, b'hitherward': 4, b'dismayed': 15, b'swallow': 8, b'mestor': 2, b'crushing': 4, b'shatt': 2, b'arresting': 1, b'employ': 17, b'relieve': 5, b'shepherding': 1, b'wains': 4, b'challenge': 18, b'kindling': 8, b'ire': 7, b'handles': 5, b'shingly': 3, b'gravel': 1, b'bestrode': 6, b'whelps': 3, b'hunters': 12, b'thro': 21, b'reclined': 10, b'enjoy': 25, b'reared': 10, b'adversary': 3, b'stripping': 12, b'inflicted': 11, b'plagues': 2, b'beams': 13, b'strung': 8, b'compass': 21, b'shaker': 31, b'playmate': 2, b'pitied': 5, b'wit': 11, b'begotten': 20, b'humbler': 6, b'unrivall': 2, b'brings': 17, b'preserves': 1, b'billows': 17, b'tumbling': 3, b'base': 28, b'descendant': 14, b'ninth': 9, b'amaze': 5, b'mistress': 5, b'kills': 10, b'leaped': 7, b'scatt': 5, b'sparks': 1, b'slits': 1, b'cooped': 2, b'unceasing': 5, b'appendant': 2, b'sheath': 7, b'nations': 11, b'thunderer': 47, b'knee': 20, b'joint': 13, b'ascend': 9, b'fatal': 20, b'tempest': 23, b'swoops': 11, b'lashes': 5, b'magnanimity': 2, b'boras': 1, b'perieres': 3, b'family': 5, b'sweeter': 8, b'honey': 15, b'flowed': 6, b'euryalus': 15, b'sounded': 4, b'reviv': 3, b'outdone': 1, b'directed': 10, b'stop': 11, b'scoff': 3, b'retarded': 2, b'reverence': 16, b'jelyssus': 1, b'shape': 7, b'assumed': 6, b'cheer': 29, b'hippoth\\xc3\\xb6us': 2, b'collected': 13, b'vase': 9, b'eight': 16, b'spok': 1, b'axle': 20, b'disposing': 1, b'ordering': 4, b'deal': 8, b'enfolded': 3, b'homicidal': 9, b'barbs': 4, b'caves': 4, b'whatsoever': 3, b'mangers': 3, b'precipitate': 3, b'ascent': 5, b'traces': 7, b'pedasus': 24, b'summons': 12, b'bode': 2, b'captur': 9, b'snapp': 16, b'boils': 4, b'melting': 3, b'lard': 5, b'meant': 7, b'crew': 9, b'weighs': 8, b'heavy': 36, b'enyo': 4, b'nocturnal': 1, b'danger': 25, b'espoused': 11, b'hermes': 27, b'rim': 15, b'contrivance': 1, b'arrowy': 3, b'reeling': 4, b'gash': 4, b'liver': 14, b'suspected': 2, b'edge': 23, b'spontaneous': 6, b'iapetus': 2, b'lone': 5, b'tartarus': 8, b'enforce': 2, b'retribution': 2, b'embroider': 1, b'charming': 2, b'zone': 6, b'fulfilment': 4, b'coeranus': 7, b'hippolochus': 26, b'insolence': 8, b'alarmed': 5, b'glorying': 4, b'exclaim': 28, b'despatch': 9, b'splashes': 1, b'nearest': 6, b'skirt': 2, b'contain': 8, b'start': 8, b'conspired': 1, b'bind': 18, b'coward': 32, b'foundation': 2, b'rye': 3, b'bidden': 7, b'braced': 6, b'speeds': 3, b'smiting': 17, b'somewhat': 7, b'employed': 10, b'averting': 3, b'incurr': 8, b'relaxing': 3, b'liquid': 3, b'skillful': 2, b'apt': 6, b'phrygian': 6, b'horsemen': 22, b'animated': 6, b'twixt': 12, b'sighed': 1, b'concert': 3, b'buds': 2, b'vines': 9, b'generations': 5, b'sustaining': 4, b'helms': 7, b'mourner': 1, b'jest': 4, b'blest': 9, b'deserts': 1, b'marpessa': 7, b'exert': 7, b'jason': 12, b'fund': 1, b'orthaeus': 2, b'polyphetes': 2, b'palmys': 3, b'ascanius': 6, b'begin': 27, b'quite': 17, b'muffled': 1, b'runaway': 3, b'belied': 1, b'greatest': 8, b'angle': 3, b'bootless': 17, b'sinews': 7, b'gatherers': 1, b'yell': 3, b'remorse': 7, b'pedaeus': 3, b'spectacle': 6, b'bounteous': 5, b'extremest': 11, b'unpossess': 1, b'falcon': 18, b'swooping': 2, b'dove': 21, b'wretch': 14, b'dowered': 1, b'woodman': 10, b'opulent': 5, b'moans': 3, b'disheartened': 1, b'prosper': 10, b'elocution': 1, b'teeming': 11, b'confident': 16, b'persuasion': 5, b'vanish': 13, b'augeas': 6, b'shirts': 8, b'cleanse': 10, b'frowning': 7, b'dost': 26, b'terms': 22, b'bears': 18, b'danc': 2, b'tremendous': 12, b'shine': 5, b'tak': 5, b'thickest': 21, b'eve': 10, b'complied': 18, b'value': 8, b'galled': 1, b'locrian': 1, b'slingers': 1, b'archers': 13, b'advises': 2, b'blowing': 12, b'hardest': 7, b'nipple': 13, b'pherae': 5, b'antheia': 4, b'pastures': 8, b'overcome': 17, b'supplied': 10, b'inland': 2, b'realms': 18, b'fringe': 3, b'cauconians': 2, b'upward': 4, b'ringing': 7, b'worthy': 15, b'neglecting': 4, b'add': 20, b'gulfs': 7, b'gnash': 3, b'twice': 16, b'wheeling': 5, b'post': 19, b'distinguish': 12, b'charioteers': 20, b'menacing': 3, b'heifers': 16, b'pangs': 21, b'indulged': 4, b'monster': 12, b'whit': 8, b'blossoms': 3, b'gust': 2, b'sayst': 1, b'term': 12, b'sideward': 2, b'blind': 15, b'embers': 5, b'bulwark': 19, b'proved': 12, b'spectator': 2, b'shrink': 20, b'peopled': 4, b'horrent': 2, b'opportunity': 4, b'plumed': 13, b'solid': 25, b'affording': 2, b'egress': 2, b'stoops': 2, b'offending': 2, b'politic': 2, b'cephallenians': 4, b'fashioned': 4, b'regardless': 2, b'interfere': 3, b'returns': 8, b'invoking': 5, b'fasting': 10, b'fares': 4, b'performance': 6, b'escaping': 13, b'overthrow': 7, b'wanted': 12, b'glorify': 3, b'fount': 11, b'pledged': 5, b'loth': 23, b'ploughed': 4, b'tender': 33, b'mycene': 3, b'seashore': 7, b'laertes': 28, b'disastrous': 10, b'unmann': 1, b'conversation': 5, b'husbandman': 1, b'vine': 13, b'leans': 1, b'urgent': 9, b'legged': 2, b'blaz': 7, b'fully': 4, b'argus': 12, b'steal': 9, b'infus': 4, b'acquired': 5, b'rams': 3, b'amidst': 7, b'iniquity': 1, b'visions': 2, b'twas': 9, b'committed': 4, b'fellows': 7, b'smartly': 3, b'calling': 37, b'chieftain': 8, b'abjure': 2, b'goods': 6, b'saffron': 12, b'robed': 3, b'clymene': 6, b'straightway': 3, b'suggestions': 5, b'laertiades': 3, b'trimm': 6, b'conscience': 3, b'arbiter': 2, b'offensive': 2, b'license': 3, b'resisting': 3, b'amazons': 6, b'epeians': 9, b'heel': 15, b'moor': 6, b'crash': 10, b'humble': 2, b'possessing': 4, b'threatens': 8, b'vagrant': 2, b'bygones': 2, b'spercheius': 4, b'mated': 1, b'summits': 13, b'diving': 4, b'powerful': 5, b'robb': 11, b'dissented': 2, b'distill': 3, b'uncle': 7, b'shelter': 17, b'shedding': 7, b'runs': 12, b'fleshy': 1, b'outrageous': 1, b'acts': 9, b'fenc': 3, b'corinth': 5, b'cleone': 1, b'quail': 18, b'inclining': 4, b'stoop': 16, b'corslet': 13, b'encouragement': 4, b'softly': 7, b'trident': 2, b'cheered': 12, b'harp': 7, b'filial': 2, b'hoof': 8, b'disappointment': 3, b'oars': 5, b'treasure': 22, b'guide': 34, b'ariadne': 3, b'essayed': 2, b'rot': 7, b'slave': 7, b'counterfeit': 2, b'stays': 6, b'enrag': 3, b'num': 26, b'samos': 11, b'zacynthus': 3, b'coast': 12, b'madness': 5, b'parties': 2, b'uninfringed': 1, b'possession': 3, b'wrung': 8, b'scented': 1, b'harpalion': 4, b'breaks': 15, b'barriers': 2, b'plung': 11, b'unslain': 4, b'empower': 1, b'updarted': 2, b'darter': 5, b'scold': 2, b'crouching': 10, b'universal': 13, b'undismay': 6, b'perch': 3, b'surnam': 3, b'glutted': 2, b'dishonoured': 6, b'harsh': 13, b'rhaea': 3, b'choosing': 4, b'tormented': 1, b'treachery': 3, b'mycenae': 13, b'cleonae': 1, b'encircling': 15, b'eagerness': 4, b'meaner': 9, b'dale': 2, b'satiety': 3, b'asopus': 4, b'forged': 9, b'quoit': 8, b'uplifted': 25, b'random': 3, b'soothe': 19, b'heir': 6, b'agasthenes': 3, b'cadmus': 3, b'veiled': 8, b'assuage': 9, b'reinforc': 1, b'revenged': 3, b'alternate': 6, b'unskilful': 2, b'outstripping': 3, b'firebrand': 1, b'gerenian': 43, b'incur': 10, b'deludes': 1, b'respects': 1, b'rashly': 6, b'hyppotion': 1, b'dolphin': 3, b'theme': 5, b'bryseia': 1, b'aegaea': 1, b'cables': 2, b'outlet': 2, b'greet': 2, b'bended': 4, b'creature': 7, b'forests': 4, b'premature': 9, b'undertake': 7, b'contending': 12, b'isle': 24, b'forbad': 5, b'infancy': 4, b'barren': 5, b'differs': 1, b'central': 5, b'grasping': 11, b'diadem': 2, b'targe': 9, b'poet': 2, b'enumerate': 2, b'bedew': 5, b'elated': 2, b'authority': 7, b'hellenes': 4, b'rushing': 24, b'unwandering': 1, b'augurs': 2, b'worked': 4, b'overhanging': 2, b'piles': 7, b'pyrrhasus': 2, b'welcom': 4, b'expiring': 3, b'clench': 6, b'spoiling': 3, b'recked': 2, b'dragged': 5, b'teeth': 35, b'sever': 18, b'sloping': 6, b'cuts': 2, b'dreams': 10, b'ribb': 21, b'devoid': 1, b'phradmon': 3, b'agelaus': 3, b'endurance': 8, b'crowns': 2, b'scandea': 2, b'surprise': 8, b'yourself': 61, b'intense': 6, b'six': 33, b'nam': 7, b'densely': 2, b'wring': 4, b'aethe': 6, b'podargus': 6, b'tripping': 1, b'shorten': 3, b'wonted': 20, b'selles': 4, b'euphetes': 3, b'unwise': 3, b'chafed': 4, b'keel': 2, b'menace': 4, b'dastard': 8, b'infixt': 6, b'unwelcome': 5, b'mecisteus': 14, b'hugely': 2, b'heedless': 9, b'rhea': 4, b'dislodged': 1, b'mantle': 14, b'screening': 2, b'lyre': 21, b'cross': 30, b'outshone': 2, b'upstood': 5, b'shameless': 6, b'bubbles': 1, b'unharmed': 2, b'submerge': 1, b'failed': 13, b'bibber': 1, b'eased': 5, b'sweat': 53, b'agamede': 3, b'impregnable': 6, b'warring': 19, b'mowing': 2, b'marketed': 1, b'delivered': 7, b'envelop': 1, b'demon': 3, b'clemency': 1, b'detriment': 2, b'headed': 4, b'acquir': 1, b'smil': 6, b'jostling': 1, b'unnumbered': 1, b'copreus': 3, b'eurystheus': 13, b'nomion': 3, b'producing': 3, b'arcesilas': 2, b'comely': 13, b'plunging': 6, b'parched': 1, b'grimy': 2, b'helenus': 39, b'serv': 9, b'costly': 20, b'compel': 5, b'exempt': 10, b'harmonious': 5, b'attain': 12, b'dwells': 3, b'faces': 8, b'neighing': 7, b'spot': 26, b'bidding': 30, b'serrated': 1, b'bridg': 2, b'vehement': 13, b'actaea': 2, b'limnorea': 3, b'melite': 2, b'rape': 2, b'priam\\xc3\\xabian': 1, b'dishevell': 3, b'crowded': 12, b'hem': 4, b'rallying': 5, b'veins': 2, b'ambassadors': 4, b'unsuccessfully': 1, b'smiles': 11, b'described': 9, b'deities': 3, b'engaged': 9, b'profess': 4, b'meats': 4, b'supposed': 4, b'deploring': 3, b'thron': 2, b'hearted': 12, b'emerging': 3, b'skimming': 4, b'airy': 8, b'lectum': 2, b'become': 30, b'broil': 1, b'stables': 2, b'distracted': 2, b'meddle': 1, b'spectators': 3, b'upland': 1, b'shepherds': 18, b'famished': 2, b'pyr\\xc3\\xa6chmes': 2, b'amydon': 6, b'survives': 1, b'practis': 10, b'speakers': 1, b'ken': 4, b'councils': 5, b'schools': 1, b'andr\\xc3\\xa6mon': 4, b'woe': 37, b'brandishing': 17, b'circled': 7, b'twelfth': 19, b'unconcern': 2, b'lording': 2, b'observe': 7, b'declare': 12, b'favorite': 6, b'stalk': 6, b'impends': 6, b'aptly': 1, b'tipt': 1, b'thinnest': 5, b'pelian': 17, b'heed': 25, b'glare': 10, b'try': 25, b'waving': 4, b'somehow': 1, b'lib': 2, b'arisba': 10, b'alcander': 2, b'halius': 3, b'intercepted': 2, b'source': 10, b'affronting': 1, b'scant': 4, b'entrance': 8, b'hailed': 1, b'proteus': 1, b\".'\": 36, b'cropping': 1, b'flute': 2, b'whoe': 11, b'talent': 8, b'erected': 3, b'altars': 10, b'sprinkles': 1, b'artificers': 2, b'axylus': 3, b'goblet': 19, b'everywhere': 13, b'inasmuch': 7, b'reaching': 11, b'story': 5, b'lisp': 2, b'caresses': 1, b'rattled': 5, b'approv': 3, b'often': 19, b'indulgest': 1, b'womanish': 1, b'heartless': 11, b'lately': 11, b'fugitives': 8, b'repay': 6, b'hanging': 8, b'staring': 1, b'callianassa': 2, b'm\\xc3\\xa6ra': 1, b'unite': 6, b'persuasive': 7, b'irritating': 1, b'swain': 5, b'threats': 22, b'acarnanians': 3, b'daws': 6, b'starlings': 6, b'accumulating': 2, b'alybe': 3, b'darling': 15, b'chieftains': 24, b'appetite': 3, b'rent': 22, b'restrain': 36, b'homes': 13, b'enamoured': 6, b'wronging': 1, b'halizonians': 2, b'dispose': 6, b'proffer': 6, b'approving': 2, b'delicately': 2, b'titaresius': 4, b'rousing': 5, b'meditating': 3, b'fleeced': 2, b'hideous': 7, b'unabated': 2, b'stoutly': 1, b'wooded': 12, b'spur': 7, b'stretches': 2, b'polluted': 4, b'blunted': 2, b'doff': 3, b'ignoble': 6, b'loftiest': 7, b'o\\xc3\\xafleus': 8, b'tale': 16, b'posts': 5, b'crystal': 8, b'floored': 3, b'scent': 4, b'pervaded': 1, b'universe': 1, b'retir': 7, b'prospect': 6, b'slinks': 3, b'sulkily': 2, b'riveted': 2, b'iphidamas': 13, b'ardor': 10, b'erlying': 1, b'bonds': 5, b'inspired': 15, b'lore': 1, b'prophetic': 4, b'peers': 9, b'preparing': 7, b'lapp': 2, b'entrails': 12, b'numbering': 1, b'scorn': 34, b'tribute': 11, b'brunt': 11, b'divorcing': 2, b'flutes': 2, b'hum': 4, b'interview': 2, b'armies': 14, b'knowledge': 15, b'excelled': 7, b'kinds': 9, b'divination': 3, b'proclaim': 11, b'wildly': 5, b'misleading': 1, b'lightest': 4, b'moves': 14, b'confines': 3, b'marshalling': 6, b'debts': 2, b'aeolus': 2, b'shakes': 6, b'lindus': 3, b'shining': 11, b'casting': 5, b'hov': 1, b'swarm': 16, b'bite': 7, b'resolved': 10, b'weep': 23, b'sprout': 1, b'leaf': 4, b'bud': 2, b'moderate': 1, b'preferred': 2, b'ordered': 6, b'hallowing': 4, b'populous': 18, b'towns': 12, b'sculptur': 1, b'warms': 1, b'companion': 23, b'handiwork': 1, b'woods': 9, b'hip': 4, b'roaming': 3, b'mission': 4, b'serried': 15, b'phalanxes': 3, b'march': 21, b'tegea': 3, b'mantinea': 3, b'caldron': 11, b'planting': 7, b'bush': 4, b'baning': 1, b'griefs': 7, b'ithaemenes': 2, b'transpierced': 11, b'hauberk': 12, b'poop': 2, b'facing': 10, b'hyperenor': 6, b'legs': 29, b'tire': 3, b'gracing': 1, b'cowering': 5, b'east': 8, b'shouldst': 34, b'eminent': 18, b'yearling': 6, b'goad': 13, b'inforcement': 1, b'laws': 8, b'derive': 2, b'suffering': 14, b'higher': 4, b'turret': 5, b'audacious': 2, b'performs': 5, b'helos': 6, b'oetylus': 2, b'laas': 3, b'decline': 12, b'safest': 1, b'boasted': 9, b'ling': 3, b'greaved': 8, b'wailing': 16, b'hardiment': 1, b'sunlight': 3, b'reeled': 3, b'firmly': 15, b'excels': 6, b'considering': 3, b'allowed': 3, b'evening': 7, b'tide': 20, b'fac': 9, b'umpire': 3, b'officers': 2, b'remembers': 1, b'ofttimes': 8, b'pandion': 3, b'battered': 4, b'rampart': 15, b'gush': 10, b'unguarded': 8, b'dispens': 1, b'tardiness': 2, b'caeneus': 3, b'polyphemus': 1, b'theseus': 3, b'upbraiding': 3, b'mightst': 6, b'infuriate': 3, b'slopes': 5, b'planning': 2, b'imaginations': 1, b'unscath': 2, b'praises': 1, b'reproofs': 1, b'particularly': 5, b'celebrated': 2, b'sustenance': 2, b'balanc': 6, b'sittest': 1, b'pretext': 1, b'lookout': 3, b'spurred': 3, b'elder': 22, b'creak': 4, b'tangled': 6, b'nurs': 14, b'profusion': 1, b'sorrowing': 19, b'brushes': 2, b'dyed': 9, b'felloes': 6, b'seizes': 6, b'dashed': 4, b'bestudded': 1, b'heaved': 12, b'larissa': 6, b'intermit': 3, b'presume': 9, b'benefits': 3, b'showered': 7, b'responsive': 5, b'sighs': 8, b'worsted': 9, b'sware': 3, b'directs': 3, b'untrue': 2, b'dishonoring': 2, b'sooty': 1, b'shower': 13, b'beginning': 10, b'deliverer': 1, b'console': 2, b'unfinish': 1, b'fifth': 12, b'unsoiled': 1, b'distressed': 1, b'obliged': 4, b'lesser': 4, b'simple': 4, b'defiance': 7, b'remove': 8, b'victual': 1, b'duly': 10, b'inherited': 1, b'morys': 6, b'erwhelm': 14, b'dimming': 1, b'fettering': 1, b'proportion': 5, b'apisaon': 8, b'phausias': 2, b'flinging': 5, b'releasing': 1, b'annoy': 6, b'sweetest': 1, b'infused': 6, b'oreades': 1, b'cost': 14, b'harmonides': 2, b'breeders': 2, b'seconds': 3, b'praising': 1, b'resolution': 2, b'dazzled': 1, b'cilla': 5, b'recompens': 1, b'expectation': 7, b'crook': 4, b'taloned': 1, b'scream': 5, b'nymphs': 15, b'peraebians': 1, b'seldom': 4, b'echepolus': 6, b'delicious': 6, b'games': 22, b'pelaus': 1, b'maybe': 1, b'interruption': 1, b'distracts': 1, b'glares': 3, b'badly': 4, b'sailed': 6, b'voyage': 11, b'during': 8, b'liar': 2, b'blush': 5, b'slime': 2, b'ooze': 1, b'justice': 9, b'pattern': 2, b'trac': 5, b'bird': 41, b'perched': 4, b'wrists': 6, b'harpy': 3, b'cleopatra': 6, b'deals': 6, b'clotted': 13, b'gore': 32, b'awarded': 8, b'disallow': 1, b'awards': 1, b'snatched': 6, b'unburied': 5, b'amarynceus': 8, b'plenteous': 7, b'social': 7, b'erythinian': 1, b'sintian': 1, b'offside': 1, b'pavilion': 4, b'windings': 2, b'plagued': 2, b'impotent': 4, b'reception': 1, b'lycastus': 3, b'cliffs': 5, b'approaching': 40, b'fav': 10, b'vein': 7, b'salacious': 1, b'issu': 2, b'unaccompanied': 3, b'dismounting': 4, b'consume': 12, b'hippodamas': 3, b'sthenelas': 1, b'clinging': 3, b'scandal': 4, b'inwrought': 3, b'hues': 2, b'athirst': 5, b'dolopion': 3, b'tail': 8, b'streaming': 10, b'hairs': 6, b'surviv': 5, b'whiche': 3, b'blighted': 1, b'anteia': 2, b'destroying': 15, b'disdainful': 1, b'hardly': 28, b'spotless': 2, b'devise': 12, b'devices': 2, b'multiform': 1, b'express': 4, b'herdsmen': 8, b'inborn': 1, b'castor': 4, b'pollux': 4, b'industrious': 3, b'epeius': 5, b'leonteus': 15, b'welcomed': 3, b'speedily': 4, b'derives': 2, b'privilege': 3, b'erspread': 27, b'aspire': 3, b'rugs': 8, b'faced': 11, b'hates': 3, b'ate': 19, b'marrow': 5, b'subsided': 2, b'glowing': 4, b'phoenops': 2, b'unfolded': 1, b'compassionates': 2, b'thinks': 6, b'increases': 2, b'reduces': 1, b'eddy': 1, b'area': 1, b'suitor': 1, b'pant': 5, b'brains': 5, b'brighter': 2, b'stillness': 3, b'advantage': 7, b'pash': 1, b'singly': 5, b'enemy': 23, b'companions': 12, b'suicidal': 1, b'reluctant': 18, b'roam': 12, b'fishy': 3, b'eyesight': 1, b'dizzy': 6, b'opaque': 4, b'deservedly': 1, b'muses': 18, b'recount': 2, b'stemm': 3, b'branches': 8, b'tapering': 2, b'recollected': 1, b'hawk': 9, b'opening': 8, b'deny': 4, b'reproved': 13, b'naiad': 9, b'eyebrows': 4, b'soldiery': 1, b'runner': 11, b'regain': 9, b'declined': 4, b'nights': 4, b'blamed': 3, b'ride': 4, b'agastrophus': 5, b'paeon': 9, b'priame\\xc3\\xafan': 6, b'caparison': 3, b'sending': 4, b'advising': 4, b'fashioning': 1, b'crude': 2, b'slices': 3, b'thin': 7, b'supersede': 2, b'alluring': 1, b'confirmation': 2, b'ruled': 17, b'eumedes': 7, b'proclaims': 2, b'keener': 3, b'fastest': 2, b'showing': 6, b'welt': 1, b'whiten': 7, b'game': 3, b'persevering': 5, b'hungering': 4, b'groanful': 1, b'practised': 11, b'recogniz': 2, b'ercome': 6, b'wheeled': 3, b'real': 2, b'hidden': 8, b'contrary': 2, b'multitudinous': 3, b'taste': 13, b'violent': 3, b'hook': 6, b'blast': 22, b'alcathous': 9, b'enjoins': 1, b'silv': 1, b'deemed': 21, b'overtaking': 1, b'heaves': 3, b'hap': 4, b'attends': 9, b'clatter': 10, b'warns': 1, b'altes': 6, b'reigns': 8, b'lelegae': 2, b'implanted': 8, b'minos': 9, b'aethiopia': 2, b'ancle': 13, b'hers': 5, b'pylos': 21, b'phrontis': 3, b'plenteously': 3, b'desperate': 6, b'argent': 4, b'gauntlets': 1, b'storms': 12, b'penned': 2, b'centaur': 3, b'eyry': 1, b'sequester': 2, b'disguised': 5, b'plucked': 1, b'perfumed': 1, b'despoiling': 1, b'dulichium': 6, b'echinean': 1, b'islands': 4, b'curetes': 10, b'noticed': 5, b'suitress': 1, b'gaping': 7, b'melted': 5, b'groaned': 10, b'edg': 11, b'undisguised': 2, b'wronged': 3, b'paces': 3, b'afflictive': 1, b'foss': 18, b'evils': 6, b'bought': 6, b'withal': 3, b'astonishment': 2, b'vengeance': 35, b'nerve': 13, b'neighbouring': 3, b'athos': 3, b'foaming': 7, b'worship': 6, b'fortify': 1, b'python': 2, b'crissa': 2, b'imparting': 1, b'befall': 14, b'recollection': 4, b'stunn': 3, b'surviving': 1, b'happily': 1, b'does': 20, b'encouraged': 7, b'menacingly': 5, b'deiocus': 1, b'advis': 6, b'toilsome': 5, b'warfare': 8, b'protects': 3, b'exulted': 7, b'disarray': 2, b'ball': 4, b'askance': 3, b'laodocus': 7, b'acknowledge': 3, b'spade': 3, b'clears': 2, b'vests': 3, b'healers': 1, b'ruffling': 2, b'sways': 2, b'bending': 4, b'nests': 3, b'spies': 6, b'tries': 4, b'beak': 3, b'glared': 6, b'prate': 7, b'talon': 1, b'eltes': 1, b'selle\\xc3\\xafs': 2, b'contiguous': 3, b'reposed': 3, b'hippocoon': 2, b'counsellor': 16, b'magnifying': 1, b'caressed': 4, b'beings': 3, b'ertake': 5, b'heartily': 4, b'neighbour': 3, b'flecked': 1, b'righted': 1, b'encourag': 5, b'endued': 10, b'erlook': 3, b'unpropitious': 4, b'mycen\\xc3\\xa6': 6, b'magnificence': 1, b'sixty': 6, b'unassail': 1, b'bleating': 6, b'relentless': 5, b'resides': 2, b'exploit': 9, b'deceiv': 7, b'carcases': 6, b'impure': 1, b'partners': 2, b'bars': 13, b'current': 12, b'veneration': 1, b'atrid\\xc3\\xa6': 6, b'unwarranted': 1, b'stakes': 15, b'howbeit': 2, b'snorting': 4, b'abhorring': 1, b'locks': 31, b'person': 8, b'specious': 3, b'inscribed': 2, b'greaves': 19, b'icarian': 3, b'proceeding': 5, b'vows': 8, b'usurp': 1, b'appearance': 2, b'insistence': 1, b'forges': 1, b'triturated': 1, b'grain': 11, b'plat\\xc3\\xa6a': 1, b'glissa': 2, b'thoon': 9, b'unseen': 18, b'grave': 10, b'utter': 16, b'restless': 4, b'faint': 20, b'unyok': 3, b'artificer': 6, b'lop': 2, b'farewell': 3, b'paeons': 3, b'imperious': 3, b'congenial': 1, b'bitterness': 7, b'calmed': 1, b'clash': 24, b'consigned': 2, b'encircler': 5, b'gulf': 8, b'stir': 12, b'thirty': 10, b'stepp': 10, b'binders': 5, b'interment': 2, b'paphlagonia': 3, b'clangor': 2, b'cows': 6, b'bellowed': 3, b'calamitous': 2, b'cephisian': 1, b'boeotians': 10, b'booty': 7, b'embroidered': 4, b'peneleos': 9, b'lycon': 7, b'quake': 2, b'wanderer': 1, b'aeacides': 4, b'watching': 6, b'easy': 17, b'diver': 4, b'sages': 1, b'ucalegon': 3, b'ceas': 5, b'billow': 8, b'cleaving': 5, b'interrupted': 4, b'windpipe': 2, b'coercion': 1, b'betters': 3, b'tracking': 1, b'infatuate': 6, b'adorn': 12, b'criers': 2, b'olonius': 1, b'retaining': 3, b'string': 23, b'using': 2, b'pillows': 1, b'fortunes': 4, b'diff': 7, b'friendly': 18, b'guise': 3, b'bestowed': 2, b'hopeless': 4, b'everything': 9, b'misgiving': 1, b'merman': 2, b'cowardice': 6, b'disaffection': 1, b'treated': 9, b'gleamed': 8, b'quailed': 4, b'rated': 1, b'poorly': 1, b'heavier': 4, b'sincere': 2, b'foretold': 3, b'continually': 7, b'praying': 20, b'slight': 12, b'grecia': 3, b'crossing': 5, b'undismayed': 1, b'prolix': 1, b'phthians': 5, b'locrians': 12, b'aspect': 12, b'directions': 12, b'opposing': 10, b'gratitude': 1, b'illumed': 3, b'arrests': 2, b'perfectly': 3, b'acquainted': 2, b'situation': 2, b'resistance': 2, b'forgets': 3, b'dives': 2, b'surpasses': 8, b'hurried': 9, b'nowhere': 2, b'waist': 17, b'obscured': 1, b'vapors': 2, b'disappears': 1, b'lewd': 2, b'crashing': 18, b'confederate': 5, b'conf': 4, b'gnashing': 2, b'fierceness': 7, b'letters': 3, b'rural': 2, b'pinch': 11, b'abstain': 20, b'shudd': 3, b'lov': 41, b'possesses': 5, b'blasts': 14, b'pluck': 10, b'vig': 9, b'ajaxes': 32, b'helicaon': 2, b'cleansed': 7, b'interior': 6, b'quilt': 3, b'workman': 6, b'toils': 28, b'stead': 10, b'caution': 6, b'recross': 2, b'impenetrable': 5, b'gladden': 6, b'scabbard': 10, b'pestilence': 8, b'declared': 5, b'contaminate': 1, b'gainst': 8, b'thirteenth': 4, b'caucons': 3, b'renews': 4, b'erectheus': 2, b'weal': 6, b'besiegers': 2, b'constant': 15, b'adamantine': 3, b'dimness': 1, b'summer': 8, b'collect': 8, b'maritime': 8, b'overlabor': 2, b'weariness': 5, b'flayed': 5, b'unwilling': 8, b'curb': 8, b'showed': 11, b'dykes': 1, b'harass': 4, b'bosoms': 4, b'throwing': 7, b'loveliness': 4, b'anxiously': 1, b'equipp': 4, b'tinged': 3, b'coals': 2, b'linen': 17, b'meting': 1, b'temper': 13, b'harassed': 3, b'nuisance': 1, b'cadmeans': 5, b'attempted': 1, b'mightily': 3, b'thirtieth': 6, b'generally': 1, b'diana': 32, b'stamp': 2, b'assailed': 1, b'tooth': 4, b'insane': 1, b'contention': 11, b'tyres': 2, b'brighten': 1, b'noon': 6, b'awaited': 5, b'tables': 1, b'sip': 1, b'contains': 5, b'treasured': 5, b'upset': 1, b'stropius': 1, b'distribution': 5, b'exceeds': 3, b'antron': 2, b'clutch': 10, b'injur': 3, b'exhortation': 7, b'recognition': 1, b'unhinges': 1, b'gladly': 27, b'enthroned': 3, b'monarchs': 3, b'tamarisk': 11, b'amber': 7, b'shrieking': 6, b'insatiable': 6, b'discharge': 2, b'office': 5, b'revels': 3, b'gloriously': 4, b'chrysa': 9, b'strike': 32, b'borders': 6, b'beseem': 4, b'vivid': 4, b'halt': 6, b'wrinkled': 3, b'stallions': 1, b'mixt': 1, b'phthira': 2, b'divinity': 2, b'challenger': 3, b'conquering': 5, b'dancing': 3, b'allows': 3, b'unnotic': 3, b'expedient': 3, b'droop': 1, b'dry': 18, b'continued': 2, b'pitiable': 6, b'defile': 2, b'refus': 6, b'deafening': 8, b'laerceus': 2, b'\\xc3\\xa6mon': 1, b'boding': 3, b'general': 14, b'clos': 21, b'fasten': 14, b'blinded': 4, b'rescued': 10, b'slayers': 4, b'sim\\xc3\\xb6isius': 2, b'exquisite': 3, b'cretans': 19, b'proposals': 1, b'reconciliation': 3, b'execute': 4, b'hue': 11, b'daunted': 9, b\"',\": 2, b'ripe': 3, b'orphan': 4, b'content': 18, b'faults': 2, b'maintain': 28, b'onions': 1, b'relish': 3, b'hisses': 1, b'leagued': 2, b'daunt': 8, b'engag': 10, b'cheers': 8, b'crowds': 6, b'grazes': 1, b'?--': 5, b'refusing': 4, b'expedience': 2, b'alighted': 4, b'missing': 5, b'scared': 7, b'wiped': 8, b'surf': 2, b'assenting': 8, b'wended': 3, b'beechen': 1, b'prisoner': 9, b'tipp': 12, b'hallow': 2, b'wreath': 8, b'unsullied': 7, b'carpets': 3, b'retracing': 1, b'themes': 2, b'harmlessly': 1, b'vigilant': 6, b'delighted': 11, b'tumblers': 4, b'reproaches': 8, b'recall': 6, b'rein': 17, b'thronged': 3, b'unvisited': 1, b'interposed': 17, b'roared': 7, b'assailants': 4, b'vanished': 3, b'awoke': 6, b'tribe': 6, b'piercer': 2, b'pheidas': 2, b'bias': 9, b'tresses': 5, b'hoarded': 2, b'nurses': 4, b'later': 9, b'hewing': 2, b'disgorg': 1, b'danced': 4, b'jocund': 1, b'maiden': 14, b'craving': 1, b'consequence': 2, b'animate': 4, b'pylaemenes': 6, b'kindness': 4, b'scour': 9, b'portended': 1, b'bowed': 10, b'demoleon': 3, b'maintained': 1, b'unrestrain': 5, b'engagement': 3, b'hindmost': 8, b'amarynces': 1, b'nireus': 8, b'charops': 5, b'aglaia': 1, b'plead': 4, b'whereof': 8, b'arcadia': 3, b'pacing': 5, b'elate': 9, b'mute': 9, b'lamentable': 2, b'rid': 1, b'lame': 15, b'unwisely': 1, b'trample': 2, b'regarded': 2, b'pledging': 2, b'insatiate': 14, b'browse': 2, b'cephissus': 4, b'steam': 7, b'rises': 4, b'prothous': 3, b'soonest': 3, b'attendance': 5, b'huddled': 2, b'dower': 9, b'firmament': 6, b'urges': 3, b'opposed': 15, b'dock': 2, b'peasants': 6, b'epidaurus': 3, b'pastaro': 1, b'neleian': 8, b'voracious': 4, b'hyrmine': 2, b'battlement': 5, b'othryoneus': 11, b'lure': 3, b'perplexity': 2, b'transpiercing': 2, b'rode': 3, b'scenes': 2, b'matrimonial': 5, b'bliss': 2, b'felloe': 1, b'seasoning': 1, b'welcome': 33, b'babbling': 4, b'popular': 2, b'eagerly': 5, b'invade': 6, b'vital': 9, b'headland': 7, b'asham': 1, b'nod': 13, b'employs': 2, b'adored': 3, b'ragged': 1, b'beset': 4, b'bellows': 15, b'tools': 6, b'collecting': 4, b'ruinous': 1, b'manger': 4, b'thalysius': 1, b'recovering': 4, b'delights': 6, b'indulge': 10, b'untractable': 2, b'whome': 2, b'talons': 8, b'appeared': 7, b'shrubs': 3, b'bushes': 1, b'deplore': 8, b'calydn\\xc3\\xa6': 1, b'quiescent': 2, b'clamouring': 1, b'intestines': 3, b'straining': 11, b'argue': 2, b'cisseus': 5, b'sigh': 17, b'longing': 8, b'sharply': 6, b'recalled': 2, b'absent': 12, b'haunt': 9, b'defrauded': 4, b'overtopp': 1, b'underneath': 7, b'railing': 7, b'conceived': 9, b'award': 4, b'emathia': 3, b'nursing': 4, b'practise': 1, b'meted': 2, b'seduce': 2, b'intelligent': 3, b'grudge': 2, b'synod': 2, b'prows': 4, b'smart': 2, b'broadest': 3, b'dismissed': 5, b'indefatigable': 3, b'distract': 2, b'delivery': 3, b'tear': 22, b'fledglings': 2, b'parent': 11, b'hasted': 7, b'bidd': 10, b'robbers': 2, b'thieves': 2, b'shamelessness': 2, b'provoke': 12, b'outstrips': 4, b'killing': 29, b'agile': 4, b'coil': 4, b'conquer': 6, b'agreed': 7, b'mulius': 9, b'reward': 25, b'sperchius': 8, b'marine': 1, b'subject': 4, b'incumber': 1, b'jarr': 1, b'penetrate': 5, b'fragment': 6, b'bruise': 2, b'misleads': 1, b'pylon': 3, b'courses': 3, b'displeased': 9, b'laggards': 3, b'satnois': 3, b'mysian': 2, b'placing': 4, b'ugliest': 2, b'atridae': 4, b'hurtful': 2, b'following': 50, b'damasus': 3, b'informed': 4, b'thwart': 10, b'remind': 5, b'heaping': 6, b'domain': 7, b'surface': 8, b'cool': 6, b'lineage': 17, b'trees': 21, b'enshrouded': 4, b'brises': 2, b'heat': 11, b'misled': 2, b'retrac': 3, b'noting': 3, b'uprooting': 2, b'curses': 3, b'compassionate': 3, b'impressing': 2, b'.--': 6, b'astray': 4, b'seconding': 2, b'exclude': 2, b'fastens': 6, b'fighters': 8, b'amazed': 5, b'upsprang': 8, b'behests': 5, b'erthrow': 3, b'marshall': 5, b'paeonia': 4, b'messe\\xc3\\xafs': 1, b'succor': 21, b'clearing': 2, b'rests': 6, b'aesepus': 6, b'abarbarea': 3, b'ejected': 1, b'pledges': 5, b'),': 18, b'pleadings': 1, b'odours': 2, b'unsaid': 1, b'severity': 2, b'bondage': 3, b'den': 3, b'tripart': 1, b'trained': 3, b'poles': 4, b'metal': 9, b'peculiar': 10, b'outer': 11, b'stave': 5, b'begins': 4, b'rumor': 6, b'commodious': 6, b'conscious': 25, b'potentate': 2, b'vans': 1, b'seaward': 3, b'tamed': 3, b'paesus': 2, b'owned': 3, b'fortified': 1, b'roams': 2, b'parleying': 1, b'freshly': 2, b'antea': 1, b'lusted': 1, b'occurs': 1, b'strok': 1, b'waken': 6, b'stable': 3, b'proof': 15, b'sufficiently': 2, b'condemn': 13, b'loom': 8, b'splendour': 2, b'opinion': 5, b'freight': 5, b'waistband': 3, b'feasts': 6, b'clan': 3, b'gatherings': 1, b'revered': 10, b'declares': 1, b'danaan': 14, b'e\\xc3\\xafoneus': 2, b'secur': 10, b'applaud': 3, b'school': 5, b'events': 5, b'excess': 3, b'outermost': 2, b'forenoon': 1, b'anxiety': 2, b'custom': 4, b'forceful': 3, b'sailors': 4, b'turrets': 3, b'assaulted': 3, b'senseless': 8, b'working': 8, b'rivets': 4, b'island': 8, b'd\\xc3\\xa6dalus': 1, b'composed': 3, b'caletor': 6, b'worsting': 1, b'curls': 3, b'ruffled': 2, b'exercis': 1, b'rise': 18, b'pylartes': 6, b'lysander': 2, b'obeys': 1, b'intelligence': 2, b'mused': 4, b'abate': 5, b'activity': 1, b'hollows': 1, b'haven': 5, b'eleon': 6, b'ostentatious': 1, b'tone': 18, b'lets': 3, b'labourers': 1, b'dinner': 4, b'horned': 7, b'idiot': 4, b'achiev': 8, b'oarsmen': 4, b'escorted': 1, b'chryseis': 9, b'confronted': 4, b'inner': 9, b'refresh': 11, b'fann': 3, b'gently': 11, b'north': 10, b'poise': 3, b'gratifying': 1, b'inclines': 6, b'sacrifices': 5, b'horseman': 9, b'coveted': 2, b'musings': 2, b'sportsman': 1, b'unutterable': 3, b'danae': 2, b'winner': 2, b'fittest': 3, b'shapes': 1, b'prosp': 3, b'level': 18, b'crimes': 2, b'offend': 9, b'hodius': 3, b'halizonian': 1, b'pil': 5, b'tmolus': 6, b'plant': 13, b'portals': 18, b'bolts': 12, b'traveller': 6, b'breach': 11, b'deliberates': 1, b'animating': 2, b'honorable': 3, b'palisades': 4, b'landmarks': 1, b'presumes': 2, b'unstain': 1, b'listless': 1, b'devours': 5, b'furnished': 1, b'implement': 1, b'abler': 2, b'change': 9, b'dissever': 4, b'columns': 6, b'themis': 10, b'ransoms': 2, b'erythini': 1, b'rugged': 22, b'abrupt': 2, b'shortly': 2, b'righteous': 4, b'laodamas': 3, b'female': 18, b'conciliate': 2, b'whereas': 21, b'carrying': 4, b'pick': 2, b'flows': 10, b'recognise': 1, b'covenants': 11, b'plot': 5, b'notice': 7, b'masterfully': 3, b'respectfully': 1, b'lined': 10, b'plaiting': 1, b'inexperience': 2, b'transient': 1, b'foemen': 2, b'vesture': 2, b'timbers': 4, b'boil': 6, b'arouse': 7, b'gracious': 11, b'coagulate': 2, b'relapsing': 1, b'admitted': 3, b'guides': 7, b'ignominy': 1, b'quak': 4, b'billets': 1, b'sere': 1, b'accepting': 2, b'anvil': 6, b'massed': 1, b'vapour': 2, b'amphitryon': 2, b'scowled': 4, b'steeped': 3, b'prescribes': 2, b'daily': 4, b'disposal': 1, b'wherewith': 12, b'promiscuous': 11, b'treat': 7, b'puny': 6, b'crocus': 3, b'hyacinth': 3, b'qualified': 2, b'mature': 3, b'fleetest': 7, b'laugh': 17, b'hiding': 5, b'sands': 17, b'rows': 4, b'mixes': 1, b'overthrown': 7, b'persistently': 1, b'engulf': 1, b'fowls': 10, b'pantings': 1, b'copious': 9, b'receded': 1, b'importunate': 5, b'agrees': 1, b'garments': 5, b'aye': 3, b'expose': 2, b'draws': 8, b'ithaca': 10, b'consuming': 8, b'wings': 11, b'arming': 13, b'purloin': 2, b'forging': 1, b'calamity': 5, b'senators': 9, b'orchard': 6, b'arna': 2, b'thousands': 13, b'starveling': 1, b'flimsy': 1, b'iphianassa': 6, b'anchisiades': 1, b'crafty': 4, b'asking': 3, b'lighten': 1, b'surround': 3, b'lyctus': 6, b'profits': 2, b'saves': 3, b'arrayed': 5, b'vestibule': 9, b'insults': 2, b'unsteady': 2, b'loosely': 1, b'acarnas': 1, b'deliberation': 1, b'eilithuiae': 1, b'childbirth': 1, b'dispensers': 2, b'propping': 2, b'silly': 5, b'exhausting': 2, b'sorrows': 21, b'visiting': 4, b'caredst': 1, b'concession': 1, b'combine': 3, b'cephalonia': 1, b'prepar': 29, b'fix': 39, b'vexation': 2, b'lengthened': 1, b'unconquerable': 2, b'prizest': 1, b'sue': 5, b'enquiry': 2, b'unconquer': 8, b'flocking': 1, b'playing': 8, b'virtuous': 7, b'sheaves': 3, b'sultry': 2, b'jutting': 9, b'exposed': 6, b'acting': 3, b'proposed': 8, b'inspiring': 8, b'allaying': 1, b'co\\xc3\\xabvals': 1, b'loses': 2, b'devis': 2, b'hated': 10, b'ensue': 5, b'speakest': 1, b'dearer': 7, b'assurances': 1, b'perceivest': 1, b'stroked': 4, b'chode': 1, b'admiring': 10, b'perverse': 4, b'aching': 3, b'controls': 3, b'dishonored': 2, b'partly': 2, b'devising': 3, b'enters': 5, b'recommends': 1, b'furnace': 4, b'discomfited': 6, b'ridges': 4, b'glauce': 1, b'thalia': 2, b'cymodoce': 3, b'nesaia': 1, b'speo': 1, b'thoe': 1, b'halie': 1, b'continuous': 11, b'graze': 7, b'meadow': 4, b'e\\xc3\\xabtion': 13, b'valorous': 2, b'periboea': 3, b'dissuaded': 2, b'glaphyr\\xc3\\xa6': 1, b'excited': 7, b'possible': 7, b'hostility': 5, b'pards': 1, b'girlhood': 1, b'specified': 1, b'health': 3, b'diaphragm': 1, b'twin': 15, b'phial': 2, b'separate': 5, b'explain': 6, b'rivulets': 3, b'bleed': 9, b'afresh': 8, b'pusillanimous': 2, b'm\\xc3\\xa6onian': 4, b'borus': 5, b'guilty': 7, b'wake': 6, b'uphold': 2, b'abantes': 5, b'tassell': 6, b'coronca': 1, b'departing': 8, b'empire': 3, b'ineffectual': 4, b'whereupon': 1, b'clytomedes': 3, b'meaning': 4, b'wanes': 2, b'methinks': 25, b'subdue': 7, b'tunic': 3, b'accurs': 3, b'conveyed': 5, b'promulge': 1, b'redound': 2, b'submitted': 1, b'providing': 1, b'exhaust': 2, b'admired': 5, b'protected': 13, b'exchang': 2, b'aegina': 2, b'glitter': 2, b'unwearied': 20, b'lights': 2, b'panoply': 2, b'increas': 3, b'saith': 3, b'apportion': 3, b'chrysothemis': 6, b'tempting': 2, b'darkly': 2, b'rippling': 1, b'unmated': 1, b'happier': 2, b'deplorable': 2, b'defeated': 4, b'handsomest': 1, b'dwellers': 15, b'broider': 10, b'building': 6, b'purified': 7, b'inquired': 15, b'tim': 3, b'peeress': 1, b'peraebi': 1, b'strait': 3, b'widening': 1, b'scope': 3, b'abhorr': 7, b'lowings': 1, b'behest': 3, b'parting': 4, b'conceiv': 3, b'perceiving': 2, b'vitals': 4, b'tether': 5, b'anthea': 2, b'aepea': 2, b'cythereans': 1, b'waggons': 2, b'forbidden': 6, b'fencing': 2, b'greedy': 1, b'senses': 9, b'eurus': 2, b'bristled': 4, b'charis': 3, b'artist': 11, b'sonorous': 7, b'closing': 3, b'trophy': 9, b'actual': 3, b'serviceable': 2, b'libations': 14, b'stealth': 8, b'ambassadress': 8, b'beholder': 1, b'attire': 9, b'artifice': 6, b'chaps': 1, b'furrows': 3, b'woodmen': 3, b'ropes': 3, b'pure': 20, b'slings': 2, b'twisted': 17, b'wallowing': 1, b'delayed': 1, b'conceiving': 5, b'unmolested': 2, b'craftily': 1, b'howls': 3, b'hussy': 2, b'innocuous': 4, b'soften': 3, b'gibes': 1, b'asks': 5, b'cowed': 1, b'fairly': 12, b'creeks': 1, b'extends': 10, b'imploring': 17, b'sterner': 2, b'tones': 6, b'perplex': 7, b'pytho': 3, b'drift': 2, b'revell': 1, b'cranae': 2, b'nineteen': 3, b'obstruction': 1, b'cordial': 4, b'greeted': 2, b'couches': 5, b'phegeus': 9, b'strikes': 7, b'reply': 8, b'pester': 1, b'glorifies': 1, b'adust': 3, b'severing': 1, b'parted': 20, b'satisfaction': 8, b'belongs': 5, b'chests': 9, b'discouraged': 1, b'rally': 6, b'overpowered': 4, b'argicide': 8, b'howsoe': 5, b'growth': 10, b'pierces': 1, b'dragons': 1, b'rds': 4, b'mouldy': 1, b'mansions': 6, b'doubtful': 11, b'pre': 10, b'really': 6, b'regular': 3, b'expanding': 1, b'yesternight': 4, b'resemblance': 1, b'stormy': 30, b'lifts': 2, b'incessantly': 2, b'fare': 6, b'wax': 5, b'inconsiderately': 1, b'disconcerted': 1, b'expound': 2, b'districts': 2, b'darkling': 7, b'chrys\\xc3\\xabis': 6, b'fatted': 9, b'brawn': 3, b'messeis': 2, b'hypereia': 5, b'brutally': 1, b'whereto': 1, b'doryclus': 3, b'tamely': 2, b'heeds': 3, b'experience': 5, b'prothoenor': 7, b'baffle': 4, b'doleful': 3, b'erythrae': 2, b'whatsoe': 3, b'ertaking': 2, b'tenfold': 2, b'twentyfold': 1, b'daedalus': 2, b'cnossus': 5, b'unnoticed': 3, b'augeias': 3, b'trenchant': 6, b'upstanding': 3, b'gigantic': 6, b'instruction': 2, b'nest': 5, b'kissed': 3, b'sharpen': 7, b'tongued': 5, b'imploringly': 1, b'oppose': 22, b'insulting': 6, b'pleuron': 7, b'pylone': 1, b'disrespect': 1, b'constraining': 1, b'amorous': 3, b'paying': 1, b'ingloriously': 6, b'freed': 4, b'grievousness': 1, b'rouser': 1, b'recompensed': 2, b'neglect': 8, b'cudgels': 1, b'plenty': 4, b'unstinted': 1, b'swerved': 7, b'cteatus': 6, b'chatter': 3, b'revile': 1, b'wishes': 5, b'mere': 17, b'fated': 11, b'grow': 13, b'otreus': 3, b'mygdon': 3, b'whets': 3, b'unsuspecting': 1, b'unquench': 2, b'hastens': 3, b'inveigle': 2, b'volumes': 2, b'climbs': 1, b'abandoning': 5, b'dow': 2, b'espous': 3, b'repute': 4, b';)': 5, b'floated': 6, b'conductor': 3, b'shortening': 1, b'lamenting': 14, b'shifting': 5, b'traitor': 1, b'deliverance': 6, b'torrents': 12, b'granicus': 2, b'rhodius': 3, b'resounding': 7, b'ordained': 3, b'dishearten': 1, b'shifts': 3, b'calm': 7, b'flattering': 1, b'lured': 7, b'bequest': 1, b'gouts': 2, b'beaten': 18, b'flinch': 3, b'navy': 3, b'troop': 11, b'debating': 1, b'dank': 2, b'spite': 14, b'ivory': 7, b'piece': 10, b'sailing': 6, b'selfsame': 4, b'rending': 1, b'disciplined': 1, b'creeps': 1, b'credit': 2, b'beshrew': 2, b'invaded': 2, b'internal': 1, b'champain': 12, b'fights': 16, b'souls': 15, b'helmed': 4, b'womanlike': 1, b'enterprise': 3, b'opens': 4, b'affliction': 3, b'crag': 6, b'gorge': 3, b'vigilance': 2, b'furies': 8, b'grovelled': 2, b'mire': 3, b'renc': 1, b'towering': 9, b'delude': 2, b'bitten': 7, b'endue': 2, b'hovering': 3, b'coadjutors': 1, b'lopp': 6, b'importunity': 1, b'undesired': 1, b'frightening': 1, b'coal': 2, b'unbroken': 8, b'gild': 1, b'weave': 4, b'watered': 2, b'mistake': 3, b'shawls': 2, b'cloaks': 6, b'ravage': 1, b'uncontrol': 1, b'pasithea': 6, b'seventh': 9, b'month': 5, b'arisbe': 5, b'bedizened': 4, b'hebe': 9, b'tumultuous': 11, b'parapet': 3, b'languages': 1, b'score': 2, b'razer': 2, b'vast': 42, b'glee': 1, b'luscious': 12, b'speaks': 7, b'mollified': 1, b'saving': 11, b'confus': 6, b'clamour': 17, b'forced': 16, b'subjected': 2, b'decree': 7, b'rag': 16, b'idea': 1, b'whirlwinds': 1, b'fronting': 1, b'flaring': 2, b'contriving': 1, b'untam': 1, b'distinction': 3, b'bragging': 2, b'discarding': 1, b'chilly': 1, b'thootes': 4, b'alight': 3, b'thebaeus': 2, b'unsuccessful': 2, b'branding': 1, b'tied': 8, b'kinsmen': 10, b'chill': 4, b'grappled': 2, b'flat': 9, b'stridulous': 1, b'horror': 8, b'aveng': 4, b'brysia': 1, b'augeia': 2, b'fashion': 11, b'slowest': 4, b'pric': 2, b'woven': 11, b'hearth': 6, b'haunts': 5, b'dymas': 3, b'musing': 6, b'mode': 1, b'clove': 4, b'sharpness': 1, b'craven': 1, b'imperishable': 7, b'tended': 9, b'unskill': 7, b'tasselled': 5, b'shake': 12, b'dian': 10, b'hawks': 1, b'matched': 2, b'instigation': 1, b'almost': 4, b'instantly': 10, b'sheds': 4, b'manifest': 4, b'nimbleness': 1, b'puncture': 2, b'determined': 5, b'irremediable': 1, b'stray': 2, b'dams': 4, b'briskly': 4, b'prophets': 2, b'selli': 2, b'unwashed': 2, b'enormities': 1, b'neglected': 9, b'compeer': 3, b'unapt': 2, b'azeus': 2, b'omened': 2, b'obscure': 1, b'august': 5, b'diodes': 2, b'undefil': 1, b'unterrified': 2, b'challeng': 3, b'dim': 4, b'cheap': 4, b'speedy': 4, b'purchase': 3, b'eurymedon': 9, b'orderly': 8, b'embolden': 5, b'insures': 1, b'betides': 3, b'rearing': 5, b'pap': 6, b'niggard': 1, b'thickly': 10, b'voiced': 9, b'enemies': 10, b'torch': 8, b'bees': 6, b'sullenly': 1, b'withdraws': 2, b'marish': 1, b'palaces': 1, b'wagging': 1, b'unbridled': 2, b'beverage': 1, b'forbade': 4, b'bubbling': 4, b'deems': 4, b'buffalo': 1, b'aggrieved': 4, b'instinct': 2, b'imbrasus': 3, b'\\xc3\\xa6nos': 1, b'pilot': 2, b'delicacy': 1, b'collision': 1, b'bathe': 3, b'track': 12, b'vowing': 5, b'starry': 16, b'weakens': 1, b'wilful': 4, b'yard': 8, b'averts': 1, b'scurril': 3, b'babbler': 2, b'unsummon': 2, b'sufficient': 9, b'plea': 1, b'expects': 4, b'embroidery': 3, b'catching': 1, b'albeit': 3, b'treaty': 4, b'reading': 1, b'greener': 1, b'undone': 7, b'compare': 12, b'adrastus': 21, b'chanced': 3, b'outposts': 3, b'instruct': 2, b'furtherance': 1, b'amity': 8, b'henceforward': 3, b'obdurate': 4, b'chattering': 3, b'awaiting': 7, b'enrich': 6, b'welcomes': 1, b'reapers': 6, b'mow': 4, b'swathe': 5, b'bleeds': 4, b'brood': 7, b'suspended': 10, b'heading': 3, b'wherever': 9, b'leftward': 8, b'astonish': 16, b'opposes': 3, b'special': 5, b'beseems': 11, b'messa': 2, b'frequented': 2, b'rafters': 3, b'owners': 2, b'leadership': 1, b'wandered': 2, b'provocation': 1, b'lids': 3, b'parley': 2, b'revived': 5, b'submiss': 2, b'outskirts': 1, b'rejoiced': 10, b'spending': 1, b'stablished': 1, b'nature': 6, b'tread': 9, b'apseudes': 2, b'designing': 10, b'quarrel': 25, b'wither': 2, b'gorged': 2, b'rested': 4, b'deipylus': 3, b'quells': 4, b'retreated': 3, b'invincible': 11, b'fragrance': 2, b'removing': 1, b'managed': 3, b'amiss': 5, b'gardens': 2, b'drought': 2, b'implacable': 11, b'solicitude': 2, b'fails': 5, b'discreet': 10, b'captivity': 5, b'sweeping': 4, b'net': 5, b'hobbled': 2, b'unobserv': 5, b'strains': 7, b'ambrosia': 15, b'slash': 1, b'remnant': 6, b'restitution': 1, b'agathon': 3, b'pammon': 3, b'antiphonus': 3, b'fervor': 3, b'entreaties': 4, b'displace': 1, b'unheeded': 3, b'inclin': 5, b'magnanimous': 5, b'incense': 13, b'proving': 1, b'impossible': 4, b'sternness': 2, b'chromis': 3, b'meditated': 1, b'poppy': 5, b'bloom': 7, b'weighed': 4, b'showers': 4, b'particular': 5, b'touches': 1, b'dun': 3, b'ignominious': 8, b'unguents': 3, b'sagest': 5, b'perimus': 3, b'savour': 7, b'throws': 3, b'woof': 5, b'warp': 4, b'unflown': 1, b'fledged': 1, b'burden': 7, b'beholders': 1, b'sicyon': 5, b'resemblest': 2, b'undergo': 2, b'apparent': 3, b'bide': 3, b'whistling': 2, b'boeotia': 8, b'hearken': 5, b'sparkling': 6, b'snap': 3, b'waved': 8, b'bled': 4, b'squires': 9, b'hammering': 2, b'invocation': 1, b'presented': 5, b'fluent': 2, b'orators': 1, b'cicales': 1, b'chirrup': 1, b'utt': 4, b'stabb': 4, b'ph\\xc3\\xa6r\\xc3\\xa6': 1, b'flanks': 4, b'mellow': 4, b'poeonia': 1, b'persist': 1, b'pipes': 7, b'rancour': 4, b'malignant': 1, b'thessalus': 3, b'alcides': 3, b'recoil': 15, b'currents': 2, b'sombre': 1, b'redden': 5, b'sorrowfully': 4, b'pairs': 2, b'chord': 1, b'commandment': 5, b'figur': 3, b'deference': 1, b'therewith': 3, b'enclosure': 2, b'solym\\xc3\\xa6': 2, b'successive': 3, b'courteous': 2, b'callianira': 1, b'doris': 3, b'panope': 4, b'unbending': 2, b'vigil': 1, b'unjust': 4, b'stolen': 3, b'autolycus': 4, b'duties': 5, b'easiest': 3, b'yesterday': 9, b'consciousness': 2, b'interval': 10, b'unharness': 3, b'periphas': 9, b'ejecting': 2, b'grumous': 1, b'poises': 2, b'inclinest': 1, b'leg': 8, b'greave': 2, b'pines': 2, b'stratagems': 1, b'subtle': 3, b'errand': 13, b'trica': 1, b'worthless': 9, b'jagged': 7, b'clam': 5, b'resounds': 2, b'enveloped': 2, b'presuming': 2, b'lavish': 2, b'stow': 4, b'\\xc3\\xa6ther': 1, b'ventilates': 1, b'whitening': 2, b'husk': 2, b'sport': 5, b'overpass': 2, b'date': 1, b'rulers': 2, b'tarpha': 2, b'thronius': 1, b'brink': 11, b'untended': 1, b'camped': 2, b'lit': 5, b'bristles': 5, b'_?': 2, b'millstone': 3, b'unwed': 1, b'indulgent': 1, b'aurora': 9, b'region': 3, b'catch': 7, b'disregard': 6, b'surge': 4, b'propp': 6, b'unremitting': 3, b'hippotion': 5, b'standest': 1, b'clusters': 3, b'supported': 4, b'roasted': 10, b'leav': 5, b'suocor': 1, b'paeeon': 4, b'cure': 5, b'embassy': 6, b'hole': 3, b'baleful': 3, b'glances': 5, b'scalding': 2, b'charges': 6, b'duteous': 2, b'inroad': 7, b'typhoeus': 3, b'strange': 8, b'enjoined': 2, b'tempestuous': 9, b'moaning': 1, b'clutching': 2, b'la\\xc3\\xb6medon': 1, b'rebounded': 3, b'pebbles': 1, b'trusses': 2, b'constructed': 3, b'skulking': 4, b'prays': 7, b'agel\\xc3\\xa4us': 1, b'wiping': 2, b'baseness': 1, b'disposition': 7, b'hyperesia': 3, b'gonoessa': 2, b'pellene': 3, b'aegium': 2, b'concerted': 1, b'dumb': 2, b'obligation': 1, b'shady': 2, b'declivity': 2, b'contests': 4, b'wands': 2, b'wakeful': 8, b'succumb': 5, b'inflexible': 3, b'protuberant': 2, b'althaea': 2, b'guneus': 2, b'cyphus': 2, b'thymoetes': 2, b'stoutest': 1, b'degraded': 2, b'surrounds': 4, b'twigs': 1, b'unhonor': 1, b'access': 3, b'chalice': 2, b'poured': 14, b'footstool': 3, b'suff': 6, b'aloeus': 3, b'unblemish': 3, b'famine': 1, b'osiers': 1, b'fellers': 1, b'proposes': 5, b'hinds': 7, b'flour': 1, b'smirch': 1, b'percope': 1, b'circler': 5, b'erlaid': 6, b'drops': 11, b'quickest': 1, b'encamped': 4, b'postpone': 1, b'coupled': 1, b'maris': 4, b'boastful': 4, b'spun': 6, b'destin': 8, b'unwarlike': 4, b'deadliest': 2, b'masonry': 1, b'panopeus': 8, b'mill': 1, b'deluding': 2, b'mislead': 1, b'deceitful': 5, b'quiv': 10, b'emblems': 1, b'stepped': 3, b'scaled': 3, b'somersault': 1, b'terrific': 12, b'closet': 1, b'recoils': 3, b'conclave': 2, b'ambuscade': 4, b'extant': 2, b'ell': 1, b'predestined': 1, b'refuses': 1, b'thunderbolt': 3, b'measuring': 1, b'rods': 7, b'erborne': 4, b'precious': 11, b'lycophron': 3, b'gaunt': 1, b'erleaping': 1, b'shamefully': 2, b'chastised': 4, b'unvantaged': 1, b'steeled': 2, b'chin': 9, b'judicious': 2, b'feat': 1, b'pitting': 1, b'ochesius': 3, b'missiles': 5, b'believed': 3, b'petition': 3, b'ewer': 2, b'laver': 1, b'subside': 3, b'knife': 6, b'pheidippus': 1, b'bleeding': 7, b'payment': 8, b'ganymede': 6, b'sheltering': 5, b'sevenfold': 4, b'experiment': 1, b'issues': 2, b'voluminous': 1, b'wholesome': 3, b'trail': 5, b'\\xc3\\xa6g\\xc3\\xa6': 2, b'abyss': 3, b'film': 3, b'lurid': 1, b'reap': 8, b'rowing': 1, b'testimony': 2, b'forgetful': 3, b'zeleia': 6, b'forsaking': 1, b'archeress': 2, b'screamed': 4, b'agree': 10, b'manners': 3, b'careful': 7, b'.(': 1, b'pillar': 14, b'ominous': 3, b'watering': 2, b'husbands': 4, b'untaught': 4, b'overlooks': 1, b'build': 13, b'dowry': 1, b'thryo\\xc3\\xabssa': 1, b'deserving': 2, b'prefer': 8, b'loquacity': 1, b'tales': 2, b'orient': 1, b'stickle': 1, b'rights': 5, b'hardiest': 1, b'absorb': 2, b'braver': 3, b'panomph\\xc3\\xa6an': 1, b'coils': 1, b'laps': 6, b'paunch': 1, b'fellowship': 4, b'hardships': 5, b'thrones': 4, b'quest': 5, b'woolly': 2, b'singled': 3, b'arcesila\\xc3\\xbcs': 1, b'dues': 7, b'teem': 2, b'admittance': 1, b'oblique': 5, b'sapling': 3, b'forlorn': 8, b'choir': 1, b'concave': 2, b'adept': 3, b'fists': 4, b'pyl\\xc3\\xa6menes': 4, b'journey': 18, b'pursuest': 4, b'reader': 3, b'natural': 1, b'rejecting': 3, b'defenders': 4, b'contumely': 4, b'confused': 6, b'disclaim': 1, b'thyrsus': 1, b'offended': 6, b'medesicasta': 1, b'groves': 9, b'epicles': 4, b'grandson': 6, b'grac': 3, b'patricide': 1, b'hemmed': 8, b'difficult': 7, b'ghastly': 3, b'backing': 1, b'profusely': 1, b'garnish': 2, b'whatever': 7, b'draught': 6, b'asleep': 7, b'foamed': 1, b'thong': 4, b'assuaging': 1, b'asked': 9, b'enriched': 2, b'ointments': 3, b'weed': 2, b'braggarts': 3, b'plants': 3, b'delusive': 1, b'arcadians': 3, b'celadon': 3, b'raisers': 1, b'irritate': 2, b'affront': 5, b'belonging': 1, b'grenicus': 1, b'aesopus': 4, b'diocles': 4, b'spouted': 2, b'illumin': 1, b'proudest': 3, b'glistened': 2, b'lobes': 1, b'languish': 2, b'consulting': 5, b'spell': 1, b'aright': 8, b'beans': 3, b'peas': 1, b'befits': 4, b'expectant': 4, b'interference': 1, b'persisted': 2, b'heritage': 9, b'cliff': 8, b'bleak': 2, b'enispe': 3, b'stymphelus': 2, b'parrhasia': 3, b'struggle': 11, b'disguise': 2, b'compassing': 4, b'worm': 4, b'evenus': 3, b'bit': 6, b'peirous': 5, b'ankle': 1, b'nele\\xc3\\xafan': 1, b'oratory': 1, b'churl': 1, b'simpleton': 1, b'counselled': 4, b'destroyer': 14, b'discus': 3, b'prow': 10, b'besides': 7, b'unavenged': 2, b'gushing': 7, b'swoon': 5, b'tug': 8, b'performed': 5, b'commune': 1, b'hawsers': 2, b'ethereal': 2, b'divulging': 1, b'pretend': 3, b'crops': 2, b'sod': 2, b'nisyrus': 3, b'carpathus': 1, b'midriff': 9, b'satnius': 3, b'entire': 9, b'merops': 6, b'vers': 3, b'pondering': 5, b'tassels': 5, b'earrings': 1, b'pendants': 2, b'echinades': 2, b'sunk': 15, b'unobnoxious': 1, b'doublet': 2, b'disappear': 10, b'laborers': 2, b'ratify': 6, b'secretly': 4, b'countrymen': 5, b'archilochus': 7, b'entertainment': 2, b'feathers': 1, b'arriv': 15, b'expediting': 1, b'hippomachus': 3, b'hulls': 1, b'encountering': 5, b'gorg': 2, b'twirling': 2, b'combats': 2, b'lacedemon': 1, b'aghast': 6, b'rescues': 5, b'railed': 1, b'glades': 5, b'routs': 2, b'rosy': 16, b'cumber': 1, b'circumfus': 2, b'flounders': 1, b'lithe': 4, b'ca\\xc3\\xbfster': 1, b'tripp': 5, b'loquacious': 1, b'virtues': 3, b'difference': 2, b'combined': 9, b'whosoever': 3, b'cow': 10, b'invested': 4, b'cataract': 1, b'furling': 1, b'stowed': 1, b'garment': 6, b'unfed': 2, b'infusing': 3, b'aiming': 7, b'chast': 1, b'imbrius': 11, b'flippant': 1, b'fram': 5, b'revere': 4, b'excuse': 4, b'presumptuous': 6, b'plied': 10, b'flapping': 2, b'belts': 4, b'cleitus': 1, b'pisenor': 3, b'tokens': 4, b'noemon': 4, b'nose': 6, b'ramparts': 4, b'devout': 1, b'oppress': 17, b'coat': 5, b'rer': 8, b'gray': 2, b'siz': 2, b'fleece': 6, b'scarcely': 2, b'feels': 11, b'crime': 4, b'stranger': 8, b'glen': 7, b'reproachful': 11, b'atonement': 4, b'carcass': 1, b'pramnian': 3, b'corridors': 1, b'frails': 1, b'wicker': 5, b'aenon': 1, b'heave': 4, b'woeful': 2, b'robs': 6, b'endeavours': 2, b'implored': 11, b'aversion': 1, b'assembles': 2, b'spews': 1, b'streak': 2, b'voluble': 1, b'repairing': 3, b'abodes': 4, b'added': 16, b'wert': 6, b'separated': 3, b'pergamus': 15, b'strengthen': 5, b'phaestus': 3, b'maeonian': 4, b'presum': 3, b'appeal': 4, b'asserting': 1, b'interfered': 2, b'sedentary': 1, b'alert': 5, b'manfulness': 1, b'enkindled': 1, b'rumour': 4, b'ermaster': 2, b'impel': 1, b'sisterhood': 1, b'watches': 12, b'fixing': 5, b'unannoy': 3, b'deiochus': 1, b'flitting': 2, b'pleiads': 3, b'hyads': 3, b'admonition': 2, b'doubted': 3, b'worshipped': 2, b'trodden': 3, b'pensive': 1, b'steersman': 1, b'hillside': 1, b'pelasgians': 2, b'symmetry': 1, b'appeases': 1, b'submissions': 1, b'lag': 3, b'requir': 4, b'plight': 7, b'bill': 1, b'coax': 1, b'retrieved': 1, b'seemed': 8, b'slumbering': 2, b'averse': 3, b'deadened': 1, b'compeers': 3, b'sentinels': 6, b'philomedusa': 1, b'stedfast': 1, b'administ': 1, b'scored': 1, b'viands': 7, b'passages': 1, b'props': 2, b'completely': 2, b'laved': 7, b'envious': 1, b'confounds': 4, b'seething': 2, b'iphiclus': 9, b'succeed': 6, b'hovers': 1, b'stumble': 1, b'ensnare': 2, b'virtue': 8, b'imbros': 5, b'regretting': 1, b'pheneus': 3, b'orchomenos': 4, b'mariners': 5, b'upgrown': 1, b'rave': 1, b'totter': 2, b'distaff': 5, b'fainting': 9, b'ebb': 1, b'polyeidus': 2, b'alesia': 1, b'flaying': 1, b'carved': 2, b'knights': 4, b'carv': 2, b'lamb': 9, b'adjusted': 6, b'halia': 2, b'balius': 6, b'lessons': 2, b'evenly': 1, b'oblation': 1, b'methods': 1, b'sticking': 1, b'slipping': 1, b'combated': 1, b'polydora': 3, b'aloctryon': 1, b'inquiring': 2, b'conciliatory': 3, b'selepius': 1, b'layer': 6, b'knock': 3, b'whisper': 4, b'thersilochus': 6, b'deisenor': 3, b'unquenchable': 2, b'bossy': 20, b'dardania': 3, b'handful': 3, b'reeds': 8, b'increasing': 3, b'decorous': 1, b'surrounding': 2, b'resolv': 2, b'unransom': 3, b'repeated': 3, b'fits': 2, b'loosing': 1, b'brightness': 3, b'addressing': 1, b'boldest': 8, b'\\xc3\\xa6sepus': 4, b'chalcon': 2, b'keenest': 4, b'progress': 3, b'\\xc3\\xa6thiopia': 2, b'effects': 2, b'penalty': 4, b'wreak': 5, b'forsworn': 6, b'olympius': 1, b'abuse': 2, b'threatened': 4, b'sell': 4, b'sland': 1, b'quietly': 4, b'protesila\\xc3\\xbcs': 4, b'pelops': 6, b'asaeus': 1, b'glittered': 2, b'wavy': 3, b'embodied': 3, b'doorway': 1, b'scamandrios': 1, b'fullest': 2, b'earliest': 2, b'upbraid': 4, b'implanting': 1, b'shoots': 8, b'nostril': 2, b'contemplating': 1, b'prodigy': 7, b'throes': 4, b'athenian': 6, b'sheepfold': 4, b'leaned': 4, b'jutted': 1, b'sires': 10, b'unfold': 1, b'alcmaon': 5, b'graces': 12, b'assur': 4, b'rabble': 2, b'ceremonial': 3, b'hatchet': 1, b'betray': 3, b'beckoning': 1, b'shamed': 11, b'bargain': 3, b'issue': 13, b'zealous': 1, b'compounded': 1, b'menial': 2, b'knit': 2, b'contemplation': 1, b'hippothous': 14, b'lethus': 6, b'finished': 5, b'noisy': 3, b'falt': 2, b'quiet': 2, b'telemachus': 5, b'arching': 4, b'bristly': 4, b'oval': 5, b'lordly': 6, b'perhaps': 5, b'perseus': 9, b'casual': 1, b'intomb': 1, b'fang': 3, b'sated': 6, b'requited': 3, b'grandsire': 3, b'chaff': 6, b'whiter': 4, b'fallow': 8, b'befell': 6, b'convivial': 2, b'pleasures': 3, b'hastily': 2, b'amphius': 6, b'assisted': 4, b'cheerful': 5, b'enraged': 7, b'speeding': 5, b'severed': 4, b'phantom': 3, b'counterpart': 2, b'phocensians': 2, b'tosses': 3, b'mane': 13, b'dashes': 3, b'equality': 3, b'dice': 3, b'flavour': 1, b'limit': 2, b'tutor': 1, b'nimbly': 1, b'nearly': 4, b'corruption': 4, b'devoted': 4, b'seers': 3, b'estate': 6, b'prevented': 3, b'awed': 4, b'substance': 8, b'ascends': 7, b'weakest': 3, b'hypirochus': 1, b'stains': 6, b'cityward': 1, b'--(': 1, b'diverse': 4, b'hecatombs': 23, b'darken': 3, b'hams': 2, b'hitherwards': 1, b'produce': 5, b'amphytrion': 1, b'tridental': 2, b'smoothly': 5, b'loathe': 5, b'seniority': 2, b'instiate': 1, b'ianeira': 1, b'ianassa': 1, b'maera': 1, b'huts': 2, b'sheltered': 2, b'sheepfolds': 2, b'toss': 7, b'roamed': 1, b'defeat': 6, b'hoar': 5, b'ratified': 4, b'burying': 1, b'heavenward': 1, b'dishonouring': 1, b'sot': 1, b'weightier': 1, b'shipping': 1, b'reclaimed': 1, b'dispers': 11, b'possibly': 1, b'perjure': 2, b'punishing': 1, b'upright': 12, b'immured': 1, b'attending': 8, b'pealing': 1, b'p\\xc3\\xa6on': 6, b'scattering': 5, b'areithous': 9, b'bat': 1, b'relying': 5, b'heaviness': 6, b'chim\\xc3\\xa6ra': 2, b'irrevocable': 1, b'punctually': 1, b'refund': 1, b'govern': 3, b'weedy': 2, b'crowding': 3, b'offal': 4, b'fandarus': 1, b'spearing': 1, b'amputate': 1, b'stock': 10, b'begs': 3, b'catches': 2, b'gygaean': 3, b'jointed': 4, b'directly': 3, b'likelier': 1, b'lungs': 5, b'pent': 9, b'ephyre': 4, b'rivalry': 1, b'sceptred': 8, b'defraud': 3, b'cas': 1, b'glade': 10, b'braided': 1, b'pitiful': 2, b'penalties': 2, b'perjured': 1, b'fellest': 1, b'reveal': 3, b'forecasting': 1, b'asine': 3, b'sacrilegious': 1, b'tranquil': 2, b'redoubled': 1, b'invited': 4, b'builder': 6, b'cloths': 1, b'abians': 1, b'rived': 1, b'foeman': 7, b'admire': 2, b'stript': 5, b'fortitude': 5, b'extolling': 1, b'dejected': 4, b'cisses': 3, b'relate': 1, b'sheen': 3, b'burnished': 7, b'seeming': 1, b'spurn': 3, b'hitting': 9, b'heirs': 2, b'sallied': 9, b'impeded': 2, b'pounces': 4, b'fence': 11, b'firmer': 1, b'familiar': 5, b'surpris': 4, b'righteousness': 1, b'information': 2, b'profiting': 1, b'trusts': 1, b'wanders': 2, b'escort': 8, b'consenting': 3, b'consents': 3, b'bender': 2, b'spectatress': 1, b'wrests': 1, b'concerns': 6, b'shares': 2, b'respecting': 3, b'elastic': 2, b'admirable': 1, b'senatorial': 1, b'descriptions': 1, b'boaster': 2, b'scratch': 2, b'recorders': 1, b'melody': 1, b'sweets': 5, b'ransomer': 1, b'polyctor': 3, b'rallied': 10, b'luring': 1, b'phausius': 1, b'pirith\\xc3\\xb6us': 1, b'warders': 3, b'lowest': 11, b'nestlings': 7, b'wrestle': 5, b'rooms': 3, b'philetor': 3, b'demuchus': 2, b'staying': 2, b'patroness': 3, b'healed': 5, b'tightly': 1, b'untried': 1, b'spares': 2, b'troilus': 3, b'refluent': 2, b'handfuls': 4, b'stiff': 3, b'furrow': 9, b'inly': 5, b'brake': 3, b'straggler': 2, b'buttresses': 3, b'untouched': 1, b'harshly': 4, b'olive': 7, b'oedipus': 3, b'rattle': 2, b'impregnably': 2, b'conquerors': 1, b'trim': 2, b'meliboea': 3, b'thaumasia': 1, b'pronounced': 2, b'plane': 5, b'drudgery': 1, b'foothold': 1, b'suffices': 1, b'faultless': 3, b'alter': 1, b'serene': 7, b'sintians': 2, b'indulging': 4, b'wrathful': 6, b'doth': 3, b'chambers': 13, b'bereaved': 1, b'rapidity': 3, b'porch': 4, b'auxiliary': 1, b'thinning': 1, b'uninvited': 1, b'iardanus': 1, b'entertained': 5, b'threefold': 8, b'avails': 3, b'beakers': 5, b'armorer': 3, b'benefactor': 2, b'peg': 3, b'perseverance': 1, b'\\xc3\\xa6tolians': 6, b'remedy': 3, b'actions': 3, b'adventures': 1, b'hurting': 1, b'eune\\xc3\\xbcs': 1, b'caress': 1, b'hereditary': 2, b'fingered': 5, b'promptings': 5, b'oenomaus': 6, b'iphis': 3, b'phrase': 2, b'nis\\xc3\\xa6a': 1, b'spio': 2, b'thoa': 1, b'inglorious': 11, b'dally': 1, b'prothoon': 2, b'harder': 4, b'cavalry': 1, b'cos': 7, b'fortress': 6, b'protruded': 3, b'lighter': 5, b'gained': 2, b'jointly': 1, b'farm': 1, b'astyno\\xc3\\xbcs': 2, b'hypenor': 1, b'clamours': 7, b'suppress': 4, b'weeps': 9, b'nibbled': 1, b'ciconian': 2, b'sloth': 7, b'corslets': 3, b'abstinence': 3, b'blackens': 1, b'polymela': 1, b'longed': 3, b'breastplates': 6, b'chopp': 1, b'wilfully': 3, b'discreetly': 1, b'aggressor': 2, b'wond': 5, b'requests': 4, b'image': 2, b'innumerable': 5, b'imbattled': 2, b'imbed': 1, b'whisks': 1, b'sweetly': 1, b'arcesilaus': 3, b'sulph': 2, b'handmaids': 3, b'baldrick': 2, b'ribs': 2, b'rebounding': 1, b'shaped': 1, b'adorning': 3, b'dight': 2, b'recess': 8, b'orisons': 1, b'indisposed': 2, b'readiness': 8, b'abiding': 6, b'outpouring': 4, b'afforded': 4, b'coiranus': 2, b'disappoint': 2, b'sender': 1, b'recollect': 5, b'history': 1, b'eurynome': 7, b'talker': 1, b\"--'\": 2, b'disport': 1, b'forelock': 2, b'adjust': 1, b'maim': 4, b'wields': 6, b'uneven': 1, b'vilify': 1, b'accomplishing': 2, b'adhering': 2, b'inexorable': 3, b'tainted': 8, b'logs': 7, b'gale': 8, b'herb': 5, b'rubbing': 1, b'alectryon': 2, b'pillag': 1, b'glow': 5, b'--\"': 2, b'rivall': 1, b'rounding': 1, b'sooth': 9, b'mandate': 2, b'idaean': 3, b'archelochus': 2, b'mutilate': 1, b'transgress': 6, b'screen': 4, b'whirls': 3, b'enthralled': 1, b'posture': 5, b'pleases': 2, b'kinship': 1, b'engulph': 1, b'aethon': 2, b'unheard': 3, b'helpful': 3, b'perching': 1, b'upborne': 3, b'halizoni': 2, b'deeps': 1, b'uprisen': 1, b'niobe': 8, b'fulfilled': 7, b'beholding': 4, b'tyrant': 2, b'notions': 1, b'abydos': 6, b'boot': 10, b'oysters': 3, b'satisfy': 4, b'impending': 6, b'bard': 3, b'rippled': 1, b'concealed': 3, b'boundaries': 2, b'darkened': 2, b'succession': 4, b'boorish': 1, b'solace': 4, b'uneasy': 2, b'upbuild': 1, b'menaces': 6, b'shriek': 6, b'begirt': 4, b'saucy': 3, b'minx': 1, b'galley': 10, b'roast': 8, b'famish': 3, b'founded': 3, b'\\xc3\\xa6py': 1, b'scruples': 1, b'notch': 4, b'soundest': 1, b'avowed': 1, b'suckled': 6, b'span': 2, b'gulleys': 1, b'thinking': 11, b'sap': 1, b'raw': 6, b'chattel': 1, b'linger': 2, b'abas': 3, b'unagitated': 1, b'longest': 3, b'reaches': 3, b'vowed': 1, b'spikes': 2, b'butts': 2, b'untir': 1, b'overbold': 1, b'hyde': 2, b'piritho\\xc3\\xbcs': 3, b'unsanction': 1, b'eighth': 6, b'hazard': 4, b'succouring': 1, b'pelagon': 6, b'ancles': 6, b'suspicious': 1, b'spangled': 2, b'marvellous': 3, b'!)': 8, b'property': 4, b'trampled': 3, b'stealing': 2, b'departed': 5, b'reports': 3, b'override': 1, b'clasping': 3, b'cursed': 2, b'solitude': 1, b'rills': 1, b'abound': 2, b'unappall': 1, b'protector': 3, b'ev\\xc3\\xa6mon': 5, b'adjure': 1, b'bewildered': 2, b'spiritless': 5, b'tame': 3, b'presiding': 1, b'ilithy\\xc3\\xa6': 1, b'assuaged': 4, b'folded': 5, b'purchased': 3, b'vapor': 1, b'streaks': 1, b'rejoic': 4, b'relief': 6, b'unction': 2, b'salutiferous': 1, b'balms': 1, b'percnos': 1, b'lapithae': 4, b'sentence': 2, b'publishing': 2, b'deeper': 3, b'channels': 6, b'swell': 8, b'isander': 4, b'hurly': 4, b'burly': 4, b'drags': 9, b'kinswomen': 1, b'baby': 2, b'strives': 1, b'teams': 2, b'therein': 4, b'multiply': 1, b'gyrtius': 2, b'breezy': 7, b'simultaneous': 3, b'bathycles': 4, b'plate': 5, b'tressed': 1, b'calchodon': 2, b'enshroud': 3, b'cerulean': 4, b'bridegroom': 1, b'male': 6, b'crackling': 3, b'ensued': 9, b'ascania': 6, b'preceding': 3, b'impels': 2, b'worry': 1, b'exasperate': 2, b'wielded': 10, b'sick': 8, b'consecration': 2, b'iton': 3, b'dwarfs': 1, b'rapidly': 2, b'syme': 2, b'miserably': 1, b'wonderful': 3, b'gyg\\xc3\\xa6an': 2, b'hyllus': 3, b'clanging': 2, b'imparts': 2, b'sleeps': 12, b'trivial': 2, b'pretexts': 1, b'lads': 1, b'drov': 2, b'untasted': 1, b'inclose': 2, b'ionian': 1, b'drivest': 2, b'unwash': 3, b'wildfire': 2, b'fork': 5, b'maws': 1, b'flatulent': 1, b'trechus': 3, b'aetolian': 6, b'wooing': 7, b'nele\\xc3\\xafades': 1, b'unrefresh': 1, b'humming': 1, b'insects': 1, b'inextinguishable': 2, b'repelled': 1, b'overcharged': 1, b'thinner': 1, b'erhung': 3, b'hyperion': 1, b'tiring': 2, b'thereafter': 2, b'afford': 11, b'insolently': 1, b'freedom': 9, b'gets': 3, b'scar': 7, b'casus': 2, b'crapathus': 2, b'corselets': 5, b'vineyards': 4, b'stomach': 4, b'ransomed': 1, b'doubling': 7, b'cornel': 3, b'babe': 3, b'lees': 1, b'cedar': 3, b'thrashing': 1, b'elatus': 3, b'bellow': 5, b'camps': 3, b'skins': 2, b'occupy': 3, b'marvell': 3, b'inquisitive': 1, b'\\xc3\\xa6syma': 1, b'podarges': 1, b'cincture': 3, b'youngling': 1, b'sparrows': 3, b'ornament': 5, b'graia': 2, b'mycalessus': 3, b'harma': 3, b'eilesium': 2, b'persevered': 1, b'spit': 2, b'prong': 1, b'compasser': 2, b'bellona': 2, b'forsake': 10, b'prepondering': 1, b'benevolence': 1, b'repulses': 1, b'disarms': 1, b'agonizing': 1, b'lectos': 1, b'falchions': 3, b'redeem': 10, b'throbbing': 1, b'tremors': 1, b'prevailed': 4, b'seals': 2, b'halls': 4, b'irresistible': 4, b'reduced': 3, b'cyprus': 3, b'firing': 1, b'staunch': 9, b'unyoked': 6, b'fore': 6, b'coverlets': 1, b'onwards': 10, b'quaked': 5, b'revengeful': 1, b'phrygians': 5, b'sup': 1, b'ow': 5, b'excellence': 1, b'indubitable': 1, b'expels': 1, b'sing': 7, b'muse': 5, b'dell': 2, b'wain': 13, b'plank': 3, b'beceiv': 1, b'orbed': 1, b'intended': 2, b'wrestling': 6, b'excite': 4, b'outcry': 1, b'epegeus': 1, b'agacles': 3, b'ashes': 10, b'prostrates': 1, b'fume': 1, b'gortyna': 2, b'treading': 3, b'galleries': 1, b'gorgo': 1, b'methone': 3, b'thaumacia': 2, b'arrested': 4, b'cherishest': 1, b'foolish': 4, b'predict': 2, b'festivity': 1, b'augury': 6, b'azure': 14, b'bridge': 5, b'grazing': 4, b'marsh': 3, b'vanity': 1, b'mate': 7, b'shafted': 3, b'luxury': 2, b'bile': 1, b'swoop': 3, b'grapple': 1, b'beast': 11, b'esquire': 6, b'aforetime': 3, b'gorging': 5, b'rejoices': 3, b'goodwill': 15, b'd\\xc3\\xa6tor': 1, b'lasted': 3, b'ministry': 2, b'ungovernable': 1, b'expressly': 1, b'ferocious': 2, b'comb': 2, b'grips': 1, b'buttock': 4, b'stripes': 3, b'anemorea': 2, b'hyampolis': 2, b'midday': 4, b'woodcutters': 1, b'depending': 3, b'hissed': 2, b'interest': 3, b'interpos': 4, b'extending': 2, b'kindler': 1, b'raved': 1, b'redress': 1, b'injured': 3, b'resist': 9, b'pyraechmes': 3, b'paeonian': 3, b'advane': 1, b'dipped': 1, b'recruit': 2, b'coalesce': 1, b'severs': 4, b'unfolding': 2, b'compacts': 2, b'tween': 2, b'hurls': 3, b'downwards': 4, b'subtleties': 1, b'pathless': 1, b'solitudes': 1, b'sipylus': 3, b'glib': 1, b'babble': 1, b'plunge': 10, b'bethink': 5, b'disast': 2, b'contradicts': 3, b'qualities': 2, b'dived': 3, b'peroebi': 1, b'exercise': 1, b'sc\\xc3\\xa6an': 11, b'wiser': 6, b'rushes': 6, b'skipping': 1, b'coxcombs': 1, b'relieved': 2, b'wrings': 3, b'ravager': 1, b'marshaller': 1, b'risk': 2, b'aepeia': 2, b'mounts': 2, b'boastest': 1, b'surpassest': 3, b'womankind': 2, b'cytheras': 1, b'timorous': 5, b'detestation': 1, b'entrenchments': 1, b'attempts': 5, b'bristling': 5, b'mesthles': 6, b'maeonia': 1, b'slothful': 1, b'faded': 1, b'outstretch': 12, b'unto': 1, b'safeguard': 2, b'pounc': 1, b'hull': 2, b'middlemost': 2, b'firmness': 3, b'iretria': 1, b'sightless': 3, b'inferiors': 1, b'employment': 1, b'reckless': 8, b'uncontroll': 1, b'gazed': 6, b'splendor': 3, b'tempt': 6, b'needy': 1, b'error': 3, b'involv': 2, b'bough': 3, b'reposest': 1, b'consoled': 2, b'poenia': 1, b'valed': 3, b'dispel': 1, b'swollen': 3, b'therefrom': 1, b'garb': 3, b'formed': 2, b'establishing': 1, b'judged': 3, b'hippono\\xc3\\xbcs': 1, b'\\xc3\\xa6symnus': 1, b'magnetes': 1, b'commander': 7, b'discarded': 1, b'ruth': 4, b'inflame': 1, b'surged': 2, b'wat': 8, b'achelous': 4, b'heedlessness': 1, b'molion': 4, b'arraying': 1, b'exertions': 2, b'mirth': 2, b'illumined': 3, b'whithers': 2, b'plucks': 1, b'violate': 6, b'wounding': 5, b'secrete': 1, b'diligent': 3, b'dius': 2, b'hatching': 2, b'acrisian': 1, b'dan\\xc3\\xa4e': 1, b'purest': 2, b'awaked': 1, b'beck': 1, b'anoint': 5, b'battled': 1, b'suffice': 11, b'\\xc3\\xa6the': 3, b'lenient': 3, b'liberal': 3, b'menesthes': 3, b'anchialus': 3, b'dodon\\xc3\\xa6an': 1, b'ledges': 1, b'precipice': 1, b'listened': 4, b'scaped': 9, b'whoso': 4, b'shovel': 2, b'adrestus': 8, b'clogging': 1, b'shadows': 5, b'aslant': 3, b'directing': 3, b'unrelenting': 4, b'pedaeum': 1, b'medesicaste': 2, b'upstarted': 1, b'bedrabbled': 5, b'adjoin': 1, b'footing': 1, b'chok': 6, b'misgives': 1, b\"!'\": 4, b'travers': 2, b'attempting': 1, b'invitation': 1, b'hatchets': 4, b'exalt': 7, b'insure': 2, b'beleaguered': 1, b'lends': 1, b'kiss': 9, b'transcends': 1, b'happen': 4, b'footprints': 1, b'settle': 8, b'loin': 3, b'arises': 2, b'chink': 1, b'metes': 1, b'idleness': 2, b'enforc': 5, b'soak': 2, b'grease': 2, b'overshadowed': 2, b'stare': 1, b'caestus': 1, b'footrace': 1, b'demur': 1, b'haughtily': 3, b'unfeeling': 1, b'cr\\xc3\\xa6smus': 1, b'overlooked': 1, b'action': 4, b'tends': 2, b'flax': 2, b'potion': 1, b'hooked': 1, b'pulled': 4, b'shiver': 6, b'curbing': 1, b'womb': 13, b'dye': 5, b'designed': 1, b'commun': 6, b'owner': 2, b'helps': 1, b'desolating': 2, b'clearest': 2, b'opportunely': 1, b'limp': 1, b'e\\xc3\\xafon\\xc3\\xa6': 1, b'conflagration': 2, b'instigated': 1, b'outpoured': 1, b'screams': 2, b'debarr': 1, b'hovel': 2, b'peasant': 4, b'milks': 1, b'mydon': 6, b'recover': 2, b'swerve': 1, b'lasting': 2, b'depress': 1, b'deepest': 6, b'pit': 2, b'\";': 1, b'paeonians': 2, b'drovest': 2, b'soundly': 2, b'ensconc': 1, b'lodged': 3, b'plodding': 1, b'submit': 3, b'stumbled': 1, b'astringent': 1, b'anodyne': 2, b'marching': 6, b'drone': 1, b'helice': 8, b'scattered': 7, b'thamyris': 3, b'proclamation': 4, b'infernal': 3, b'phocian': 3, b'lilaea': 2, b'cephisus': 3, b'prompting': 3, b'gloat': 2, b'seam': 1, b'are\\xc3\\xaflochus': 1, b'brisker': 1, b'hoop': 2, b'waded': 2, b'couple': 2, b'doe': 2, b'byword': 1, b'couples': 1, b'stalks': 4, b'citizens': 12, b'involving': 2, b'dorium': 2, b'overlaid': 4, b'deterr': 1, b'effort': 5, b'afflict': 4, b'cerinthus': 3, b'values': 1, b';_': 1, b'wrench': 4, b'fruitling': 1, b'flakes': 13, b'descend': 14, b'returned': 7, b'competent': 1, b'baldric': 2, b'orchards': 1, b'unresisting': 4, b'rallies': 3, b'thickets': 4, b'shrivel': 1, b'solicited': 1, b'enope': 6, b'grass': 10, b'pheras': 1, b'\\xc3\\xa6syeta': 2, b'routing': 1, b'entreats': 2, b'assuag': 1, b'transfixed': 1, b'pydites': 1, b'percosian': 3, b'extracted': 1, b'nimble': 7, b'disown': 1, b'clashes': 2, b'degenerate': 1, b'inclinations': 1, b'thymbra': 3, b'dominion': 1, b'chain': 6, b'utterance': 10, b'i\\xc3\\xa6ra': 1, b'doto': 2, b'melita': 1, b'rains': 6, b'package': 1, b'antler': 6, b'fleeing': 2, b'abides': 4, b'perfer': 1, b'vulture': 8, b'arrogance': 2, b'rotted': 4, b'tackle': 2, b'marr': 5, b'hack': 4, b');': 1, b'plough': 11, b'winging': 1, b'invest': 1, b'communion': 1, b'transported': 2, b'likewise': 4, b'confidence': 10, b'untamed': 3, b'similitude': 2, b'ertakes': 1, b'bearest': 1, b'dive': 1, b'commenc': 1, b'expel': 2, b'purpled': 2, b'stings': 1, b'ephialtes': 3, b'bourn': 1, b'latter': 4, b'increased': 3, b'suckling': 1, b'foal': 3, b'neighbor': 3, b'ancestral': 3, b'swarming': 3, b'halter': 2, b'scours': 3, b'sensible': 2, b'argument': 2, b'exploits': 9, b'sepulchre': 4, b'scorch': 3, b'recollects': 1, b'no\\xc3\\xabmon': 2, b'apace': 4, b'vantage': 3, b'orgies': 1, b'fane': 8, b'listening': 3, b'wielding': 10, b'deplored': 3, b'galls': 1, b'fellies': 1, b'chaf': 2, b'subsist': 2, b'plow': 9, b'obloquy': 1, b'compell': 2, b'tricky': 1, b'bowls': 6, b'consultations': 1, b'orbs': 1, b'submitting': 2, b'isandrus': 2, b'beech': 10, b'boasters': 2, b'labyrinth': 1, b'perils': 3, b'undergone': 1, b'successful': 11, b'tardy': 4, b'pursu': 3, b'trunks': 3, b'unveil': 2, b'basin': 1, b'inspect': 1, b'dried': 13, b'maker': 1, b'gliding': 4, b'deceiver': 2, b'suspense': 3, b'counselling': 4, b'euboea': 5, b'copse': 3, b'unfavourable': 1, b'racing': 2, b'bespattered': 3, b'gems': 1, b'starts': 4, b'morsel': 6, b'bellies': 4, b'apartment': 1, b'weltering': 1, b'offshoot': 1, b'finger': 7, b'lastly': 5, b'steady': 4, b'business': 3, b'clenching': 1, b'hymeneal': 1, b'begging': 3, b'gleanings': 1, b'numbing': 2, b'unworthy': 7, b'sets': 8, b'discipline': 2, b'silvery': 1, b'safer': 4, b'manlier': 1, b'coronus': 3, b'boagrius': 3, b'clonius': 5, b'elicited': 1, b'tinkling': 1, b'hobbling': 2, b'chryse': 5, b'wand': 4, b'artists': 2, b'diverting': 1, b'singing': 7, b'apprais': 1, b'meanest': 4, b'ixion': 3, b'sprouted': 1, b'cushion': 1, b'bespangled': 3, b'thenceforward': 2, b'forever': 2, b'sheepskins': 1, b'rug': 1, b'sheet': 2, b'diffuses': 1, b'assured': 8, b'disposer': 1, b'solemnity': 1, b'scorning': 3, b'domestics': 1, b'destine': 1, b'fervently': 1, b'whelk': 1, b'traversing': 1, b'bowman': 2, b'cestus': 4, b'pupil': 1, b'discretion': 6, b'commanding': 4, b'bathed': 8, b'surg': 1, b'ascribed': 1, b'invok': 1, b'unapprized': 1, b'tearfully': 2, b'carries': 5, b'barbed': 4, b'noose': 1, b'crosswise': 1, b'bucklered': 1, b'dreads': 2, b'aegiale': 1, b'stirred': 5, b'striplings': 1, b'circles': 6, b'midmost': 6, b'despise': 6, b'challenged': 9, b'thebans': 3, b'frontlet': 3, b'intermission': 1, b'lopped': 2, b'foliage': 5, b'dressed': 2, b'misus': 2, b'willows': 3, b'elms': 6, b'implied': 1, b'withstood': 5, b'deeming': 7, b'la\\xc3\\xabrtes': 2, b'convolved': 1, b'transcendent': 1, b'janeira': 1, b'janassa': 1, b'sorry': 16, b'astyocheia': 1, b'cogs': 1, b'galling': 3, b'wakes': 2, b'falsifies': 2, b'tarried': 1, b'hie': 3, b'interposes': 1, b'rules': 8, b'travail': 3, b'vested': 1, b'anchor': 1, b'replenished': 1, b'luminous': 4, b'publish': 2, b'sufficiency': 2, b'toiled': 2, b'lurking': 1, b'result': 2, b'scoffingly': 1, b'firmess': 1, b'widowhood': 1, b'surcharged': 1, b'subjection': 3, b'untiring': 2, b'expanded': 5, b'imagination': 1, b'follows': 7, b'thief': 3, b'epytis': 1, b'placus': 3, b'cilicians': 2, b'snows': 3, b'lycophontes': 5, b'cousins': 1, b'slaves': 7, b'rhodians': 2, b'tripartite': 1, b'pipe': 2, b'innermost': 2, b'forefathers': 2, b'relent': 5, b'tarrying': 2, b'threads': 1, b'overruling': 1, b'traitors': 2, b'pike': 2, b'aethrae': 1, b'pittheus': 3, b'disgraced': 4, b'wager': 2, b'lesson': 4, b'harassing': 2, b'reprimanding': 2, b'aetonian': 1, b'fainthearted': 1, b'overborne': 1, b'temp': 1, b'fleeter': 3, b'euchenor': 4, b'possessions': 7, b'liking': 7, b'divergent': 1, b'beaming': 3, b'provokes': 2, b'controlest': 1, b'aspledon': 3, b'orchomenus': 4, b'minyas': 2, b'relics': 1, b'autonous': 4, b'h\\xc3\\xa6mon': 2, b'.)': 1, b'kindest': 1, b'stinging': 6, b'shut': 8, b'impassion': 2, b'rac': 4, b'traffic': 1, b'barter': 2, b'anything': 10, b'thrasymelus': 1, b'pilmus': 1, b'needs': 13, b'sparrow': 5, b'callow': 2, b'turbid': 1, b'thatched': 1, b'coarse': 2, b'juice': 6, b'curdles': 1, b'thickens': 1, b'ninety': 1, b'accustom': 2, b'chastise': 2, b'handle': 4, b'drafted': 1, b'guiltless': 4, b'thereto': 2, b'displays': 2, b'judging': 1, b'euneus': 4, b'tie': 1, b'forswear': 1, b'foresee': 1, b'exhibits': 1, b'proceeded': 5, b'dregs': 1, b'lusts': 1, b'repaid': 3, b'bubbled': 1, b'leavest': 2, b'dangerous': 4, b'meditate': 3, b'banqueting': 3, b'perverters': 1, b'arcadian': 3, b'inur': 1, b'exaggerated': 1, b'effeminate': 2, b'unemasculated': 1, b'fainted': 3, b'oracle': 3, b'web': 7, b'embroidering': 2, b'recognised': 1, b'distinguished': 3, b'ghost': 2, b'supplications': 2, b'afflicts': 8, b'swung': 5, b'dome': 2, b'ershadow': 2, b'labors': 7, b'appertain': 1, b'strained': 2, b'stated': 1, b'signal': 7, b'canals': 1, b'hoisted': 1, b'bellied': 2, b'areith\\xc3\\xb6us': 1, b'strangely': 1, b'judges': 3, b'handsomely': 1, b'pin': 5, b'brooch': 2, b'merits': 1, b'features': 2, b'indomitable': 2, b'obtained': 1, b'hindermost': 2, b'eddied': 5, b'encampment': 3, b'unperceiv': 2, b'dirt': 2, b'competition': 2, b'unshielded': 1, b'introduced': 6, b'tripped': 1, b'vulnerable': 2, b'career': 8, b'intervened': 1, b'implor': 3, b'flown': 5, b'boxers': 1, b'mecistes': 1, b'wip': 4, b'caucones': 1, b'skirts': 3, b'encamp': 7, b'advances': 1, b'losing': 4, b'reasons': 1, b'howso': 1, b'daylight': 3, b'sunshine': 1, b'alexander': 12, b'amain': 4, b'dreading': 1, b'denounce': 1, b'softer': 1, b'dropping': 3, b'gloried': 3, b'feelings': 1, b'wipe': 5, b'broader': 5, b'ampler': 2, b'echeclus': 5, b'ton': 3, b'backbone': 1, b'rhigmus': 3, b'thirsted': 1, b'chargest': 1, b'eventually': 1, b'contained': 1, b'disabling': 2, b'shrillest': 1, b'recruits': 1, b'limping': 5, b'indifferent': 1, b'ablutions': 1, b'rove': 1, b'exceeded': 1, b'cytherian': 1, b'unpunish': 2, b'meshes': 3, b'oozing': 2, b'saluted': 1, b'succeeded': 2, b'pursuer': 1, b'artful': 2, b'trampling': 3, b'oppressed': 2, b'infirmities': 1, b'creon': 3, b'inhabitants': 5, b'buttress': 5, b'buoyant': 2, b'animation': 1, b'penury': 1, b'destroyed': 5, b'inflict': 5, b'feuds': 5, b'recruited': 3, b'cans': 1, b'buzzing': 1, b'amphigenia': 1, b'cyparissa': 1, b'drafting': 1, b'goatherds': 1, b'draft': 1, b'pens': 1, b'wretches': 1, b'opprobrious': 2, b'stilled': 1, b'minstrelsy': 1, b'ventur': 3, b'ravine': 1, b'cythera': 5, b'butcheries': 1, b'upwent': 2, b'languishes': 1, b'quests': 1, b'posterity': 1, b'festival': 1, b'flitted': 1, b'genial': 3, b'sulking': 1, b'previous': 3, b'imparted': 3, b'illib': 1, b'iolcus': 1, b'fort': 8, b'dium': 2, b'pregnant': 4, b'unharm': 2, b'imprison': 4, b'acarnanian': 1, b'roadside': 2, b'tease': 2, b'calf': 2, b'parricide': 1, b'mess': 5, b'chains': 6, b'visits': 3, b'unapproach': 1, b'stopp': 3, b'erclouded': 1, b'assigned': 1, b'variance': 3, b'schemes': 2, b'bench': 1, b'ungovern': 2, b'smirched': 1, b'thirsty': 3, b'midea': 1, b'nisa': 1, b'anthedon': 3, b'transform': 2, b'devotions': 1, b'forecourt': 1, b'amass': 1, b'calesius': 3, b'wordy': 6, b'wasteful': 1, b'fliest': 2, b'preventing': 5, b'woodland': 3, b'descrying': 1, b'quicker': 4, b'baskets': 8, b'potter': 3, b'gored': 1, b'rolled': 4, b'lustre': 3, b'boebe': 3, b'iolcos': 1, b'junior': 2, b'reek': 7, b'tortured': 3, b'boist': 4, b'unhurt': 4, b'boiled': 1, b'drenched': 3, b'assails': 3, b'exploring': 2, b'robber': 1, b'excessive': 1, b'supple': 3, b'assaeus': 1, b'abhorred': 4, b'ore': 1, b'alizonian': 1, b'enjoyment': 1, b'stupidity': 2, b'observes': 1, b'league': 3, b'corinthus': 1, b'eas': 1, b'yearning': 3, b'vociferous': 2, b'surfeit': 1, b'steward': 1, b'goblets': 4, b'partial': 1, b'pirus': 4, b'unfledged': 1, b'expired': 10, b'drunkenness': 1, b'wallow': 1, b'faintly': 1, b'letting': 5, b'milkiness': 1, b'apple': 1, b'gibbering': 1, b'purg': 4, b'acknowledging': 1, b'sidelong': 1, b'ilithuiae': 1, b'regaled': 2, b'phare': 2, b'inserted': 2, b'reason': 21, b'brooded': 1, b'endur': 7, b'uplifting': 2, b'commit': 4, b'elegance': 1, b'regarding': 2, b'pigs': 1, b'threatenings': 1, b'upbore': 5, b'practius': 2, b'escorting': 1, b'torchlight': 1, b'slipped': 1, b'forsaken': 3, b'soaked': 1, b'hypoplacian': 3, b'polybus': 3, b'hippoco\\xc3\\xb6n': 1, b'aroused': 1, b'thinn': 3, b'protectest': 2, b'repel': 9, b'profitable': 1, b'histiaea': 2, b'bestir': 2, b'exclaimed': 2, b'interfering': 1, b'migrated': 1, b'incommodious': 1, b'buildings': 1, b'involves': 2, b'thronium': 2, b'hilted': 5, b'ith\\xc3\\xa6menes': 1, b'commingling': 3, b'hastened': 3, b'buprasian': 1, b'chiding': 3, b'munition': 1, b'chersidamas': 3, b'feeds': 4, b'carian': 4, b'slowly': 5, b'reversed': 3, b'maeonians': 1, b'flagon': 4, b'hanged': 1, b'anvils': 3, b'defended': 8, b'especial': 3, b'suits': 3, b'hammer': 4, b'tongs': 3, b'sumptuous': 6, b'banquets': 3, b'clytemnestra': 3, b'quails': 1, b'reflecting': 3, b'matur': 1, b'mar': 4, b'objects': 1, b'thereupon': 2, b'tremblers': 1, b'blasted': 1, b'pulls': 1, b'acute': 1, b'muttered': 3, b'discontent': 2, b'bellying': 2, b'miseries': 2, b'turtles': 2, b'myrinna': 2, b'purposely': 1, b'guilefully': 1, b'brute': 2, b'regains': 1, b'winning': 4, b'prompts': 3, b'deposited': 1, b'waxing': 2, b'accepted': 1, b'turtledoves': 1, b'gripped': 3, b'horrible': 2, b'eluding': 1, b'assumes': 2, b'uptorn': 1, b'basis': 1, b'rations': 1, b'seating': 1, b'disclos': 2, b'whirled': 5, b'solemnities': 1, b'betwixt': 2, b'inclosed': 2, b'sweated': 3, b'besieged': 2, b'unmourned': 1, b'\\xc3\\xa6tolian': 6, b'tool': 1, b'joining': 1, b'crooked': 3, b'dios': 2, b'provide': 7, b'desert': 7, b'ditty': 1, b'malicious': 1, b'prophesyings': 3, b'heeding': 1, b'interpreter': 1, b'accoutrements': 1, b'bloodthirsty': 1, b'perfidious': 2, b'shared': 10, b'pugilists': 1, b'disturbing': 3, b'includes': 2, b'malady': 1, b'clips': 1, b'admit': 3, b'immortality': 1, b'scarlet': 2, b'resources': 1, b'\\xc3\\xa6tolia': 3, b'loerians': 1, b'mentor': 3, b'pyrasus': 4, b'mowings': 1, b'bathes': 1, b'evildoer': 1, b'pinn': 2, b'embrued': 1, b'allotment': 1, b'author': 7, b'subtlety': 2, b'teuthranus': 1, b'answering': 2, b'vollies': 2, b'suitable': 1, b'forc': 6, b').': 2, b'rhena': 1, b'sweetness': 4, b'reviling': 1, b'gladsome': 1, b'erruling': 6, b'thicker': 1, b'glories': 3, b'inflexibly': 1, b'blazon': 2, b'rears': 1, b'forgave': 1, b'disdaining': 2, b'scion': 3, b'alth\\xc3\\xa6a': 1, b'concerned': 2, b'blurr': 1, b'stirs': 1, b'oats': 1, b'disappointed': 1, b'enquir': 3, b'ichor': 6, b'solitary': 4, b'grip': 4, b'poising': 10, b'punishes': 1, b'wheelwright': 2, b'divin': 1, b'paused': 2, b'blubbering': 1, b'devourers': 1, b'disputing': 2, b'underfoot': 1, b'delled': 1, b'hectorides': 1, b'i\\xc3\\xa4sus': 2, b'pandocus': 3, b'lysandrus': 1, b'hicetaon': 4, b'ashamed': 4, b'umbrageous': 2, b'cilicia': 4, b'recital': 2, b'harnessing': 2, b'treach': 7, b'yea': 3, b'satnioeis': 3, b'sale': 2, b'thebe': 4, b'reddening': 1, b'treason': 1, b'oblivious': 1, b'stole': 9, b'wardrobe': 1, b'sharing': 2, b'repelling': 1, b'trace': 8, b'stewardship': 1, b'brandished': 5, b'prohibits': 1, b';--': 3, b'singleness': 1, b'volleying': 3, b'peal': 6, b'reaping': 2, b'scan': 1, b'snit': 1, b'flavor': 1, b'party': 3, b'carelessness': 2, b'lags': 1, b'pelias': 2, b'\\xc3\\xa6gilipa': 1, b'crocylia': 1, b'hush': 7, b'appeas': 2, b'becomes': 6, b'discuss': 3, b'childish': 4, b'pasturage': 2, b'swelling': 4, b'prick': 1, b'mounds': 1, b'bridges': 1, b'hurricane': 6, b'agapenor': 3, b'somewhere': 2, b'harping': 1, b'ruminating': 1, b'seaside': 2, b'proto': 2, b'dynamene': 2, b'immersed': 3, b'surveyed': 1, b'livest': 1, b'additional': 1, b'anyone': 1, b'impurpled': 2, b'hillsides': 1, b'strayed': 1, b'leant': 2, b'plunderers': 1, b'inexpert': 3, b'pard': 4, b'expanse': 1, b'surveys': 2, b'disordering': 1, b'jars': 3, b'laodamia': 3, b'sacrificing': 1, b'autophonus': 3, b'disobedient': 6, b'gullies': 1, b'fringed': 4, b'whispering': 1, b'grudges': 2, b'recklessly': 1, b'appoints': 1, b'patience': 4, b'necks': 5, b'immediate': 3, b'armfuls': 1, b'p\\xc3\\xa6onia': 3, b'intercepting': 3, b'curdled': 1, b'bloodstained': 6, b'sixth': 2, b'tumble': 1, b'environ': 2, b'relieving': 1, b'uttering': 4, b'hunt': 3, b'assemble': 2, b'weaving': 2, b'flagitious': 1, b'locusts': 3, b'riverward': 1, b'prompted': 3, b'overjoyed': 1, b'denouncing': 1, b'amyclae': 2, b'outnumber': 2, b'overmaster': 1, b'darkening': 1, b'undoubting': 1, b'wonders': 4, b'withdrawing': 4, b'fluid': 2, b'unsafe': 1, b'detest': 2, b'gorgon': 8, b'hermione': 3, b'determination': 1, b'erthrowing': 1, b'assert': 3, b'reside': 1, b'successfully': 1, b'bullock': 4, b'eastern': 1, b'ports': 2, b'divorc': 2, b'feeblest': 2, b'impetuously': 1, b'dispensing': 4, b'cramped': 1, b'dimm': 4, b'constraint': 3, b'overlook': 1, b'totters': 1, b'sumptuously': 1, b'heated': 1, b'decrees': 6, b'unsettle': 2, b'ignorance': 3, b'upheld': 4, b'drooped': 1, b'defect': 1, b'razor': 3, b'polyidus': 3, b'eurydamas': 3, b'tampering': 1, b'lucid': 2, b'lull': 5, b'pliable': 1, b'scapes': 3, b'iphino\\xc3\\xbcs': 1, b'dexias': 2, b'outspoke': 2, b'outcast': 1, b'chatt': 1, b'missile': 3, b'scrap': 1, b'louder': 2, b'cousin': 1, b'palisade': 3, b'bundles': 3, b'illume': 2, b'ns': 2, b'replacing': 1, b'sputtering': 1, b'dewy': 2, b'tiryns': 1, b'ashore': 3, b'misreporting': 1, b'gaze': 6, b'vaulted': 5, b'ringlets': 4, b'aesyme': 2, b'shapely': 6, b'derivation': 1, b'punishment': 3, b'evaded': 1, b'givest': 4, b'tips': 1, b'unrenown': 1, b'cephalonian': 1, b'precise': 1, b'disquieted': 3, b'entreaty': 2, b'cradle': 1, b'reeking': 3, b'unsubdued': 1, b'bounty': 4, b'ousted': 1, b'succours': 1, b'deluged': 3, b'conceive': 3, b'anchaeus': 2, b'recalls': 1, b'overpitch': 1, b'allays': 1, b'pedigree': 4, b'brook': 7, b'descry': 2, b'befriends': 3, b'clangour': 1, b'learner': 1, b'exterminate': 1, b'bitt': 3, b'quailing': 2, b'sestus': 1, b'abydus': 2, b'sculptured': 2, b'boxen': 1, b'patiently': 1, b'cheeping': 1, b'eschew': 1, b'th\\xc3\\xb6otes': 3, b'craves': 1, b'bodes': 2, b'giddy': 2, b'mists': 1, b'pestilent': 1, b'boundary': 2, b'besmear': 1, b'unchaste': 1, b'hesitates': 1, b'herding': 3, b'contagion': 1, b'staggered': 2, b'miracle': 4, b'updarting': 1, b'diffusing': 3, b'uncased': 1, b'polished': 4, b'choking': 1, b'unabashed': 1, b'hymning': 1, b'rooted': 4, b'compose': 3, b'wile': 6, b'briareus': 3, b'aegaeon': 1, b'speechless': 3, b'haliartus': 3, b'plataea': 2, b'spitefully': 1, b'glided': 3, b'conflicted': 2, b'smintheus': 1, b'disgrac': 2, b'horrors': 3, b'ridg': 5, b'winnow': 2, b'fied': 1, b'hatred': 6, b'perea': 1, b'plenitude': 1, b'overshadow': 3, b'airs': 5, b'erhanging': 1, b'doubts': 5, b'awake': 5, b'ripening': 1, b'questioning': 1, b'resort': 1, b'unpeopled': 1, b'schooled': 1, b'forgett': 1, b'\"--': 1, b'refreshed': 3, b'darksome': 1, b'unshaken': 1, b'satnio': 3, b'amisodorus': 1, b'chimaera': 4, b'untaken': 2, b'quenched': 5, b'forgive': 3, b'disfigured': 2, b'scaring': 1, b'tap': 1, b'outstrip': 2, b'suggest': 3, b'unstable': 1, b'beleaguer': 2, b'unyoke': 3, b'eminently': 2, b'wedlock': 1, b'cozen': 2, b'tremor': 1, b'lawns': 2, b'concourse': 4, b'observing': 6, b'tho\\xc3\\xb6n': 2, b'overwhelm': 6, b'asclepiades': 1, b'overta': 1, b'cleobulus': 3, b'entwined': 1, b'arimi': 3, b'headstrong': 3, b'yarded': 1, b'helper': 7, b'liars': 3, b'cooling': 6, b'wrack': 2, b'convene': 4, b'mycen\\xc3\\xa6an': 2, b'audibly': 1, b'perdition': 2, b'delusion': 1, b'suppliants': 1, b'bursting': 4, b'brakes': 2, b'nodding': 3, b'column': 5, b'untutor': 2, b'trenches': 2, b'insensate': 2, b'relied': 4, b'sojourn': 1, b'gulfy': 1, b'sixthly': 1, b'crocylea': 1, b'aegilips': 2, b'selleis': 4, b'beached': 1, b'rhadamanthus': 3, b'relinquishes': 1, b'boisterous': 6, b'exchanged': 2, b'particulars': 1, b'closest': 3, b'scrutiny': 1, b'intentions': 3, b'gradual': 2, b'astounded': 2, b'overtask': 2, b'drain': 5, b'shuts': 5, b'tricca': 5, b'victoriously': 1, b'defiant': 3, b'ar\\xc3\\xa6thyria': 1, b'strown': 1, b'omission': 1, b'profane': 3, b'ericthonius': 2, b'extinct': 4, b'antagonists': 1, b'restrained': 2, b'wasp': 2, b'castianira': 1, b'peering': 2, b'visited': 1, b'phlegyans': 3, b'revealed': 2, b'relinquishing': 1, b'bowmen': 1, b'bespoke': 3, b'unaware': 3, b'eteonus': 2, b'thespeia': 2, b'compressing': 2, b'incarnate': 2, b'antagonist': 2, b'reproached': 1, b'fangs': 6, b'volleys': 1, b'yokeband': 1, b'vestments': 1, b'slip': 3, b'fingers': 1, b'roads': 4, b'leafless': 1, b'tented': 1, b'stalking': 3, b'm\\xc3\\xa6onia': 1, b'unhorsed': 1, b'kenn': 1, b'prom': 2, b'emerged': 2, b'betimes': 4, b'astypylus': 3, b'mnesus': 3, b'thrasius': 3, b'bringer': 5, b'quickened': 1, b'steams': 2, b'extravagance': 1, b'figure': 4, b'resembled': 1, b'hovered': 6, b'mooring': 2, b'complacent': 2, b'gentler': 1, b'mishap': 2, b'shrouds': 4, b'seamen': 3, b'clouded': 2, b'roughly': 3, b'gainsay': 4, b'lacked': 3, b'minyis': 1, b'reverenc': 1, b'piled': 3, b'reinforcements': 1, b'earnestly': 2, b'soughed': 1, b'gnaw': 2, b'bedight': 3, b'encumber': 1, b'toned': 3, b'stanch': 4, b'anc\\xc3\\xa6us': 2, b'reluctance': 2, b'purify': 3, b'palpitates': 1, b'foreboding': 1, b'slobbered': 1, b'helplessness': 2, b'imposing': 1, b'accommodation': 1, b'flasks': 1, b'peteon': 3, b'learnt': 2, b'underbraced': 1, b'religious': 1, b'falter': 1, b'indignation': 7, b'hunts': 1, b'glimmer': 1, b'heels': 8, b'clarion': 1, b'fervent': 3, b'slackened': 1, b'forestays': 1, b'lowered': 1, b'myrine': 1, b'aetolia': 5, b'levying': 1, b'sacking': 5, b'namely': 1, b'tills': 1, b'laced\\xc3\\xa6mon': 3, b'negligent': 1, b'lent': 4, b'cadmean': 2, b'laughing': 6, b'pleasantly': 2, b'perfect': 4, b'princess': 2, b'vied': 2, b'hinderance': 1, b'lucina': 3, b'grated': 6, b'hospitality': 8, b'interchanged': 1, b'surnamed': 1, b'sunder': 1, b'biggest': 1, b'durance': 1, b'gatehouse': 2, b'dissolv': 1, b'frothing': 4, b'storehouse': 1, b'courtyard': 6, b'pressure': 2, b'ay': 1, b'scratched': 2, b'induced': 2, b'partiality': 1, b'heedfully': 1, b'yolking': 1, b'basely': 5, b'slaught': 3, b'solymi': 4, b'lacks': 2, b'plebeians': 1, b'avenged': 4, b'union': 1, b'proposal': 1, b'sellcentes': 1, b'reasonings': 1, b'goodliest': 2, b'embrac': 4, b'areitho\\xc3\\xbcs': 1, b'club': 2, b'compactly': 1, b'stem': 6, b'passest': 1, b'cracking': 1, b'affords': 1, b'pacified': 3, b'decisive': 3, b'pronounce': 3, b'replenish': 2, b'shipwright': 2, b'bits': 2, b'unbought': 1, b'falsehood': 5, b'effaced': 2, b'pebbly': 1, b'respired': 1, b'device': 3, b'texture': 7, b'befalling': 1, b'coos': 2, b'thriving': 6, b'mettled': 4, b'evades': 1, b'spearsmen': 2, b'underwood': 1, b'maseta': 1, b'scoring': 1, b'lacking': 1, b'swains': 6, b'feather': 10, b'grants': 4, b'trito': 3, b'habited': 1, b'cran\\xc3\\xa4e': 1, b'inordinately': 1, b'peep': 3, b'accidents': 1, b'\\xc3\\xa6gina': 1, b'espying': 2, b'unforewarn': 1, b'hatched': 3, b'sheathe': 1, b'unawarded': 1, b'overtook': 2, b'phorbas': 6, b'starlike': 2, b'flashed': 8, b'language': 8, b'erwhelming': 1, b'lad': 2, b'ialmenus': 4, b'importun': 1, b'phoreys': 1, b'upholding': 2, b'conferring': 4, b'detestable': 1, b'eighteenth': 1, b'books': 1, b'pack': 4, b'hangings': 1, b'nth': 1, b'iphinous': 2, b'dexius': 1, b'lightness': 1, b'revelation': 1, b'bestrewn': 1, b'furs': 2, b'fells': 2, b'richer': 1, b'unprotected': 1, b'happening': 1, b'default': 2, b'paved': 1, b'prominent': 4, b'obscures': 1, b'despising': 1, b'tecton': 1, b'inattentive': 1, b'visored': 2, b'surceased': 1, b'envy': 2, b'tho': 2, b\"''\": 1, b'twould': 1, b'cynos': 1, b'calliarus': 3, b'treating': 2, b'separating': 2, b'diverging': 1, b'chargeable': 1, b'witnessing': 1, b\"('\": 2, b'needless': 2, b'admiration': 4, b'accomplishment': 1, b'replac': 1, b'achieving': 1, b'exceedingly': 3, b'scowl': 1, b'amisodarus': 2, b'description': 1, b'shutting': 2, b'obsequious': 1, b'barely': 1, b'swiftness': 3, b'refusal': 3, b'thirds': 2, b'm\\xc3\\xa6onians': 1, b'thirdly': 2, b'cleverly': 2, b'scud': 2, b'annual': 1, b'squeaky': 1, b'cardamyle': 6, b'deformity': 1, b'scabbarded': 1, b'nobody': 3, b'overthrew': 3, b'pining': 3, b'glimmers': 1, b'forbear': 9, b'paeans': 2, b'clytus': 2, b'dispenses': 2, b'inclosure': 1, b'dastards': 6, b'procession': 5, b'assisting': 1, b'upbraids': 2, b'untameable': 1, b'espouse': 2, b'dangling': 2, b'partisans': 1, b'dly': 1, b'biting': 3, b'curbed': 2, b'ebbed': 2, b'mete': 2, b'delinquent': 1, b'uninjur': 2, b'kindliest': 1, b'assum': 2, b'throbbings': 1, b'uprising': 3, b'uncustom': 1, b'oreithuia': 1, b'amatheia': 1, b'encompassed': 2, b'rebellow': 1, b'overleap': 2, b'roseate': 1, b'willed': 2, b'copper': 2, b'ploughman': 2, b'cheeked': 2, b'rankling': 2, b'mecistheus': 3, b'painless': 1, b'cavity': 1, b'erinys': 2, b'opportune': 3, b'favourable': 1, b'achievements': 1, b'foolhardiness': 1, b'simoisius': 3, b'pteleum': 2, b'senior': 5, b'nonsense': 1, b'printed': 1, b'weakness': 1, b'fastening': 4, b'intellect': 2, b'choke': 1, b'amathea': 2, b'weighted': 1, b'camping': 1, b'partook': 2, b'thereof': 2, b'wrangling': 4, b'reverted': 2, b'saginated': 1, b'tusk': 4, b'headway': 1, b'younglings': 1, b'ertome': 1, b'stump': 2, b'repair': 10, b'uncinctured': 1, b'abjur': 1, b'strongly': 6, b'butcher': 1, b'tusked': 3, b'offing': 1, b'wily': 4, b'vexed': 1, b'cinyras': 2, b'hearty': 2, b'snapped': 1, b'severely': 1, b'baser': 1, b'mutinous': 2, b'cyllene': 4, b'imminent': 4, b'ira': 2, b'enmity': 4, b'crouches': 1, b'unctuous': 3, b'overbubbling': 1, b'recesses': 3, b'resource': 1, b'weaker': 2, b'fleetness': 3, b'patronymic': 1, b'unwillingly': 2, b'gnashed': 1, b'sickle': 2, b'erylaus': 1, b'division': 3, b'twilight': 4, b'censuring': 1, b'unsightly': 1, b'appointment': 2, b'neighbors': 1, b'admonished': 1, b'previously': 1, b'th\\xc3\\xb6on': 2, b'unmeet': 2, b'compliance': 2, b'displease': 2, b'abject': 1, b'ruthlessly': 1, b'haft': 2, b'apothecaries': 1, b'carystus': 2, b'styra': 3, b'submission': 1, b'elbows': 3, b'evade': 1, b'hotly': 4, b'bedewing': 2, b'stratia': 2, b'harmless': 1, b'sufferance': 1, b'rill': 1, b'theban': 1, b'searches': 1, b'dingle': 1, b'gladdened': 3, b'outspread': 1, b'alacrity': 5, b'cures': 1, b'enables': 1, b'reprieve': 1, b'pranks': 1, b'plays': 1, b'rarely': 2, b'keenly': 2, b'shuffled': 1, b'achieved': 7, b'obliterate': 2, b'travel': 1, b'diest': 3, b'thriven': 2, b'ambidexter': 1, b'reproof': 3, b'compassionately': 1, b'concubine': 5, b'comprehension': 1, b'exceed': 3, b'perishing': 4, b'litigating': 1, b'ranges': 2, b'file': 3, b'commingled': 1, b'huntsmen': 4, b'curiously': 2, b'unloosed': 1, b'rehearsed': 1, b'heats': 2, b'forecast': 2, b'northwest': 1, b'sniveling': 1, b'compress': 3, b'flowery': 4, b'entertaining': 1, b'havens': 1, b'stupified': 1, b'leaderless': 3, b'lurks': 2, b'frankly': 2, b'fades': 1, b'staunched': 1, b'exuberant': 2, b'fourteenth': 1, b'fifteenth': 1, b'sixteenth': 1, b'seventeenth': 1, b'incens': 6, b'recognized': 2, b'tilth': 1, b'podalirius': 7, b'erreach': 1, b'bestride': 4, b'wearing': 2, b'gullied': 1, b'capable': 1, b'project': 2, b'putrefaction': 1, b'beguilest': 1, b'volley': 3, b'tipped': 1, b'brightly': 3, b'balancing': 1, b'rustic': 4, b'la\\xc3\\xb6dice': 1, b'suspicion': 1, b'fact': 1, b'ope': 1, b'latest': 4, b'merciless': 1, b'boned': 1, b'dup': 1, b'beguil': 3, b'minstrels': 2, b'dirge': 4, b'raving': 2, b'solacing': 2, b'appals': 1, b'oppresses': 2, b'changes': 7, b'inexhaustible': 1, b'broods': 4, b'units': 1, b'judg': 1, b'slaked': 2, b'ribaldry': 2, b'equitably': 1, b'diminutive': 1, b'neritus': 2, b'masterful': 2, b'repell': 2, b'suing': 1, b'disobeys': 1, b'alta': 2, b'executing': 1, b'tunics': 7, b'hunted': 2, b'ethiopians': 2, b'trickling': 5, b'searching': 2, b'boulder': 1, b'disproportion': 1, b'molested': 1, b'ripple': 2, b'uproots': 1, b'recent': 2, b'intrude': 2, b'wears': 1, b'wavering': 1, b'frowardness': 1, b'adding': 2, b'prudence': 2, b'racks': 1, b'reputed': 2, b'diluted': 1, b'despairing': 2, b'wrapping': 2, b'battery': 1, b'fastenings': 2, b'haughtiness': 2, b'taunting': 4, b'obscene': 1, b'boetians': 1, b'feller': 1, b'unawares': 3, b'brine': 1, b'scudded': 1, b'dancer': 4, b'verify': 1, b'recommending': 1, b'gono\\xc3\\xabssa': 1, b'\\xc3\\xa6gium': 1, b'erythr\\xc3\\xa6': 1, b'brawl': 1, b'la\\xc3\\xabrceus': 1, b'becam': 1, b'dupe': 2, b'letter': 2, b'equitable': 1, b'injunction': 3, b'votive': 1, b'agonies': 4, b'pursuance': 3, b'likeliest': 5, b'shuddering': 8, b'curtain': 1, b'whales': 1, b'trechina': 1, b'caristus': 1, b'rustled': 1, b'wrest': 4, b'longs': 2, b'reassure': 1, b'attacks': 2, b'adventure': 1, b'replaced': 2, b'transpierce': 2, b'defilement': 1, b'gross': 2, b'beetling': 1, b'assemblies': 1, b'marvels': 1, b'repairs': 3, b'barking': 1, b'stubbornly': 4, b'cabesus': 3, b'sojourner': 1, b'pleuro': 3, b'keepsake': 1, b'lover': 1, b'retard': 2, b'shivering': 1, b'detaining': 1, b'scares': 1, b'penetrable': 1, b'confin': 2, b'cumb': 1, b'companionship': 3, b'mortar': 1, b'malice': 2, b'mod': 1, b'consideration': 1, b'cynus': 2, b'bessa': 3, b'blossom': 2, b'acclamation': 1, b'naught': 3, b'eats': 1, b'dependent': 3, b'irritated': 1, b'coated': 2, b'ferret': 4, b'onion': 1, b'cakes': 1, b'fearfully': 4, b'unsatisfied': 3, b'incurring': 1, b'ruffle': 1, b'\\xc3\\xa6gialea': 1, b'fleeces': 2, b'eueneus': 1, b'magnesians': 1, b'unhoped': 1, b'meonia': 3, b'plummet': 1, b'fisherman': 1, b'wresting': 1, b'weddings': 1, b'frames': 1, b'hippemolgi': 3, b'frenzy': 2, b'scrupulously': 1, b'wells': 3, b'journeying': 3, b'picked': 3, b'medicine': 1, b'scalp': 1, b'ageless': 1, b'suspect': 1, b'sminthe': 1, b'decked': 2, b'constrained': 1, b'judgements': 2, b'snapt': 3, b'resolutely': 1, b'fledd': 1, b'kindles': 1, b'lonely': 4, b'hesperus': 1, b'midnight': 1, b'hurry': 4, b'allegiance': 2, b'epytus': 2, b'targets': 4, b'solicitous': 1, b'abash': 3, b'brilliantly': 2, b'slanted': 1, b'extraordinary': 1, b'shiv': 1, b'unblest': 1, b'written': 4, b'glisten': 1, b'omitting': 3, b'noisome': 2, b'enquirest': 1, b'resented': 1, b'ass': 4, b'impervious': 1, b'invigorate': 1, b'leopardess': 1, b'omit': 1, b'stretchest': 1, b'facile': 2, b'thinkest': 1, b'updrew': 1, b'color': 3, b'proth\\xc3\\xb6enor': 2, b'unanimous': 3, b'earthly': 2, b'scandals': 1, b'tiller': 1, b'sided': 1, b'defends': 2, b'outvie': 2, b'insulted': 2, b'alcyone': 4, b'unsack': 1, b'asperity': 1, b'treasur': 1, b'cower': 2, b'privily': 1, b'termagant': 1, b'committing': 1, b'smashed': 2, b'forefront': 2, b'contemptible': 3, b'stagg': 1, b'asunder': 2, b'ap\\xc3\\xa6sus': 1, b'adrastea': 1, b'terie': 1, b'bedchamber': 1, b'cubs': 2, b'talaus': 3, b'pron\\xc3\\xb6us': 1, b'undefended': 2, b'feathery': 1, b'hermon': 1, b'audible': 1, b'de\\xc3\\xafphobus': 1, b'tenderness': 2, b'accusing': 1, b'sovereigns': 2, b'undelaying': 2, b'mend': 2, b'devious': 7, b'ploughmen': 1, b'wraps': 1, b'produc': 1, b'auspicious': 1, b'agrius': 3, b'melas': 3, b'aesuetes': 2, b'woodcraft': 1, b'nave': 3, b'hyla': 4, b'glaze': 1, b'mischievous': 1, b'heron': 3, b'palpitating': 2, b'practice': 3, b'i\\xc3\\xb6lchus': 1, b'covers': 3, b'anticipate': 2, b'cleans': 3, b'mown': 2, b'neighb': 1, b'raveners': 1, b'wriggling': 3, b'twisting': 2, b'reeked': 1, b'exultation': 3, b'negligence': 3, b'elasus': 3, b'bloodiest': 2, b'reaps': 1, b'crop': 1, b'winnower': 2, b'quenchless': 2, b'tereian': 1, b'especially': 5, b'clansmen': 2, b'encount': 3, b'revisit': 3, b'ripen': 1, b'shorter': 3, b'comfortable': 3, b'unperform': 2, b'sprinkle': 2, b'overweening': 2, b'ionians': 2, b'vassal': 1, b'inhospitable': 3, b'block': 4, b'slighted': 2, b'permission': 2, b'sallying': 2, b'grater': 2, b'polyxenus': 3, b'grizzl': 1, b'sthenela\\xc3\\xbcs': 1, b'oloosson': 2, b'situate': 2, b'miraculously': 1, b'prophesy': 3, b'epistor': 3, b'convertible': 1, b'unused': 1, b'thryoessa': 1, b'infants': 3, b'prattling': 2, b'delightful': 2, b'houseless': 2, b'vagabond': 2, b'occasions': 2, b'coppice': 2, b'pulse': 1, b'pattering': 1, b'de\\xc3\\xafopites': 1, b'gambolling': 1, b'disapproved': 1, b'confirming': 1, b'invidious': 1, b'enkindle': 1, b'nectareous': 1, b'damm': 1, b'lioness': 1, b'bloodless': 6, b'eloquent': 1, b'exultant': 1, b'unmixt': 3, b'fragments': 2, b'meekly': 3, b'rig': 3, b'claiming': 1, b'pierian': 1, b'majesty': 3, b'blam': 2, b'bullocks': 1, b'shrines': 1, b'conveys': 2, b'vaults': 1, b'immovable': 1, b'estates': 1, b'enslav': 1, b'widows': 2, b'fiercer': 6, b'forming': 1, b'sternest': 2, b'staves': 2, b'starred': 4, b'worshipp': 1, b'neglectest': 1, b'rebuk': 1, b'manifests': 1, b'careering': 3, b'exhilarating': 1, b'buffeting': 1, b'loiter': 3, b'disheartens': 1, b'reverberated': 1, b'liberty': 3, b'descends': 8, b'waxed': 2, b'assaulting': 1, b'securely': 1, b'outnumbered': 1, b'awarding': 1, b'roost': 1, b'misfortune': 2, b'encourager': 1, b'cruelly': 2, b'harangue': 1, b'\\xc3\\xa6gialus': 1, b'lip': 2, b'erinyes': 4, b'spins': 3, b'unstrew': 2, b'unsated': 2, b'spilt': 3, b'helter': 1, b'skelter': 1, b'unchang': 1, b'fortifications': 1, b'embellish': 2, b'gathers': 1, b'scouts': 2, b'stimulate': 2, b'graved': 1, b'arctos': 1, b'impatience': 3, b'unreplying': 1, b'unequal': 3, b'bespeak': 1, b'scandalised': 1, b'gentleness': 3, b'sedulous': 2, b'owing': 1, b'cook': 2, b'selves': 2, b'performing': 1, b'tune': 1, b'hippotho\\xc3\\xbcs': 3, b'\\xc3\\xa6thra': 1, b'untainted': 1, b'peaks': 3, b'imbrian': 1, b'baulked': 2, b'kingdom': 4, b'uncouth': 2, b'thunderings': 1, b'eleans': 1, b'disclosed': 1, b'curing': 1, b'alcyon': 1, b'reverently': 1, b'lamp': 1, b'mysia': 1, b'bested': 2, b'moisture': 2, b'soaks': 1, b'gnawed': 1, b'scamandrian': 1, b'enfolding': 3, b'parthenius': 3, b'cromna': 2, b'erithini': 1, b'welling': 4, b'wayside': 2, b'dishonorable': 1, b'undertook': 2, b'grasps': 1, b'period': 1, b'succeeds': 3, b'runners': 2, b'pouncing': 1, b'.\".': 1, b'title': 1, b'undulates': 1, b'resigns': 1, b'denizens': 1, b'builders': 1, b'proem': 1, b'exceeding': 1, b'founts': 1, b'erflowing': 1, b'resisted': 4, b'availed': 2, b'imprudence': 1, b'gait': 3, b'important': 1, b'mulct': 3, b'dimpling': 1, b'credence': 1, b'rivulet': 1, b'ph\\xc3\\xa6stus': 2, b'forum': 2, b'darest': 3, b'orthe': 2, b'gyrtone': 2, b'olo\\xc3\\xb6sson': 1, b'favors': 1, b'cymoth\\xc3\\xb6e': 1, b'act\\xc3\\xa6a': 1, b'accustomed': 4, b'despoiled': 1, b'heliconian': 1, b'views': 3, b'propitiatory': 1, b'amerced': 1, b'circuitous': 2, b'instance': 2, b'deriv': 1, b'echecles': 2, b'suggests': 2, b'rhene': 2, b'parental': 2, b'awakes': 1, b'tells': 2, b'jesting': 1, b'extent': 1, b'convulsively': 2, b'liable': 1, b'boebean': 1, b'glaphyrae': 2, b'ice': 1, b'brac': 1, b'brooches': 1, b'spiral': 2, b'armlets': 1, b'sunset': 5, b'displaced': 1, b'suspend': 1, b'surrender': 5, b'pliant': 4, b'knot': 2, b'fillet': 4, b'angles': 1, b'deluded': 2, b'roamest': 1, b'entitled': 1, b'cheeringly': 1, b'commendation': 1, b'product': 1, b'wove': 3, b'sallies': 5, b'whetting': 3, b'unalter': 1, b'reinspires': 1, b'marches': 1, b'obtains': 2, b'magic': 1, b'applies': 1, b'humbled': 1, b'prospects': 1, b'wasps': 6, b'upheav': 1, b'surpassed': 2, b'sponge': 3, b'procur': 1, b'loathing': 1, b'serpents': 2, b'exhaling': 1, b'noticing': 2, b'c\\xc3\\xa6neus': 1, b'uprightly': 1, b'recoiled': 1, b'plowers': 1, b'amphimacus': 2, b'overtoil': 2, b'bandying': 1, b'animals': 1, b'selagus': 3, b'p\\xc3\\xa6sus': 1, b'displaying': 1, b'honorably': 2, b'affect': 3, b'warily': 1, b'hinder': 6, b'unprepar': 1, b'mourners': 3, b'divinities': 1, b'm\\xc3\\xa6ander': 1, b'mycale': 3, b'clammy': 1, b'wint': 1, b'regaining': 2, b'abhor': 3, b'catalogue': 2, b'oenoma\\xc3\\xbcs': 2, b'oxgoad': 1, b'marten': 2, b'fur': 2, b'vanquisher': 3, b'ino': 1, b'terrors': 3, b'laggard': 2, b'immense': 4, b'falsify': 3, b'method': 1, b'protectress': 1, b'precede': 1, b'urns': 1, b'thalysias': 1, b'overhear': 1, b'accompanied': 6, b'presenting': 4, b'speediest': 1, b'jade': 2, b'aegeon': 1, b'prevailing': 1, b'bait': 1, b'cinctured': 4, b'tray': 3, b'honoring': 1, b'phthian': 2, b'box': 2, b'warden': 1, b'limped': 1, b'dancers': 2, b'canvas': 1, b'acquit': 2, b'dishon': 2, b'rudeness': 1, b'titular': 1, b'observance': 1, b'troubles': 3, b'impelled': 3, b'budeum': 2, b'beamy': 1, b'grimace': 1, b'detailed': 1, b'unmanly': 1, b'hippodamus': 3, b'hyperochus': 2, b'withering': 2, b'nearside': 1, b'summoned': 2, b'melodious': 1, b'ensnared': 1, b'flap': 1, b'shouldered': 1, b'scarpha': 2, b'augaea': 1, b'auxiliar': 1, b'rewards': 1, b'titanian': 1, b'def': 1, b'ortha': 1, b'elone': 2, b'reft': 3, b'destitute': 3, b'jagg': 1, b'chafe': 3, b'quivered': 1, b'winners': 2, b'lasts': 2, b'cramp': 1, b'suffic': 1, b'elev': 1, b'contended': 1, b'prophetess': 1, b'retaliation': 1, b'pygmies': 1, b'bestirred': 1, b'glistening': 1, b'madam': 1, b'explore': 2, b'whips': 1, b'suborning': 1, b'flattery': 2, b'riot': 1, b'eussorus': 1, b'stygian': 3, b'reputation': 1, b'reappear': 3, b'selecting': 1, b'territory': 1, b'loop': 2, b'reserving': 1, b'spars': 1, b'meals': 1, b'colts': 1, b'engender': 1, b'loaded': 3, b'muster': 6, b'chins': 1, b'casian': 1, b'calydnian': 2, b'curs': 2, b'loo': 1, b'skulk': 4, b'budding': 1, b'shackles': 1, b'herculean': 1, b'chaste': 5, b'baffling': 3, b'unrotted': 1, b'unfortunate': 1, b'oversees': 1, b'cavil': 1, b'earlier': 2, b'vanishing': 1, b'traduce': 1, b'pitchy': 2, b'plaited': 5, b'co\\xc3\\xb6n': 3, b'variegated': 2, b'naubolus': 2, b'upbuilds': 1, b'cementing': 1, b'rainbows': 1, b'phaesus': 1, b'meonian': 1, b'tablets': 3, b'nightfall': 2, b'shrieks': 1, b'reminding': 1, b'steals': 1, b'persuasions': 1, b'copae': 2, b'medeon': 3, b'experienc': 2, b'flourish': 3, b'sounder': 3, b'disgorged': 1, b'detained': 2, b'aulis': 6, b'blatant': 1, b'reprimand': 4, b'forg': 1, b'favorers': 1, b'murmur': 4, b'differ': 1, b'adventurers': 1, b'acessamenus': 3, b'splinters': 1, b'exertion': 1, b'egged': 3, b'banded': 2, b'roughest': 1, b'clings': 1, b'rifting': 1, b'salute': 1, b'spin': 4, b'happens': 1, b'tackling': 1, b'burthens': 1, b'conjecture': 1, b'revilest': 1, b'reconsider': 1, b'sovereignty': 2, b'vulgar': 1, b'accursed': 2, b'opposers': 2, b'sighted': 2, b'salutary': 2, b'sustained': 2, b'funerals': 1, b'pursuant': 1, b'interferes': 1, b'peasantry': 1, b'thundered': 4, b'dexterity': 1, b'breakwater': 1, b'gullet': 1, b'euphemus': 3, b'troezenus': 3, b'sminthian': 1, b'adorned': 2, b'unblemished': 2, b'deter': 1, b'enthron': 1, b'deviser': 1, b'effused': 2, b'approaches': 2, b'defender': 2, b'eloquence': 3, b'gasp': 2, b'attest': 3, b'intermix': 3, b'wantons': 1, b'delightest': 1, b'associate': 4, b'beholds': 3, b'celery': 2, b'watery': 2, b'freshes': 1, b'gleaned': 1, b'gallop': 2, b'misconducting': 1, b'everybody': 1, b'troezena': 1, b'unsumm': 1, b'allotted': 6, b'example': 2, b'vociferating': 3, b'unheeding': 2, b'.\\'\"': 2, b'rotation': 2, b'signalizes': 2, b'deepened': 1, b'oaken': 2, b'caparisons': 1, b'blemish': 3, b'associates': 3, b'insatiably': 1, b'clothing': 1, b'notes': 1, b'accompany': 1, b'overpassing': 1, b'straps': 1, b'endowing': 1, b'measureless': 2, b'weaken': 1, b'painted': 1, b'stark': 1, b'confounding': 1, b'sentest': 1, b'aethices': 1, b'outmeasured': 1, b'digest': 2, b'tenants': 1, b'tractable': 1, b'inquiry': 1, b'nearing': 2, b'thryum': 2, b'outran': 1, b'aipy': 1, b'cyparisseis': 1, b'amphigenea': 1, b'surprised': 3, b'damsels': 2, b'estrang': 1, b'hug': 1, b'launching': 2, b'dolopian': 1, b'stormer': 2, b'overpower': 2, b'engross': 1, b'unaveng': 1, b'triumphs': 2, b'seasonably': 2, b'surmounting': 1, b'swallowed': 1, b'herded': 1, b'dales': 1, b'valleyed': 2, b'dimpled': 1, b'oozy': 2, b'throve': 2, b'spots': 1, b'duck': 1, b'spurring': 1, b'adraste': 1, b'ph\\xc3\\xa6nops': 1, b'steepy': 1, b'ungrateful': 1, b'recognize': 2, b'baseless': 1, b'managing': 3, b'culinary': 2, b'ilis': 1, b'mainland': 2, b'incommoding': 1, b'paths': 4, b'amphiclus': 3, b'eteon': 1, b'thespia': 1, b'gr\\xc3\\xa6a': 1, b'odds': 1, b'senator': 3, b'consulted': 1, b'glows': 2, b'ambition': 3, b'bolted': 1, b'occurr': 2, b'trapping': 1, b'repass': 3, b'reposing': 1, b'experienced': 1, b'crowning': 3, b'wistful': 2, b'budaeum': 1, b'rascals': 1, b'vagabonds': 1, b'assay': 2, b'boldness': 3, b'l\\xc3\\xa4ertiades': 1, b'gibe': 2, b'spitting': 3, b'clots': 2, b'reflex': 1, b'cawl': 1, b'drifted': 1, b'dispelling': 1, b'habiliments': 1, b'behoof': 1, b'sighing': 4, b'glaring': 4, b'recite': 1, b'scheme': 4, b'alexandria': 1, b'challenges': 2, b'undid': 2, b'suspends': 1, b'saddens': 1, b'fist': 1, b'thud': 2, b'approve': 9, b'grate': 1, b'unkindly': 1, b'promulged': 1, b'remov': 7, b'croesmus': 2, b'ingulf': 1, b'undermin': 2, b'forcing': 2, b'distinguishing': 2, b'haughtiest': 1, b'greediest': 1, b'rheums': 1, b'million': 1, b'maddens': 1, b'vindictive': 3, b'rejects': 1, b'ache': 2, b'ielysus': 1, b'kicked': 3, b'comforting': 1, b'reviled': 2, b'vixen': 4, b'wielder': 2, b'manage': 4, b'maeander': 2, b'sakes': 2, b'brooding': 1, b'phylides': 3, b'oozes': 1, b'changing': 3, b'teaching': 1, b'fever': 1, b'quenches': 1, b'stak': 1, b'ruined': 1, b'm\\xc3\\xa6on': 2, b'alos': 2, b'alope': 3, b'peeping': 1, b'myrsinus': 3, b'olene': 1, b'hied': 1, b'thrill': 1, b'bridging': 2, b'struggled': 1, b'releas': 4, b'feebler': 1, b'embankment': 1, b'marshes': 1, b'allowance': 1, b'bianor': 1, b'singer': 1, b'player': 1, b'precipitance': 1, b'mindless': 1, b'contentment': 1, b'phidas': 1, b'epean': 4, b'strings': 2, b'diminished': 1, b'trophies': 4, b'propound': 1, b'exults': 2, b'beautified': 1, b'menesthius': 4, b'acropolis': 4, b'worser': 1, b'ursa': 1, b'enthralls': 2, b'months': 4, b'imprisoned': 2, b'atenor': 1, b'tassel': 1, b'sthenelaus': 1, b'dissuade': 1, b'dismantled': 2, b'pendent': 1, b'spotted': 4, b'pylaemanes': 1, b'achelo\\xc3\\xbcs': 1, b'swart': 2, b'flounces': 1, b'spleen': 4, b'alision': 1, b'drown': 2, b'prophecies': 1, b'relieves': 1, b'beneficence': 1, b'learning': 1, b'sirrah': 1, b'serenity': 1, b'disasterous': 1, b'governess': 2, b'weakening': 1, b'haranguing': 1, b'qu\\xc3\\xa2tre': 1, b'acrisius': 2, b'cameirus': 2, b'chalk': 2, b'affronts': 2, b'exercised': 1, b'needst': 1, b'bestriding': 1, b'drinks': 1, b'pheres': 2, b'pry': 2, b'questions': 7, b'sellea': 1, b'unjoyous': 1, b'mental': 1, b'damming': 1, b'stamping': 1, b'oracles': 4, b'nice': 2, b'trinkets': 1, b'deemest': 1, b'aleian': 2, b'imprecation': 1, b'encroaching': 1, b'thymbraeus': 2, b'exterior': 2, b'maniac': 2, b'overcame': 2, b'ancaeus': 2, b'frontlets': 4, b',_': 1, b'nameless': 4, b'banishment': 1, b'boxwood': 2, b'knob': 3, b'nerved': 2, b'morion': 1, b'cop\\xc3\\xa6': 1, b'unman': 1, b'assigning': 1, b'sluggish': 4, b'daunting': 1, b'faggots': 2, b'throats': 3, b'unfurnish': 1, b'rope': 1, b'sodden': 1, b'ordure': 3, b'queenly': 1, b'telling': 1, b'unearn': 1, b'milked': 1, b'yards': 2, b'disinclined': 1, b'whizzing': 2, b'whirr': 1, b'twirls': 1, b'heinously': 1, b'persuad': 1, b'defying': 3, b'cunningly': 1, b'masters': 2, b'quarrelsome': 1, b'affected': 1, b'soliciting': 3, b'necked': 1, b'prowed': 2, b'salvation': 1, b'inevitable': 2, b'spurns': 2, b'behead': 1, b'badest': 1, b'disgraceful': 3, b'unfeigning': 1, b'holes': 1, b'cyparissus': 4, b'amphigene': 1, b'protectors': 1, b'i\\xc3\\xa4petus': 1, b'coop': 3, b'uplands': 1, b'pittance': 2, b'invading': 2, b'bestows': 1, b'disconsolate': 3, b'furniture': 1, b'digg': 1, b'required': 3, b'adore': 1, b'hemming': 1, b'scars': 1, b'envelops': 1, b'espies': 1, b'arranged': 2, b'thoughtless': 1, b'pref': 1, b'inherit': 1, b'intrenchments': 1, b'pinions': 4, b'billowy': 1, b'rhytius': 1, b'pillaged': 2, b'covertly': 1, b'undiminish': 1, b'stipulated': 1, b'boat': 1, b'echechleus': 1, b'survivors': 2, b'forgetting': 2, b'sphere': 1, b'homesteads': 1, b'perjur': 1, b'assented': 4, b'guerdon': 3, b'savages': 2, b'aithices': 1, b'smites': 1, b'assaracus': 6, b'ithome': 3, b'ravages': 3, b'busying': 1, b'sunbeams': 1, b'conversant': 2, b'interdicting': 3, b'fancy': 1, b'potentates': 2, b'whitened': 1, b'riverbed': 1, b'enyeus': 1, b'hospitably': 1, b'forebode': 1, b'smashing': 2, b'snatches': 1, b'snapping': 2, b'galatea': 3, b'nemertes': 2, b'defensive': 2, b'essaying': 1, b'tritonia': 1, b'nesaee': 1, b'cymothoe': 2, b'abhors': 2, b'quits': 3, b'felling': 3, b'hereby': 1, b'notify': 2, b'supp': 1, b'unremoved': 1, b'amazement': 3, b'initiative': 1, b'hyrie': 1, b'schoenos': 1, b'scholos': 1, b'discerning': 2, b'agl\\xc3\\xa6a': 1, b'truest': 3, b'sesamum': 1, b'poll': 3, b'unpitied': 1, b'mailed': 1, b'kingly': 1, b'achelo\\xc3\\xafus': 1, b'upwafted': 1, b'aspired': 1, b'disciplin': 1, b'foray': 2, b'canine': 1, b'endangered': 1, b'plower': 1, b'potent': 1, b'lagging': 3, b'preordain': 1, b'charopus': 1, b'caus': 4, b'floating': 2, b'whilst': 1, b'degrading': 1, b'temptest': 1, b'edges': 3, b'wraith': 1, b'overcharge': 1, b'whimper': 1, b'wishing': 1, b'truer': 2, b'exclamation': 1, b'twist': 2, b'spatter': 2, b'blames': 1, b'ventilated': 1, b'whet': 2, b'candent': 2, b'arion': 3, b'shattering': 1, b'rhytium': 2, b'venom': 3, b'stemming': 1, b'stems': 1, b'altercation': 1, b'dung': 3, b'loit': 2, b'ransack': 2, b'crescents': 1, b'sirs': 1, b'sheets': 2, b'haling': 2, b'idler': 1, b'pisandrus': 2, b'enetae': 1, b'vouch': 1, b'gazing': 3, b'parching': 3, b'designation': 1, b'ardently': 1, b'furbish': 1, b'juniors': 1, b'unimpaired': 1, b'onslaught': 5, b'noised': 1, b'aleisium': 1, b'attiring': 2, b'rims': 1, b'purposes': 1, b'nestorid\\xc3\\xa6': 1, b'absolute': 1, b'bunches': 2, b'widest': 1, b'magnificently': 1, b'rendering': 1, b'surest': 4, b'test': 1, b'nursling': 1, b'reconcilement': 1, b'today': 1, b'kin': 1, b'remissness': 2, b'accrue': 3, b'communicates': 1, b'hyrminian': 1, b'coining': 1, b'inserting': 2, b'confound': 3, b'assigns': 2, b'vortiginous': 2, b'covetous': 2, b'disperses': 1, b'rivals': 2, b'observant': 1, b'nightly': 4, b'bystanders': 1, b'annoyance': 1, b'accost': 1, b'neritum': 1, b'softest': 3, b'antaea': 1, b'uncontested': 1, b'laoth\\xc3\\xb6e': 2, b'strewed': 1, b'hammered': 1, b'civil': 2, b'incitement': 1, b'dispatching': 1, b'readily': 3, b'vollied': 2, b'washing': 3, b'troughs': 2, b'waive': 1, b'fallows': 1, b'gavest': 1, b'vividness': 1, b'constitute': 1, b'cadmian': 1, b'globe': 1, b'gown': 1, b'colonnades': 1, b'bedchambers': 1, b'presses': 1, b'milking': 2, b'composure': 1, b'protiaon': 2, b'aquatic': 1, b'crack': 1, b'packed': 1, b'ungirdled': 2, b'frenzied': 2, b'nursed': 3, b'endeavor': 1, b'reminded': 1, b'abased': 1, b'emulous': 1, b'infect': 1, b'scurvy': 1, b'knavery': 1, b'\\xc3\\xa6acus': 1, b'tinge': 1, b'premises': 1, b'pillage': 2, b'areilycus': 3, b'peaceful': 5, b'graves': 2, b'arrear': 1, b'taints': 1, b'glibly': 2, b'householders': 1, b'claimant': 1, b'arrears': 1, b'gesture': 1, b'cloister': 1, b'generals': 1, b'dividing': 2, b'aesumnus': 1, b'agelas': 1, b'plainness': 1, b'exalting': 1, b'lading': 1, b'inculcating': 1, b'accrued': 1, b'enhance': 3, b'harbinger': 3, b'bolder': 3, b'haulm': 1, b'singers': 1, b'chant': 1, b'propped': 2, b'exactest': 1, b'eeturn': 1, b'hesper': 1, b'restoring': 1, b'backed': 1, b'smell': 1, b'ennoble': 1, b'wary': 1, b'study': 1, b'flockmaster': 1, b'bleat': 2, b'patrimonial': 1, b'perceives': 1, b'hews': 1, b'muscle': 1, b'subsists': 1, b'backbones': 2, b'tugged': 2, b'hellespontic': 1, b'blust': 1, b'circumstantially': 1, b'concludes': 2, b'resolves': 2, b'compromised': 1, b'shor': 1, b'mideia': 2, b'site': 1, b'chastize': 1, b'waterside': 1, b'portents': 1, b'furth': 1, b'rance': 3, b'gnawing': 3, b'kidneys': 1, b'scourged': 1, b'unalterable': 1, b'unpaid': 3, b'caverns': 1, b'gambol': 2, b'rowed': 1, b'areilochus': 1, b'enyes': 1, b'progenitor': 1, b'uninform': 1, b'comparison': 4, b'contract': 2, b'wane': 1, b'pteleus': 1, b'vouchsaf': 1, b'coveting': 2, b'obstinate': 5, b'chafes': 2, b'drear': 5, b'tight': 3, b'vociferated': 1, b'flagons': 1, b'replete': 2, b'unreprovable': 1, b\"?'\": 1, b'conversing': 1, b'elsewhither': 2, b'width': 1, b'jump': 1, b'shoves': 1, b'bathing': 1, b'obstacles': 1, b'answers': 1, b'brav': 1, b'lydia': 2, b'overall': 1, b'dubious': 2, b'pellucid': 1, b'barr': 2, b'wages': 1, b'nourishment': 1, b'convenient': 2, b'tarne': 1, b'leopards': 1, b'rekindled': 1, b'achaea': 1, b'intimidate': 1, b'conjoin': 1, b'obtuse': 1, b'unseconded': 1, b'plod': 1, b'allay': 3, b'inveigled': 1, b'eriboea': 1, b'entertains': 3, b'wagged': 2, b'conferred': 1, b'efface': 2, b'coronet': 1, b'consorted': 1, b'unalarm': 1, b'bulky': 1, b'flint': 1, b'distributing': 1, b'overtakes': 1, b'huddle': 2, b'greeting': 2, b'tillage': 1, b'stymphalus': 1, b'slumb': 1, b'deic\\xc3\\xb6on': 1, b'ptolemy': 2, b'peiraeus': 2, b'lyeomede': 1, b'disfigure': 1, b'preeminence': 1, b'pyraecmes': 1, b'arcades': 1, b'clitus': 1, b'pages': 2, b'ravish': 1, b'ridest': 1, b'impos': 4, b'blanches': 1, b'breeding': 2, b'eretria': 2, b'weals': 1, b'livid': 2, b'unperishing': 1, b'pylaeus': 2, b'gratulating': 1, b'position': 1, b'smarted': 1, b'crags': 3, b'pheretiades': 1, b'theb\\xc3\\xa6us': 1, b'swarmed': 2, b'forger': 1, b'emblem': 1, b'unfelt': 1, b'wilderness': 2, b'genius': 1, b'entanglement': 2, b'refreshments': 1, b'epigeus': 1, b'flooded': 1, b'pedigrees': 1, b'traced': 1, b'depends': 3, b'surging': 2, b'pays': 1, b'dispatchful': 2, b'prancing': 2, b'scrub': 2, b'picks': 1, b'maimed': 1, b'uncar': 3, b'aepytus': 2, b'spokes': 1, b'represses': 1, b'adrift': 1, b'fraternal': 2, b'householder': 1, b'loitering': 1, b'admonishing': 3, b'awestruck': 1, b'clattering': 1, b'dissonant': 1, b'contentious': 3, b'viler': 2, b'rapacious': 1, b'conjugal': 2, b'moods': 1, b'remounting': 1, b'commendable': 1, b'expir': 1, b'adornments': 1, b'crystalliz': 1, b'reclining': 3, b'glitters': 2, b'authentic': 1, b'bustling': 1, b'prerogative': 1, b'addresss': 1, b'staggering': 2, b'baned': 1, b'alesium': 2, b'admir': 1, b'intervening': 1, b'loathed': 1, b'crisa': 1, b'daulis': 3, b'adornment': 1, b'unrivalled': 1, b'pugilist': 1, b'ware': 1, b'treads': 1, b'effecting': 1, b'exchanges': 1, b'gratifies': 1, b'fourscore': 2, b'gay': 3, b'carpet': 2, b'fattened': 1, b'estimation': 1, b'circumference': 1, b'residue': 1, b'raked': 1, b'oreithyia': 1, b'chalcodon': 4, b'abantian': 3, b'emotion': 1, b'ruder': 1, b'lairs': 1, b'defiled': 3, b'buckled': 1, b'thicknesses': 2, b'neighbours': 1, b'signals': 1, b'overhead': 3, b'clustering': 2, b'valleys': 3, b'divulge': 1, b'tongu': 1, b'headlands': 3, b'arched': 1, b'twanged': 1, b'simmer': 1, b'yawn': 2, b'remonstrances': 1, b'warned': 1, b'hesitate': 1, b'dexterous': 4, b'sayest': 1, b'petulant': 1, b'addict': 1, b'pound': 1, b'smash': 1, b'plaintive': 2, b'successively': 1, b'neigh': 1, b'akin': 3, b'blandishments': 1, b'exalts': 1, b'upsent': 1, b'garrison': 1, b'maddening': 1, b'devastation': 1, b'\"\\'': 3, b'merit': 1, b'prodigies': 1, b'creek': 1, b'sobbed': 1, b'bends': 1, b'razed': 1, b'prosperity': 1, b'pounce': 1, b'diomeda': 1, b'village': 1, b'pheia': 3, b'iardan': 1, b'preventive': 1, b'menaced': 2, b'grandsons': 2, b'painfully': 1, b'sockets': 1, b'overbear': 1, b'glean': 1, b'throbbed': 1, b'racking': 1, b'eryalus': 2, b'addresses': 1, b'recovered': 1, b'aethra': 1, b'melanthius': 2, b'orphans': 1, b'rotting': 1, b'alongside': 1, b'acceptance': 1, b'laments': 1, b'obstinately': 1, b'oared': 1, b'untillable': 1, b'creontes': 1, b'venerated': 1, b'aton': 1, b'blotted': 1, b'whosoe': 2, b'vexes': 1, b'accident': 1, b'port': 6, b'phoenicians': 2, b'moulded': 1, b'immew': 2, b'argissa': 3, b'gyrtona': 1, b'stallion': 1, b'filly': 1, b'tottering': 1, b'samothrace': 1, b'teach': 2, b'resemble': 1, b'shorn': 2, b'indissoluble': 2, b'unbated': 1, b'undermined': 1, b'hypsipile': 1, b'chang': 3, b'weightiest': 1, b'compensating': 1, b'concubines': 1, b'toughen': 1, b'supplicate': 3, b'reddens': 1, b'dripping': 2, b'lively': 2, b'apprehensions': 1, b'ungratified': 1, b'extoll': 3, b'renegade': 1, b'welcoming': 1, b'taunted': 2, b'\\xc3\\xa6peia': 2, b'direful': 2, b'shaved': 1, b'morsels': 1, b'uprears': 1, b'antidotes': 1, b'confronts': 1, b'authors': 1, b'scandia': 1, b'grating': 1, b'squalid': 1, b'wrestled': 1, b'eutresis': 3, b'e\\xc3\\xabriboea': 1, b'washes': 1, b'doubting': 2, b'tempers': 1, b'invites': 1, b'someone': 2, b'heirless': 1, b'warding': 1, b'dweller': 1, b'ingenious': 1, b'faculties': 1, b'uncensured': 1, b'feebly': 1, b'overreach': 3, b'gouneus': 1, b'proff': 1, b'maimalus': 1, b'coverlet': 1, b'exquisitely': 2, b'helped': 1, b'exhibit': 1, b'impaled': 1, b'dandled': 2, b'tributes': 1, b'regale': 2, b'aesyetes': 2, b'untold': 2, b'dressing': 1, b'halo': 1, b'divines': 1, b'viny': 1, b'cluster': 2, b'unfailingly': 1, b'rigg': 1, b'snare': 1, b'unseeing': 1, b'joys': 3, b'veils': 1, b'confidently': 1, b'rhetoric': 2, b'boarding': 1, b'turgid': 2, b'showery': 2, b'pteleon': 2, b'oepus': 1, b'besprinkled': 1, b'distained': 1, b'milesians': 1, b'cleared': 1, b'unperturb': 1, b'sangarius': 3, b'improves': 1, b'expedients': 1, b'exhausts': 1, b'ries': 2, b'grinding': 5, b'mis': 1, b'provok': 2, b'protesil\\xc3\\xa4us': 1, b'extensive': 3, b'swoll': 4, b'flit': 1, b'thalesius': 1, b'phylomedusa': 2, b'hardship': 3, b'uttermost': 1, b'implores': 1, b'dainties': 1, b'transcendest': 1, b'shifted': 1, b'compelled': 1, b'brandishes': 1, b'checking': 1, b'visionary': 1, b'conform': 2, b'plotting': 2, b'prophecied': 1, b'expectations': 1, b'uncertainties': 1, b'ventured': 1, b'singularly': 1, b'meekness': 1, b'foursquare': 1, b'deserve': 1, b'trustiest': 1, b'feign': 2, b'magnesia': 1, b'equipment': 1, b'measur': 3, b'cynyras': 1, b'hut': 1, b'gurgling': 1, b'ravest': 1, b'unsolicited': 1, b'suns': 1, b'stiffen': 2, b'violation': 2, b'despiteful': 1, b'antrum': 1, b'mainstays': 1, b'exhilarate': 1, b'chafing': 1, b'partner': 4, b'fascinating': 1, b'spells': 1, b'solicitudes': 1, b'hastening': 1, b'felly': 2, b'exported': 1, b'merchandise': 1, b'iaera': 1, b'amphithoe': 2, b'agave': 2, b'consolatory': 1, b'leocritus': 1, b'benign': 1, b'illicit': 1, b'enticed': 1, b'iiyampolis': 1, b'toppling': 1, b'nissa': 2, b'frothy': 1, b'zeus': 1, b'disfigur': 1, b'sol': 2, b'morose': 1, b'browed': 2, b'uncheer': 1, b'dabbled': 1, b'errul': 1, b'hallowed': 1, b'helone': 1, b'echemmon': 1, b'quantity': 1, b'aware': 1, b'esteemed': 1, b'inquiries': 1, b'minute': 2, b'favourably': 1, b'amphith\\xc3\\xb6e': 1, b'unfathom': 1, b'blissful': 1, b'upridged': 1, b'rides': 1, b'turbulent': 2, b'gales': 3, b'unreasonable': 1, b'dispatches': 1, b'\\xc3\\xa6olides': 1, b'ign': 1, b'rant': 1, b'earning': 1, b'ertask': 1, b'insensible': 2, b'erelong': 1, b'atymnias': 1, b'submerg': 1, b'apprized': 1, b'counterworks': 1, b'defeats': 1, b'dictate': 3, b'chesnut': 1, b'controll': 3, b'merriment': 1, b'amerc': 1, b'unforeseen': 1, b'trembler': 1, b'promontories': 2, b'freshening': 1, b'divert': 1, b'purge': 1, b'shrinking': 4, b'phera': 1, b'stagger': 1, b'unfitly': 1, b'infuriated': 3, b'diverted': 1, b'murmuring': 4, b'disgust': 2, b'medicinal': 1, b'prepares': 3, b'smother': 1, b'beseeching': 3, b'garlic': 1, b'anchors': 3, b'whiteness': 2, b'skinned': 1, b'spinner': 1, b'bravery': 2, b'zelea': 2, b'lulling': 1, b'reviving': 1, b'desiring': 1, b'arena': 1, b'outwit': 2, b'desart': 1, b'reel': 1, b'conflicts': 1, b'approves': 1, b'damages': 1, b'impurples': 1, b'bloodshed': 2, b'deprives': 1, b'nous': 1, b'slake': 2, b'dissembling': 1, b'pelasgic': 1, b'trachis': 1, b'protho\\xc3\\xbcs': 1, b'prisoners': 4, b'pall': 1, b'\\xc3\\xa6thon': 1, b'ertumbled': 1, b'impudent': 1, b'asserted': 1, b'brittle': 1, b'hinges': 3, b'churlish': 1, b'reviews': 1, b'restrains': 1, b'injunctions': 2, b'neoptolemus': 3, b'unchain': 1, b'rless': 3, b'angel': 1, b'disporting': 1, b'pots': 1, b'touched': 7, b'astonished': 1, b'briefly': 1, b'odors': 1, b'teutamus': 2, b'lazy': 1, b'cudgel': 1, b'capys': 5, b'unknowing': 1, b'unconsciousness': 1, b'licymnius': 1, b'requires': 3, b'kite': 1, b'raiding': 1, b'battering': 4, b'inexperienc': 1, b'lotion': 1, b'dispossess': 1, b'scans': 1, b'provident': 1, b'pitueia': 1, b'regretted': 1, b'trapped': 1, b'swineherd': 1, b'longingly': 1, b'dews': 3, b'ormenius': 1, b'parentage': 2, b'furl': 1, b'blighting': 1, b'pelasgi': 2, b'lysians': 1, b'excitement': 1, b'\\xc3\\xa6geon': 1, b'erload': 1, b'phthires': 1, b'housekeeper': 1, b'unprovided': 1, b'loathsome': 1, b'serving': 3, b'freshest': 1, b'consoling': 1, b'covets': 1, b'keys': 1, b'myrmidon': 3, b'conquest': 2, b'tarry': 2, b'sheeted': 2, b'sources': 1, b'nathless': 1, b'provoking': 2, b'sauce': 1, b'histr\\xc3\\xaf\\xc3\\xa6a': 1, b'vintage': 2, b'streaked': 1, b'thraldom': 1, b'forgot': 2, b'paus': 1, b'dan\\xc3\\xa4i': 1, b'overspreads': 1, b'describe': 1, b'unsay': 1, b'halves': 2, b'gateway': 3, b'ass\\xc3\\xa6us': 1, b'orus': 3, b'agela\\xc3\\xbcs': 1, b'ensuing': 2, b'gath': 2, b'fetched': 1, b'unbar': 1, b'recompence': 1, b'suffused': 1, b'breastworks': 1, b'delving': 1, b'guess': 1, b'nourished': 2, b'remediless': 1, b'erpower': 2, b'reliev': 3, b'fraudulent': 2, b'reverse': 1, b'unpractised': 2, b'glist': 1, b'unflagging': 2, b'enrage': 1, b'cayster': 2, b'paced': 2, b'jut': 2, b'erta': 2, b'tens': 2, b'afield': 1, b'cloy': 1, b'riving': 1, b'dolopians': 1, b'assent': 2, b'sleeper': 1, b'whichever': 1, b'legitimate': 1, b'girdles': 2, b'addition': 2, b'dreamer': 1, b'heavenwards': 2, b'mildness': 1, b'singlehanded': 1, b'orneia': 2, b'araethure': 1, b'futurity': 2, b'inhabitant': 1, b'showering': 3, b'preservers': 1, b'reverencing': 1, b'haunch': 1, b'solemnized': 1, b'scantlings': 1, b'inmate': 1, b'cyther\\xc3\\xa6': 1, b'disgusted': 1, b'forcible': 1, b'plainward': 1, b'institutes': 1, b'unnerved': 1, b'trippingly': 1, b'ptolemaeus': 1, b'wer': 1, b'retrace': 2, b'adhered': 1, b'sanctity': 1, b'blazes': 1, b'aegeus': 2, b'thrusting': 6, b'penetrating': 1, b'resorted': 1, b'ingenuity': 1, b'gage': 1, b'caria': 1, b'chronicle': 1, b'watchfire': 2, b'saturate': 1, b'unimparted': 1, b'transferr': 2, b'recks': 1, b'mycenians': 1, b'pikes': 1, b'alus': 1, b'powerless': 1, b'intrusive': 1, b'supplicating': 1, b'square': 1, b'coronets': 1, b'swerv': 3, b'fatigued': 2, b'favored': 1, b'!)--': 1, b'indolence': 2, b'charred': 1, b'groundless': 1, b'rely': 1, b'climes': 1, b'angler': 1, b'placable': 2, b'suffuse': 2, b'sceptres': 1, b'epeigeus': 1, b'gibbous': 1, b'wished': 2, b'fulness': 1, b'smoky': 1, b'hoodwink': 1, b'leopard': 1, b'conducts': 3, b'pools': 1, b'wreathed': 4, b'phere': 1, b'benevolent': 2, b'wines': 2, b'cased': 2, b'forgetfulness': 1, b'rejoin': 3, b'renounced': 2, b'mention': 1, b'furrowed': 1, b'crutch': 1, b'neglectful': 1, b'instill': 1, b'jealous': 3, b'restoration': 1, b'articles': 1, b'fulfils': 2, b'travell': 1, b'reflective': 1, b'stations': 1, b'erlabour': 1, b'areta\\xc3\\xb6n': 1, b'violated': 4, b'indulgence': 1, b'earnings': 1, b'occupying': 1, b'cordage': 1, b'clavicle': 1, b'credulous': 1, b'perceiv': 2, b'whistle': 1, b'invades': 1, b'gratuity': 1, b'unnerve': 1, b'ialyssus': 1, b'lacerated': 2, b'polyphontes': 1, b'wondrously': 1, b'evippus': 1, b'pyres': 2, b'beheading': 1, b'veriest': 1, b'rivet': 2, b'bunched': 1, b'knots': 2, b'posting': 1, b'ablaze': 1, b'apparel': 1, b'discs': 1, b'sphelus': 3, b'boucolos': 1, b'galingal': 1, b'chestnut': 2, b'twine': 1, b'plurality': 1, b'clutches': 1, b'ingrate': 1, b'province': 2, b'pratest': 1, b'satt': 1, b'fee': 1, b'p\\xc3\\xa6onians': 1, b'moanings': 1, b'saddle': 1, b'cilia': 1, b'belie': 2, b'surcease': 1, b'hurries': 1, b'inter': 1, b'purpureal': 1, b'ormenium': 1, b'asterium': 1, b'purpos': 1, b'illumining': 1, b'crossed': 2, b'batten': 3, b'batiaea': 1, b'surmised': 1, b':*': 1, b'frowns': 3, b'tarna': 1, b'linos': 1, b'paltry': 2, b'godship': 1, b'abdicate': 1, b'exhausted': 1, b'embowels': 1, b'pira\\xc3\\xafdes': 1, b'walled': 1, b'gortys': 1, b'gygeian': 1, b'contrives': 1, b'confined': 1, b'whistled': 1, b'platters': 1, b'scuds': 2, b'rejoins': 1, b'starr': 1, b'irascible': 1, b'symbol': 1, b'sadness': 1, b'subterraneous': 1, b'brainless': 1, b'posterior': 1, b'complain': 2, b'unrighteous': 4, b'asperse': 1, b'superb': 1, b'tumbled': 1, b'equivalent': 1, b'slide': 1, b'retreats': 1, b'thymaetes': 1, b'\\xc3\\xa6nius': 1, b'encirclest': 2, b'caressing': 1, b'faithfullest': 1, b'crescent': 1, b'typho\\xc3\\xabus': 1, b'lodgment': 1, b'scanning': 1, b'disseminated': 1, b'derides': 1, b'induc': 2, b'sub': 1, b'tartarean': 1, b'shrew': 1, b'spie': 1, b'braids': 1, b'aleimus': 1, b'glorified': 1, b'captived': 1, b'ripa': 1, b'glauca': 1, b'commotion': 1, b'continents': 1, b'sellian': 1, b'unwashen': 1, b'blare': 1, b'trumpets': 1, b'environs': 1, b'portico': 2, b'embank': 2, b'plowed': 1, b'righteously': 1, b'wickedly': 1, b'eeriboea': 1, b'gnashings': 1, b'pervious': 1, b'hobbles': 1, b'eneti': 2, b'arsinous': 2, b'lemnian': 1, b'resembles': 1, b'levers': 1, b'supporters': 1, b'fright': 2, b'erthrows': 1, b'blacken': 2, b'distraction': 1, b'kingdoms': 2, b'bordering': 2, b'plash': 3, b'rails': 2, b'bays': 1, b'amused': 1, b'quicken': 1, b'wrenching': 1, b'dips': 1, b'madd': 2, b'sinful': 1, b'dismissing': 1, b'testifies': 1, b'convoyed': 1, b'decads': 1, b'spark': 1, b'undiscriminating': 1, b'seizure': 1, b'shakest': 1, b'clank': 2, b'howsoever': 1, b'studied': 1, b'pherusa': 2, b'dexamene': 2, b'amphinome': 2, b'callianeira': 1, b'sulphureous': 1, b'glassy': 1, b'unison': 1, b'pastoral': 1, b'wrangler': 1, b'wickedness': 2, b'circumstances': 1, b'picturesque': 1, b'imaginable': 1, b'unarmed': 2, b'suffrage': 1, b'progenitors': 1, b'dinners': 1, b'bleach': 1, b'lodging': 1, b'pageant': 1, b'mercilessly': 1, b'encircle': 1, b'outright': 1, b'unshorn': 3, b'hewed': 1, b'sestos': 2, b'renewed': 1, b'inspected': 1, b'wafts': 1, b'dy': 2, b'grudging': 2, b'everywhither': 1, b'grievously': 1, b'ordaining': 1, b'retracted': 1, b'bronzed': 1, b'pleads': 1, b'ineffable': 1, b'hover': 1, b'vehemently': 1, b'graced': 2, b'unmiss': 1, b'expressive': 1, b'pained': 1, b'ablest': 1, b'boards': 1, b'precipitated': 2, b'tom': 1, b'repels': 1, b'overflow': 1, b'euboeans': 1, b'pious': 1, b'claimed': 1, b'tyrintha': 1, b'sanguine': 2, b'cribs': 1, b'owed': 1, b'chattels': 1, b'discreeter': 1, b'money': 2, b'losses': 1, b'swayed': 2, b'breastpiece': 1, b'strongholds': 1, b'giver': 1, b'sweats': 1, b'tereia': 1, b'buoy': 2, b'thymbr\\xc3\\xa6us': 1, b'verified': 1, b'chopped': 1, b'sliced': 2, b'wriggled': 1, b'writhed': 2, b'unwonted': 2, b'cloven': 1, b'pronous': 2, b'thunderbolts': 1, b'bandy': 1, b'tush': 1, b'plotted': 1, b'vintagers': 1, b'affrights': 1, b'borrow': 2, b'remorseless': 2, b'shielding': 1, b'immunity': 1, b'whizz': 1, b'nape': 2, b'unappropriated': 1, b'entrusted': 2, b'swerves': 1, b'breakfast': 2, b'trav': 2, b'ller': 2, b'deign': 1, b'twitch': 1, b'batieia': 1, b'consigning': 2, b'dissension': 1, b'assaults': 1, b'harmony': 1, b'rarest': 1, b'persons': 1, b'erspreading': 2, b'gashed': 1, b'compliment': 1, b'percotian': 1, b'alaster': 1, b'anodynes': 1, b'foiling': 2, b'breakers': 1, b'sucking': 1, b'unnerv': 1, b'\\xc3\\xa6geus': 1, b'yokefellow': 1, b'foments': 1, b'pitiest': 1, b'singeing': 1, b'enjoying': 1, b'swelt': 1, b'suppleness': 1, b'foolishness': 1, b'sagacious': 1, b'strengthened': 3, b'meabures': 1, b'convening': 1, b'untied': 2, b'hounded': 1, b'egyptian': 3, b'maintenance': 1, b'incarnadines': 1, b'rots': 1, b'moeonian': 1, b'brushing': 1, b'squinting': 1, b'distorted': 1, b'reassured': 1, b'outvied': 1, b'everyone': 1, b'practium': 1, b'procure': 2, b'prowling': 1, b'shirked': 1, b'mysterious': 1, b'misuse': 1, b'lowed': 1, b'crazed': 1, b'untarnish': 1, b'reported': 1, b'possessor': 1, b'unconsol': 1, b'strengthening': 1, b'rhipae': 1, b'stratie': 1, b'soiled': 1, b'unessay': 1, b'effrontery': 1, b'espied': 1, b'admiringly': 1, b'canopy': 1, b'ranked': 1, b'presaging': 1, b'olympians': 1, b'astyochea': 1, b'erspreads': 1, b'judgments': 2, b'comfortably': 1, b'crevice': 1, b'joyously': 1, b'hypotheb\\xc3\\xa6': 1, b'discard': 1, b'cam': 1, b'hermus': 3, b'marge': 1, b'clip': 1, b'spouting': 1, b'enkindling': 1, b'snares': 2, b'shuns': 1, b'needed': 3, b'adopt': 1, b'persevere': 1, b'faring': 1, b'reprov': 1, b'aenius': 1, b'deriving': 1, b'asterius': 1, b'titanus': 1, b'pausing': 1, b'poisonous': 1, b'sports': 1, b'resigning': 1, b'soaking': 2, b'thon': 1, b'pronged': 1, b'c\\xc3\\xa6rulean': 2, b'recommended': 1, b'connubial': 1, b'thrilling': 1, b'mastorides': 1, b'allowances': 1, b'fondest': 1, b'blandishment': 1, b'disjointed': 1, b'creion': 1, b'nook': 1, b'corner': 1, b'unplundered': 1, b'cede': 1, b'opinions': 2, b'eyeball': 1, b'stammering': 1, b'clave': 1, b'curv': 1, b'allowing': 1, b'divined': 1, b'footmen': 1, b'reverenced': 2, b'shoal': 1, b'lengthways': 1, b'staunching': 1, b'imbued': 1, b'glides': 1, b'chilling': 1, b'parsley': 1, b'cropp': 1, b'pireus': 1, b'comparable': 1, b'kneed': 1, b'plebeian': 1, b'lodge': 1, b'bespatter': 1, b'believing': 1, b'telea': 1, b'piecemeal': 1, b'ciconians': 1, b'unreasonably': 1, b'reedy': 1, b'enamour': 1, b'lamented': 1, b'plunges': 1, b'leaden': 1, b'elapsed': 1, b'racer': 1, b'customary': 1, b'restores': 1, b'comforted': 2, b'deprive': 1, b'decoyed': 1, b'tufted': 1, b'silt': 1, b'bucolus': 2, b'imposed': 1, b'senate': 1, b'erechtheus': 1, b'nimbler': 1, b'skirting': 1, b'gaining': 1, b'dolopes': 1, b'quarrels': 2, b'contravert': 1, b'outsprang': 1, b'replenishment': 1, b'prospering': 1, b'plund': 1, b'perturb': 1, b'teachers': 1, b'fateful': 2, b'disagree': 1, b'forelocks': 1, b'thump': 1, b'dissolution': 1, b'figs': 1, b'gravest': 1, b'pestiferous': 1, b'hereon': 1, b'braves': 1, b'laving': 1, b'hipponous': 2, b'remitted': 1, b'unsheathed': 1, b'residing': 1, b'undecided': 1, b'competing': 1, b'excellently': 1, b'slipp': 4, b'tuft': 1, b'stony': 3, b'subtlest': 1, b'pleading': 2, b'greets': 1, b'consults': 1, b'float': 1, b'polyphoetes': 1, b'congratulated': 1, b'suck': 1, b'compasses': 1, b'infatuated': 2, b'stint': 1, b'troezene': 2, b'eionae': 1, b'spouses': 1, b'measurers': 1, b'treats': 1, b'fen': 1, b'reddened': 2, b'lawgiver': 1, b'betrayed': 1, b'indiscretion': 1, b'shamefacedness': 1, b'flutt': 1, b'disfiguring': 1, b'syma': 1, b'treasurehouse': 1, b'taller': 2, b'management': 1, b'chastises': 1, b'marvellously': 1, b'divinely': 2, b'comeliest': 1, b'discrete': 2, b'wooed': 1, b'stabled': 2, b'gallops': 2, b'doting': 1, b'prattle': 1, b'frighten': 1, b'demouchus': 1, b'woody': 1, b'affixt': 1, b'bivouac': 1, b'hissing': 1, b'olenos': 1, b'pushing': 1, b'punctual': 1, b'disjoins': 1, b'id\\xc3\\xa6sus': 1, b'incase': 1, b'passions': 2, b'teacher': 1, b'ilithya': 2, b'arbitress': 1, b'men\\xc3\\xa6tius': 1, b'are\\xc3\\xafthous': 2, b'whilom': 1, b'unwrought': 1, b'\\xc3\\xa6pytus': 1, b'swoons': 1, b'increase': 1, b'o\\xc3\\xaflean': 1, b'oped': 1, b'thitherward': 1, b'schoenus': 1, b'scolus': 2, b'highlands': 1, b'fasts': 1, b'seasons': 1, b'scolding': 1, b'street': 1, b'peoples': 2, b'propense': 2, b'tugging': 2, b'prongs': 1, b'partnership': 1, b'cords': 3, b'reproving': 1, b'ported': 1, b'failure': 2, b'dissevering': 1, b'assure': 1, b'yokestraps': 1, b'retrospect': 1, b'outstripp': 1, b'stockman': 1, b'stick': 1, b'slant': 1, b'surgeon': 1, b'examine': 1, b'triumphed': 1, b'vigorously': 1, b'accordingly': 1, b'co\\xc3\\xabval': 1, b'overmatch': 1, b'heaving': 3, b'minu\\xc3\\xabius': 1, b'cheerfulness': 1, b'provided': 1, b'grudged': 2, b'ham': 1, b'entreating': 1, b'productive': 1, b'signalized': 1, b'daggers': 1, b'baldrics': 1, b'pail': 2, b'yes': 1, b'remits': 1, b'tyrins': 1, b'skirted': 1, b'tedious': 2, b'foreshadows': 1, b'are\\xc3\\xaflocus': 1, b'contracted': 1, b'dislike': 1, b'pacify': 1, b'messe': 1, b'bryseae': 1, b'augeae': 2, b'embarked': 1, b'healthy': 1, b'military': 1, b'peireus': 1, b'peculiarly': 1, b'displacing': 1, b'desolated': 1, b'torments': 1, b'stew': 1, b'crocyleium': 1, b'glimpse': 1, b'introduction': 1, b'tablet': 1, b'containing': 1, b'adjoining': 1, b'int': 1, b'laboring': 2, b'merrily': 1, b'supposing': 1, b'lycimnius': 2, b'wearer': 1, b'formal': 1, b'fixity': 1, b'abstains': 1, b'poisons': 1, b'phoenician': 1, b'merchants': 1, b'indite': 1, b'evenor': 1, b'bateia': 1, b'extinguish': 1, b'thre\\xc3\\xafcian': 1, b'poly\\xc3\\xa6mon': 1, b'gatemen': 1, b'dint': 2, b'pleuronian': 1, b'growling': 1, b'unsustain': 1, b'beguiling': 2, b'eject': 1, b'claimants': 1, b'despatched': 1, b'lily': 1, b'shipboard': 1, b'confluent': 1, b'protia\\xc3\\xb6n': 1, b'samothracia': 1, b'fortresses': 1, b'dictates': 1, b'scalded': 1, b'placos': 3, b'dudgeon': 1, b'unripe': 1, b'hypsipyle': 2, b'hustled': 1, b'transcend': 1, b'inscribing': 1, b'unreluctant': 1, b'updrawn': 3, b'dells': 1, b'impugn': 1, b'enquiring': 1, b'variety': 1, b'ravished': 1, b'remounted': 2, b'beguiles': 1, b'seduc': 1, b'behooves': 1, b'yells': 1, b'_,': 3, b'applauding': 1, b'predictive': 1, b'eione': 1, b'adjur': 1, b'contumelious': 1, b'avouch': 1, b'diets': 1, b'gorgythion': 3, b'castianeira': 2, b'provides': 1, b'overflowing': 1, b'unanimously': 1, b'freshen': 1, b'howling': 1, b'scourg': 1, b'stranded': 1, b'fairer': 1, b'paps': 1, b'lil\\xc3\\xa6a': 1, b'ails': 1, b'dressers': 1, b'pinnacle': 1, b'bland': 1, b'seniors': 1, b'hugest': 1, b'pricket': 1, b'idlers': 1, b'lawless': 1, b'victors': 1, b'dismission': 3, b'dainty': 2, b'calchon': 1, b'choked': 1, b'puerperal': 1, b'meonians': 3, b'abundantly': 1, b'discharged': 1, b'assuredly': 1, b'discoursing': 1, b'sim\\xc3\\xb6is': 1, b'unfrequent': 2, b'gemm': 1, b'wreaked': 1, b'casks': 1, b'acquire': 1, b'rashness': 2, b'menials': 1, b'ornamental': 1, b'de\\xc3\\xafochus': 1, b'authoress': 1, b'remotest': 1, b'laboured': 1, b'besprent': 3, b'contemplative': 1, b'godhead': 1, b'mases': 2, b'aesymnus': 1, b'unstrung': 1, b'noontide': 1, b'erred': 1, b'laodameia': 2, b'security': 2, b'comet': 1, b'breezes': 1, b'balances': 1, b'suffers': 1, b'domineer': 1, b'sinned': 1, b'reconciles': 1, b'rasp': 1, b'nicest': 1, b'retracting': 2, b'openmouthed': 1, b'machines': 1, b'merely': 1, b'conveying': 1, b'pleasing': 1, b'vaulting': 1, b'helmsman': 1, b'?\"\"': 1, b'adequate': 1, b'orneae': 1, b'araethyrea': 1, b'licyon': 1, b'unintermitted': 1, b'movements': 2, b'disabl': 1, b'tossed': 1, b'barque': 1, b'lick': 2, b'administering': 1, b'heldest': 1, b'dawning': 2, b'resents': 1, b'lymph': 1, b'thankless': 1, b'nant': 1, b'commission': 1, b'tortuous': 1, b'plyed': 1, b'bowstrings': 1, b'storming': 1, b'pygm\\xc3\\xa6an': 1, b'blindly': 1, b'benches': 1, b'pined': 1, b'custody': 1, b'cajoling': 1, b'hyria': 2, b'arrival': 1, b'subordinate': 1, b'plump': 1, b'bevy': 1, b'undying': 1, b'orehomenus': 1, b'presentment': 1, b'costliest': 1, b'varied': 2, b'twined': 1, b'demanded': 2, b'deputed': 1, b'stunned': 1, b'upheaving': 1, b'orithya': 1, b'luxurious': 1, b'informs': 1, b'tightened': 1, b'deserting': 2, b'cared': 2, b'carpenter': 1, b'buffeted': 1, b'trice': 1, b'forfeiture': 1, b'bespeaks': 1, b'attention': 1, b'snags': 1, b'jardan': 1, b'wastes': 1, b'polypheme': 1, b'devourest': 1, b'untorn': 1, b'dismisses': 1, b'obnoxious': 1, b'fathomer': 1, b'inquirer': 1, b'deliberating': 1, b'jealousy': 1, b'salted': 1, b'uppermost': 1, b'slower': 1, b'overlapped': 1, b'strand': 1, b'emptied': 1, b'barred': 2, b'inspecting': 1, b'transverse': 1, b'undertakes': 1, b'hazardous': 1, b'cowardlike': 1, b'enchant': 1, b'fitly': 1, b'pele\\xc3\\xbcs': 1, b'amerce': 1, b'knocked': 1, b'reliefs': 1, b'yestermorn': 1, b'ithacan': 1, b'unkindness': 1, b'peires': 1, b'fooled': 1, b'revealing': 1, b'unforgiving': 1, b'counterscarp': 1, b'humbly': 1, b'firewood': 1, b'concur': 1, b'phorcis': 1, b'shortest': 1, b'manifold': 1, b'shredded': 1, b'actorian': 1, b'bereaving': 1, b'commits': 1, b'incidents': 1, b'acuminated': 1, b'forays': 1, b'tests': 1, b'teems': 1, b'disquietness': 1, b'clubfooted': 1, b'ghosts': 2, b'fattest': 1, b'rememb': 2, b'quoited': 1, b'divisions': 1, b'earthward': 1, b'interchanging': 1, b'clods': 1, b'coagulates': 1, b'ancestors': 1, b'supineness': 1, b'extraordinarily': 1, b'pidutes': 1, b'talaemenes': 1, b'teardrops': 1, b'veiling': 1, b'banes': 1, b'boons': 1, b'impelling': 1, b'lowland': 1, b'mattresses': 1, b'blankets': 1, b'babblers': 1, b'landward': 2, b'perfumes': 1, b'tilled': 2, b'forelands': 1, b'grapes': 1, b'aegialeia': 1, b'disunited': 1, b'intestine': 1, b'blaming': 1, b'humblest': 1, b'sangar': 2, b'affection': 1, b'convulsed': 1, b'thrasydemus': 1, b'slim': 1, b'waisted': 1, b'deliverers': 1, b'peaceable': 1, b'bickerings': 1, b'fastness': 1, b'announced': 1, b'withes': 2, b'haled': 2, b'villain': 1, b'denying': 1, b'occupation': 1, b'spearsman': 1, b'shrunk': 2, b'encompasseth': 1, b'pursuits': 1, b'appal': 1, b'trachys': 1, b'crisp': 1, b'bells': 1, b'shuddered': 1, b'grit': 1, b'willow': 1, b'saplings': 1, b'nfold': 1, b'hardier': 1, b'scoenus': 1, b'highland': 1, b'blinding': 1, b'impellest': 1, b'reeks': 1, b'shagg': 1, b'lists': 1, b'maintaining': 1, b'hormenus': 1, b'desir': 1, b'skilfully': 1, b'lining': 1, b'manned': 1, b'interests': 1, b'unburthened': 1, b',-': 1, b'corresponding': 1, b'transvere': 1, b'virgins': 1, b'unproductive': 1, b'jar': 1, b'broach': 1, b'concede': 1, b'cheerly': 1, b'ach\\xc3\\xa6ans': 1, b'transgression': 1, b'redundance': 1, b'instil': 1, b'estrange': 1, b'undecaying': 1, b'effectuate': 1, b'foreseeing': 1, b'harbors': 1, b'writhes': 1, b'discloses': 1, b'fetching': 1, b'degree': 1, b'venturest': 1, b'sings': 1, b'slashed': 1, b'excused': 1, b'madden': 1, b'simply': 1, b'beauties': 1, b'unenjoy': 1, b'scoop': 1, b'snorted': 1, b'brim': 1, b'cultured': 1, b'intercept': 1, b'fickle': 1, b'tinctured': 1, b'countenance': 1, b'flamed': 1, b'addicted': 1, b'checker': 1, b'leiocritus': 1, b'sown': 1, b'teuthranes': 1, b'irrigating': 1, b'wranglings': 1, b'shrewdest': 1, b'fleeting': 1, b'dedicated': 1, b'peaceably': 1, b'hon': 1, b'propheciest': 1, b'exhortest': 1, b'abated': 1, b'destroys': 2, b'erpass': 1, b'rejection': 1, b'bond': 1, b'helic\\xc3\\xa4on': 1, b'reascends': 1, b'uncared': 1, b'porker': 1, b'scents': 1, b'odorous': 1, b'personal': 1, b'singling': 1, b'rebuking': 1, b'phantoms': 1, b'followedst': 1, b'resound': 1, b'encroachments': 1, b'enfeebling': 1, b'wits': 1, b'sympathetic': 1, b'foreseen': 1, b'inviolate': 1, b'foretells': 1, b'distresses': 1, b'unattempted': 1, b'venomous': 1, b'phocensian': 1, b'ancients': 1, b'lulled': 1, b'tritonian': 1, b'western': 1, b'inwardly': 1, b'rifted': 1, b'slanting': 1, b'trifled': 1, b'remembered': 1, b'depresses': 1, b'interwoven': 1, b'catastrophe': 1, b'errules': 1, b'elphenor': 1, b'halcyon': 1, b'molten': 1, b'unreservedly': 1, b'fountainhead': 1, b'stitch': 1, b'wires': 1, b'bondsmen': 1, b'fingering': 1, b'promptly': 1, b'ror': 1, b'redeeming': 1, b'weights': 1, b'harms': 1, b'colona': 1, b'rilling': 1, b'obstructed': 1, b'foams': 1, b'morphnos': 1, b'riddance': 1, b'makar': 1, b'woolen': 1, b'unblunted': 1, b'uncontrolable': 1, b'advancement': 1, b'partakers': 1, b'pitched': 1, b'cumberous': 1, b'decency': 1, b'prescribed': 1, b'deluge': 1, b'tricks': 1, b'democoon': 3, b'misdoings': 1, b'consists': 1, b'entirely': 1, b'brewing': 1, b'distinguishes': 1, b'counterpoise': 1, b'erinnys': 2, b'hymen': 1, b'\\xc3\\xa6thic\\xc3\\xa6': 1, b'vetches': 1, b'swarthy': 1, b'erroneous': 1, b'partition': 1, b'obduracy': 1, b'ceus': 1, b'highborn': 1, b'fade': 1, b'stall': 2, b'borrowed': 1, b'worthiest': 1, b'distilling': 1, b'deceased': 1, b'chattered': 1, b'habitation': 2, b'stinted': 1, b'favourite': 1, b'impute': 1, b'sorest': 1, b'willy': 1, b'nilly': 1, b'fulfilling': 1, b'drunken': 1, b'slippery': 1, b'watchman': 2, b'priamides': 1, b'hauberks': 1, b'varne': 1, b'demigods': 2, b'worshiping': 1, b'echion': 1, b'straightly': 1, b'abantians': 1, b'bereave': 1, b'enamor': 1, b'odium': 1, b'flexible': 1, b'soothsayers': 1, b'treasury': 1, b'boebeis': 1, b'hinge': 1, b'approached': 1, b'neighboring': 1, b'westward': 1, b'erflying': 1, b'alcandrus': 1, b'batterer': 1, b'unguent': 1, b'smutch': 1, b'chopping': 1, b'calmer': 1, b'disparted': 1, b'crestless': 1, b'unadorn': 1, b'carve': 1, b'unsuspected': 1, b'flyers': 1, b'begrim': 1, b'pirous': 1, b'conditions': 1, b'duel': 2, b'decorated': 1, b'inflam': 1, b'dispensed': 1, b'wrestlers': 1, b'dorion': 2, b'notion': 1, b'flounder': 1, b'stunning': 1, b'pants': 1, b'leda': 1, b'dishonorably': 1, b'swelled': 1, b'grind': 1, b'unpitying': 1, b'sung': 1, b'nestled': 1, b'uncoiling': 1, b'dealings': 1, b'rigmus': 1, b'hottest': 1, b'understands': 1, b'reflect': 1, b'prowler': 1, b'wilds': 1, b'stychius': 1, b'erecting': 1, b'hymen\\xc3\\xa6al': 1, b'hyda': 1, b'tussock': 1, b'molest': 1, b'observation': 1, b'mandates': 1, b'subjects': 1, b'fleck': 1, b'surmounted': 1, b'dearth': 1, b'review': 1, b'chair': 1, b'cicons': 1, b'incited': 1, b'drowsy': 1, b'watchest': 1, b'bondswomen': 1, b'corynetes': 1, b'swathes': 1, b'upran': 1, b'meadowed': 1, b'unobserved': 1, b'evident': 1, b'westering': 1, b'sadder': 1, b'phylacides': 1, b'inscribe': 1, b'promontory': 1, b'accommodates': 1, b'profited': 1, b'tuck': 1, b'selling': 1, b'goatskin': 1, b'accepts': 1, b'splitting': 1, b'varying': 1, b'emergency': 1, b'daintiest': 1, b'leveret': 1, b'tethers': 1, b'humiliation': 1, b'smoothing': 1, b'nants': 1, b'speculations': 1, b'cleon\\xc3\\xa6': 1, b'whine': 1, b'tenderest': 1, b'hypere\\xc3\\xafa': 1, b'ointment': 1, b'exclusion': 1, b'lav': 1, b'checked': 1, b'griping': 1, b'saviour': 1, b'harried': 1, b'comforter': 1, b'snowflakes': 1, b'forbearing': 1, b'exiled': 1, b'betroth': 1, b'challenging': 1, b'advent': 1, b'obstreperous': 1, b'pteleos': 1, b'dwellings': 1, b'highway': 1, b'singe': 1, b'errule': 1, b'tramplings': 1, b'projects': 1, b'lydian': 1, b'distressful': 1, b'halters': 1, b'overpoises': 1, b'commix': 1, b'removes': 1, b'upturn': 1, b'interlaced': 1, b'amongst': 1, b'unattended': 1, b'dispos': 1, b'vaingloriously': 1, b'slashing': 1, b'recommend': 1, b'inflicts': 1, b'appetites': 1, b'vulcanian': 1, b'priz': 1, b'nakedness': 1, b'flog': 1, b'coasts': 1, b'raided': 1, b'harvests': 1, b'lather': 1, b'compels': 1, b'folk': 1, b'euenus': 1, b'ides': 1, b'lump': 1, b'tyre': 1, b'eligible': 1, b'beleaguering': 1, b'undeplored': 1, b'upraise': 1, b'fashions': 1, b'steeling': 1, b'interpreted': 1, b'festive': 1, b'wildest': 1, b'dexter': 1, b'competitor': 1, b'loiterer': 1, b'colt': 1, b'clanless': 1, b'hearthless': 1, b'outlaw': 1, b'slop': 1, b'granting': 2, b'unredeem': 1, b'quickens': 1, b'spoked': 1, b'uniting': 1, b'rase': 1, b'rejected': 1, b'roughness': 1, b'mines': 1, b'lucifer': 1, b'alean': 1, b'enfold': 1, b'dismount': 1, b'chances': 1, b'amycla': 1, b'otilus': 1, b'bided': 1, b'describ': 1, b'constantly': 1, b'recreation': 1, b'epirus': 1, b'chewing': 1, b'disregarded': 1, b'objectless': 1, b'garland': 1, b'continuation': 1, b'delaying': 1, b'dispersion': 1, b'featly': 1, b'beseeming': 1, b'sustains': 1, b'permits': 1, b'cradled': 1, b'tuneful': 1, b'buckles': 1, b'harbor': 1, b'colloquy': 1, b'madlier': 1, b'tala\\xc3\\xbcs': 1, b'opous': 1, b'scarphe': 1, b'tarphe': 1, b'horribly': 1, b'hesitated': 1, b'bruited': 1, b'nysa': 1, b'thyrsi': 1, b'ceos': 1, b'paphlagonian': 1, b'cleaver': 1, b'knelt': 1, b'paint': 1, b'i\\xc3\\xa4onians': 1, b'spartan': 1, b'kens': 1, b'emboldens': 1, b'blight': 1, b'housed': 1, b'copses': 1, b'depend': 1, b'charities': 1, b'complaining': 1, b'enwrapp': 1, b'distinctly': 1, b'alysian': 1, b'daintily': 1, b'ancled': 1, b'sputt': 1, b'circumspection': 1, b'thwarts': 1, b'rite': 1, b'unfired': 1, b'tellus': 1, b'coronea': 1, b'glisas': 1, b'services': 1, b'delirious': 1, b'anchestus': 1, b'aground': 1, b'seconded': 1, b'surmise': 1, b'elean': 1, b'indulg': 1, b'anemoria': 1, b'fatigue': 1, b'junction': 1, b'titanum': 1, b'whelks': 1, b'men\\xc3\\xa6tiades': 1, b'vomiting': 1, b'passionately': 1, b'gav': 1})\n",
            "Vocab size:  10000\n",
            "First five vocab entries:  [b',', b'the', b'and', b\"'\", b'of']\n"
          ],
          "name": "stdout"
        }
      ]
    },
    {
      "cell_type": "markdown",
      "metadata": {
        "id": "z6UF55Lw620-"
      },
      "source": [
        "To convert the tokens into integers, use the `vocab` set to create a `StaticVocabularyTable`. You will map tokens to integer in the range`[2, vocab_size + 2]`. As with the TextVectorization layer, 0 is resrved to denote padding and 1 is reserved to denote an out-of-vocabulary(OOV) token.\n",
        "\n"
      ]
    },
    {
      "cell_type": "code",
      "metadata": {
        "id": "c3eRdlKv8A96"
      },
      "source": [
        "keys = vocab\n",
        "values = range(2, len(vocab) + 2) # reserve 0 for padding, 1  for OOV\n",
        "\n",
        "init = tf.lookup.KeyValueTensorInitializer(\n",
        "    keys, values, key_dtype=tf.string, value_dtype=tf.int64)\n",
        "\n",
        "num_oov_buckets = 1\n",
        "vocab_table =tf.lookup.StaticVocabularyTable(init, num_oov_buckets)"
      ],
      "execution_count": null,
      "outputs": []
    },
    {
      "cell_type": "markdown",
      "metadata": {
        "id": "mFk2_QRD8tWq"
      },
      "source": [
        "Finally, define a function to standardize, tokenize and vectorize the dataset using the tokenizer and lookup table:"
      ]
    },
    {
      "cell_type": "code",
      "metadata": {
        "id": "CmjZxiki4LWo"
      },
      "source": [
        "def preprocess_text(text, label):\n",
        "  standardized = tf_text.case_fold_utf8(text)\n",
        "  tokenized = tokenizer.tokenize(standardized)\n",
        "  vectorized = vocab_table.lookup(tokenized)\n",
        "  return vectorized, label"
      ],
      "execution_count": null,
      "outputs": []
    },
    {
      "cell_type": "code",
      "metadata": {
        "colab": {
          "base_uri": "https://localhost:8080/"
        },
        "id": "cx6wf-6hC7Sf",
        "outputId": "96eea68a-23e3-4c9a-a2a1-e279d1976a35"
      },
      "source": [
        "#trying this on single example to see the output:\n",
        "\n",
        "example_text, example_label = next(iter(all_labeled_data))\n",
        "print(\"Sentence :\", example_text.numpy())\n",
        "vectorized_text, example_label = preprocess_text(example_text, example_label)\n",
        "print(\"Vectorized sentence: \", vectorized_text.numpy())"
      ],
      "execution_count": null,
      "outputs": [
        {
          "output_type": "stream",
          "text": [
            "Sentence : b'Within my tent, leaning against the wall,'\n",
            "Vectorized sentence:  [ 263   32  287    2 2500  199    3  257    2]\n"
          ],
          "name": "stdout"
        }
      ]
    },
    {
      "cell_type": "markdown",
      "metadata": {
        "id": "2cSMy5dfD8nb"
      },
      "source": [
        "Now run the preprocess function on the dataset using tf.data.Dataset.map"
      ]
    },
    {
      "cell_type": "code",
      "metadata": {
        "id": "VfoqrrA5EKkH"
      },
      "source": [
        "all_encoded_data = all_labeled_data.map(preprocess_text)"
      ],
      "execution_count": null,
      "outputs": []
    },
    {
      "cell_type": "markdown",
      "metadata": {
        "id": "AJ5nmN5yEVd8"
      },
      "source": [
        "### Split the dataset into train and test\n",
        "\n",
        "The Keras `TextVectorization` layer also batches and pads the vectorized data. Padding is required because the example inside of a batch need to be the same size and shape, but the example in these dataset are not all the same size-each line of text has a differrent number of words. `tf.data.Dataset` support splitting and padded-batching dataset:"
      ]
    },
    {
      "cell_type": "code",
      "metadata": {
        "id": "TMIHB52pFL31"
      },
      "source": [
        "train_data = all_encoded_data.skip(VALIDATION_SIZE).shuffle(BUFFER_SIZE)\n",
        "validation_data = all_encoded_data.take(VALIDATION_SIZE)"
      ],
      "execution_count": null,
      "outputs": []
    },
    {
      "cell_type": "code",
      "metadata": {
        "id": "b5NdhtIRFgu-"
      },
      "source": [
        "train_data = train_data.padded_batch(BATCH_SIZE)\n",
        "validation_data = validation_data.padded_batch(BATCH_SIZE)"
      ],
      "execution_count": null,
      "outputs": []
    },
    {
      "cell_type": "markdown",
      "metadata": {
        "id": "aracW1tuWrxE"
      },
      "source": [
        "Now, `validation_data` and `train_data` are not collections of (`example, labels`) pairs, but collections of batches. Eacg batch is pair of (many examples, many labels) represented as array.\n",
        "\n",
        "To illustrate:"
      ]
    },
    {
      "cell_type": "code",
      "metadata": {
        "colab": {
          "base_uri": "https://localhost:8080/"
        },
        "id": "8T7Oc4-9XPK2",
        "outputId": "27efe2d7-d83b-4219-966f-88895f248616"
      },
      "source": [
        "sample_text, sample_labels = next(iter(validation_data))\n",
        "print(\"Text batch shape: \", sample_text.shape)\n",
        "print(\"Label batch shape: \", sample_labels.shape)\n",
        "print(\"First text example: \", sample_text[0])\n",
        "print(\"First label example: \", sample_labels[0])\n"
      ],
      "execution_count": null,
      "outputs": [
        {
          "output_type": "stream",
          "text": [
            "Text batch shape:  (64, 18)\n",
            "Label batch shape:  (64,)\n",
            "First text example:  tf.Tensor(\n",
            "[ 263   32  287    2 2500  199    3  257    2    0    0    0    0    0\n",
            "    0    0    0    0], shape=(18,), dtype=int64)\n",
            "First label example:  tf.Tensor(0, shape=(), dtype=int64)\n"
          ],
          "name": "stdout"
        }
      ]
    },
    {
      "cell_type": "markdown",
      "metadata": {
        "id": "F_EmWNNmYkov"
      },
      "source": [
        "Since we use `0` for padding and `1` for out-of-vacabulary(OOV)tokens,the vocabulary size has increased by two."
      ]
    },
    {
      "cell_type": "code",
      "metadata": {
        "id": "71tjBlgJY7te"
      },
      "source": [
        "vocab_size += 2"
      ],
      "execution_count": null,
      "outputs": []
    },
    {
      "cell_type": "markdown",
      "metadata": {
        "id": "d8dtWjSmZBnd"
      },
      "source": [
        "Configure the datasets for better performance as before."
      ]
    },
    {
      "cell_type": "code",
      "metadata": {
        "id": "FOoNA3cKZJmK"
      },
      "source": [
        "trian_data = configure_dataset(train_data)\n",
        "validation_data = configure_dataset(validation_data)"
      ],
      "execution_count": null,
      "outputs": []
    },
    {
      "cell_type": "markdown",
      "metadata": {
        "id": "ICWXKpXbZeNe"
      },
      "source": [
        "### Train the model\n",
        "\n",
        "You can train a model on this dataset as before."
      ]
    },
    {
      "cell_type": "code",
      "metadata": {
        "colab": {
          "base_uri": "https://localhost:8080/"
        },
        "id": "vr6quuEZZdWC",
        "outputId": "ce35cb23-f7aa-4be8-d9a3-17f7bbeb1bd7"
      },
      "source": [
        "model = create_model(vocab_size = vocab_size, num_labels=3)\n",
        "model.compile(\n",
        "    optimizer = 'adam',\n",
        "    loss=losses.SparseCategoricalCrossentropy(from_logits=True),\n",
        "    metrics = ['accuracy'])\n",
        "\n",
        "history = model.fit(train_data, validation_data=validation_data, epochs=3)"
      ],
      "execution_count": null,
      "outputs": [
        {
          "output_type": "stream",
          "text": [
            "Epoch 1/3\n",
            "697/697 [==============================] - 35s 19ms/step - loss: 0.6972 - accuracy: 0.6635 - val_loss: 0.3805 - val_accuracy: 0.8320\n",
            "Epoch 2/3\n",
            "697/697 [==============================] - 32s 13ms/step - loss: 0.2827 - accuracy: 0.8909 - val_loss: 0.3564 - val_accuracy: 0.8490\n",
            "Epoch 3/3\n",
            "697/697 [==============================] - 32s 13ms/step - loss: 0.1888 - accuracy: 0.9320 - val_loss: 0.3842 - val_accuracy: 0.8428\n"
          ],
          "name": "stdout"
        }
      ]
    },
    {
      "cell_type": "code",
      "metadata": {
        "colab": {
          "base_uri": "https://localhost:8080/"
        },
        "id": "Om_ZLlQ4aTRy",
        "outputId": "1a3663c1-ce3f-4650-e66f-e151e52d558e"
      },
      "source": [
        "loss, accuracy = model.evaluate(validation_data)\n",
        "\n",
        "print(\"Loss: \", loss)\n",
        "print(\"Accuracy: {:2.2%}\".format(accuracy))"
      ],
      "execution_count": null,
      "outputs": [
        {
          "output_type": "stream",
          "text": [
            "79/79 [==============================] - 1s 2ms/step - loss: 0.3842 - accuracy: 0.8428\n",
            "Loss:  0.38415566086769104\n",
            "Accuracy: 84.28%\n"
          ],
          "name": "stdout"
        }
      ]
    },
    {
      "cell_type": "markdown",
      "metadata": {
        "id": "iUVpSXlDbS4e"
      },
      "source": [
        "### Export the model\n",
        "\n",
        "To make our model capable to taking raw strings as imput, you will create a `TextVectorization`layer that performs the same steps as our custom preprocessing function. Since you already trained a vocabulary, you can use `set_vocabulary` instead of `adapt` which trains a new vocabulary."
      ]
    },
    {
      "cell_type": "code",
      "metadata": {
        "id": "E-cQFY0ObQMo"
      },
      "source": [
        "preprocess_layer = TextVectorization(\n",
        "    max_tokens=vocab_size,\n",
        "    standardize=tf_text.case_fold_utf8,\n",
        "    split=tokenizer.tokenize,\n",
        "    output_mode='int',\n",
        "    output_sequence_length=MAX_SEQUENCE_LENGTH)\n",
        "preprocess_layer.set_vocabulary(vocab)"
      ],
      "execution_count": null,
      "outputs": []
    },
    {
      "cell_type": "code",
      "metadata": {
        "id": "_dSdMMZxc5Eh"
      },
      "source": [
        "export_model = tf.keras.Sequential(\n",
        "    [preprocess_layer, model,\n",
        "     layers.Activation('sigmoid')])\n",
        "\n",
        "export_model.compile(\n",
        "    loss=losses.SparseCategoricalCrossentropy(from_logits=False),\n",
        "    optimizer='adam',\n",
        "    metrics=['accuracy'])"
      ],
      "execution_count": null,
      "outputs": []
    },
    {
      "cell_type": "code",
      "metadata": {
        "colab": {
          "base_uri": "https://localhost:8080/"
        },
        "id": "4Md2f3pZehKJ",
        "outputId": "ae170681-48f7-4a97-bf35-58802dce0ad0"
      },
      "source": [
        "# Create a test dataset of raw string\n",
        "\n",
        "test_ds = all_labeled_data.take(VALIDATION_SIZE).batch(BATCH_SIZE)\n",
        "test_ds = configure_dataset(test_ds)\n",
        "loss, accuracy = export_model.evaluate(test_ds)\n",
        "print(\"Loss: \",loss)\n",
        "print(\"Accuracy: {:2.2%}\".format(accuracy))"
      ],
      "execution_count": null,
      "outputs": [
        {
          "output_type": "stream",
          "text": [
            "79/79 [==============================] - 8s 11ms/step - loss: 0.5079 - accuracy: 0.7979\n",
            "Loss:  0.5135167241096497\n",
            "Accuracy: 79.38%\n"
          ],
          "name": "stdout"
        }
      ]
    },
    {
      "cell_type": "markdown",
      "metadata": {
        "id": "JU2BaDJKfRrr"
      },
      "source": [
        "The loss and accuracy for the model on encoded validation set and the exported model on the raw validation set are the same, as expeted.\n"
      ]
    },
    {
      "cell_type": "markdown",
      "metadata": {
        "id": "6XSKuvwLfhdZ"
      },
      "source": [
        "## Run inference on the data"
      ]
    },
    {
      "cell_type": "code",
      "metadata": {
        "colab": {
          "base_uri": "https://localhost:8080/"
        },
        "id": "Foud8hnCfgEJ",
        "outputId": "23e7de65-cddd-44ac-bac4-80e469ed9839"
      },
      "source": [
        "inputs=[\n",
        "       \"Join'd to th' Ionians with their flowing robes,\",  # Label: 1\n",
        "       \"the allies, and his armour flashed about him so that he seemed to all\",  # Label: 2\n",
        "       \"And with loud clangor of his arms he fell.\",  # Label: 0\n",
        "]\n",
        "\n",
        "predicted_scores = export_model.predict(inputs)\n",
        "predicted_labels = tf.argmax(predicted_scores, axis=1)\n",
        "for input, label in zip(inputs, predicted_labels):\n",
        "  print(\"Question: \", input)\n",
        "  print(\"Predicted labels: \", label.numpy())"
      ],
      "execution_count": null,
      "outputs": [
        {
          "output_type": "stream",
          "text": [
            "Question:  Join'd to th' Ionians with their flowing robes,\n",
            "Predicted labels:  1\n",
            "Question:  the allies, and his armour flashed about him so that he seemed to all\n",
            "Predicted labels:  2\n",
            "Question:  And with loud clangor of his arms he fell.\n",
            "Predicted labels:  0\n"
          ],
          "name": "stdout"
        }
      ]
    },
    {
      "cell_type": "markdown",
      "metadata": {
        "id": "Na2SoH0Bh1rl"
      },
      "source": [
        "### *Downloading more datasets using TensorFlow Datasets(TFDS)*\n",
        "\n",
        "https://www.kaggle.com/maximgolovatchev/imdb-reviews/notebook\n"
      ]
    },
    {
      "cell_type": "code",
      "metadata": {
        "id": "awqvqUGUh02A",
        "colab": {
          "base_uri": "https://localhost:8080/",
          "height": 365,
          "referenced_widgets": [
            "4132dbb98c584a0b86a1b593892d4eef",
            "51a652b5290a44478f695ec898b8148e",
            "75f23efb52374d79917d49b582e94579",
            "1a43cc590ec3407eab625034cc814826",
            "28f07a35d2924902b572ef96e147cb73",
            "b7d43f1a097c4689b490cfcc69926823",
            "64522d9ceb77493b8de4b107fe6868bd",
            "7dd3070e01fe42f192cb6ea03f8bcc8e",
            "8e14b9f8cf36492995924c06b6a94245",
            "a547693533a149009e93bf1d91220793",
            "bbfb001e4a624201bcd827752ebc0900",
            "2cce866007f84e6598df6428220d2226",
            "bd97c47f2a0749c59a10a6a0db6002f3",
            "d917628509264b5988077f7fc0cc1170",
            "276e8a908b5049d48c0febbe1f965598",
            "a67b300e05e3411a8bfeb1dde432a1f9",
            "957a14f5762d4ddcb419d7bf17ddbc05",
            "cb7eecf7c0a44c5bac0a59580d95d731",
            "46e898d2d3ce47eda80de03e33b1be3c",
            "214645176476432cbb6419e3b8b12ff7",
            "60b034872d6d43ddab9bf354304b6bdb",
            "c5742c98bfe541eea53c64e24d2173cf",
            "e7d1b0c4a9834afe8daf09d2337e556c",
            "98b0e81a32b3434284424570f7b9b2bb",
            "9799a871157b4c5ba6e0ff75147bf838",
            "79b588967090474e81500dbb78d5b0e2",
            "df2ff0146f844f72b425bbfbceba9eaa",
            "7c863da82bf244fd8d8057ee8b6d21cb",
            "03e6fabcbe0145548a7cb61445e8e90f",
            "b2f8edfd585f42eea213ad6b4c495368",
            "75f8d0d60518419fa78ef2d50f85bd05",
            "c0733af47e4e49a7ac1cc439e2f3e58d",
            "a068c6228fba4fb393683062b6da1ed8",
            "c8bc686ae9ff4fcba1b99db4612874b1",
            "23e462f456bb4fbea9ad22c0d2aa839e",
            "78597b3ece9d4cf88f74c8ab214556b4",
            "2079ab49ee314146b9e3fcf662a213d9",
            "a65e55260aa544dbb7f987d7bff7ad1c",
            "a42e521bb528496ba7f76bd2a0dfba99",
            "b210d00cfb3a4177a898418818dbbb35",
            "2407bcab669b4415a8a7c8f4c16ab336",
            "f1eba064300447f0849b349468f6eeaa",
            "52f00da9d5ad4378a40e4e9472e51bef",
            "d8aa2fb3858d4298a59e37a71983effc",
            "6d3933124e804870b448cb6b64f7ba88",
            "b7983f6b3d8b4250ade39cf1d2119a96",
            "660fc92927eb4b6892f6c324b0b39d4c",
            "85d8062793d044029ec891697ae0c9d5",
            "255db36824364e758183755a5d19a423",
            "4440c6185e1e4e3eb7491c0145d9fd30",
            "d5b282836c9646acac904ef19c9a01fe",
            "7fc1afc1b2d74826934dc737242141ae",
            "58d2440331f5408eb863e6fae40d70c1",
            "0280f5766e79439dab0816531d0a8dad",
            "8b9059873d3d4b43b259dfa17e4752f0",
            "40aa2d2a3227432380926395a80526a1",
            "7256fe30a1364daf993e0d4b1bdf6697",
            "0ceb8741fa274dea86ab973eaf8e8631",
            "e8783e8fcad34f55a7560512b31e3585",
            "0d76cc4d43954216afd1de339dd143e2",
            "e40dd6a5151347b6a188f0f6af4ebaa0",
            "d11fd3e9764b4deba24bae33ccbf6249",
            "01d9088060a74c568e018ac04d0b2662",
            "f719954db7ba4276b1f7fec10b125db8"
          ]
        },
        "outputId": "6d773be8-704f-4c32-c805-3bf930fcef22"
      },
      "source": [
        "train_ds = tfds.load(\n",
        "    'imdb_reviews',\n",
        "    split='train',\n",
        "    batch_size = BATCH_SIZE,\n",
        "    shuffle_files=True,\n",
        "    as_supervised=True)"
      ],
      "execution_count": null,
      "outputs": [
        {
          "output_type": "stream",
          "text": [
            "\u001b[1mDownloading and preparing dataset imdb_reviews/plain_text/1.0.0 (download: 80.23 MiB, generated: Unknown size, total: 80.23 MiB) to /root/tensorflow_datasets/imdb_reviews/plain_text/1.0.0...\u001b[0m\n"
          ],
          "name": "stdout"
        },
        {
          "output_type": "display_data",
          "data": {
            "application/vnd.jupyter.widget-view+json": {
              "model_id": "4132dbb98c584a0b86a1b593892d4eef",
              "version_minor": 0,
              "version_major": 2
            },
            "text/plain": [
              "HBox(children=(FloatProgress(value=1.0, bar_style='info', description='Dl Completed...', max=1.0, style=Progre…"
            ]
          },
          "metadata": {
            "tags": []
          }
        },
        {
          "output_type": "display_data",
          "data": {
            "application/vnd.jupyter.widget-view+json": {
              "model_id": "8e14b9f8cf36492995924c06b6a94245",
              "version_minor": 0,
              "version_major": 2
            },
            "text/plain": [
              "HBox(children=(FloatProgress(value=1.0, bar_style='info', description='Dl Size...', max=1.0, style=ProgressSty…"
            ]
          },
          "metadata": {
            "tags": []
          }
        },
        {
          "output_type": "stream",
          "text": [
            "\n",
            "\n",
            "\n",
            "\n"
          ],
          "name": "stdout"
        },
        {
          "output_type": "display_data",
          "data": {
            "application/vnd.jupyter.widget-view+json": {
              "model_id": "957a14f5762d4ddcb419d7bf17ddbc05",
              "version_minor": 0,
              "version_major": 2
            },
            "text/plain": [
              "HBox(children=(FloatProgress(value=1.0, bar_style='info', max=1.0), HTML(value='')))"
            ]
          },
          "metadata": {
            "tags": []
          }
        },
        {
          "output_type": "stream",
          "text": [
            "\rShuffling and writing examples to /root/tensorflow_datasets/imdb_reviews/plain_text/1.0.0.incompleteZVO3E7/imdb_reviews-train.tfrecord\n"
          ],
          "name": "stdout"
        },
        {
          "output_type": "display_data",
          "data": {
            "application/vnd.jupyter.widget-view+json": {
              "model_id": "9799a871157b4c5ba6e0ff75147bf838",
              "version_minor": 0,
              "version_major": 2
            },
            "text/plain": [
              "HBox(children=(FloatProgress(value=0.0, max=25000.0), HTML(value='')))"
            ]
          },
          "metadata": {
            "tags": []
          }
        },
        {
          "output_type": "stream",
          "text": [
            "\r"
          ],
          "name": "stdout"
        },
        {
          "output_type": "display_data",
          "data": {
            "application/vnd.jupyter.widget-view+json": {
              "model_id": "a068c6228fba4fb393683062b6da1ed8",
              "version_minor": 0,
              "version_major": 2
            },
            "text/plain": [
              "HBox(children=(FloatProgress(value=1.0, bar_style='info', max=1.0), HTML(value='')))"
            ]
          },
          "metadata": {
            "tags": []
          }
        },
        {
          "output_type": "stream",
          "text": [
            "\rShuffling and writing examples to /root/tensorflow_datasets/imdb_reviews/plain_text/1.0.0.incompleteZVO3E7/imdb_reviews-test.tfrecord\n"
          ],
          "name": "stdout"
        },
        {
          "output_type": "display_data",
          "data": {
            "application/vnd.jupyter.widget-view+json": {
              "model_id": "2407bcab669b4415a8a7c8f4c16ab336",
              "version_minor": 0,
              "version_major": 2
            },
            "text/plain": [
              "HBox(children=(FloatProgress(value=0.0, max=25000.0), HTML(value='')))"
            ]
          },
          "metadata": {
            "tags": []
          }
        },
        {
          "output_type": "stream",
          "text": [
            "\r"
          ],
          "name": "stdout"
        },
        {
          "output_type": "display_data",
          "data": {
            "application/vnd.jupyter.widget-view+json": {
              "model_id": "255db36824364e758183755a5d19a423",
              "version_minor": 0,
              "version_major": 2
            },
            "text/plain": [
              "HBox(children=(FloatProgress(value=1.0, bar_style='info', max=1.0), HTML(value='')))"
            ]
          },
          "metadata": {
            "tags": []
          }
        },
        {
          "output_type": "stream",
          "text": [
            "\rShuffling and writing examples to /root/tensorflow_datasets/imdb_reviews/plain_text/1.0.0.incompleteZVO3E7/imdb_reviews-unsupervised.tfrecord\n"
          ],
          "name": "stdout"
        },
        {
          "output_type": "display_data",
          "data": {
            "application/vnd.jupyter.widget-view+json": {
              "model_id": "7256fe30a1364daf993e0d4b1bdf6697",
              "version_minor": 0,
              "version_major": 2
            },
            "text/plain": [
              "HBox(children=(FloatProgress(value=0.0, max=50000.0), HTML(value='')))"
            ]
          },
          "metadata": {
            "tags": []
          }
        },
        {
          "output_type": "stream",
          "text": [
            "WARNING:absl:Dataset is using deprecated text encoder API which will be removed soon. Please use the plain_text version of the dataset and migrate to `tensorflow_text`.\n"
          ],
          "name": "stderr"
        },
        {
          "output_type": "stream",
          "text": [
            "\u001b[1mDataset imdb_reviews downloaded and prepared to /root/tensorflow_datasets/imdb_reviews/plain_text/1.0.0. Subsequent calls will reuse this data.\u001b[0m\n",
            "\r"
          ],
          "name": "stdout"
        }
      ]
    },
    {
      "cell_type": "code",
      "metadata": {
        "id": "mqPpghXdjHsr"
      },
      "source": [
        "val_ds = tfds.load(\n",
        "    'imdb_reviews',\n",
        "    split = 'train',\n",
        "    batch_size=BATCH_SIZE,\n",
        "    shuffle_files = True,\n",
        "    as_supervised=True)"
      ],
      "execution_count": null,
      "outputs": []
    },
    {
      "cell_type": "markdown",
      "metadata": {
        "id": "bsSI1iBDkXRg"
      },
      "source": [
        "Print a few examples."
      ]
    },
    {
      "cell_type": "code",
      "metadata": {
        "colab": {
          "base_uri": "https://localhost:8080/"
        },
        "id": "h7KmCPBAjJl2",
        "outputId": "6f5dbcb5-68c2-4d33-e053-e52f7214d838"
      },
      "source": [
        "for review_batch, label_batch in val_ds.take(1):\n",
        "  for i in range(5):\n",
        "    print(\"Review: \", review_batch[i].numpy())\n",
        "    print(\"Label: \",label_batch[i].numpy())\n"
      ],
      "execution_count": null,
      "outputs": [
        {
          "output_type": "stream",
          "text": [
            "Review:  b\"This was an absolutely terrible movie. Don't be lured in by Christopher Walken or Michael Ironside. Both are great actors, but this must simply be their worst role in history. Even their great acting could not redeem this movie's ridiculous storyline. This movie is an early nineties US propaganda piece. The most pathetic scenes were those when the Columbian rebels were making their cases for revolutions. Maria Conchita Alonso appeared phony, and her pseudo-love affair with Walken was nothing but a pathetic emotional plug in a movie that was devoid of any real meaning. I am disappointed that there are movies like this, ruining actor's like Christopher Walken's good name. I could barely sit through it.\"\n",
            "Label:  0\n",
            "Review:  b'I have been known to fall asleep during films, but this is usually due to a combination of things including, really tired, being warm and comfortable on the sette and having just eaten a lot. However on this occasion I fell asleep because the film was rubbish. The plot development was constant. Constantly slow and boring. Things seemed to happen, but with no explanation of what was causing them or why. I admit, I may have missed part of the film, but i watched the majority of it and everything just seemed to happen of its own accord without any real concern for anything else. I cant recommend this film at all.'\n",
            "Label:  0\n",
            "Review:  b'Mann photographs the Alberta Rocky Mountains in a superb fashion, and Jimmy Stewart and Walter Brennan give enjoyable performances as they always seem to do. <br /><br />But come on Hollywood - a Mountie telling the people of Dawson City, Yukon to elect themselves a marshal (yes a marshal!) and to enforce the law themselves, then gunfighters battling it out on the streets for control of the town? <br /><br />Nothing even remotely resembling that happened on the Canadian side of the border during the Klondike gold rush. Mr. Mann and company appear to have mistaken Dawson City for Deadwood, the Canadian North for the American Wild West.<br /><br />Canadian viewers be prepared for a Reefer Madness type of enjoyable howl with this ludicrous plot, or, to shake your head in disgust.'\n",
            "Label:  0\n",
            "Review:  b'This is the kind of film for a snowy Sunday afternoon when the rest of the world can go ahead with its own business as you descend into a big arm-chair and mellow for a couple of hours. Wonderful performances from Cher and Nicolas Cage (as always) gently row the plot along. There are no rapids to cross, no dangerous waters, just a warm and witty paddle through New York life at its best. A family film in every sense and one that deserves the praise it received.'\n",
            "Label:  1\n",
            "Review:  b'As others have mentioned, all the women that go nude in this film are mostly absolutely gorgeous. The plot very ably shows the hypocrisy of the female libido. When men are around they want to be pursued, but when no \"men\" are around, they become the pursuers of a 14 year old boy. And the boy becomes a man really fast (we should all be so lucky at this age!). He then gets up the courage to pursue his true love.'\n",
            "Label:  1\n"
          ],
          "name": "stdout"
        }
      ]
    },
    {
      "cell_type": "markdown",
      "metadata": {
        "id": "wUvfpWOYu-4I"
      },
      "source": [
        "Prepare the dataset for training"
      ]
    },
    {
      "cell_type": "code",
      "metadata": {
        "id": "zpA8V9uGvCRZ"
      },
      "source": [
        "vectorize_layer = TextVectorization(\n",
        "    max_tokens = VOCAB_SIZE,\n",
        "    output_mode='int',\n",
        "    output_sequence_length=MAX_SEQUENCE_LENGTH)\n",
        "\n",
        "# Make a text-only dataset (without labels), then call adapt\n",
        "train_text = train_ds.map(lambda text, labels: text)\n",
        "vectorize_layer.adapt(train_text)"
      ],
      "execution_count": null,
      "outputs": []
    },
    {
      "cell_type": "code",
      "metadata": {
        "id": "DPcRYEzGxBAe"
      },
      "source": [
        "def vectorize_text(text, label):\n",
        "  text = tf.expand_dims(text, -1)\n",
        "  return vectorize_layer(text), label"
      ],
      "execution_count": null,
      "outputs": []
    },
    {
      "cell_type": "code",
      "metadata": {
        "id": "Hzcr24Y_xUiI"
      },
      "source": [
        "train_ds = train_ds.map(vectorize_text)\n",
        "val_ds = val_ds.map(vectorize_text)"
      ],
      "execution_count": null,
      "outputs": []
    },
    {
      "cell_type": "code",
      "metadata": {
        "id": "NwQA_BmzxljR"
      },
      "source": [
        "# Configure dataset for performance as before\n",
        "\n",
        "train_ds = configure_dataset(train_ds)\n",
        "val_ds = configure_dataset(val_ds)"
      ],
      "execution_count": null,
      "outputs": []
    },
    {
      "cell_type": "markdown",
      "metadata": {
        "id": "sGVLk0cqx9Fa"
      },
      "source": [
        "### Train the model"
      ]
    },
    {
      "cell_type": "code",
      "metadata": {
        "colab": {
          "base_uri": "https://localhost:8080/"
        },
        "id": "DPRzuqFhx8v8",
        "outputId": "7ef7f67c-0b08-4252-a19d-d492ac4a7d63"
      },
      "source": [
        "model = create_model(vocab_size=VOCAB_SIZE + 1, num_labels=1)\n",
        "model.summary()"
      ],
      "execution_count": null,
      "outputs": [
        {
          "output_type": "stream",
          "text": [
            "Model: \"sequential_5\"\n",
            "_________________________________________________________________\n",
            "Layer (type)                 Output Shape              Param #   \n",
            "=================================================================\n",
            "embedding_2 (Embedding)      (None, None, 64)          640064    \n",
            "_________________________________________________________________\n",
            "conv1d_2 (Conv1D)            (None, None, 64)          20544     \n",
            "_________________________________________________________________\n",
            "global_max_pooling1d_2 (Glob (None, 64)                0         \n",
            "_________________________________________________________________\n",
            "dense_3 (Dense)              (None, 1)                 65        \n",
            "=================================================================\n",
            "Total params: 660,673\n",
            "Trainable params: 660,673\n",
            "Non-trainable params: 0\n",
            "_________________________________________________________________\n"
          ],
          "name": "stdout"
        }
      ]
    },
    {
      "cell_type": "code",
      "metadata": {
        "id": "wL1qwTjsyOmd"
      },
      "source": [
        "model.compile(\n",
        "    loss=losses.BinaryCrossentropy(from_logits=True),\n",
        "    optimizer='adam',\n",
        "    metrics=['accuracy'])"
      ],
      "execution_count": null,
      "outputs": []
    },
    {
      "cell_type": "code",
      "metadata": {
        "colab": {
          "base_uri": "https://localhost:8080/"
        },
        "id": "si3dxUQ5yd3j",
        "outputId": "cf96fd26-1079-43d2-a4cb-a9bfb1cc5a7a"
      },
      "source": [
        "history = model.fit(train_ds, validation_data=val_ds, epochs=3)"
      ],
      "execution_count": null,
      "outputs": [
        {
          "output_type": "stream",
          "text": [
            "Epoch 1/3\n",
            "391/391 [==============================] - 25s 61ms/step - loss: 0.6124 - accuracy: 0.5799 - val_loss: 0.3031 - val_accuracy: 0.8816\n",
            "Epoch 2/3\n",
            "391/391 [==============================] - 19s 50ms/step - loss: 0.3150 - accuracy: 0.8592 - val_loss: 0.1744 - val_accuracy: 0.9449\n",
            "Epoch 3/3\n",
            "391/391 [==============================] - 20s 50ms/step - loss: 0.1962 - accuracy: 0.9228 - val_loss: 0.0948 - val_accuracy: 0.9782\n"
          ],
          "name": "stdout"
        }
      ]
    },
    {
      "cell_type": "code",
      "metadata": {
        "colab": {
          "base_uri": "https://localhost:8080/"
        },
        "id": "VYP-KHFJytSk",
        "outputId": "3a86f7e1-93b0-4c4f-b7e7-d2c43dd10f1b"
      },
      "source": [
        "loss, accuracy = model.evaluate(val_ds)\n",
        "\n",
        "print(\"loss: \",loss)\n",
        "print(\"Accuracy: {:2.2%}\".format(accuracy))"
      ],
      "execution_count": null,
      "outputs": [
        {
          "output_type": "stream",
          "text": [
            "391/391 [==============================] - 4s 10ms/step - loss: 0.0948 - accuracy: 0.9782\n",
            "loss:  0.09483323246240616\n",
            "Accuracy: 97.82%\n"
          ],
          "name": "stdout"
        }
      ]
    },
    {
      "cell_type": "markdown",
      "metadata": {
        "id": "H436cAuwzwX2"
      },
      "source": [
        "### Export the model"
      ]
    },
    {
      "cell_type": "code",
      "metadata": {
        "id": "WPOXQEIgzGP4"
      },
      "source": [
        "export_model = tf.keras.Sequential(\n",
        "    [vectorize_layer, model,\n",
        "     layers.Activation('sigmoid')])\n",
        "\n",
        "export_model.compile(\n",
        "    loss=losses.SparseCategoricalCrossentropy(from_logits=False),\n",
        "    optimizer='adam',\n",
        "    metrics=['accuracy'])"
      ],
      "execution_count": null,
      "outputs": []
    },
    {
      "cell_type": "code",
      "metadata": {
        "colab": {
          "base_uri": "https://localhost:8080/"
        },
        "id": "aas0dDT8zzIH",
        "outputId": "b4a8b5df-e917-4c64-c849-613cef6300f5"
      },
      "source": [
        "inputs = [\n",
        "    \"This is a fantastic movie.\",\n",
        "    \"This is a bad movie.\",\n",
        "    \"This movie was so bad that it was good.\",\n",
        "    \"I will never say yes to watching this movie.\",\n",
        "] \n",
        "\n",
        "predicted_scores = export_model.predict(inputs)\n",
        "predicted_labels = [int(round(x[0])) for x in predicted_scores]\n",
        "for input, label in zip(inputs, predicted_labels):\n",
        "  print(\"Question: \", input)\n",
        "  print(\"predicted labels: \",label)"
      ],
      "execution_count": null,
      "outputs": [
        {
          "output_type": "stream",
          "text": [
            "Question:  This is a fantastic movie.\n",
            "predicted labels:  1\n",
            "Question:  This is a bad movie.\n",
            "predicted labels:  0\n",
            "Question:  This movie was so bad that it was good.\n",
            "predicted labels:  0\n",
            "Question:  I will never say yes to watching this movie.\n",
            "predicted labels:  1\n"
          ],
          "name": "stdout"
        }
      ]
    },
    {
      "cell_type": "code",
      "metadata": {
        "colab": {
          "base_uri": "https://localhost:8080/"
        },
        "id": "uKLm3HTK0par",
        "outputId": "4ff49d8c-def8-4b6f-8398-3ce55414f276"
      },
      "source": [
        "print(predicted_scores)\n",
        "print(predicted_labels)"
      ],
      "execution_count": null,
      "outputs": [
        {
          "output_type": "stream",
          "text": [
            "[[0.99992895]\n",
            " [0.1504317 ]\n",
            " [0.36695465]\n",
            " [0.67529476]]\n",
            "[1, 0, 0, 1]\n"
          ],
          "name": "stdout"
        }
      ]
    }
  ]
}