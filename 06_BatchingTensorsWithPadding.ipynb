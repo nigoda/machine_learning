{
  "nbformat": 4,
  "nbformat_minor": 0,
  "metadata": {
    "colab": {
      "name": "06.BatchingTensorsWithPadding.ipynb",
      "provenance": [],
      "authorship_tag": "ABX9TyNixiVJoRi5vR4abYef0lhc",
      "include_colab_link": true
    },
    "kernelspec": {
      "name": "python3",
      "display_name": "Python 3"
    }
  },
  "cells": [
    {
      "cell_type": "markdown",
      "metadata": {
        "id": "view-in-github",
        "colab_type": "text"
      },
      "source": [
        "<a href=\"https://colab.research.google.com/github/nigoda/machine_learning/blob/main/06_BatchingTensorsWithPadding.ipynb\" target=\"_parent\"><img src=\"https://colab.research.google.com/assets/colab-badge.svg\" alt=\"Open In Colab\"/></a>"
      ]
    },
    {
      "cell_type": "markdown",
      "metadata": {
        "id": "sMsyIvJKUqWR"
      },
      "source": [
        "### **Batching dataset elements**"
      ]
    },
    {
      "cell_type": "code",
      "metadata": {
        "id": "1kHgurawRp1x"
      },
      "source": [
        "import tensorflow as tf\n",
        "import numpy as np"
      ],
      "execution_count": null,
      "outputs": []
    },
    {
      "cell_type": "code",
      "metadata": {
        "id": "F4h7J6f5Snt_",
        "colab": {
          "base_uri": "https://localhost:8080/"
        },
        "outputId": "4183abc2-3649-42dc-84e7-287b4b7ba57b"
      },
      "source": [
        "inc_dataset = tf.data.Dataset.range(100)\n",
        "dec_dataset = tf.data.Dataset.range(0, -100, -1)\n",
        "dataset = tf.data.Dataset.zip((inc_dataset, dec_dataset))\n",
        "batched_dataset = dataset.batch(4)\n",
        "\n",
        "for batch in batched_dataset.take(4):\n",
        "  print([arr.numpy() for arr in batch])"
      ],
      "execution_count": null,
      "outputs": [
        {
          "output_type": "stream",
          "text": [
            "[array([0, 1, 2, 3]), array([ 0, -1, -2, -3])]\n",
            "[array([4, 5, 6, 7]), array([-4, -5, -6, -7])]\n",
            "[array([ 8,  9, 10, 11]), array([ -8,  -9, -10, -11])]\n",
            "[array([12, 13, 14, 15]), array([-12, -13, -14, -15])]\n"
          ],
          "name": "stdout"
        }
      ]
    },
    {
      "cell_type": "code",
      "metadata": {
        "id": "RMvbi-vGT4dV",
        "colab": {
          "base_uri": "https://localhost:8080/"
        },
        "outputId": "0ff56fc1-3bff-4dce-b697-8e45777f4200"
      },
      "source": [
        "batched_dataset"
      ],
      "execution_count": null,
      "outputs": [
        {
          "output_type": "execute_result",
          "data": {
            "text/plain": [
              "<BatchDataset shapes: ((None,), (None,)), types: (tf.int64, tf.int64)>"
            ]
          },
          "metadata": {
            "tags": []
          },
          "execution_count": 6
        }
      ]
    },
    {
      "cell_type": "code",
      "metadata": {
        "id": "o5oQDw7nUIP1",
        "colab": {
          "base_uri": "https://localhost:8080/"
        },
        "outputId": "aff6169b-b738-435c-9c70-936a34849954"
      },
      "source": [
        "batched_dataset = dataset.batch(7, drop_remainder=True)\n",
        "batched_dataset\n",
        "for batch in batched_dataset.take(4):\n",
        "  print([arr.numpy() for arr in batch])"
      ],
      "execution_count": null,
      "outputs": [
        {
          "output_type": "stream",
          "text": [
            "[array([0, 1, 2, 3, 4, 5, 6]), array([ 0, -1, -2, -3, -4, -5, -6])]\n",
            "[array([ 7,  8,  9, 10, 11, 12, 13]), array([ -7,  -8,  -9, -10, -11, -12, -13])]\n",
            "[array([14, 15, 16, 17, 18, 19, 20]), array([-14, -15, -16, -17, -18, -19, -20])]\n",
            "[array([21, 22, 23, 24, 25, 26, 27]), array([-21, -22, -23, -24, -25, -26, -27])]\n"
          ],
          "name": "stdout"
        }
      ]
    },
    {
      "cell_type": "markdown",
      "metadata": {
        "id": "zpmmXaEaUwnA"
      },
      "source": [
        "### **Batching tensors with padding**"
      ]
    },
    {
      "cell_type": "code",
      "metadata": {
        "id": "6EwYVn5BU2xV",
        "colab": {
          "base_uri": "https://localhost:8080/"
        },
        "outputId": "057a4e60-19c3-4a04-a85f-ae6ea907724f"
      },
      "source": [
        "dataset = tf.data.Dataset.range(100)\n",
        "dataset = dataset.map(lambda x: tf.fill([tf.cast(x, tf.int32)],x))\n",
        "dataset = dataset.padded_batch(4, padded_shapes=(None,))\n",
        "\n",
        "for batch in dataset.take(2):\n",
        "  print(batch.numpy())\n",
        "  print()"
      ],
      "execution_count": null,
      "outputs": [
        {
          "output_type": "stream",
          "text": [
            "[[0 0 0]\n",
            " [1 0 0]\n",
            " [2 2 0]\n",
            " [3 3 3]]\n",
            "\n",
            "[[4 4 4 4 0 0 0]\n",
            " [5 5 5 5 5 0 0]\n",
            " [6 6 6 6 6 6 0]\n",
            " [7 7 7 7 7 7 7]]\n",
            "\n"
          ],
          "name": "stdout"
        }
      ]
    }
  ]
}