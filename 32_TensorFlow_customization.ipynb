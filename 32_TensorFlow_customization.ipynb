{
  "nbformat": 4,
  "nbformat_minor": 0,
  "metadata": {
    "colab": {
      "name": "32_TensorFlow_customization.ipynb",
      "provenance": [],
      "collapsed_sections": [],
      "authorship_tag": "ABX9TyOJNH+uN1bX7o/FmLqusgbr",
      "include_colab_link": true
    },
    "kernelspec": {
      "name": "python3",
      "display_name": "Python 3"
    },
    "language_info": {
      "name": "python"
    },
    "accelerator": "GPU"
  },
  "cells": [
    {
      "cell_type": "markdown",
      "metadata": {
        "id": "view-in-github",
        "colab_type": "text"
      },
      "source": [
        "<a href=\"https://colab.research.google.com/github/nigoda/machine_learning/blob/main/32_TensorFlow_customization.ipynb\" target=\"_parent\"><img src=\"https://colab.research.google.com/assets/colab-badge.svg\" alt=\"Open In Colab\"/></a>"
      ]
    },
    {
      "cell_type": "markdown",
      "metadata": {
        "id": "vuPxwF0XrR3l"
      },
      "source": [
        "# **TensorFlow Customization**\n",
        "So far in this, we used methods provided by build in TF APIs like tf.keras and tf.Estimator. While these constructs are sufficient to start any AI project, there could be situations where you may have to implement custom models, loss function or metrics. Tensorflow 2.0 provides support for extending its functionality. In this, we will learn how to customize TF 2.0 functionality.\n",
        "\n",
        "This is an introductory TensorFlow that shows how to:\n",
        "*  Import the required package\n",
        "*  Create and use tensors\n",
        "*  Use GPU acceleration\n",
        "*  Demonstrate `tf.data.Dataset`\n",
        "\n",
        "## **Import TensorFlow**\n",
        "To get started, import the `tensorflow` module. As of TensorFlow 2, eager execution is turned on by default. This enables a more interactive fronted to Tesorflow, the details of which we will discuss much later"
      ]
    },
    {
      "cell_type": "code",
      "metadata": {
        "id": "Da-zZYNepuX8"
      },
      "source": [
        "import tensorflow as tf"
      ],
      "execution_count": null,
      "outputs": []
    },
    {
      "cell_type": "markdown",
      "metadata": {
        "id": "QdiK5Tv_rIGI"
      },
      "source": [
        "## **Tensor**\n",
        "A Tensor is a multi-dimensional array. Similar to NumPy `ndarray` objects, `tf.tensor` objects have a data type and a shape. Additionally, `tf.Tensor`s can reside in accelerator memory (like a GPU). TensorFlow offers a rich library of operations ([tf.add ](https://www.tensorflow.org/api_docs/python/tf/math/add), [tf.matmul](https://www.tensorflow.org/api_docs/python/tf/linalg/matmul), [tf.linalg.inv](https://www.tensorflow.org/api_docs/python/tf/linalg/inv) etc.) that consume and produce `tf.Tensor`s. These operations automatically convert native Python types, for example:"
      ]
    },
    {
      "cell_type": "code",
      "metadata": {
        "colab": {
          "base_uri": "https://localhost:8080/"
        },
        "id": "-rrSt3C8vSKB",
        "outputId": "71da079b-19a4-4cc3-d608-2111b414d29c"
      },
      "source": [
        "print(tf.add(1, 2))\n",
        "print(tf.add([1, 2], [3, 4]))\n",
        "print(tf.square(5))\n",
        "print(tf.reduce_sum([1, 2, 3]))\n",
        "\n",
        "# Operatior overloading is also supported\n",
        "print(tf.square(2) + tf.square(3))"
      ],
      "execution_count": null,
      "outputs": [
        {
          "output_type": "stream",
          "text": [
            "tf.Tensor(3, shape=(), dtype=int32)\n",
            "tf.Tensor([4 6], shape=(2,), dtype=int32)\n",
            "tf.Tensor(25, shape=(), dtype=int32)\n",
            "tf.Tensor(6, shape=(), dtype=int32)\n",
            "tf.Tensor(13, shape=(), dtype=int32)\n"
          ],
          "name": "stdout"
        }
      ]
    },
    {
      "cell_type": "markdown",
      "metadata": {
        "id": "SeQNIlhewCr0"
      },
      "source": [
        "Each `tf.Tensor` has a shape and a datatype."
      ]
    },
    {
      "cell_type": "code",
      "metadata": {
        "colab": {
          "base_uri": "https://localhost:8080/"
        },
        "id": "U-QNWKTTv9nk",
        "outputId": "dc01d8fb-b6df-4d92-8dbc-5ee222d888d3"
      },
      "source": [
        "x = tf.matmul([[1]], [[2, 3]])\n",
        "print(x)\n",
        "print(x.shape)\n",
        "print(x.dtype)"
      ],
      "execution_count": null,
      "outputs": [
        {
          "output_type": "stream",
          "text": [
            "tf.Tensor([[2 3]], shape=(1, 2), dtype=int32)\n",
            "(1, 2)\n",
            "<dtype: 'int32'>\n"
          ],
          "name": "stdout"
        }
      ]
    },
    {
      "cell_type": "markdown",
      "metadata": {
        "id": "bWdlr0uqwopX"
      },
      "source": [
        "The most obvious different between NumPy array and `tf.Tensor`s are:\n",
        "1. Tensors can be backed by accelerator memory(like GPU, TPU).\n",
        "2.  Tensors are immutable.\n",
        "\n",
        "## NumPy Compatibility\n",
        "Converting between a TensorFlow [`tf.Tensor`](https://www.tensorflow.org/api_docs/python/tf/Tensor)s and a Numpy `ndarray` is easy:\n",
        "\n",
        "*  TensorFlow operations automatically convert NumPy ndarray to Tensors.\n",
        "*  NumPy operations automatically convert Tensors to NumPy ndarrays.\n",
        "\n",
        "Tensors are expilcitly convert to NumPy ndarrays using their `.numpy` method. These conversions are typically cheap since the array and `tf.tensor` share the underlying memory representation, if possible. However, sharing the underlying representation isn't always possible since the `tf.Tensor` may be hosted in GPU memory while NumPy arrays are always backed by host memory, and the conversion involves a copy from GPU TO host memory."
      ]
    },
    {
      "cell_type": "code",
      "metadata": {
        "colab": {
          "base_uri": "https://localhost:8080/"
        },
        "id": "7s8L5DbGwhW5",
        "outputId": "4709c952-1fa6-4f09-8470-ca6d8a02b1b6"
      },
      "source": [
        "import numpy as np\n",
        "\n",
        "ndarray = np.ones([3, 3])\n",
        "\n",
        "print(\"TensorFlow operations convert numpy arrays to tensors automatically\")\n",
        "tensor = tf.multiply(ndarray, 42)\n",
        "print(tensor)\n",
        "\n",
        "print(\"And NumPy operations convert Tensors to numpy arrays automatically\")\n",
        "print(np.add(tensor, 1))\n",
        "\n",
        "print(\"The .numpy() method explicitly converts a Tensor to a numpy array\")\n",
        "print(tensor.numpy())"
      ],
      "execution_count": null,
      "outputs": [
        {
          "output_type": "stream",
          "text": [
            "TensorFlow operations convert numpy arrays to tensors automatically\n",
            "tf.Tensor(\n",
            "[[42. 42. 42.]\n",
            " [42. 42. 42.]\n",
            " [42. 42. 42.]], shape=(3, 3), dtype=float64)\n",
            "And NumPy operations convert Tensors to numpy arrays automatically\n",
            "[[43. 43. 43.]\n",
            " [43. 43. 43.]\n",
            " [43. 43. 43.]]\n",
            "The .numpy() method explicitly converts a Tensor to a numpy array\n",
            "[[42. 42. 42.]\n",
            " [42. 42. 42.]\n",
            " [42. 42. 42.]]\n"
          ],
          "name": "stdout"
        }
      ]
    },
    {
      "cell_type": "markdown",
      "metadata": {
        "id": "eTyPVHuC1F-F"
      },
      "source": [
        "# **GPU acceleration**\n",
        "\n",
        "Many TensorFlow operations are accelerated using the GPU for computation. Without any annotations, TensorFlow automatically decides whether to use the GPU or CPU for an operation-copying the tensor between CPU and GPU memory, if necessary. Tensors produces by an operation are typically backed by the memory of the device on which the operation executed, for example:\n"
      ]
    },
    {
      "cell_type": "code",
      "metadata": {
        "colab": {
          "base_uri": "https://localhost:8080/"
        },
        "id": "Yq9rJa6e00lM",
        "outputId": "8be3e2dc-78c7-4cae-a3a7-7381332864ce"
      },
      "source": [
        "x = tf.random.uniform([3, 3])\n",
        "\n",
        "print(\"Is there a GPU available: \")\n",
        "print(tf.config.list_physical_devices(\"GPU\"))\n",
        "\n",
        "print(\"Is the Tensor on GPU #0: \")\n",
        "print(x.device.endswith('GPU:0'))"
      ],
      "execution_count": null,
      "outputs": [
        {
          "output_type": "stream",
          "text": [
            "Is there a GPU available: \n",
            "[PhysicalDevice(name='/physical_device:GPU:0', device_type='GPU')]\n",
            "Is the Tensor on GPU #0: \n",
            "True\n"
          ],
          "name": "stdout"
        }
      ]
    },
    {
      "cell_type": "markdown",
      "metadata": {
        "id": "eiDspg6I27so"
      },
      "source": [
        "## Device Name\n",
        "\n",
        "The `Tensor.device` property provides a fully qualified string name of the device hosting the contents of the tensor. This name encodes many details, such as an identifier of the network address of the host on which this program is executing and the device with that host. This is required for distributed execution of a TensorFlow program. The string endsnwith `GPU:<N>` if the tensor is placed on the `N`-th GPU on the host.\n",
        "\n",
        "## Explicit Deice Placement\n",
        "In TensorFlow, *placement* refers to how individual operations are assigned (placed on) a device for execution. As mentioned, when there is no explicit guidance provided, TensorFlow automatically decides which device to execute an operation and copies tensors to specific devices using the `tf.device` context manager, for example:"
      ]
    },
    {
      "cell_type": "code",
      "metadata": {
        "colab": {
          "base_uri": "https://localhost:8080/"
        },
        "id": "tHIvx5Dj2kB2",
        "outputId": "20fd5823-5bdd-45b5-a541-8bd99e1d1f70"
      },
      "source": [
        "import time\n",
        "\n",
        "def time_matmul(x):\n",
        "  start = time.time()\n",
        "  for loop in range(10):\n",
        "    tf.matmul(x, x)\n",
        "\n",
        "  result = time.time()-start\n",
        "\n",
        "  print(\"10 loops: {:0.2f}ms\".format(1000*result))\n",
        "\n",
        "# Force execution on CPU\n",
        "print(\"On CPU:\")\n",
        "with tf.device(\"CPU:0\"):\n",
        "  x = tf.random.uniform([1000, 1000])\n",
        "  assert x.device.endswith(\"CPU:0\")\n",
        "  time_matmul(x)\n",
        "\n",
        "# Force execution on GPU #0 if available\n",
        "if tf.config.list_physical_devices(\"GPU\"):\n",
        "  print(\"On GPU:\")\n",
        "  with tf.device(\"GPU:0\"): # Or GPU:1 for the 2nd GPU, GPU2 for the 3rd etc.\n",
        "    x = tf.random.uniform([1000, 1000])\n",
        "    assert x.device.endswith(\"GPU:0\")\n",
        "    time_matmul(x)"
      ],
      "execution_count": null,
      "outputs": [
        {
          "output_type": "stream",
          "text": [
            "On CPU:\n",
            "10 loops: 192.01ms\n",
            "On GPU:\n",
            "10 loops: 2.46ms\n"
          ],
          "name": "stdout"
        }
      ]
    },
    {
      "cell_type": "markdown",
      "metadata": {
        "id": "sIuaOLVf7rYa"
      },
      "source": [
        "## Datasets\n",
        "This section uses the `tf.data.Dataset API` to build a pipeline for feeding data to your model. The `[tf.data.Dataset](https://www.tensorflow.org/api_docs/python/tf/data/Dataset)` API is used to build performant, complex input pipeline from simple, reusable pieces that will feed your model's training or evaluation loops.\n",
        "\n",
        "## Create a sourse **Dataset**\n",
        "Create a *source* dataset  using one of the factory functions like `Dataset.from_tensors, Dataset.from_tensor_slices`, or using objects that read from files like `TextLineDataset` or `TFRecordDataset`. See the *TensorFlow Dataset guide* for more information"
      ]
    },
    {
      "cell_type": "code",
      "metadata": {
        "id": "N05Jw2E369PC"
      },
      "source": [
        "ds_tensors = tf.data.Dataset.from_tensor_slices([1, 2, 3, 4, 5, 6])\n",
        "\n",
        "# Create a CSV file\n",
        "import tempfile\n",
        "_, filename = tempfile.mkstemp()\n",
        "\n",
        "with open(filename, 'w') as f:\n",
        "  f.write(\"\"\"Line 1\n",
        "  Line 2\n",
        "  Line 3\n",
        "    \"\"\")\n",
        "  \n",
        "ds_file = tf.data.TextLineDataset(filename)"
      ],
      "execution_count": null,
      "outputs": []
    },
    {
      "cell_type": "markdown",
      "metadata": {
        "id": "zG58oftuAfm8"
      },
      "source": [
        "## Apply transformations\n",
        "Use the transformation functions like `map`, `batch`, and 'shuffle' to apply transformations to dataset records."
      ]
    },
    {
      "cell_type": "code",
      "metadata": {
        "id": "E275DpbsAaux"
      },
      "source": [
        "ds_tensors = ds_tensors.map(tf.square).shuffle(2).batch(2)\n",
        "\n",
        "ds_file = ds_file.batch(2)"
      ],
      "execution_count": null,
      "outputs": []
    },
    {
      "cell_type": "markdown",
      "metadata": {
        "id": "7DBJeIs4BVBX"
      },
      "source": [
        "## Iterate\n",
        "`tf.data.Dataset` objects support iteration to loop over record:"
      ]
    },
    {
      "cell_type": "code",
      "metadata": {
        "colab": {
          "base_uri": "https://localhost:8080/"
        },
        "id": "3VuBflC4A0WP",
        "outputId": "3b7acbe1-4143-405f-be1c-f387199d4699"
      },
      "source": [
        "print('Elements of ds_tensor:')\n",
        "for x in ds_tensors:\n",
        "  print(x)\n",
        "\n",
        "print('\\nElement in ds_file:')\n",
        "for x in ds_file:\n",
        "  print(x)"
      ],
      "execution_count": null,
      "outputs": [
        {
          "output_type": "stream",
          "text": [
            "Elements of ds_tensor:\n",
            "tf.Tensor([4 9], shape=(2,), dtype=int32)\n",
            "tf.Tensor([16 25], shape=(2,), dtype=int32)\n",
            "tf.Tensor([36  1], shape=(2,), dtype=int32)\n",
            "\n",
            "Element in ds_file:\n",
            "tf.Tensor([b'Line 1' b'  Line 2'], shape=(2,), dtype=string)\n",
            "tf.Tensor([b'  Line 3' b'    '], shape=(2,), dtype=string)\n"
          ],
          "name": "stdout"
        }
      ]
    }
  ]
}