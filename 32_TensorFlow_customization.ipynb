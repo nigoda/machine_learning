{
  "nbformat": 4,
  "nbformat_minor": 0,
  "metadata": {
    "colab": {
      "name": "32_TensorFlow_customization.ipynb",
      "provenance": [],
      "collapsed_sections": [],
      "authorship_tag": "ABX9TyMKEyj0/OlKB4NbCI4Y0r9r",
      "include_colab_link": true
    },
    "kernelspec": {
      "name": "python3",
      "display_name": "Python 3"
    },
    "language_info": {
      "name": "python"
    },
    "accelerator": "GPU"
  },
  "cells": [
    {
      "cell_type": "markdown",
      "metadata": {
        "id": "view-in-github",
        "colab_type": "text"
      },
      "source": [
        "<a href=\"https://colab.research.google.com/github/nigoda/machine_learning/blob/main/32_TensorFlow_customization.ipynb\" target=\"_parent\"><img src=\"https://colab.research.google.com/assets/colab-badge.svg\" alt=\"Open In Colab\"/></a>"
      ]
    },
    {
      "cell_type": "markdown",
      "metadata": {
        "id": "vuPxwF0XrR3l"
      },
      "source": [
        "# **TensorFlow Customization**\n",
        "\n",
        "https://www.tensorflow.org/guide/basic_training_loops\n",
        "\n",
        "So far in this, we used methods provided by build in TF APIs like tf.keras and tf.Estimator. While these constructs are sufficient to start any AI project, there could be situations where you may have to implement custom models, loss function or metrics. Tensorflow 2.0 provides support for extending its functionality. In this, we will learn how to customize TF 2.0 functionality.\n",
        "\n",
        "This is an introductory TensorFlow that shows how to:\n",
        "*  Import the required package\n",
        "*  Create and use tensors\n",
        "*  Use GPU acceleration\n",
        "*  Demonstrate `tf.data.Dataset`\n",
        "\n",
        "## **Import TensorFlow**\n",
        "To get started, import the `tensorflow` module. As of TensorFlow 2, eager execution is turned on by default. This enables a more interactive fronted to Tesorflow, the details of which we will discuss much later"
      ]
    },
    {
      "cell_type": "code",
      "metadata": {
        "id": "Da-zZYNepuX8"
      },
      "source": [
        "import tensorflow as tf"
      ],
      "execution_count": null,
      "outputs": []
    },
    {
      "cell_type": "markdown",
      "metadata": {
        "id": "QdiK5Tv_rIGI"
      },
      "source": [
        "## **Tensor**\n",
        "A Tensor is a multi-dimensional array. Similar to NumPy `ndarray` objects, `tf.tensor` objects have a data type and a shape. Additionally, `tf.Tensor`s can reside in accelerator memory (like a GPU). TensorFlow offers a rich library of operations ([tf.add ](https://www.tensorflow.org/api_docs/python/tf/math/add), [tf.matmul](https://www.tensorflow.org/api_docs/python/tf/linalg/matmul), [tf.linalg.inv](https://www.tensorflow.org/api_docs/python/tf/linalg/inv) etc.) that consume and produce `tf.Tensor`s. These operations automatically convert native Python types, for example:"
      ]
    },
    {
      "cell_type": "code",
      "metadata": {
        "colab": {
          "base_uri": "https://localhost:8080/"
        },
        "id": "-rrSt3C8vSKB",
        "outputId": "af6d6c0a-b469-4029-a395-ba8acc472a09"
      },
      "source": [
        "print(tf.add(1, 2))\n",
        "print(tf.add([1, 2], [3, 4]))\n",
        "print(tf.square(5))\n",
        "print(tf.reduce_sum([1, 2, 3]))\n",
        "\n",
        "# Operatior overloading is also supported\n",
        "print(tf.square(2) + tf.square(3))"
      ],
      "execution_count": null,
      "outputs": [
        {
          "output_type": "stream",
          "text": [
            "tf.Tensor(3, shape=(), dtype=int32)\n",
            "tf.Tensor([4 6], shape=(2,), dtype=int32)\n",
            "tf.Tensor(25, shape=(), dtype=int32)\n",
            "tf.Tensor(6, shape=(), dtype=int32)\n",
            "tf.Tensor(13, shape=(), dtype=int32)\n"
          ],
          "name": "stdout"
        }
      ]
    },
    {
      "cell_type": "markdown",
      "metadata": {
        "id": "SeQNIlhewCr0"
      },
      "source": [
        "Each `tf.Tensor` has a shape and a datatype."
      ]
    },
    {
      "cell_type": "code",
      "metadata": {
        "colab": {
          "base_uri": "https://localhost:8080/"
        },
        "id": "U-QNWKTTv9nk",
        "outputId": "11581413-fc59-41c1-ef2f-208c928dc0c8"
      },
      "source": [
        "x = tf.matmul([[1]], [[2, 3]])\n",
        "print(x)\n",
        "print(x.shape)\n",
        "print(x.dtype)"
      ],
      "execution_count": null,
      "outputs": [
        {
          "output_type": "stream",
          "text": [
            "tf.Tensor([[2 3]], shape=(1, 2), dtype=int32)\n",
            "(1, 2)\n",
            "<dtype: 'int32'>\n"
          ],
          "name": "stdout"
        }
      ]
    },
    {
      "cell_type": "markdown",
      "metadata": {
        "id": "bWdlr0uqwopX"
      },
      "source": [
        "The most obvious different between NumPy array and `tf.Tensor`s are:\n",
        "1. Tensors can be backed by accelerator memory(like GPU, TPU).\n",
        "2.  Tensors are immutable.\n",
        "\n",
        "## NumPy Compatibility\n",
        "Converting between a TensorFlow [`tf.Tensor`](https://www.tensorflow.org/api_docs/python/tf/Tensor)s and a Numpy `ndarray` is easy:\n",
        "\n",
        "*  TensorFlow operations automatically convert NumPy ndarray to Tensors.\n",
        "*  NumPy operations automatically convert Tensors to NumPy ndarrays.\n",
        "\n",
        "Tensors are expilcitly convert to NumPy ndarrays using their `.numpy` method. These conversions are typically cheap since the array and `tf.tensor` share the underlying memory representation, if possible. However, sharing the underlying representation isn't always possible since the `tf.Tensor` may be hosted in GPU memory while NumPy arrays are always backed by host memory, and the conversion involves a copy from GPU TO host memory."
      ]
    },
    {
      "cell_type": "code",
      "metadata": {
        "colab": {
          "base_uri": "https://localhost:8080/"
        },
        "id": "7s8L5DbGwhW5",
        "outputId": "a53f3336-b1e9-4bfd-c394-77067ab86496"
      },
      "source": [
        "import numpy as np\n",
        "\n",
        "ndarray = np.ones([3, 3])\n",
        "\n",
        "print(\"TensorFlow operations convert numpy arrays to tensors automatically\")\n",
        "tensor = tf.multiply(ndarray, 42)\n",
        "print(tensor)\n",
        "\n",
        "print(\"And NumPy operations convert Tensors to numpy arrays automatically\")\n",
        "print(np.add(tensor, 1))\n",
        "\n",
        "print(\"The .numpy() method explicitly converts a Tensor to a numpy array\")\n",
        "print(tensor.numpy())"
      ],
      "execution_count": null,
      "outputs": [
        {
          "output_type": "stream",
          "text": [
            "TensorFlow operations convert numpy arrays to tensors automatically\n",
            "tf.Tensor(\n",
            "[[42. 42. 42.]\n",
            " [42. 42. 42.]\n",
            " [42. 42. 42.]], shape=(3, 3), dtype=float64)\n",
            "And NumPy operations convert Tensors to numpy arrays automatically\n",
            "[[43. 43. 43.]\n",
            " [43. 43. 43.]\n",
            " [43. 43. 43.]]\n",
            "The .numpy() method explicitly converts a Tensor to a numpy array\n",
            "[[42. 42. 42.]\n",
            " [42. 42. 42.]\n",
            " [42. 42. 42.]]\n"
          ],
          "name": "stdout"
        }
      ]
    },
    {
      "cell_type": "markdown",
      "metadata": {
        "id": "eTyPVHuC1F-F"
      },
      "source": [
        "# **GPU acceleration**\n",
        "\n",
        "Many TensorFlow operations are accelerated using the GPU for computation. Without any annotations, TensorFlow automatically decides whether to use the GPU or CPU for an operation-copying the tensor between CPU and GPU memory, if necessary. Tensors produces by an operation are typically backed by the memory of the device on which the operation executed, for example:\n"
      ]
    },
    {
      "cell_type": "code",
      "metadata": {
        "colab": {
          "base_uri": "https://localhost:8080/"
        },
        "id": "Yq9rJa6e00lM",
        "outputId": "ae14abd4-0588-4dec-9da6-8328338035e8"
      },
      "source": [
        "x = tf.random.uniform([3, 3])\n",
        "\n",
        "print(\"Is there a GPU available: \")\n",
        "print(tf.config.list_physical_devices(\"GPU\"))\n",
        "\n",
        "print(\"Is the Tensor on GPU #0: \")\n",
        "print(x.device.endswith('GPU:0'))"
      ],
      "execution_count": null,
      "outputs": [
        {
          "output_type": "stream",
          "text": [
            "Is there a GPU available: \n",
            "[PhysicalDevice(name='/physical_device:GPU:0', device_type='GPU')]\n",
            "Is the Tensor on GPU #0: \n",
            "True\n"
          ],
          "name": "stdout"
        }
      ]
    },
    {
      "cell_type": "markdown",
      "metadata": {
        "id": "eiDspg6I27so"
      },
      "source": [
        "## Device Name\n",
        "\n",
        "The `Tensor.device` property provides a fully qualified string name of the device hosting the contents of the tensor. This name encodes many details, such as an identifier of the network address of the host on which this program is executing and the device with that host. This is required for distributed execution of a TensorFlow program. The string endsnwith `GPU:<N>` if the tensor is placed on the `N`-th GPU on the host.\n",
        "\n",
        "## Explicit Deice Placement\n",
        "In TensorFlow, *placement* refers to how individual operations are assigned (placed on) a device for execution. As mentioned, when there is no explicit guidance provided, TensorFlow automatically decides which device to execute an operation and copies tensors to specific devices using the `tf.device` context manager, for example:"
      ]
    },
    {
      "cell_type": "code",
      "metadata": {
        "colab": {
          "base_uri": "https://localhost:8080/"
        },
        "id": "tHIvx5Dj2kB2",
        "outputId": "b2be3d04-fdef-4c9a-dee4-732dc6279a29"
      },
      "source": [
        "import time\n",
        "\n",
        "def time_matmul(x):\n",
        "  start = time.time()\n",
        "  for loop in range(10):\n",
        "    tf.matmul(x, x)\n",
        "\n",
        "  result = time.time()-start\n",
        "\n",
        "  print(\"10 loops: {:0.2f}ms\".format(1000*result))\n",
        "\n",
        "# Force execution on CPU\n",
        "print(\"On CPU:\")\n",
        "with tf.device(\"CPU:0\"):\n",
        "  x = tf.random.uniform([1000, 1000])\n",
        "  assert x.device.endswith(\"CPU:0\")\n",
        "  time_matmul(x)\n",
        "\n",
        "# Force execution on GPU #0 if available\n",
        "if tf.config.list_physical_devices(\"GPU\"):\n",
        "  print(\"On GPU:\")\n",
        "  with tf.device(\"GPU:0\"): # Or GPU:1 for the 2nd GPU, GPU2 for the 3rd etc.\n",
        "    x = tf.random.uniform([1000, 1000])\n",
        "    assert x.device.endswith(\"GPU:0\")\n",
        "    time_matmul(x)"
      ],
      "execution_count": null,
      "outputs": [
        {
          "output_type": "stream",
          "text": [
            "On CPU:\n",
            "10 loops: 322.93ms\n",
            "On GPU:\n",
            "10 loops: 555.51ms\n"
          ],
          "name": "stdout"
        }
      ]
    },
    {
      "cell_type": "markdown",
      "metadata": {
        "id": "sIuaOLVf7rYa"
      },
      "source": [
        "## Datasets\n",
        "This section uses the `tf.data.Dataset API` to build a pipeline for feeding data to your model. The `[tf.data.Dataset](https://www.tensorflow.org/api_docs/python/tf/data/Dataset)` API is used to build performant, complex input pipeline from simple, reusable pieces that will feed your model's training or evaluation loops.\n",
        "\n",
        "## Create a sourse **Dataset**\n",
        "Create a *source* dataset  using one of the factory functions like `Dataset.from_tensors, Dataset.from_tensor_slices`, or using objects that read from files like `TextLineDataset` or `TFRecordDataset`. See the *TensorFlow Dataset guide* for more information"
      ]
    },
    {
      "cell_type": "code",
      "metadata": {
        "id": "N05Jw2E369PC"
      },
      "source": [
        "ds_tensors = tf.data.Dataset.from_tensor_slices([1, 2, 3, 4, 5, 6])\n",
        "\n",
        "# Create a CSV file\n",
        "import tempfile\n",
        "_, filename = tempfile.mkstemp()\n",
        "\n",
        "with open(filename, 'w') as f:\n",
        "  f.write(\"\"\"Line 1\n",
        "  Line 2\n",
        "  Line 3\n",
        "    \"\"\")\n",
        "  \n",
        "ds_file = tf.data.TextLineDataset(filename)"
      ],
      "execution_count": null,
      "outputs": []
    },
    {
      "cell_type": "markdown",
      "metadata": {
        "id": "zG58oftuAfm8"
      },
      "source": [
        "## Apply transformations\n",
        "Use the transformation functions like `map`, `batch`, and 'shuffle' to apply transformations to dataset records."
      ]
    },
    {
      "cell_type": "code",
      "metadata": {
        "id": "E275DpbsAaux"
      },
      "source": [
        "ds_tensors = ds_tensors.map(tf.square).shuffle(2).batch(2)\n",
        "\n",
        "ds_file = ds_file.batch(2)"
      ],
      "execution_count": null,
      "outputs": []
    },
    {
      "cell_type": "markdown",
      "metadata": {
        "id": "7DBJeIs4BVBX"
      },
      "source": [
        "## Iterate\n",
        "`tf.data.Dataset` objects support iteration to loop over record:"
      ]
    },
    {
      "cell_type": "code",
      "metadata": {
        "colab": {
          "base_uri": "https://localhost:8080/"
        },
        "id": "3VuBflC4A0WP",
        "outputId": "7be352b5-4485-4379-e33f-42c17684e17f"
      },
      "source": [
        "print('Elements of ds_tensor:')\n",
        "for x in ds_tensors:\n",
        "  print(x)\n",
        "\n",
        "print('\\nElement in ds_file:')\n",
        "for x in ds_file:\n",
        "  print(x)"
      ],
      "execution_count": null,
      "outputs": [
        {
          "output_type": "stream",
          "text": [
            "Elements of ds_tensor:\n",
            "tf.Tensor([1 9], shape=(2,), dtype=int32)\n",
            "tf.Tensor([16  4], shape=(2,), dtype=int32)\n",
            "tf.Tensor([36 25], shape=(2,), dtype=int32)\n",
            "\n",
            "Element in ds_file:\n",
            "tf.Tensor([b'Line 1' b'  Line 2'], shape=(2,), dtype=string)\n",
            "tf.Tensor([b'  Line 3' b'    '], shape=(2,), dtype=string)\n"
          ],
          "name": "stdout"
        }
      ]
    },
    {
      "cell_type": "markdown",
      "metadata": {
        "id": "EZRayaJKMfXu"
      },
      "source": [
        "Customization opportunities:\n",
        "*  Model\n",
        "*  Loss function\n",
        "*  Training Loop\n",
        "*  Metrics\n",
        "\n",
        "Let's learn how we can carry out this customizations. \n",
        "\n",
        "## **Writing custom layers**\n",
        "Layers provide higher level of abstraction for implementing ML models. Many machine learning models are expressible as the composition and stacking of relatively simple layers, and TensorFlow provides both a set of many common layers as a well as easy ways for you to write your own application-specific layers either from  scratch or as the composition of existing layers.\n",
        "\n"
      ]
    },
    {
      "cell_type": "code",
      "metadata": {
        "id": "t5l0z04sO7Yo"
      },
      "source": [
        "# In the tf.keras.layers package, layers are objects. To construct a layer,\n",
        "# simply construct the object. Most layers take as a first argument the number\n",
        "# of output dimensions / channels.\n",
        "layer = tf.keras.layers.Dense(100)\n",
        "\n",
        "# The number of input dimensions is often unncessary, as it can be inferred\n",
        "# the first time the layer is used, but it can be provided if you want to\n",
        "# specify it manually, which is useful in some complex models.\n",
        "layer = tf.keras.layers.Dense(10, input_shape=(None, 5))"
      ],
      "execution_count": null,
      "outputs": []
    },
    {
      "cell_type": "markdown",
      "metadata": {
        "id": "imCTbN4ERREM"
      },
      "source": [
        "Example layers are Dense (a fully-connected layer), Conv2D, LSTM, BatchNormalization, Dropout, and many others.  "
      ]
    },
    {
      "cell_type": "code",
      "metadata": {
        "colab": {
          "base_uri": "https://localhost:8080/"
        },
        "id": "037mJEB3SEMw",
        "outputId": "3ff46a4a-b00c-40e3-9e86-8ac7e1c07d2c"
      },
      "source": [
        "# To use a layer, simply call it.\n",
        "layer(tf.zeros([10, 5]))"
      ],
      "execution_count": null,
      "outputs": [
        {
          "output_type": "execute_result",
          "data": {
            "text/plain": [
              "<tf.Tensor: shape=(10, 10), dtype=float32, numpy=\n",
              "array([[0., 0., 0., 0., 0., 0., 0., 0., 0., 0.],\n",
              "       [0., 0., 0., 0., 0., 0., 0., 0., 0., 0.],\n",
              "       [0., 0., 0., 0., 0., 0., 0., 0., 0., 0.],\n",
              "       [0., 0., 0., 0., 0., 0., 0., 0., 0., 0.],\n",
              "       [0., 0., 0., 0., 0., 0., 0., 0., 0., 0.],\n",
              "       [0., 0., 0., 0., 0., 0., 0., 0., 0., 0.],\n",
              "       [0., 0., 0., 0., 0., 0., 0., 0., 0., 0.],\n",
              "       [0., 0., 0., 0., 0., 0., 0., 0., 0., 0.],\n",
              "       [0., 0., 0., 0., 0., 0., 0., 0., 0., 0.],\n",
              "       [0., 0., 0., 0., 0., 0., 0., 0., 0., 0.]], dtype=float32)>"
            ]
          },
          "metadata": {
            "tags": []
          },
          "execution_count": 11
        }
      ]
    },
    {
      "cell_type": "code",
      "metadata": {
        "colab": {
          "base_uri": "https://localhost:8080/"
        },
        "id": "L5fhm_N9SS0L",
        "outputId": "048cf827-2fd7-4ceb-ed9e-b39e19f88923"
      },
      "source": [
        "# Layer have many useful methods. For example, you can inspect all variables\n",
        "# in a layer using 'layer.variables' and trainable variables using \n",
        "# 'layer.trainable_variable'. In this case a fully-connected layer\n",
        "# will have variables for weights and biases.\n",
        "layer.variables"
      ],
      "execution_count": null,
      "outputs": [
        {
          "output_type": "execute_result",
          "data": {
            "text/plain": [
              "[<tf.Variable 'dense_1/kernel:0' shape=(5, 10) dtype=float32, numpy=\n",
              " array([[ 0.20905888, -0.38080052,  0.16276693,  0.5383629 ,  0.21442747,\n",
              "          0.13619864,  0.26666003, -0.19832075,  0.0180136 ,  0.07614654],\n",
              "        [-0.37919158, -0.13683435,  0.2078464 ,  0.2016176 ,  0.07687306,\n",
              "         -0.12600166,  0.21432263,  0.21049851,  0.5052528 , -0.13991001],\n",
              "        [-0.35853574,  0.04692966,  0.31038183, -0.62749124,  0.28959072,\n",
              "          0.6207351 , -0.54864764, -0.50891596, -0.19068405,  0.21181697],\n",
              "        [ 0.1098609 , -0.00665313, -0.3480743 , -0.54486316,  0.23866546,\n",
              "         -0.38540816, -0.32521918,  0.23735994,  0.00598317,  0.28228468],\n",
              "        [-0.13930655, -0.13956425,  0.46567613, -0.60738593, -0.51548266,\n",
              "          0.02628058,  0.3067608 , -0.20731413, -0.16830602,  0.14127237]],\n",
              "       dtype=float32)>,\n",
              " <tf.Variable 'dense_1/bias:0' shape=(10,) dtype=float32, numpy=array([0., 0., 0., 0., 0., 0., 0., 0., 0., 0.], dtype=float32)>]"
            ]
          },
          "metadata": {
            "tags": []
          },
          "execution_count": 12
        }
      ]
    },
    {
      "cell_type": "code",
      "metadata": {
        "colab": {
          "base_uri": "https://localhost:8080/"
        },
        "id": "SE3M4r4KTXPK",
        "outputId": "0d4485b9-0e36-4720-c93d-875a61e92481"
      },
      "source": [
        "# The variables are also accessible through nice accessors\n",
        "layer.kernel, layer.bias"
      ],
      "execution_count": null,
      "outputs": [
        {
          "output_type": "execute_result",
          "data": {
            "text/plain": [
              "(<tf.Variable 'dense_1/kernel:0' shape=(5, 10) dtype=float32, numpy=\n",
              " array([[ 0.20905888, -0.38080052,  0.16276693,  0.5383629 ,  0.21442747,\n",
              "          0.13619864,  0.26666003, -0.19832075,  0.0180136 ,  0.07614654],\n",
              "        [-0.37919158, -0.13683435,  0.2078464 ,  0.2016176 ,  0.07687306,\n",
              "         -0.12600166,  0.21432263,  0.21049851,  0.5052528 , -0.13991001],\n",
              "        [-0.35853574,  0.04692966,  0.31038183, -0.62749124,  0.28959072,\n",
              "          0.6207351 , -0.54864764, -0.50891596, -0.19068405,  0.21181697],\n",
              "        [ 0.1098609 , -0.00665313, -0.3480743 , -0.54486316,  0.23866546,\n",
              "         -0.38540816, -0.32521918,  0.23735994,  0.00598317,  0.28228468],\n",
              "        [-0.13930655, -0.13956425,  0.46567613, -0.60738593, -0.51548266,\n",
              "          0.02628058,  0.3067608 , -0.20731413, -0.16830602,  0.14127237]],\n",
              "       dtype=float32)>,\n",
              " <tf.Variable 'dense_1/bias:0' shape=(10,) dtype=float32, numpy=array([0., 0., 0., 0., 0., 0., 0., 0., 0., 0.], dtype=float32)>)"
            ]
          },
          "metadata": {
            "tags": []
          },
          "execution_count": 13
        }
      ]
    },
    {
      "cell_type": "markdown",
      "metadata": {
        "id": "eqLawmCBT5w_"
      },
      "source": [
        "## **Implementing custom layers**\n",
        "The best way to implement your own layer is extending the tf.keras.Layer class and implementing:\n",
        "*  `__init__` , where you can do all input-independent initialization\n",
        "*  `build`, where you know the shapes of the input tensors and can do the rest of the initialization\n",
        "*  `call` where you do the forward computation\n",
        "\n",
        "Note that you don't have to wait until `build` is called to create your variables, you can also create them in `__init__`. However,\n",
        "*  The advantage of creating them in build is that it enables **late variable creation** based on the shape of the inputs the layer will operate on.\n",
        "*  On the other hand, creating variable in `__init__` would mean that **shapes required to create the variables will need to be explicitly specified.**"
      ]
    },
    {
      "cell_type": "code",
      "metadata": {
        "colab": {
          "base_uri": "https://localhost:8080/"
        },
        "id": "8TYwHb9VTxNj",
        "outputId": "4f752ba3-e240-4fea-a3e6-df048598b5c0"
      },
      "source": [
        "class MyDenseLayer(tf.keras.layers.Layer):\n",
        "  def __init__(self, num_outputs):\n",
        "    super(MyDenseLayer, self).__init__()\n",
        "    self.num_outputs = num_outputs\n",
        "\n",
        "  def build(self, input_shape):\n",
        "    self.kernel = self.add_weight(\"kernel\",\n",
        "                                  shape=[int(input_shape[-1]),\n",
        "                                         self.num_outputs])\n",
        "\n",
        "  def call(self, inputs):\n",
        "    return tf.matmul(inputs, self.kernel)\n",
        "\n",
        "\n",
        "layer = MyDenseLayer(10)\n",
        "print(layer(tf.zeros([10, 5])))\n",
        "print()\n",
        "print(layer.trainable_variables)"
      ],
      "execution_count": null,
      "outputs": [
        {
          "output_type": "stream",
          "text": [
            "tf.Tensor(\n",
            "[[0. 0. 0. 0. 0. 0. 0. 0. 0. 0.]\n",
            " [0. 0. 0. 0. 0. 0. 0. 0. 0. 0.]\n",
            " [0. 0. 0. 0. 0. 0. 0. 0. 0. 0.]\n",
            " [0. 0. 0. 0. 0. 0. 0. 0. 0. 0.]\n",
            " [0. 0. 0. 0. 0. 0. 0. 0. 0. 0.]\n",
            " [0. 0. 0. 0. 0. 0. 0. 0. 0. 0.]\n",
            " [0. 0. 0. 0. 0. 0. 0. 0. 0. 0.]\n",
            " [0. 0. 0. 0. 0. 0. 0. 0. 0. 0.]\n",
            " [0. 0. 0. 0. 0. 0. 0. 0. 0. 0.]\n",
            " [0. 0. 0. 0. 0. 0. 0. 0. 0. 0.]], shape=(10, 10), dtype=float32)\n",
            "\n",
            "[<tf.Variable 'my_dense_layer/kernel:0' shape=(5, 10) dtype=float32, numpy=\n",
            "array([[ 0.35589224, -0.5360265 ,  0.06197554, -0.27925608, -0.28954425,\n",
            "        -0.49069637, -0.05750704,  0.27957845,  0.13759267, -0.14388767],\n",
            "       [-0.04361773, -0.46767148, -0.25190127,  0.3751964 , -0.35982844,\n",
            "         0.11592895,  0.6024315 ,  0.4936903 ,  0.58209175,  0.35252905],\n",
            "       [-0.579371  ,  0.54324216, -0.21697927,  0.12442183,  0.21087438,\n",
            "        -0.45649394, -0.16855815, -0.22220168,  0.24416113,  0.28396434],\n",
            "       [ 0.40663797, -0.5538128 ,  0.2517696 , -0.48818755, -0.5996393 ,\n",
            "        -0.27014676, -0.4788531 ,  0.5759557 , -0.34730977,  0.5752794 ],\n",
            "       [ 0.5886552 , -0.15671048,  0.0171473 , -0.03810364,  0.08460897,\n",
            "        -0.40824836,  0.13450193,  0.38747126,  0.03929955,  0.02840853]],\n",
            "      dtype=float32)>]\n"
          ],
          "name": "stdout"
        }
      ]
    },
    {
      "cell_type": "markdown",
      "metadata": {
        "id": "FAY2UR4qbhSQ"
      },
      "source": [
        "## **Automatic Differentiation**\n",
        "Automatic differentiation is a key technique for optimizing ML models.\n",
        "\n",
        "### **Gradient tapes**\n",
        "TenorFlow provides the `tf.GradientTape` API for automatic differentiation - computing the gradient of a computation with respect to its input variables.\n",
        "*  Tensorflow \"records\" all operations executed inside the context of a tf.GradientTape onto a \"tape\"\n",
        "*  Tensorflow then uses that tape and the gradients associated with each recorded operation to compute the gradients of a \"recorded\" computation using `reverse mode differentiation.`\n",
        "\n",
        "For each example shown here, we will construct a computation graph and work out the derivatives. We compare the manually calculated derivatives with automatic differentiation.\n",
        "\n",
        "Any computation wrapped in a tape is recorded, and after the operations have happended you can request gradients from any Tensor to any variable."
      ]
    },
    {
      "cell_type": "code",
      "metadata": {
        "colab": {
          "base_uri": "https://localhost:8080/"
        },
        "id": "xeilo9GkYGVd",
        "outputId": "e4553d4b-0102-49f6-ead1-b433a89022ab"
      },
      "source": [
        "x = tf.Variable(1.0)\n",
        "with tf.GradientTape() as tape:\n",
        "  y = x ** 2\n",
        "  z = y ** 2\n",
        "dz_dx, dz_dy = tape.gradient(z, [x, y])\n",
        "print(dz_dx.numpy()) # 4.0\n",
        "print(dz_dy.numpy()) # 2.0"
      ],
      "execution_count": null,
      "outputs": [
        {
          "output_type": "stream",
          "text": [
            "4.0\n",
            "2.0\n"
          ],
          "name": "stdout"
        }
      ]
    },
    {
      "cell_type": "markdown",
      "metadata": {
        "id": "71UHn_THe86E"
      },
      "source": [
        "If you want to request a gradient from a tensor to another tensor, then you need to tell the tape to watch the source tensor:"
      ]
    },
    {
      "cell_type": "code",
      "metadata": {
        "colab": {
          "base_uri": "https://localhost:8080/"
        },
        "id": "8gl4ponKexYf",
        "outputId": "ae6d9d4a-6e13-4d4c-a900-fdab8e61887b"
      },
      "source": [
        "x = tf.constant(1.0)\n",
        "with tf.GradientTape() as tape:\n",
        "  tape.watch(x) # Since 'x' is not a variable we must explicitly \"watch\" it.\n",
        "  y = x ** 2\n",
        "dy_dx = tape.gradient(y, x)\n",
        "print(dy_dx.numpy()) # 2.0"
      ],
      "execution_count": null,
      "outputs": [
        {
          "output_type": "stream",
          "text": [
            "2.0\n"
          ],
          "name": "stdout"
        }
      ]
    },
    {
      "cell_type": "markdown",
      "metadata": {
        "id": "IGCyzgU6gEVR"
      },
      "source": [
        "By default, the resources held by a GradientTape are released as soon as GradientTape.gradient() method is called. To compute multiple gradients over the same computaion, create a presistent gradient tape. This allows multiple calls to the gradient() method as resources are released when the tape object is gargbage collected. For example:"
      ]
    },
    {
      "cell_type": "code",
      "metadata": {
        "colab": {
          "base_uri": "https://localhost:8080/"
        },
        "id": "Yx-MxyWOgADx",
        "outputId": "1faf2a49-7396-47e3-ea79-e9369472ab8f"
      },
      "source": [
        "x = tf.constant(3.0)\n",
        "with tf.GradientTape(persistent=True) as t:\n",
        "  t.watch(x)\n",
        "  y = x * x\n",
        "  z = y * y\n",
        "dz_dx = t.gradient(z, x) # 108.8 (4*x^3 at x == 3)\n",
        "dy_dx = t.gradient(y, x) # 6.0\n",
        "\n",
        "print(dy_dx)\n",
        "print(dz_dy)\n",
        "print(dz_dx)\n",
        "\n",
        "del t # Drop the reference to the tape"
      ],
      "execution_count": null,
      "outputs": [
        {
          "output_type": "stream",
          "text": [
            "tf.Tensor(6.0, shape=(), dtype=float32)\n",
            "tf.Tensor(2.0, shape=(), dtype=float32)\n",
            "tf.Tensor(108.0, shape=(), dtype=float32)\n"
          ],
          "name": "stdout"
        }
      ]
    },
    {
      "cell_type": "markdown",
      "metadata": {
        "id": "456Q8QW8jIp8"
      },
      "source": [
        "## **Recording control flow**\n",
        "Because tapes record operations as they are executed, Python control flow (using ifs and whiles for example) in naturally handled:"
      ]
    },
    {
      "cell_type": "code",
      "metadata": {
        "id": "v7WDdBXRhnRB"
      },
      "source": [
        "def f(x, y):\n",
        "  output = 1.0\n",
        "  for i in range(y):\n",
        "    if i > 1 and i < 5:\n",
        "      output = tf.multiply(output, x)\n",
        "  return output\n",
        "\n",
        "def grad(x, y):\n",
        "  with tf.GradientTape() as t:\n",
        "    t.watch(x)\n",
        "    out = f(x, y)\n",
        "  return t.gradient(out, x)\n",
        "\n",
        "x = tf.convert_to_tensor(2.0)\n",
        "\n",
        "assert grad(x, 6).numpy() == 12.0\n",
        "assert grad(x, 5).numpy() == 12.0\n",
        "assert grad(x, 4).numpy() == 4.0"
      ],
      "execution_count": null,
      "outputs": []
    },
    {
      "cell_type": "markdown",
      "metadata": {
        "id": "dPU6hgeRlJjV"
      },
      "source": [
        "## **Higher-order gradients**\n",
        "Operations inside of the GradientTape context manager are recorded for automatic differentiation. If gradients are computed in that context, then the gradient computation is recorded as well. As a result, the exact same API works for higher-order gradient as well. For example:"
      ]
    },
    {
      "cell_type": "code",
      "metadata": {
        "id": "SpZ0F8Kjkw-T"
      },
      "source": [
        "x = tf.Variable(1.0) # Create a Tensorflow variable initialized to 1.0\n",
        "\n",
        "with tf.GradientTape() as t:\n",
        "  with tf.GradientTape() as t2:\n",
        "    y = x * x * x\n",
        "    # Compute the gradient inside the 't' context manager\n",
        "    # which mean the gradient computation if differentiable as well.\n",
        "    dy_dx = t2.gradient(y, x)\n",
        "d2y_dx2 = t.gradient(dy_dx, x)\n",
        "\n",
        "assert dy_dx.numpy() == 3.0\n",
        "assert d2y_dx2.numpy() == 6.0\n"
      ],
      "execution_count": null,
      "outputs": []
    },
    {
      "cell_type": "markdown",
      "metadata": {
        "id": "HM7BmEg0nDfB"
      },
      "source": [
        "In This section, we covered gradient computation in TensorFlow. With that we have enough of the primitives required to build and train neural networks.\n",
        "\n",
        "## **Custom Training**\n",
        "Let's train neural networks from the first principle so as to acquire strong foundation understanding of the concepts. We use tf.Variable to represent weights in a model. A tf.Variable object stores a value and implicitly reads from this stored value. These are operatons (tf.assign_sub,tf.scatter_update. etc.) that manipulate the value stored in a TensorFlow variable."
      ]
    },
    {
      "cell_type": "code",
      "metadata": {
        "id": "RAVANOF1nBVd"
      },
      "source": [
        " v = tf.Variable(1.0)\n",
        " # Use Python's 'assert' as a debugging statement to test the condition\n",
        " assert v.numpy() == 1.0\n",
        "\n",
        " # Reassign the value 'v'\n",
        " v.assign(3.0)\n",
        " assert v.numpy() == 3.0\n",
        "\n",
        " # Use 'v' in a Tensorflow 'tf.square()' operation and reassign\n",
        " v.assign(tf.square(v))\n",
        " assert v.numpy() == 9.0"
      ],
      "execution_count": null,
      "outputs": []
    },
    {
      "cell_type": "markdown",
      "metadata": {
        "id": "h6mtTBwRqs0M"
      },
      "source": [
        "## **Fit a linear model**\n",
        "Let's use the concepts you have learned so far-Tensor, Variable, and GradientTape-to build and train a simple model. This typically involves a few steps:\n",
        "1.  Define the model.\n",
        "2.  Define a loss function.\n",
        "3.  Obtain training data.\n",
        "4.  Run through the training data and use an \"optimizer\" to adjust the variable to fit the data.\n",
        "\n",
        "Here, you'll create a simple linear model, f(x) = x * W + b, which has two variables: W(weights) and b(bias). You'll synthesize data such that a well trained model would have W = 3.0 and b = 2.0.\n",
        "\n",
        "## **Define the model**\n",
        "Let's define a simple class to encapsulate the variables and the computation:"
      ]
    },
    {
      "cell_type": "code",
      "metadata": {
        "colab": {
          "base_uri": "https://localhost:8080/"
        },
        "id": "qppbn53mqqwW",
        "outputId": "1152e0a8-0f55-403b-c055-a2a46c9e927d"
      },
      "source": [
        "class MyModel(tf.Module):\n",
        "  def __init__(self, **kwargs):\n",
        "    super().__init__(**kwargs)\n",
        "    # Initialize the weights to `5.0` and the bias to `0.0`\n",
        "    # In practice, these should be randomly initialized\n",
        "    self.w = tf.Variable(5.0)\n",
        "    self.b = tf.Variable(0.0)\n",
        "\n",
        "  def __call__(self, x):\n",
        "    return self.w * x + self.b\n",
        "\n",
        "model = MyModel()\n",
        "\n",
        "# List the variables tf.modules's built-in variable aggregation.\n",
        "print(\"Variables:\", model.variables)\n",
        "\n",
        "# Verify the model works\n",
        "assert model(3.0).numpy() == 15.0"
      ],
      "execution_count": null,
      "outputs": [
        {
          "output_type": "stream",
          "text": [
            "Variables: (<tf.Variable 'Variable:0' shape=() dtype=float32, numpy=0.0>, <tf.Variable 'Variable:0' shape=() dtype=float32, numpy=5.0>)\n"
          ],
          "name": "stdout"
        }
      ]
    },
    {
      "cell_type": "markdown",
      "metadata": {
        "id": "UiylHeX-tHAL"
      },
      "source": [
        "## **Define a loss function**\n",
        "A loss function measures how well the output of a model for a given input matches the target output. The goal is to minimize this difference during training. Let's use the standard L2 loss, also known as the least square errors:"
      ]
    },
    {
      "cell_type": "code",
      "metadata": {
        "id": "bib9fdErtCgd"
      },
      "source": [
        "# This computes a single loss value for an entire batch\n",
        "def loss(target_y, predicted_y):\n",
        "  return tf.reduce_mean(tf.square(target_y - predicted_y))"
      ],
      "execution_count": null,
      "outputs": []
    },
    {
      "cell_type": "markdown",
      "metadata": {
        "id": "NuSHRipguiky"
      },
      "source": [
        "## **Obtain training data**\n",
        "First, synthesize the training data by adding random Gaussian (Normal) noise to the inputs:"
      ]
    },
    {
      "cell_type": "code",
      "metadata": {
        "id": "5gvPpt-GueHr"
      },
      "source": [
        "# The actual line\n",
        "TRUE_W = 3.0\n",
        "TRUE_B = 2.0\n",
        "\n",
        "NUM_EXAMPLES = 1000\n",
        "\n",
        "# A vector of random x values\n",
        "x = tf.random.normal(shape=[NUM_EXAMPLES])\n",
        "\n",
        "# Generate some noise\n",
        "noise = tf.random.normal(shape=[NUM_EXAMPLES])\n",
        "\n",
        "# Calculate y\n",
        "y = x * TRUE_W + TRUE_B + noise"
      ],
      "execution_count": null,
      "outputs": []
    },
    {
      "cell_type": "markdown",
      "metadata": {
        "id": "npoPUuJUvVYR"
      },
      "source": [
        "Before training the model, visualie the loss value by plotting the model's predictions in red and the training data im blue:"
      ]
    },
    {
      "cell_type": "code",
      "metadata": {
        "colab": {
          "base_uri": "https://localhost:8080/",
          "height": 282
        },
        "id": "-6A45ty0vUcx",
        "outputId": "eba2998c-518c-47fe-ca54-18882182247b"
      },
      "source": [
        "import matplotlib.pyplot as plt\n",
        "\n",
        "plt.scatter(x, y, c = 'b')\n",
        "plt.scatter(x, model(x), c = 'r')\n",
        "plt.show()\n",
        "\n",
        "print('Current loss: %1.6f' % loss(model(x), y).numpy())"
      ],
      "execution_count": null,
      "outputs": [
        {
          "output_type": "display_data",
          "data": {
            "image/png": "[encoded data removed]",
            "text/plain": [
              "<Figure size 432x288 with 1 Axes>"
            ]
          },
          "metadata": {
            "tags": [],
            "needs_background": "light"
          }
        },
        {
          "output_type": "stream",
          "text": [
            "Current loss: 9.091275\n"
          ],
          "name": "stdout"
        }
      ]
    },
    {
      "cell_type": "markdown",
      "metadata": {
        "id": "jjm9go7AwSBR"
      },
      "source": [
        "## **Define a training loop**\n",
        "With the network and training data, train the model using gradient descent to update the weights variable (W) and the bias variable (b) to reduce the loss. There are many of the gradient descent scheme that are captured in `tf.train.Optimizer-`our recommended implementation. But in the spirit of building from first principles, here you will implement the basic math yourself with the help of `tf.GradientTape` for automatic differentiation and `tf.assign_sub` for decrementing a value (which combines tf.assign and tf.sub):"
      ]
    },
    {
      "cell_type": "code",
      "metadata": {
        "id": "LgCpxG0HwC95"
      },
      "source": [
        "# Given a callable model, inputs, outputs, and a learning rate...\n",
        "def train(model, x, y, learning_rate):\n",
        "\n",
        "  with tf.GradientTape() as t:\n",
        "    # Trainable variables are automatically tracked by GradientTape\n",
        "    current_loss = loss(y, model(x))\n",
        "\n",
        "  # Use GradientTape to calculate the gradients with respect to W and b\n",
        "  dw, db = t.gradient(current_loss, [model.w, model.b])\n",
        "\n",
        "  # Subtract the gradient scaled by the learning rate\n",
        "  model.w.assign_sub(learning_rate * dw)\n",
        "  model.b.assign_sub(learning_rate * db)"
      ],
      "execution_count": null,
      "outputs": []
    },
    {
      "cell_type": "markdown",
      "metadata": {
        "id": "08w3-7ZQtbwV"
      },
      "source": [
        "Finally, let's repeatedly run through the training data and see how W and b evolve."
      ]
    },
    {
      "cell_type": "code",
      "metadata": {
        "id": "KoNqL7dMtZRs"
      },
      "source": [
        "model = MyModel()\n",
        "\n",
        "# Collect the history of W-values and b-values to plot later\n",
        "Ws, bs = [], []\n",
        "epochs = range(10)\n",
        "\n",
        "# Define a training loop\n",
        "def training_loop(model, x, y):\n",
        "\n",
        "  for epoch in epochs:\n",
        "    # Update the model with the single giant batch\n",
        "    train(model, x, y, learning_rate=0.1)\n",
        "\n",
        "    # Track this before I update\n",
        "    Ws.append(model.w.numpy())\n",
        "    bs.append(model.b.numpy())\n",
        "    current_loss = loss(y, model(x))\n",
        "\n",
        "    print(\"Epoch %2d: W=%1.2f b=%1.2f, loss=%2.5f\" %\n",
        "          (epoch, Ws[-1], bs[-1], current_loss))"
      ],
      "execution_count": null,
      "outputs": []
    },
    {
      "cell_type": "code",
      "metadata": {
        "colab": {
          "base_uri": "https://localhost:8080/",
          "height": 458
        },
        "id": "xDQXG7WmvSLr",
        "outputId": "0c879d4b-d7e1-47e1-d88c-312738c660a2"
      },
      "source": [
        "print(\"Starting: W=%1.2f b=%1.2f, loss=%2.5f\" %\n",
        "      (model.w, model.b, loss(y, model(x))))\n",
        "\n",
        "# Do the training\n",
        "training_loop(model, x, y)\n",
        "\n",
        "# Plot it\n",
        "plt.plot(epochs, Ws, \"r\",\n",
        "         epochs, bs, \"b\")\n",
        "\n",
        "plt.plot([TRUE_W] * len(epochs), \"r--\",\n",
        "         [TRUE_B] * len(epochs), \"b--\")\n",
        "\n",
        "plt.legend([\"W\", \"b\", \"True W\", \"True b\"])\n",
        "plt.show()"
      ],
      "execution_count": null,
      "outputs": [
        {
          "output_type": "stream",
          "text": [
            "Starting: W=5.00 b=0.00, loss=9.09128\n",
            "Epoch  0: W=4.62 b=0.41, loss=6.26713\n",
            "Epoch  1: W=4.30 b=0.73, loss=4.43387\n",
            "Epoch  2: W=4.05 b=0.99, loss=3.24357\n",
            "Epoch  3: W=3.85 b=1.20, loss=2.47056\n",
            "Epoch  4: W=3.68 b=1.37, loss=1.96843\n",
            "Epoch  5: W=3.54 b=1.50, loss=1.64219\n",
            "Epoch  6: W=3.43 b=1.61, loss=1.43018\n",
            "Epoch  7: W=3.34 b=1.69, loss=1.29237\n",
            "Epoch  8: W=3.27 b=1.76, loss=1.20277\n",
            "Epoch  9: W=3.21 b=1.82, loss=1.14451\n"
          ],
          "name": "stdout"
        },
        {
          "output_type": "display_data",
          "data": {
            "image/png": "[encoded data removed]",
            "text/plain": [
              "<Figure size 432x288 with 1 Axes>"
            ]
          },
          "metadata": {
            "tags": [],
            "needs_background": "light"
          }
        }
      ]
    },
    {
      "cell_type": "code",
      "metadata": {
        "colab": {
          "base_uri": "https://localhost:8080/",
          "height": 282
        },
        "id": "6uq1SL9e34yR",
        "outputId": "e7c25a56-45b5-4ccd-9e9f-6bb5ea7aa321"
      },
      "source": [
        "# Visualize how the trained model performs\n",
        "plt.scatter(x, y, c=\"b\")\n",
        "plt.scatter(x, model(x), c=\"r\")\n",
        "plt.show()\n",
        "\n",
        "print(\"Current loss: %1.6f\" % loss(model(x), y).numpy())"
      ],
      "execution_count": null,
      "outputs": [
        {
          "output_type": "display_data",
          "data": {
            "image/png": "[encoded data removed]",
            "text/plain": [
              "<Figure size 432x288 with 1 Axes>"
            ]
          },
          "metadata": {
            "tags": [],
            "needs_background": "light"
          }
        },
        {
          "output_type": "stream",
          "text": [
            "Current loss: 1.144507\n"
          ],
          "name": "stdout"
        }
      ]
    }
  ]
}