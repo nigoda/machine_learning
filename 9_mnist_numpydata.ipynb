{
  "nbformat": 4,
  "nbformat_minor": 0,
  "metadata": {
    "colab": {
      "name": "9.mnist_numpydata.ipynb",
      "provenance": [],
      "authorship_tag": "ABX9TyNA8KRO2WE//JpM9fq+dZrT",
      "include_colab_link": true
    },
    "kernelspec": {
      "name": "python3",
      "display_name": "Python 3"
    }
  },
  "cells": [
    {
      "cell_type": "markdown",
      "metadata": {
        "id": "view-in-github",
        "colab_type": "text"
      },
      "source": [
        "<a href=\"https://colab.research.google.com/github/nigoda/machine_learning/blob/main/9_mnist_numpydata.ipynb\" target=\"_parent\"><img src=\"https://colab.research.google.com/assets/colab-badge.svg\" alt=\"Open In Colab\"/></a>"
      ]
    },
    {
      "cell_type": "markdown",
      "metadata": {
        "id": "l-gsaa3ll8-Z"
      },
      "source": [
        "### **Load NumPy data**"
      ]
    },
    {
      "cell_type": "code",
      "metadata": {
        "id": "5U8p3fjil2Dp"
      },
      "source": [
        "import numpy as np\n",
        "import tensorflow as tf"
      ],
      "execution_count": null,
      "outputs": []
    },
    {
      "cell_type": "code",
      "metadata": {
        "id": "4kUrV_3WnPf1"
      },
      "source": [
        "DATA_URL = 'http://storage.googleapis.com/tensorflow/tf-keras-datasets/mnist.npz'\n",
        "\n",
        "path = tf.keras.utils.get_file('mnist.npz', DATA_URL)\n",
        "with np.load(path) as data:\n",
        "  train_examples = data['x_train']\n",
        "  train_labels = data['y_train']\n",
        "  test_examples = data['x_test']\n",
        "  test_labels = data['y_test']"
      ],
      "execution_count": null,
      "outputs": []
    },
    {
      "cell_type": "markdown",
      "metadata": {
        "id": "7kfb-sZQoXxy"
      },
      "source": [
        "## Load NumPy array with tf.data.Dataset\n",
        "\n",
        "Assuming you have an array of examples and a corresponding array of labels, pass two arrays as a tuple into tf.data.Dataset.from_tensor_slices to create a tf.data.Dataset."
      ]
    },
    {
      "cell_type": "code",
      "metadata": {
        "id": "KUEewSWspBtM"
      },
      "source": [
        "train_dataset = tf.data.Dataset.from_tensor_slices((train_examples, train_labels))\n",
        "test_dataset = tf.data.Dataset.from_tensor_slices((test_examples, test_labels))"
      ],
      "execution_count": null,
      "outputs": []
    },
    {
      "cell_type": "markdown",
      "metadata": {
        "id": "zpkPWVz0prQE"
      },
      "source": [
        "## Use the datasets\n",
        "\n",
        "### Shuffle and batch the datasets"
      ]
    },
    {
      "cell_type": "code",
      "metadata": {
        "id": "ZeFQL9_mph2A"
      },
      "source": [
        "BATCH_SIZE = 64\n",
        "SHUFFLE_BUFFER_SIZE = 100\n",
        "\n",
        "train_dataset = train_dataset.shuffle(SHUFFLE_BUFFER_SIZE).batch(BATCH_SIZE)\n",
        "test_dataset = test_dataset.batch(BATCH_SIZE)"
      ],
      "execution_count": null,
      "outputs": []
    },
    {
      "cell_type": "markdown",
      "metadata": {
        "id": "YB9h4UI1ykcG"
      },
      "source": [
        "## Build and train model"
      ]
    },
    {
      "cell_type": "code",
      "metadata": {
        "id": "HrqZobGKyj_5"
      },
      "source": [
        "model = tf.keras.Sequential([\n",
        "    tf.keras.layers.Flatten(input_shape=(28,28)),\n",
        "    tf.keras.layers.Dense(128, activation = 'relu'),\n",
        "    tf.keras.layers.Dense(10)\n",
        "])\n",
        "\n",
        "model.compile(optimizer=tf.keras.optimizers.RMSprop(),\n",
        "              loss=tf.keras.losses.SparseCategoricalCrossentropy(from_logits=True),\n",
        "              metrics=['sparse_categorical_accuracy'])"
      ],
      "execution_count": null,
      "outputs": []
    },
    {
      "cell_type": "code",
      "metadata": {
        "colab": {
          "base_uri": "https://localhost:8080/"
        },
        "id": "et0imqbUz6aW",
        "outputId": "02eeefec-5c71-4618-804c-a8f480a35f6a"
      },
      "source": [
        "model.fit(train_dataset, epochs=10)"
      ],
      "execution_count": null,
      "outputs": [
        {
          "output_type": "stream",
          "text": [
            "Epoch 1/10\n",
            "938/938 [==============================] - 4s 3ms/step - loss: 8.8485 - sparse_categorical_accuracy: 0.8194\n",
            "Epoch 2/10\n",
            "938/938 [==============================] - 3s 3ms/step - loss: 0.5705 - sparse_categorical_accuracy: 0.9160\n",
            "Epoch 3/10\n",
            "938/938 [==============================] - 3s 3ms/step - loss: 0.3897 - sparse_categorical_accuracy: 0.9419\n",
            "Epoch 4/10\n",
            "938/938 [==============================] - 3s 3ms/step - loss: 0.3141 - sparse_categorical_accuracy: 0.9532\n",
            "Epoch 5/10\n",
            "938/938 [==============================] - 3s 3ms/step - loss: 0.2793 - sparse_categorical_accuracy: 0.9594\n",
            "Epoch 6/10\n",
            "938/938 [==============================] - 3s 3ms/step - loss: 0.2517 - sparse_categorical_accuracy: 0.9630\n",
            "Epoch 7/10\n",
            "938/938 [==============================] - 3s 3ms/step - loss: 0.2310 - sparse_categorical_accuracy: 0.9684\n",
            "Epoch 8/10\n",
            "938/938 [==============================] - 3s 3ms/step - loss: 0.2079 - sparse_categorical_accuracy: 0.9718\n",
            "Epoch 9/10\n",
            "938/938 [==============================] - 3s 3ms/step - loss: 0.1859 - sparse_categorical_accuracy: 0.9742\n",
            "Epoch 10/10\n",
            "938/938 [==============================] - 3s 3ms/step - loss: 0.1846 - sparse_categorical_accuracy: 0.9756\n"
          ],
          "name": "stdout"
        },
        {
          "output_type": "execute_result",
          "data": {
            "text/plain": [
              "<tensorflow.python.keras.callbacks.History at 0x7fa22b7d5898>"
            ]
          },
          "metadata": {
            "tags": []
          },
          "execution_count": 14
        }
      ]
    },
    {
      "cell_type": "code",
      "metadata": {
        "id": "ruNC06TM0BIj",
        "colab": {
          "base_uri": "https://localhost:8080/"
        },
        "outputId": "1a7b40ed-f9d4-4272-d244-83d23b9d654d"
      },
      "source": [
        "model.evaluate(test_dataset)"
      ],
      "execution_count": null,
      "outputs": [
        {
          "output_type": "stream",
          "text": [
            "157/157 [==============================] - 0s 2ms/step - loss: 0.6827 - sparse_categorical_accuracy: 0.9591\n"
          ],
          "name": "stdout"
        },
        {
          "output_type": "execute_result",
          "data": {
            "text/plain": [
              "[0.6827101111412048, 0.9591000080108643]"
            ]
          },
          "metadata": {
            "tags": []
          },
          "execution_count": 15
        }
      ]
    }
  ]
}