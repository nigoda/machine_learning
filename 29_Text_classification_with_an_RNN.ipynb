{
  "nbformat": 4,
  "nbformat_minor": 0,
  "metadata": {
    "colab": {
      "name": "29_Text_classification_with_an_RNN.ipynb",
      "provenance": [],
      "collapsed_sections": [],
      "authorship_tag": "ABX9TyP3JpOH8vBNRNymHA2pvCXk",
      "include_colab_link": true
    },
    "kernelspec": {
      "display_name": "Python 3",
      "name": "python3"
    },
    "language_info": {
      "name": "python"
    }
  },
  "cells": [
    {
      "cell_type": "markdown",
      "metadata": {
        "id": "view-in-github",
        "colab_type": "text"
      },
      "source": [
        "<a href=\"https://colab.research.google.com/github/nigoda/machine_learning/blob/main/29_Text_classification_with_an_RNN.ipynb\" target=\"_parent\"><img src=\"https://colab.research.google.com/assets/colab-badge.svg\" alt=\"Open In Colab\"/></a>"
      ]
    },
    {
      "cell_type": "markdown",
      "metadata": {
        "id": "hBXrylLtIXkr"
      },
      "source": [
        "#**Text classification with an RNN**\n",
        "\n",
        "https://www.tensorflow.org/text/tutorials/text_classification_rnn\n",
        "\n",
        "This text classification trains a [recurrent neural network](https://developers.google.com/machine-learning/glossary/#recurrent_neural_network) on the [IMDB large movie review dataset](http://ai.stanford.edu/~amaas/data/sentiment/) for sentiment analysis.\n",
        "\n",
        "## **Setup**"
      ]
    },
    {
      "cell_type": "code",
      "metadata": {
        "id": "usYl6aZLIGGD"
      },
      "source": [
        "import numpy as np\n",
        "\n",
        "import tensorflow_datasets as tfds\n",
        "import tensorflow as tf\n",
        "\n",
        "tfds.disable_progress_bar()"
      ],
      "execution_count": 1,
      "outputs": []
    },
    {
      "cell_type": "markdown",
      "metadata": {
        "id": "s03I90FuQExk"
      },
      "source": [
        "Import `matplotlib` and create a helper function to plot graphs:  "
      ]
    },
    {
      "cell_type": "code",
      "metadata": {
        "id": "6kvjRijAQCkf"
      },
      "source": [
        " import matplotlib.pyplot as plt\n",
        "\n",
        " def plot_graphs(history, metric):\n",
        "   plt.plot(history.history[metric])\n",
        "   plt.plot(history.history['val_'+metric], '')\n",
        "   plt.xlabel(\"Epochs\")\n",
        "   plt.ylabel(metric)\n",
        "   plt.legend([metric, 'val_'+metric])"
      ],
      "execution_count": 2,
      "outputs": []
    },
    {
      "cell_type": "markdown",
      "metadata": {
        "id": "IKkr7TSORowI"
      },
      "source": [
        "## **Setup input pipeline**\n",
        "\n",
        "The IMDB large movie review dataset is a *binary classification dataset*-all the reviews have either a *positive* or *negative* sentiment.\n",
        "\n",
        "Download the dataset using [TFDS](https://www.tensorflow.org/datasets). See the [loading text tutorial](https://github.com/nigoda/machine_learning/blob/main/12_NLP_Load_text.ipynb) for details on how to load this sort of data manually. "
      ]
    },
    {
      "cell_type": "code",
      "metadata": {
        "colab": {
          "base_uri": "https://localhost:8080/"
        },
        "id": "KPuoxaPiRmeo",
        "outputId": "2bb8d3f8-5970-48b4-c9bf-eb943c6dd1fd"
      },
      "source": [
        "dataset, info = tfds.load('imdb_reviews', with_info=True,\n",
        "                          as_supervised=True)\n",
        "train_dataset, test_dataset = dataset['train'], dataset['test']\n",
        "\n",
        "train_dataset.element_spec"
      ],
      "execution_count": 3,
      "outputs": [
        {
          "output_type": "execute_result",
          "data": {
            "text/plain": [
              "(TensorSpec(shape=(), dtype=tf.string, name=None),\n",
              " TensorSpec(shape=(), dtype=tf.int64, name=None))"
            ]
          },
          "metadata": {
            "tags": []
          },
          "execution_count": 3
        }
      ]
    },
    {
      "cell_type": "markdown",
      "metadata": {
        "id": "9T0WyjeIUu3n"
      },
      "source": [
        "Initially this returns a dataset of (text, label pairs):"
      ]
    },
    {
      "cell_type": "code",
      "metadata": {
        "colab": {
          "base_uri": "https://localhost:8080/"
        },
        "id": "6YwKeaFIUmwj",
        "outputId": "3a6eb5e8-03c4-4e7a-e93d-5324ea245814"
      },
      "source": [
        "for example, label in train_dataset.take(1):\n",
        "  print('text: ', example.numpy())\n",
        "  print('label: ', label.numpy())"
      ],
      "execution_count": 4,
      "outputs": [
        {
          "output_type": "stream",
          "text": [
            "text:  b\"This was an absolutely terrible movie. Don't be lured in by Christopher Walken or Michael Ironside. Both are great actors, but this must simply be their worst role in history. Even their great acting could not redeem this movie's ridiculous storyline. This movie is an early nineties US propaganda piece. The most pathetic scenes were those when the Columbian rebels were making their cases for revolutions. Maria Conchita Alonso appeared phony, and her pseudo-love affair with Walken was nothing but a pathetic emotional plug in a movie that was devoid of any real meaning. I am disappointed that there are movies like this, ruining actor's like Christopher Walken's good name. I could barely sit through it.\"\n",
            "label:  0\n"
          ],
          "name": "stdout"
        }
      ]
    },
    {
      "cell_type": "markdown",
      "metadata": {
        "id": "9-_Ub-yIVaoy"
      },
      "source": [
        "Next shuffle the data for training and create batches of these `(text, labels)` pairs:"
      ]
    },
    {
      "cell_type": "code",
      "metadata": {
        "id": "1afh02fkVYB-"
      },
      "source": [
        "BUFFER_SIZE = 10000\n",
        "BATCH_SIZE = 64"
      ],
      "execution_count": 5,
      "outputs": []
    },
    {
      "cell_type": "code",
      "metadata": {
        "id": "62HHGJWQVtfT"
      },
      "source": [
        "train_dataset = train_dataset.shuffle(BUFFER_SIZE).batch(BATCH_SIZE).prefetch(tf.data.AUTOTUNE)\n",
        "test_dataset = test_dataset.batch(BATCH_SIZE).prefetch(tf.data.AUTOTUNE)"
      ],
      "execution_count": 6,
      "outputs": []
    },
    {
      "cell_type": "code",
      "metadata": {
        "colab": {
          "base_uri": "https://localhost:8080/"
        },
        "id": "bleo4yHmWJh2",
        "outputId": "245e0505-42b0-4e15-b7dd-32fe78cd8463"
      },
      "source": [
        "for example, label in train_dataset.take(1):\n",
        "  print('texts: ', example.numpy()[:3])\n",
        "  print()\n",
        "  print('labels: ', label.numpy()[:3])"
      ],
      "execution_count": 7,
      "outputs": [
        {
          "output_type": "stream",
          "text": [
            "texts:  [b'For some strange reason the film world is driven by fashion . Someone makes a film about a killer shark then all of a sudden the film world`s oceans are awash with giant Squids , killer octopusses and sea monsters of every ilk . A man is stalked by an erstwhile lover from hell then every film character is stalked by a cop from hell or a flatmate from hell or a babysitter from hell . Then when a major Hollywood company produces a big budget FX laden blockbuster about tornados then other film producers jump upon the bandwagon , the fact that they don`t have the budget to pull it off doesn`t stop them. NIGHT OF THE TWISTERS is a case in point . What struck me about this made for television film is the fact that it tries to hide its lack of budget by cutting to the ad breaks . Everytime a tornado appears the camara locks onto the horrified expression of the actors as they scream things like \" Oh my gawd it`s heading this way \" and \" Run for your lives \" then the screen fades to black saving the producers the need to up the special effects budget . Unfortunately NIGHT OF THE TWISTERS budget should have been upped to include better actors . The cast are by no means bad but they are unimpressive and lack the skill to carry a film which is character driven . Where`s Josh Hartnett and Elijah Wood when you need them ?<br /><br />And the last word on this being a TWISTER clone ..... Yes NOTT was released a couple of months before TWISTER but TWISTER had been hyped for several months as being the Summer blockbuster of 1996 and NOTT has a rushed feeling to it which leads me to believe that it was made and released to tie in with the hype surrounding TWISTER'\n",
            " b\"This was my second time watching the film (via the French-language version as opposed to the first, which was dubbed in Italian) and I feel that it improves on subsequent viewings.<br /><br />A compelling if slowly built-up character study that's beautifully shot and with the Parisian settings being equally impressive. In the long run, it's not top-grade Polanski and I would rank it at number 9 in his filmography but it's still a confident mix of subtle chills and, surprisingly, often broad comedy. It also features a fine cast, all of whom are in good form, but especially Isabelle Adjani, Melvyn Douglas and Jo Van Fleet.<br /><br />Even so, I'm a bit baffled by the sudden compulsion for Trelkovsky to 'change' into the previous tenant; apart from the owner of the caf\\xc3\\xa9 opposite the apartment building, where he is given whatever Simone used to have without asking him if he wished any different, there is little to indicate (as far as I could discern, anyway) that this is what everybody wanted of him! Okay, so he found Simone's belongings still lying in the apartment but what exactly drove him to wear her dresses and make himself up as her (even if he apparently started doing this unconsciously)? Following his nightmarish visions in the bathroom, the last section of the film (where Adjani all but disappears) is almost anti-climactic - especially the scene where the landlord and the other tenants witness his attempted suicide as if it were a night at the Opera, a concept which had already been used 46 years earlier by Jean Cocteau in THE BLOOD OF A POET (1930)!<br /><br />The ending, then, is at once predictable and unresolved: just what made the two occupants of this particular apartment jump out of the window?!; I remember this factor bugging me on first viewing as well, and I'm sorry to say it's no clearer now! Mind you, the film's first two-thirds are pretty solid but I wish that Polanski had been less reliant on obscure plot points throughout.\"\n",
            " b\"The Brain That Wouldn't Die is one awful piece of film that stinks from the opening credits. It's got all the classic signs of being bad: unbelieveable plotline, terrible acting, low-grade sets and lighting. The plotline goes like this: When a doctor and his fiancee get caught in an accident, she gets decapitated and he picks up her head and takes her to his lab, where he sets up her head in a pan with some special liquid that keeps it alive. I'll bet Virgnina Leath, who played the head in a pan had to spend a lot of uncomfortable time wearing that pan around her neck and squatting under a table. Anyway, the doctor then tries to find her a new body, and hires two strippers so she can chose one to have her new body. Bad all the way through, so bad it was torn to pieces on Mystery Science Theater 3000.\"]\n",
            "\n",
            "labels:  [0 1 0]\n"
          ],
          "name": "stdout"
        }
      ]
    },
    {
      "cell_type": "markdown",
      "metadata": {
        "id": "gwNyZiKnWoiN"
      },
      "source": [
        "## **Create the text encoder**\n",
        "\n",
        "The raw text loaded bf `tfds` need to be processed before it can be used in a model. The simplest way to process text for training is using the `experimental.preprocessing.TextVectorization` layer. This has many capabilities, but in this sticks to the default behavior.\n",
        "\n",
        "Create the layer, and pass the dataset's text to the layer's `.adapt` method:"
      ]
    },
    {
      "cell_type": "code",
      "metadata": {
        "id": "0hOgR1nwWf5F"
      },
      "source": [
        "VOCAB_SIZE = 1000\n",
        "encoder = tf.keras.layers.experimental.preprocessing.TextVectorization(\n",
        "    max_tokens=VOCAB_SIZE)\n",
        "encoder.adapt(train_dataset.map(lambda text, label: text))"
      ],
      "execution_count": 8,
      "outputs": []
    },
    {
      "cell_type": "markdown",
      "metadata": {
        "id": "A2PRTLdtYWVf"
      },
      "source": [
        "The `.adapt` method sets the layer's vocabulary. Here are the first 20 tokens. after the padding and unknown tokens they're sorted by frequency:"
      ]
    },
    {
      "cell_type": "code",
      "metadata": {
        "colab": {
          "base_uri": "https://localhost:8080/"
        },
        "id": "-Z0UUILzYUSH",
        "outputId": "e8f33a1a-9318-44b2-99ba-ab5edae5f72e"
      },
      "source": [
        "vocab = np.array(encoder.get_vocabulary())\n",
        "vocab[:20]"
      ],
      "execution_count": 9,
      "outputs": [
        {
          "output_type": "execute_result",
          "data": {
            "text/plain": [
              "array(['', '[UNK]', 'the', 'and', 'a', 'of', 'to', 'is', 'in', 'it', 'i',\n",
              "       'this', 'that', 'br', 'was', 'as', 'for', 'with', 'movie', 'but'],\n",
              "      dtype='<U14')"
            ]
          },
          "metadata": {
            "tags": []
          },
          "execution_count": 9
        }
      ]
    },
    {
      "cell_type": "markdown",
      "metadata": {
        "id": "1BK-_owcY-eG"
      },
      "source": [
        "Once the vocabulary is set, the layer can encode text into indices. The tensors of indices are 0-padded to the longest sequence in the batch (unless you set a fixed `output_sequence_length`):"
      ]
    },
    {
      "cell_type": "code",
      "metadata": {
        "colab": {
          "base_uri": "https://localhost:8080/"
        },
        "id": "emd1LZLRY7YY",
        "outputId": "939b75d8-b849-44c5-fae6-9afb3c213485"
      },
      "source": [
        "encoded_example = encoder(example[:3].numpy())\n",
        "encoded_example"
      ],
      "execution_count": 10,
      "outputs": [
        {
          "output_type": "execute_result",
          "data": {
            "text/plain": [
              "<tf.Tensor: shape=(3, 339), dtype=int64, numpy=\n",
              "array([[ 16,  47, 661, ...,   0,   0,   0],\n",
              "       [ 11,  14,  56, ..., 114, 749, 461],\n",
              "       [  2,   1,  12, ...,   0,   0,   0]])>"
            ]
          },
          "metadata": {
            "tags": []
          },
          "execution_count": 10
        }
      ]
    },
    {
      "cell_type": "markdown",
      "metadata": {
        "id": "nk_uk1kwZy0t"
      },
      "source": [
        "With the default settings, the process is not completely reversible. There are two main reasons for that:\n",
        "\n",
        "*  The default value for `preprocessing.TextVectorization's` `standardize` argument is `\"lower_and_strip_punctuation\"`.\n",
        "*  The limited vocabulary size and lack of character-based fallback result in some unknown tokens."
      ]
    },
    {
      "cell_type": "code",
      "metadata": {
        "colab": {
          "base_uri": "https://localhost:8080/"
        },
        "id": "CwD4vDkjZt3K",
        "outputId": "f8f0d5df-2da7-4111-a5d9-da36e6ea4b23"
      },
      "source": [
        "for n in range(3):\n",
        "  print(\"Original: \", example[n].numpy())\n",
        "  print(\"Round-trip: \", \" \".join(vocab[encoded_example[n]]))\n",
        "  print()"
      ],
      "execution_count": 11,
      "outputs": [
        {
          "output_type": "stream",
          "text": [
            "Original:  b'For some strange reason the film world is driven by fashion . Someone makes a film about a killer shark then all of a sudden the film world`s oceans are awash with giant Squids , killer octopusses and sea monsters of every ilk . A man is stalked by an erstwhile lover from hell then every film character is stalked by a cop from hell or a flatmate from hell or a babysitter from hell . Then when a major Hollywood company produces a big budget FX laden blockbuster about tornados then other film producers jump upon the bandwagon , the fact that they don`t have the budget to pull it off doesn`t stop them. NIGHT OF THE TWISTERS is a case in point . What struck me about this made for television film is the fact that it tries to hide its lack of budget by cutting to the ad breaks . Everytime a tornado appears the camara locks onto the horrified expression of the actors as they scream things like \" Oh my gawd it`s heading this way \" and \" Run for your lives \" then the screen fades to black saving the producers the need to up the special effects budget . Unfortunately NIGHT OF THE TWISTERS budget should have been upped to include better actors . The cast are by no means bad but they are unimpressive and lack the skill to carry a film which is character driven . Where`s Josh Hartnett and Elijah Wood when you need them ?<br /><br />And the last word on this being a TWISTER clone ..... Yes NOTT was released a couple of months before TWISTER but TWISTER had been hyped for several months as being the Summer blockbuster of 1996 and NOTT has a rushed feeling to it which leads me to believe that it was made and released to tie in with the hype surrounding TWISTER'\n",
            "Round-trip:  for some strange reason the film world is [UNK] by [UNK] someone makes a film about a killer [UNK] then all of a [UNK] the film [UNK] [UNK] are [UNK] with [UNK] [UNK] killer [UNK] and [UNK] [UNK] of every [UNK] a man is [UNK] by an [UNK] [UNK] from hell then every film character is [UNK] by a [UNK] from hell or a [UNK] from hell or a [UNK] from hell then when a major hollywood [UNK] [UNK] a big budget [UNK] [UNK] [UNK] about [UNK] then other film [UNK] [UNK] upon the [UNK] the fact that they dont have the budget to [UNK] it off doesnt stop them night of the [UNK] is a case in point what [UNK] me about this made for television film is the fact that it tries to [UNK] its lack of budget by [UNK] to the [UNK] [UNK] [UNK] a [UNK] appears the [UNK] [UNK] [UNK] the [UNK] [UNK] of the actors as they [UNK] things like oh my [UNK] its [UNK] this way and run for your lives then the screen [UNK] to black [UNK] the [UNK] the need to up the special effects budget unfortunately night of the [UNK] budget should have been [UNK] to [UNK] better actors the cast are by no means bad but they are [UNK] and lack the [UNK] to [UNK] a film which is character [UNK] [UNK] [UNK] [UNK] and [UNK] [UNK] when you need them br br and the last word on this being a [UNK] [UNK] yes [UNK] was released a couple of [UNK] before [UNK] but [UNK] had been [UNK] for several [UNK] as being the [UNK] [UNK] of [UNK] and [UNK] has a [UNK] feeling to it which leads me to believe that it was made and released to [UNK] in with the [UNK] [UNK] [UNK]                                  \n",
            "\n",
            "Original:  b\"This was my second time watching the film (via the French-language version as opposed to the first, which was dubbed in Italian) and I feel that it improves on subsequent viewings.<br /><br />A compelling if slowly built-up character study that's beautifully shot and with the Parisian settings being equally impressive. In the long run, it's not top-grade Polanski and I would rank it at number 9 in his filmography but it's still a confident mix of subtle chills and, surprisingly, often broad comedy. It also features a fine cast, all of whom are in good form, but especially Isabelle Adjani, Melvyn Douglas and Jo Van Fleet.<br /><br />Even so, I'm a bit baffled by the sudden compulsion for Trelkovsky to 'change' into the previous tenant; apart from the owner of the caf\\xc3\\xa9 opposite the apartment building, where he is given whatever Simone used to have without asking him if he wished any different, there is little to indicate (as far as I could discern, anyway) that this is what everybody wanted of him! Okay, so he found Simone's belongings still lying in the apartment but what exactly drove him to wear her dresses and make himself up as her (even if he apparently started doing this unconsciously)? Following his nightmarish visions in the bathroom, the last section of the film (where Adjani all but disappears) is almost anti-climactic - especially the scene where the landlord and the other tenants witness his attempted suicide as if it were a night at the Opera, a concept which had already been used 46 years earlier by Jean Cocteau in THE BLOOD OF A POET (1930)!<br /><br />The ending, then, is at once predictable and unresolved: just what made the two occupants of this particular apartment jump out of the window?!; I remember this factor bugging me on first viewing as well, and I'm sorry to say it's no clearer now! Mind you, the film's first two-thirds are pretty solid but I wish that Polanski had been less reliant on obscure plot points throughout.\"\n",
            "Round-trip:  this was my second time watching the film [UNK] the [UNK] version as [UNK] to the first which was [UNK] in [UNK] and i feel that it [UNK] on [UNK] [UNK] br a [UNK] if [UNK] [UNK] character [UNK] thats [UNK] shot and with the [UNK] [UNK] being [UNK] [UNK] in the long run its not [UNK] [UNK] and i would [UNK] it at number [UNK] in his [UNK] but its still a [UNK] [UNK] of [UNK] [UNK] and [UNK] often [UNK] comedy it also features a fine cast all of whom are in good form but especially [UNK] [UNK] [UNK] [UNK] and [UNK] [UNK] [UNK] br even so im a bit [UNK] by the [UNK] [UNK] for [UNK] to change into the previous [UNK] apart from the [UNK] of the [UNK] [UNK] the [UNK] [UNK] where he is given whatever [UNK] used to have without [UNK] him if he [UNK] any different there is little to [UNK] as far as i could [UNK] anyway that this is what [UNK] wanted of him okay so he found [UNK] [UNK] still [UNK] in the [UNK] but what exactly [UNK] him to [UNK] her [UNK] and make himself up as her even if he apparently started doing this [UNK] [UNK] his [UNK] [UNK] in the [UNK] the last [UNK] of the film where [UNK] all but [UNK] is almost [UNK] especially the scene where the [UNK] and the other [UNK] [UNK] his [UNK] [UNK] as if it were a night at the [UNK] a [UNK] which had already been used [UNK] years earlier by [UNK] [UNK] in the blood of a [UNK] [UNK] br the ending then is at once predictable and [UNK] just what made the two [UNK] of this particular [UNK] [UNK] out of the [UNK] i remember this [UNK] [UNK] me on first viewing as well and im sorry to say its no [UNK] now mind you the films first [UNK] are pretty [UNK] but i wish that [UNK] had been less [UNK] on [UNK] plot points throughout\n",
            "\n",
            "Original:  b\"The Brain That Wouldn't Die is one awful piece of film that stinks from the opening credits. It's got all the classic signs of being bad: unbelieveable plotline, terrible acting, low-grade sets and lighting. The plotline goes like this: When a doctor and his fiancee get caught in an accident, she gets decapitated and he picks up her head and takes her to his lab, where he sets up her head in a pan with some special liquid that keeps it alive. I'll bet Virgnina Leath, who played the head in a pan had to spend a lot of uncomfortable time wearing that pan around her neck and squatting under a table. Anyway, the doctor then tries to find her a new body, and hires two strippers so she can chose one to have her new body. Bad all the way through, so bad it was torn to pieces on Mystery Science Theater 3000.\"\n",
            "Round-trip:  the [UNK] that wouldnt die is one awful piece of film that [UNK] from the opening credits its got all the classic [UNK] of being bad [UNK] [UNK] terrible acting [UNK] sets and [UNK] the [UNK] goes like this when a [UNK] and his [UNK] get [UNK] in an [UNK] she gets [UNK] and he [UNK] up her head and takes her to his [UNK] where he sets up her head in a [UNK] with some special [UNK] that keeps it [UNK] ill [UNK] [UNK] [UNK] who played the head in a [UNK] had to [UNK] a lot of [UNK] time [UNK] that [UNK] around her [UNK] and [UNK] under a [UNK] anyway the [UNK] then tries to find her a new body and [UNK] two [UNK] so she can [UNK] one to have her new body bad all the way through so bad it was [UNK] to [UNK] on mystery [UNK] theater [UNK]                                                                                                                                                                                         \n",
            "\n"
          ],
          "name": "stdout"
        }
      ]
    },
    {
      "cell_type": "markdown",
      "metadata": {
        "id": "DqdmbMh6bPKl"
      },
      "source": [
        "## **Create the model**\n",
        "\n",
        "![A drawing of the information flow in the model](https://www.tensorflow.org/text/tutorials/images/bidirectional.png)\n",
        "\n",
        "Above is a diagram of the model.\n",
        "\n",
        "1.  This model can be build as `tf.keras.Sequential`.\n",
        "2.  The first is the `encoder`, which convert the text to a sequence of token indices.\n",
        "3.  After the encoder is an embedding layer. An embedding layer stores one vector per word. When called, it converts the sequences of word indices to sequence of vectors. These vector are trainable. After training (on enough data), Words with similar meanings often have similar vectors.\n",
        "\n",
        ">  This index-lookup is much more efficient than the euivalent operation of passing a one-hot encoded vector through a `tf.keras,layers.Dense` layer.\n",
        "\n",
        "> *  The main advantage of a bidirectional RNN is that the single from the beginning of the input doen't need to be processed all the way through every timestep to affect the output.\n",
        "\n",
        "> *  The main disadvantage of a bidirectional RNN is that you can't efficiently stream predictions as words are being added to the end.\n",
        "\n",
        "5.  After the RNN has converted the sequence to a single vector the two `layers.Dense` do some final processing, and convert from this vector representation to a single logit as the classification output.\n",
        "\n",
        "The code to implement this is below:\n"
      ]
    },
    {
      "cell_type": "code",
      "metadata": {
        "id": "_dHYplnwbLDj"
      },
      "source": [
        "model = tf.keras.Sequential([\n",
        "    encoder,\n",
        "    tf.keras.layers.Embedding(\n",
        "        input_dim = len(encoder.get_vocabulary()),\n",
        "        output_dim = 64,\n",
        "        mask_zero=True),\n",
        "    tf.keras.layers.Bidirectional(tf.keras.layers.LSTM(64)),\n",
        "    tf.keras.layers.Dense(64, activation='relu'),\n",
        "    tf.keras.layers.Dense(1)\n",
        "])"
      ],
      "execution_count": 12,
      "outputs": []
    },
    {
      "cell_type": "markdown",
      "metadata": {
        "id": "95HB0sdfepj_"
      },
      "source": [
        "  Please note that Keras sequential model is used here since all the layer in the model only have single input and produce single output. In case you want to use stateful RNN layer, you might want to build your model with Keras function API or model subclassing so that you can retrieve and reuse the RNN layer state. Please check [Keras RNN guide](https://www.tensorflow.org/guide/keras/rnn#rnn_state_reuse) for more details.\n",
        "\n",
        "The embedding layer [uses masking](https://www.tensorflow.org/guide/keras/masking_and_padding) to handle the varying sequence-lengths. All the layers after the `Embedding` support masking:"
      ]
    },
    {
      "cell_type": "code",
      "metadata": {
        "colab": {
          "base_uri": "https://localhost:8080/"
        },
        "id": "bcCp3CSiej0i",
        "outputId": "59fb66c2-fd97-4978-d070-80a2f21a47c0"
      },
      "source": [
        "print([layer.supports_masking for layer in model.layers])"
      ],
      "execution_count": 13,
      "outputs": [
        {
          "output_type": "stream",
          "text": [
            "[False, True, True, True, True]\n"
          ],
          "name": "stdout"
        }
      ]
    },
    {
      "cell_type": "markdown",
      "metadata": {
        "id": "0wMl51oqgk53"
      },
      "source": [
        "To confirm that this works as expected, evaluate a sentence twice. First, alone so there's no padding to mask:"
      ]
    },
    {
      "cell_type": "code",
      "metadata": {
        "colab": {
          "base_uri": "https://localhost:8080/"
        },
        "id": "4ES4yy5HgjWk",
        "outputId": "dbc00dea-0fa0-4de6-8bd2-7b6d28db085b"
      },
      "source": [
        "# Predict on a sample text without padding\n",
        "\n",
        "sample_text = ('The movie was cool. the animation and the graphics'\n",
        "               'were out of this world. I would recommend this movie.')\n",
        "predictions = model.predict(np.array([sample_text]))\n",
        "print(predictions)"
      ],
      "execution_count": 14,
      "outputs": [
        {
          "output_type": "stream",
          "text": [
            "[[-0.01019477]]\n"
          ],
          "name": "stdout"
        }
      ]
    },
    {
      "cell_type": "markdown",
      "metadata": {
        "id": "G0CbmNvtjbgt"
      },
      "source": [
        "Now, evaluate it again in a batch with a longer sentence. The result should be identical:"
      ]
    },
    {
      "cell_type": "code",
      "metadata": {
        "colab": {
          "base_uri": "https://localhost:8080/"
        },
        "id": "Nme1X_uzjDFE",
        "outputId": "93a57352-aa52-4aba-dcbd-ce73b9b493c3"
      },
      "source": [
        "# Predict on a sample text with padding\n",
        "\n",
        "padding = \"the \" * 2000\n",
        "predictions = model.predict(np.array([sample_text, padding]))\n",
        "print(predictions)"
      ],
      "execution_count": 15,
      "outputs": [
        {
          "output_type": "stream",
          "text": [
            "[[-0.01019477]\n",
            " [-0.04811942]]\n"
          ],
          "name": "stdout"
        }
      ]
    },
    {
      "cell_type": "markdown",
      "metadata": {
        "id": "iH0CrVf5hk8B"
      },
      "source": [
        "Compile the Keras model to configure the training process:"
      ]
    },
    {
      "cell_type": "code",
      "metadata": {
        "id": "jtp8MyNhhXnr"
      },
      "source": [
        "model.compile(loss=tf.keras.losses.BinaryCrossentropy(from_logits=True),\n",
        "              optimizer=tf.keras.optimizers.Adam(1e-4),\n",
        "              metrics=['accuracy'])"
      ],
      "execution_count": 16,
      "outputs": []
    },
    {
      "cell_type": "markdown",
      "metadata": {
        "id": "xHCopuOeiF3t"
      },
      "source": [
        "## **Train the model**"
      ]
    },
    {
      "cell_type": "code",
      "metadata": {
        "colab": {
          "base_uri": "https://localhost:8080/"
        },
        "id": "56lzLG_CiDje",
        "outputId": "d0aeca87-a60f-4c04-c099-f0ebbe6b5f4b"
      },
      "source": [
        "history = model.fit(train_dataset, epochs=10,\n",
        "                    validation_data=test_dataset,\n",
        "                    validation_steps=3)"
      ],
      "execution_count": 16,
      "outputs": [
        {
          "output_type": "stream",
          "text": [
            "Epoch 1/10\n",
            "391/391 [==============================] - 701s 2s/step - loss: 0.6355 - accuracy: 0.5719 - val_loss: 0.5013 - val_accuracy: 0.7083\n",
            "Epoch 2/10\n",
            "391/391 [==============================] - 689s 2s/step - loss: 0.3840 - accuracy: 0.8244 - val_loss: 0.4269 - val_accuracy: 0.7760\n",
            "Epoch 3/10\n",
            "391/391 [==============================] - 699s 2s/step - loss: 0.3317 - accuracy: 0.8540 - val_loss: 0.4076 - val_accuracy: 0.7812\n",
            "Epoch 4/10\n",
            "391/391 [==============================] - 692s 2s/step - loss: 0.3196 - accuracy: 0.8613 - val_loss: 0.3962 - val_accuracy: 0.7917\n",
            "Epoch 5/10\n",
            "391/391 [==============================] - 688s 2s/step - loss: 0.3111 - accuracy: 0.8645 - val_loss: 0.3873 - val_accuracy: 0.8073\n",
            "Epoch 6/10\n",
            "391/391 [==============================] - 693s 2s/step - loss: 0.3053 - accuracy: 0.8667 - val_loss: 0.3843 - val_accuracy: 0.8073\n",
            "Epoch 7/10\n",
            "391/391 [==============================] - 690s 2s/step - loss: 0.3062 - accuracy: 0.8682 - val_loss: 0.3829 - val_accuracy: 0.8073\n",
            "Epoch 8/10\n",
            "391/391 [==============================] - 686s 2s/step - loss: 0.3023 - accuracy: 0.8699 - val_loss: 0.3832 - val_accuracy: 0.8177\n",
            "Epoch 9/10\n",
            "391/391 [==============================] - 693s 2s/step - loss: 0.2985 - accuracy: 0.8710 - val_loss: 0.3808 - val_accuracy: 0.8125\n",
            "Epoch 10/10\n",
            "391/391 [==============================] - 684s 2s/step - loss: 0.2986 - accuracy: 0.8726 - val_loss: 0.3777 - val_accuracy: 0.8125\n"
          ],
          "name": "stdout"
        }
      ]
    },
    {
      "cell_type": "code",
      "metadata": {
        "id": "pyOOc1BjiZKG",
        "colab": {
          "base_uri": "https://localhost:8080/"
        },
        "outputId": "cd567f84-7839-434e-ff9d-64706dce77a1"
      },
      "source": [
        "test_loss, test_acc = model.evaluate(test_dataset)\n",
        "\n",
        "print('Test Loss: ', test_loss)\n",
        "print('Test Accuracy: ', test_acc)"
      ],
      "execution_count": 17,
      "outputs": [
        {
          "output_type": "stream",
          "text": [
            "391/391 [==============================] - 156s 388ms/step - loss: 0.6932 - accuracy: 0.5000\n",
            "Test Loss:  0.6931896209716797\n",
            "Test Accuracy:  0.5\n"
          ],
          "name": "stdout"
        }
      ]
    },
    {
      "cell_type": "code",
      "metadata": {
        "colab": {
          "base_uri": "https://localhost:8080/",
          "height": 710
        },
        "id": "tKt3Rnsl0HAc",
        "outputId": "7829241c-1070-46c7-d921-370ddef90130"
      },
      "source": [
        "plt.figure(figsize=(16, 8))\n",
        "plt.subplot(1, 2, 1)\n",
        "plot_graphs(history, 'accuracy')\n",
        "plt.ylim(None, 1)\n",
        "plt.subplot(1, 2, 2)\n",
        "plot_graphs(history, 'loss')\n",
        "plt.ylim(0, None)"
      ],
      "execution_count": 19,
      "outputs": [
        {
          "output_type": "error",
          "ename": "NameError",
          "evalue": "ignored",
          "traceback": [
            "\u001b[0;31m---------------------------------------------------------------------------\u001b[0m",
            "\u001b[0;31mNameError\u001b[0m                                 Traceback (most recent call last)",
            "\u001b[0;32m<ipython-input-19-bbddbdf6a590>\u001b[0m in \u001b[0;36m<module>\u001b[0;34m()\u001b[0m\n\u001b[1;32m      1\u001b[0m \u001b[0mplt\u001b[0m\u001b[0;34m.\u001b[0m\u001b[0mfigure\u001b[0m\u001b[0;34m(\u001b[0m\u001b[0mfigsize\u001b[0m\u001b[0;34m=\u001b[0m\u001b[0;34m(\u001b[0m\u001b[0;36m16\u001b[0m\u001b[0;34m,\u001b[0m \u001b[0;36m8\u001b[0m\u001b[0;34m)\u001b[0m\u001b[0;34m)\u001b[0m\u001b[0;34m\u001b[0m\u001b[0;34m\u001b[0m\u001b[0m\n\u001b[1;32m      2\u001b[0m \u001b[0mplt\u001b[0m\u001b[0;34m.\u001b[0m\u001b[0msubplot\u001b[0m\u001b[0;34m(\u001b[0m\u001b[0;36m1\u001b[0m\u001b[0;34m,\u001b[0m \u001b[0;36m2\u001b[0m\u001b[0;34m,\u001b[0m \u001b[0;36m1\u001b[0m\u001b[0;34m)\u001b[0m\u001b[0;34m\u001b[0m\u001b[0;34m\u001b[0m\u001b[0m\n\u001b[0;32m----> 3\u001b[0;31m \u001b[0mplot_graphs\u001b[0m\u001b[0;34m(\u001b[0m\u001b[0mhistory\u001b[0m\u001b[0;34m,\u001b[0m \u001b[0;34m'accuracy'\u001b[0m\u001b[0;34m)\u001b[0m\u001b[0;34m\u001b[0m\u001b[0;34m\u001b[0m\u001b[0m\n\u001b[0m\u001b[1;32m      4\u001b[0m \u001b[0mplt\u001b[0m\u001b[0;34m.\u001b[0m\u001b[0mylim\u001b[0m\u001b[0;34m(\u001b[0m\u001b[0;32mNone\u001b[0m\u001b[0;34m,\u001b[0m \u001b[0;36m1\u001b[0m\u001b[0;34m)\u001b[0m\u001b[0;34m\u001b[0m\u001b[0;34m\u001b[0m\u001b[0m\n\u001b[1;32m      5\u001b[0m \u001b[0mplt\u001b[0m\u001b[0;34m.\u001b[0m\u001b[0msubplot\u001b[0m\u001b[0;34m(\u001b[0m\u001b[0;36m1\u001b[0m\u001b[0;34m,\u001b[0m \u001b[0;36m2\u001b[0m\u001b[0;34m,\u001b[0m \u001b[0;36m2\u001b[0m\u001b[0;34m)\u001b[0m\u001b[0;34m\u001b[0m\u001b[0;34m\u001b[0m\u001b[0m\n",
            "\u001b[0;31mNameError\u001b[0m: name 'history' is not defined"
          ]
        },
        {
          "output_type": "display_data",
          "data": {
            "image/png": "[encoded data removed]",
            "text/plain": [
              "<Figure size 1152x576 with 1 Axes>"
            ]
          },
          "metadata": {
            "tags": [],
            "needs_background": "light"
          }
        }
      ]
    },
    {
      "cell_type": "markdown",
      "metadata": {
        "id": "RaDPTnP1QJKs"
      },
      "source": [
        "Run a prediction on a new sentence:\n",
        "\n",
        "If the prediction is >= 0.0, it is positive else it is negative."
      ]
    },
    {
      "cell_type": "code",
      "metadata": {
        "id": "ni4TSXt9QZOM",
        "colab": {
          "base_uri": "https://localhost:8080/"
        },
        "outputId": "b4bf3e66-05cd-4c4d-8c6c-bdc4565f0674"
      },
      "source": [
        "sample_text = ('The movie was cool. The animation and graphics'\n",
        "               'were out of this world. I would recommend this movie.')\n",
        "\n",
        "predictions = model.predict(np.array([sample_text]))\n",
        "print(predictions[0])\n"
      ],
      "execution_count": 20,
      "outputs": [
        {
          "output_type": "stream",
          "text": [
            "[-0.0083308]\n"
          ],
          "name": "stdout"
        }
      ]
    },
    {
      "cell_type": "markdown",
      "metadata": {
        "id": "Tv5YHfU4RFEY"
      },
      "source": [
        "## **Stack two or more LSTM layers**\n",
        "\n",
        "Keras recurrent layers have two available modes that are controlled by the `return_sequences` constructor argument:\n",
        "\n",
        "*  If `Flase` it returns only the last output for each input sequence (a 2D tensor of shape `(batch_size, output_features)`). This is the default, used in the previous model.\n",
        "\n",
        "*  If `True` the full sequences of successive outputs for each timestep is returned (a 3D tensor of shape `(batch_size, timesteps, output_feautre)`).\n",
        "\n",
        "Here is what the flow of information looks like with `return_sequences=True`\n",
        "\n",
        "![layered_bidirectional](https://www.tensorflow.org/text/tutorials/images/layered_bidirectional.png)\n",
        "\n",
        "The intresting thing about using an `RNN` with `return_sequences=True` is that the output still has 3-axes, like the input, so it can be passed to another RNN layer, like this: \n"
      ]
    },
    {
      "cell_type": "code",
      "metadata": {
        "id": "chCu7mQBQ9YJ"
      },
      "source": [
        "model = tf.keras.Sequential([\n",
        "    encoder,\n",
        "    tf.keras.layers.Embedding(len(encoder.get_vocabulary()), 64, mask_zero=True),\n",
        "    tf.keras.layers.Bidirectional(tf.keras.layers.LSTM(64, return_sequences=True)),\n",
        "    tf.keras.layers.Bidirectional(tf.keras.layers.LSTM(32)),\n",
        "    tf.keras.layers.Dense(64, activation='relu'),\n",
        "    tf.keras.layers.Dropout(0.5),\n",
        "    tf.keras.layers.Dense(1)\n",
        "])"
      ],
      "execution_count": 21,
      "outputs": []
    },
    {
      "cell_type": "code",
      "metadata": {
        "id": "68Ny1tNycy97"
      },
      "source": [
        "model.compile(loss=tf.keras.losses.BinaryCrossentropy(from_logits=True),\n",
        "              optimizer=tf.keras.optimizers.Adam(1e-4),\n",
        "              metrics=['accuracy'])"
      ],
      "execution_count": 22,
      "outputs": []
    },
    {
      "cell_type": "code",
      "metadata": {
        "colab": {
          "base_uri": "https://localhost:8080/"
        },
        "id": "RUPStuQ1dT14",
        "outputId": "49e04ca8-b9db-4abb-9a3f-01720ab0f0f7"
      },
      "source": [
        "history = model.fit(train_dataset, epochs=10,\n",
        "                    validation_data=test_dataset,\n",
        "                    validation_steps=30)"
      ],
      "execution_count": 23,
      "outputs": [
        {
          "output_type": "stream",
          "text": [
            "Epoch 1/10\n",
            "391/391 [==============================] - 1313s 3s/step - loss: 0.5931 - accuracy: 0.6245 - val_loss: 0.4304 - val_accuracy: 0.7828\n",
            "Epoch 2/10\n",
            "391/391 [==============================] - 1280s 3s/step - loss: 0.3708 - accuracy: 0.8385 - val_loss: 0.3498 - val_accuracy: 0.8365\n",
            "Epoch 3/10\n",
            "391/391 [==============================] - 1270s 3s/step - loss: 0.3289 - accuracy: 0.8616 - val_loss: 0.3386 - val_accuracy: 0.8615\n",
            "Epoch 4/10\n",
            "391/391 [==============================] - 1273s 3s/step - loss: 0.3173 - accuracy: 0.8645 - val_loss: 0.3329 - val_accuracy: 0.8667\n",
            "Epoch 5/10\n",
            "391/391 [==============================] - 1265s 3s/step - loss: 0.3145 - accuracy: 0.8642 - val_loss: 0.3190 - val_accuracy: 0.8589\n",
            "Epoch 6/10\n",
            "391/391 [==============================] - 1285s 3s/step - loss: 0.3073 - accuracy: 0.8699 - val_loss: 0.3251 - val_accuracy: 0.8651\n",
            "Epoch 7/10\n",
            "391/391 [==============================] - 1270s 3s/step - loss: 0.3037 - accuracy: 0.8704 - val_loss: 0.3181 - val_accuracy: 0.8651\n",
            "Epoch 8/10\n",
            "391/391 [==============================] - 1271s 3s/step - loss: 0.3030 - accuracy: 0.8705 - val_loss: 0.3214 - val_accuracy: 0.8589\n",
            "Epoch 9/10\n",
            "391/391 [==============================] - 1270s 3s/step - loss: 0.2965 - accuracy: 0.8725 - val_loss: 0.3287 - val_accuracy: 0.8500\n",
            "Epoch 10/10\n",
            "391/391 [==============================] - 1261s 3s/step - loss: 0.2968 - accuracy: 0.8729 - val_loss: 0.3284 - val_accuracy: 0.8562\n"
          ],
          "name": "stdout"
        }
      ]
    },
    {
      "cell_type": "code",
      "metadata": {
        "colab": {
          "base_uri": "https://localhost:8080/"
        },
        "id": "wZrMqZYsdnyQ",
        "outputId": "6018be2d-c1a0-4bf4-b254-f14b4563ba1b"
      },
      "source": [
        "test_loss, test_acc = model.evaluate(test_dataset)\n",
        "\n",
        "print('Test Loss: ', test_loss)\n",
        "print('Test Accuracy: ', test_acc)"
      ],
      "execution_count": 24,
      "outputs": [
        {
          "output_type": "stream",
          "text": [
            "391/391 [==============================] - 279s 713ms/step - loss: 0.3248 - accuracy: 0.8620\n",
            "Test Loss:  0.32478925585746765\n",
            "Test Accuracy:  0.8620399832725525\n"
          ],
          "name": "stdout"
        }
      ]
    },
    {
      "cell_type": "code",
      "metadata": {
        "colab": {
          "base_uri": "https://localhost:8080/"
        },
        "id": "QKb3nZC_d6u8",
        "outputId": "3184b41a-caae-4c09-c11b-08758628a9c2"
      },
      "source": [
        "# Predict on a sample text without padding.\n",
        "\n",
        "sample_text = ('The movie was not good. The animation and the graphics'\n",
        "               'were terrible. I would not recommend this movie.')\n",
        "predictions = model.predict(np.array([sample_text]))\n",
        "print(predictions)"
      ],
      "execution_count": 25,
      "outputs": [
        {
          "output_type": "stream",
          "text": [
            "[[-1.8099976]]\n"
          ],
          "name": "stdout"
        }
      ]
    },
    {
      "cell_type": "code",
      "metadata": {
        "colab": {
          "base_uri": "https://localhost:8080/"
        },
        "id": "32QWPAmAfb7M",
        "outputId": "640eed96-8bea-4baf-e551-bf6e8d0764a5"
      },
      "source": [
        "sample_text = ('The movie was good. The animation and graphics'\n",
        "               'were out of this world. I would recommend this movie.')\n",
        "\n",
        "predictions = model.predict(np.array([sample_text]))\n",
        "print(predictions)\n"
      ],
      "execution_count": 29,
      "outputs": [
        {
          "output_type": "stream",
          "text": [
            "[[0.49841073]]\n"
          ],
          "name": "stdout"
        }
      ]
    },
    {
      "cell_type": "code",
      "metadata": {
        "colab": {
          "base_uri": "https://localhost:8080/",
          "height": 269
        },
        "id": "Mms6QH-UeeLE",
        "outputId": "b9a67b8e-37aa-4cd5-9cd0-88c83639702e"
      },
      "source": [
        "plt.figure(figsize=(16, 6))\n",
        "plt.subplot(1, 2, 1)\n",
        "plot_graphs(history, 'accuracy')\n",
        "plt.subplot(1, 2, 2)\n",
        "plot_graphs(history, 'loss')"
      ],
      "execution_count": 28,
      "outputs": [
        {
          "output_type": "display_data",
          "data": {
            "image/png": "[encoded data removed]",
            "text/plain": [
              "<Figure size 1152x432 with 2 Axes>"
            ]
          },
          "metadata": {
            "tags": [],
            "needs_background": "light"
          }
        }
      ]
    },
    {
      "cell_type": "markdown",
      "metadata": {
        "id": "wW2FFV_aex_S"
      },
      "source": [
        "Check out other existing recurrect layer such as [GRU layers](https://www.tensorflow.org/api_docs/python/tf/keras/layers/GRU).\n",
        "\n",
        "If you're intrestied in building custom RNNs, see the [Keras RNN Guide](https://www.tensorflow.org/guide/keras/rnn)."
      ]
    }
  ]
}