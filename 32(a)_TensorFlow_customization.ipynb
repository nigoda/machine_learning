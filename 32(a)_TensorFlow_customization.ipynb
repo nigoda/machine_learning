{
  "nbformat": 4,
  "nbformat_minor": 0,
  "metadata": {
    "colab": {
      "name": "32(a)_TensorFlow_customization.ipynb",
      "provenance": [],
      "collapsed_sections": [],
      "authorship_tag": "ABX9TyODeVZcNOZzoPIar3koj6r5",
      "include_colab_link": true
    },
    "kernelspec": {
      "name": "python3",
      "display_name": "Python 3"
    },
    "language_info": {
      "name": "python"
    },
    "accelerator": "GPU"
  },
  "cells": [
    {
      "cell_type": "markdown",
      "metadata": {
        "id": "view-in-github",
        "colab_type": "text"
      },
      "source": [
        "<a href=\"https://colab.research.google.com/github/nigoda/machine_learning/blob/main/32(a)_TensorFlow_customization.ipynb\" target=\"_parent\"><img src=\"https://colab.research.google.com/assets/colab-badge.svg\" alt=\"Open In Colab\"/></a>"
      ]
    },
    {
      "cell_type": "markdown",
      "metadata": {
        "id": "nzd7YtM-xNk5"
      },
      "source": [
        "## **tf.keras**\n",
        "We have extensively used tf.Keras API throughout the course. Let's review main concepts behind tf.Keras before learning how to customize it.\n",
        "\n",
        "tf.keras is TensorFlow's implementation of the keras API specification. This ia a high-level model build and train models that include first-class support for TensorFlow functionality, such as eager execution, tf.data.pipelines,and Estimators. tf.keras makes TensorFlow easier to use without sacrificing flexibility and performance."
      ]
    },
    {
      "cell_type": "code",
      "metadata": {
        "id": "RroqKdEl63PF"
      },
      "source": [
        "#  Note: Select 'GPU' hardware accelerator\n",
        "\n",
        "from __future__ import absolute_import, division, print_function, unicode_literals\n",
        "\n",
        "try:\n",
        "  # %tensorflow_version only exists in Colab.\n",
        "  %tensorflow_version 2.x\n",
        "except Exception:\n",
        "  pass\n",
        "import tensorflow as tf\n",
        "\n",
        "# We need to import keras from tensorflow package.\n",
        "from tensorflow import keras"
      ],
      "execution_count": 1,
      "outputs": []
    },
    {
      "cell_type": "markdown",
      "metadata": {
        "id": "RlldZKvh05KW"
      },
      "source": [
        "`tf.keras` can run any Keras-compatible code, but keep in mind:\n",
        "*  The `tf.keras` version in the latest TensorFlow release might not be the same as the latest keras version from PyPI. Check `tf.keras.__version__.`\n",
        "*  When saving a model's weight, tf.keras defaults to the checkpoint format. Pass save_format='h5' to use HDF5(or pass a filename that ends in .h5)\n",
        "\n",
        "## **Build a simple model**\n",
        "### **Sequential model**\n",
        "In Keras, we assemble *layers* to build *models*. A model is (usually) a *graph of layers.* The most common type of model is a stack of layers: The tf.keras.Sequential model.\n",
        "\n",
        "To build a simple, fully-connected network (i.e. multi-layer perceptron) as we seen in numerous occassions in this course:\n"
      ]
    },
    {
      "cell_type": "code",
      "metadata": {
        "id": "SnhMSoyI02L4"
      },
      "source": [
        "from tensorflow.keras import layers\n",
        "\n",
        "model = tf.keras.Sequential()\n",
        "# Add a densely-connected layer with 64 units to the model:\n",
        "model.add(layers.Dense(64, activation='relu'))\n",
        "# Add another:\n",
        "model.add(layers.Dense(64, activation = 'relu'))\n",
        "# Add a softmax layer with 10 output units:\n",
        "model.add(layers.Dense(10, activation = 'softmax'))\n",
        "  "
      ],
      "execution_count": 2,
      "outputs": []
    },
    {
      "cell_type": "markdown",
      "metadata": {
        "id": "foDthdlG425t"
      },
      "source": [
        "We will learn how to learn how to write advance model by-\n",
        "*  Implementing layers and models from scratch with subclassing.\n",
        "*  Functional APIs\n",
        "\n",
        "## **Configure the layers**\n",
        "There are many `tf.keras.layers` available. Most of them share common constructor arguments:\n",
        "*  activation: Set the activation function for the layer. This parameter is specified by the name of a build-in function or as a collable object. By default, no activation is applied.\n",
        "*  kernel_initialize and bias_initializer: The initialization schemes that create the layer's weights (kernal and bias). This parameter is a name or a callable object. This defaults to the \"Glorot uniform\" initializer.\n",
        "*  kernel_regularizer and bias_regularizer: The regularization schemes that apply the layer's weigths (kernel and bias), such as L1 OR L2 regularization. By defualt, no regularization is applied.\n",
        "\n",
        "The following instantiates tf.keras.layers.Dense layer using constructor arguments:"
      ]
    },
    {
      "cell_type": "code",
      "metadata": {
        "colab": {
          "base_uri": "https://localhost:8080/"
        },
        "id": "dG2z3aoS4his",
        "outputId": "cad930be-abe3-4f47-9d47-9948b8a028b7"
      },
      "source": [
        "# Create a sigmoid layer:\n",
        "layers.Dense(64, activation='sigmoid')\n",
        "# Or:\n",
        "layers.Dense(64, activation=tf.keras.activations.sigmoid)\n",
        "\n",
        "# A linear layer with L1 regularization of factor 0.01 applied to the kernel matrix\n",
        "layers.Dense(64, kernel_regularizer=tf.keras.regularizers.l1(0.01))\n",
        "\n",
        "# A linear layer with L2 regularization of factor 0.01 applied to the bias vector:\n",
        "layers.Dense(64, bias_regularizer=tf.keras.regularizers.l2(0.01))\n",
        "\n",
        "# A linear layer with kernel initialized to a random orthogonal matrix:\n",
        "layers.Dense(64, kernel_initializer='orthogonal')\n",
        "\n",
        "# A linear layer with a bias vector initialized to 2.0s:\n",
        "layers.Dense(64, bias_initializer=tf.keras.initializers.Constant(2.0))\n"
      ],
      "execution_count": 3,
      "outputs": [
        {
          "output_type": "execute_result",
          "data": {
            "text/plain": [
              "<tensorflow.python.keras.layers.core.Dense at 0x7fec8d727790>"
            ]
          },
          "metadata": {
            "tags": []
          },
          "execution_count": 3
        }
      ]
    },
    {
      "cell_type": "markdown",
      "metadata": {
        "id": "q53CLzlE_rWA"
      },
      "source": [
        "## **Train and evaluate**\n",
        "\n",
        "### **Set up training**\n",
        "After the model is constructed, configure its learning process by calling the compile method:"
      ]
    },
    {
      "cell_type": "code",
      "metadata": {
        "id": "R5EPZ3ng9xZU"
      },
      "source": [
        "model = tf.keras.Sequential([\n",
        "  # Add a densely-connected layer with 64 units to the model:\n",
        "  layers.Dense(64, activation='relu', input_shape=(32,)),\n",
        "  # Add another:\n",
        "  layers.Dense(64, activation='relu'),\n",
        "  # Add a softmax layer with 10 output units:\n",
        "  layers.Dense(10, activation='softmax')])\n",
        "\n",
        "model.compile(optimizer=tf.keras.optimizers.Adam(0.01),\n",
        "              loss = 'categorical_crossentropy',\n",
        "              metrics=['accuracy'])"
      ],
      "execution_count": 4,
      "outputs": []
    },
    {
      "cell_type": "markdown",
      "metadata": {
        "id": "b0y0Y3KRD-vp"
      },
      "source": [
        "`tf.keras.Model.compile` takes three important arguments:\n",
        "*  optimizer : This object specifies the training procedure. Pass it optimizer instances from the `tf.keras.optimizer` module, such as `tf.keras.optimizer.Adam` or `tf.keras.optimizer.SGD`. If you just want to use the default parameters, you can also specify optimizers via string, such as 'adam' or 'sgd'.\n",
        "*  loss : The function to minimize during optimization. Common choices include mean square error(mse), categorical_crossentropy, and binary_crossentropy. Loss functions are specified by name or by passing a callable object from the tf.keras.losses module.\n",
        "metrics : Used to monitor training. These are string names or callables from the tf.keras.metrics module.\n",
        "*  Additionally, to make sure the module trains and evaluates eagerly, you can make sure to pass run_eagerly=True as a paramater to compile.\n",
        "\n",
        "The following shows a few examples of configuring a model for training:"
      ]
    },
    {
      "cell_type": "code",
      "metadata": {
        "id": "JD_N8pmDD55l"
      },
      "source": [
        " # Configure a model for mean-squared error regression.\n",
        " model.compile(optimizer=tf.keras.optimizers.Adam(0.01),\n",
        "               loss='mse',\n",
        "               metrics=['mae'])\n",
        " # Configure a model for categorical classification.\n",
        " model.compile(optimizer=tf.keras.optimizers.RMSprop(0.01),\n",
        "               loss=tf.keras.losses.CategoricalCrossentropy(),\n",
        "               metrics=[tf.keras.metrics.CategoricalAccuracy()])"
      ],
      "execution_count": 5,
      "outputs": []
    },
    {
      "cell_type": "markdown",
      "metadata": {
        "id": "fb6yDJ-ZHu2F"
      },
      "source": [
        "## **Train from Numpy data**\n",
        "For small datasets, use in-memory NumPy arrays to train and evaluate a model. The model is \"fit\" to the training data using the fit method:\n"
      ]
    },
    {
      "cell_type": "code",
      "metadata": {
        "colab": {
          "base_uri": "https://localhost:8080/"
        },
        "id": "M17d_XGbIHYo",
        "outputId": "06da309e-eb10-4067-ada3-3c684a985ceb"
      },
      "source": [
        "import numpy as np\n",
        "\n",
        "data = np.random.random((1000, 32))\n",
        "print(\"Data:\")\n",
        "print(data.shape)\n",
        "print(data)\n",
        "print()\n",
        "\n",
        "labels = np.random.random((1000, 10))\n",
        "print(\"Labels:\")\n",
        "print(labels.shape)\n",
        "print(labels)\n",
        "print()\n",
        "\n",
        "model.fit(data, labels, epochs=10, batch_size=32)\n"
      ],
      "execution_count": 6,
      "outputs": [
        {
          "output_type": "stream",
          "text": [
            "Data:\n",
            "(1000, 32)\n",
            "[[0.66493292 0.03427028 0.41507935 ... 0.52445452 0.34191234 0.15536374]\n",
            " [0.26773882 0.09192836 0.74742292 ... 0.81986545 0.87898716 0.8013343 ]\n",
            " [0.13219433 0.89601486 0.84929763 ... 0.80392135 0.85404215 0.84809613]\n",
            " ...\n",
            " [0.08073657 0.83437597 0.0373483  ... 0.24063384 0.10079778 0.76505798]\n",
            " [0.86642249 0.20750078 0.93285412 ... 0.00735963 0.70505304 0.81890177]\n",
            " [0.03504074 0.71309329 0.46734353 ... 0.94089298 0.73508259 0.60327789]]\n",
            "\n",
            "Labels:\n",
            "(1000, 10)\n",
            "[[0.52678488 0.22353622 0.99433032 ... 0.60630028 0.25149095 0.88994783]\n",
            " [0.70849782 0.8903322  0.96949003 ... 0.02127129 0.69818863 0.44752314]\n",
            " [0.26490401 0.35204058 0.9720163  ... 0.9730748  0.18404089 0.27940687]\n",
            " ...\n",
            " [0.73279546 0.30233695 0.66213487 ... 0.37244311 0.42938965 0.3189341 ]\n",
            " [0.08103672 0.21838265 0.40160957 ... 0.14582414 0.80448217 0.28360193]\n",
            " [0.8852957  0.40168594 0.63173203 ... 0.11574588 0.24507505 0.37099878]]\n",
            "\n",
            "Epoch 1/10\n",
            "32/32 [==============================] - 1s 3ms/step - loss: 249.6337 - categorical_accuracy: 0.1040\n",
            "Epoch 2/10\n",
            "32/32 [==============================] - 0s 3ms/step - loss: 1098.7063 - categorical_accuracy: 0.0970\n",
            "Epoch 3/10\n",
            "32/32 [==============================] - 0s 3ms/step - loss: 2300.3484 - categorical_accuracy: 0.0960\n",
            "Epoch 4/10\n",
            "32/32 [==============================] - 0s 3ms/step - loss: 3758.4915 - categorical_accuracy: 0.1070\n",
            "Epoch 5/10\n",
            "32/32 [==============================] - 0s 3ms/step - loss: 5587.0718 - categorical_accuracy: 0.0940\n",
            "Epoch 6/10\n",
            "32/32 [==============================] - 0s 3ms/step - loss: 7757.9365 - categorical_accuracy: 0.0920\n",
            "Epoch 7/10\n",
            "32/32 [==============================] - 0s 3ms/step - loss: 10095.5498 - categorical_accuracy: 0.1100\n",
            "Epoch 8/10\n",
            "32/32 [==============================] - 0s 4ms/step - loss: 12938.7715 - categorical_accuracy: 0.1020\n",
            "Epoch 9/10\n",
            "32/32 [==============================] - 0s 3ms/step - loss: 15288.7451 - categorical_accuracy: 0.1020\n",
            "Epoch 10/10\n",
            "32/32 [==============================] - 0s 3ms/step - loss: 19055.0176 - categorical_accuracy: 0.1030\n"
          ],
          "name": "stdout"
        },
        {
          "output_type": "execute_result",
          "data": {
            "text/plain": [
              "<tensorflow.python.keras.callbacks.History at 0x7fec70367510>"
            ]
          },
          "metadata": {
            "tags": []
          },
          "execution_count": 6
        }
      ]
    },
    {
      "cell_type": "markdown",
      "metadata": {
        "id": "UoZj9kUqM7JH"
      },
      "source": [
        "tf.keras.Model.fit takes three important arguments:\n",
        "* epochs : Training is structured into *epochs*. An epoch is one iteration over the entire input data (this is done in smaller batches).\n",
        "*  batch_size : When passed NumPy data, the model slices the data into smaller batches and iterates over these batches during training. This integer specifies the size of each batch. Be aware that the batch may be smaller if the total number of samples is not divisible by the batch size.\n",
        "* validation_data :When prototyping a model, you want to easily monitor its performance on validation data. Passing this argument-a tuple of input and labels-allows the model to display the loss and metrics in inference mode for the passed data, at the end of each epoch.\n",
        "\n",
        "Here's an example using validation_data:\n"
      ]
    },
    {
      "cell_type": "code",
      "metadata": {
        "colab": {
          "base_uri": "https://localhost:8080/"
        },
        "id": "PrBvKCl4O84A",
        "outputId": "a5ddf760-1a1b-4d7f-a236-ec5562b38b63"
      },
      "source": [
        "import numpy as np\n",
        "\n",
        "data = np.random.random((1000, 32))\n",
        "lables = np.random.random((1000, 10))\n",
        "\n",
        "val_data = np.random.random((100, 32))\n",
        "val_labels = np.random.random((100, 10))\n",
        "\n",
        "model.fit(data, labels, epochs=10, batch_size=32,\n",
        "          validation_data=(val_data, val_labels))"
      ],
      "execution_count": 7,
      "outputs": [
        {
          "output_type": "stream",
          "text": [
            "Epoch 1/10\n",
            "32/32 [==============================] - 0s 9ms/step - loss: 23445.1602 - categorical_accuracy: 0.0840 - val_loss: 24017.8008 - val_categorical_accuracy: 0.1100\n",
            "Epoch 2/10\n",
            "32/32 [==============================] - 0s 4ms/step - loss: 26667.1562 - categorical_accuracy: 0.1100 - val_loss: 32023.6309 - val_categorical_accuracy: 0.1100\n",
            "Epoch 3/10\n",
            "32/32 [==============================] - 0s 4ms/step - loss: 30490.8438 - categorical_accuracy: 0.1130 - val_loss: 38018.1133 - val_categorical_accuracy: 0.1000\n",
            "Epoch 4/10\n",
            "32/32 [==============================] - 0s 4ms/step - loss: 36324.7461 - categorical_accuracy: 0.1030 - val_loss: 43166.9609 - val_categorical_accuracy: 0.1200\n",
            "Epoch 5/10\n",
            "32/32 [==============================] - 0s 4ms/step - loss: 42791.2070 - categorical_accuracy: 0.0780 - val_loss: 36680.0742 - val_categorical_accuracy: 0.1300\n",
            "Epoch 6/10\n",
            "32/32 [==============================] - 0s 4ms/step - loss: 44474.5430 - categorical_accuracy: 0.1260 - val_loss: 53584.1484 - val_categorical_accuracy: 0.1200\n",
            "Epoch 7/10\n",
            "32/32 [==============================] - 0s 4ms/step - loss: 52483.9844 - categorical_accuracy: 0.1050 - val_loss: 62632.9414 - val_categorical_accuracy: 0.0600\n",
            "Epoch 8/10\n",
            "32/32 [==============================] - 0s 4ms/step - loss: 57411.4023 - categorical_accuracy: 0.0950 - val_loss: 68732.6172 - val_categorical_accuracy: 0.0800\n",
            "Epoch 9/10\n",
            "32/32 [==============================] - 0s 4ms/step - loss: 63862.7227 - categorical_accuracy: 0.0980 - val_loss: 65665.6328 - val_categorical_accuracy: 0.1200\n",
            "Epoch 10/10\n",
            "32/32 [==============================] - 0s 3ms/step - loss: 72360.6875 - categorical_accuracy: 0.0960 - val_loss: 70715.6562 - val_categorical_accuracy: 0.0900\n"
          ],
          "name": "stdout"
        },
        {
          "output_type": "execute_result",
          "data": {
            "text/plain": [
              "<tensorflow.python.keras.callbacks.History at 0x7fec70190790>"
            ]
          },
          "metadata": {
            "tags": []
          },
          "execution_count": 7
        }
      ]
    },
    {
      "cell_type": "markdown",
      "metadata": {
        "id": "e_YokdZSJ2vg"
      },
      "source": [
        "## **Train from tf.data.datasets**\n",
        "Use the Datasets API to scale to large datasets or multi-device training. Pass a tf.data.Dataset instance to the fit method:\n",
        " "
      ]
    },
    {
      "cell_type": "code",
      "metadata": {
        "colab": {
          "base_uri": "https://localhost:8080/"
        },
        "id": "EeM4Q1CSJufH",
        "outputId": "23bb0a6e-567a-4912-d5bf-4095be79ba5f"
      },
      "source": [
        "# Instantiates a toy dataset instances:\n",
        "dataset = tf.data.Dataset.from_tensor_slices((data, labels))\n",
        "dataset = dataset.batch(32)\n",
        "\n",
        "model.fit(dataset, epochs=10)"
      ],
      "execution_count": 8,
      "outputs": [
        {
          "output_type": "stream",
          "text": [
            "Epoch 1/10\n",
            "32/32 [==============================] - 0s 3ms/step - loss: 76035.6719 - categorical_accuracy: 0.1090\n",
            "Epoch 2/10\n",
            "32/32 [==============================] - 0s 3ms/step - loss: 81875.2969 - categorical_accuracy: 0.0840\n",
            "Epoch 3/10\n",
            "32/32 [==============================] - 0s 3ms/step - loss: 94950.3672 - categorical_accuracy: 0.0870\n",
            "Epoch 4/10\n",
            "32/32 [==============================] - 0s 3ms/step - loss: 100999.4609 - categorical_accuracy: 0.1030\n",
            "Epoch 5/10\n",
            "32/32 [==============================] - 0s 3ms/step - loss: 106292.0000 - categorical_accuracy: 0.0880\n",
            "Epoch 6/10\n",
            "32/32 [==============================] - 0s 3ms/step - loss: 116876.6875 - categorical_accuracy: 0.0980\n",
            "Epoch 7/10\n",
            "32/32 [==============================] - 0s 4ms/step - loss: 123706.8594 - categorical_accuracy: 0.1120\n",
            "Epoch 8/10\n",
            "32/32 [==============================] - 0s 3ms/step - loss: 134117.4531 - categorical_accuracy: 0.1040\n",
            "Epoch 9/10\n",
            "32/32 [==============================] - 0s 3ms/step - loss: 144233.1719 - categorical_accuracy: 0.1040\n",
            "Epoch 10/10\n",
            "32/32 [==============================] - 0s 3ms/step - loss: 155976.8438 - categorical_accuracy: 0.1060\n"
          ],
          "name": "stdout"
        },
        {
          "output_type": "execute_result",
          "data": {
            "text/plain": [
              "<tensorflow.python.keras.callbacks.History at 0x7fec87965fd0>"
            ]
          },
          "metadata": {
            "tags": []
          },
          "execution_count": 8
        }
      ]
    },
    {
      "cell_type": "markdown",
      "metadata": {
        "id": "YBSyC9BSL6D6"
      },
      "source": [
        "Since the Dataset yields batches of data, This snippet does not require a batch_size.\n",
        "\n",
        "Datasets can also be used for validation:"
      ]
    },
    {
      "cell_type": "code",
      "metadata": {
        "colab": {
          "base_uri": "https://localhost:8080/"
        },
        "id": "nqRk47LeLf13",
        "outputId": "7addfc56-de08-4593-8c9a-45150f9f8c2f"
      },
      "source": [
        "dataset = tf.data.Dataset.from_tensor_slices((data, labels))\n",
        "dataset = dataset.batch(32)\n",
        "\n",
        "val_dataset = tf.data.Dataset.from_tensor_slices((val_data, val_labels))\n",
        "val_dataset = val_dataset.batch(32)\n",
        "\n",
        "model.fit(dataset, epochs=10,\n",
        "          validation_data=val_dataset)"
      ],
      "execution_count": 9,
      "outputs": [
        {
          "output_type": "stream",
          "text": [
            "Epoch 1/10\n",
            "32/32 [==============================] - 0s 7ms/step - loss: 156230.0938 - categorical_accuracy: 0.1040 - val_loss: 171798.8125 - val_categorical_accuracy: 0.0700\n",
            "Epoch 2/10\n",
            "32/32 [==============================] - 0s 4ms/step - loss: 173174.5781 - categorical_accuracy: 0.1050 - val_loss: 195672.6562 - val_categorical_accuracy: 0.1000\n",
            "Epoch 3/10\n",
            "32/32 [==============================] - 0s 4ms/step - loss: 188309.7812 - categorical_accuracy: 0.0960 - val_loss: 189179.3594 - val_categorical_accuracy: 0.1200\n",
            "Epoch 4/10\n",
            "32/32 [==============================] - 0s 4ms/step - loss: 192116.0000 - categorical_accuracy: 0.1020 - val_loss: 162143.2969 - val_categorical_accuracy: 0.0900\n",
            "Epoch 5/10\n",
            "32/32 [==============================] - 0s 4ms/step - loss: 202725.4375 - categorical_accuracy: 0.1070 - val_loss: 207999.9062 - val_categorical_accuracy: 0.1000\n",
            "Epoch 6/10\n",
            "32/32 [==============================] - 0s 4ms/step - loss: 220117.4688 - categorical_accuracy: 0.0920 - val_loss: 236403.9219 - val_categorical_accuracy: 0.1300\n",
            "Epoch 7/10\n",
            "32/32 [==============================] - 0s 5ms/step - loss: 224232.6406 - categorical_accuracy: 0.0930 - val_loss: 159998.3594 - val_categorical_accuracy: 0.0900\n",
            "Epoch 8/10\n",
            "32/32 [==============================] - 0s 4ms/step - loss: 239458.7969 - categorical_accuracy: 0.1110 - val_loss: 228416.0781 - val_categorical_accuracy: 0.1000\n",
            "Epoch 9/10\n",
            "32/32 [==============================] - 0s 4ms/step - loss: 251514.5156 - categorical_accuracy: 0.1030 - val_loss: 333540.7500 - val_categorical_accuracy: 0.1200\n",
            "Epoch 10/10\n",
            "32/32 [==============================] - 0s 4ms/step - loss: 265715.1875 - categorical_accuracy: 0.0970 - val_loss: 201237.8594 - val_categorical_accuracy: 0.1200\n"
          ],
          "name": "stdout"
        },
        {
          "output_type": "execute_result",
          "data": {
            "text/plain": [
              "<tensorflow.python.keras.callbacks.History at 0x7fec2021e9d0>"
            ]
          },
          "metadata": {
            "tags": []
          },
          "execution_count": 9
        }
      ]
    },
    {
      "cell_type": "markdown",
      "metadata": {
        "id": "UT4vYc6mSnWn"
      },
      "source": [
        "## **Evaluate and predict**\n",
        "The tf.keras.Model.Evaluate and tf.keras.Model.predict methods can use NumPy data and a tf.data.Dataset.\n",
        "\n",
        "Here's how to *evaluate* the inference-mode loss and metrics for the data provided: "
      ]
    },
    {
      "cell_type": "code",
      "metadata": {
        "colab": {
          "base_uri": "https://localhost:8080/"
        },
        "id": "sfMUga0kQ4hy",
        "outputId": "61a89375-b1ba-4e57-f04a-90bb7459dc6b"
      },
      "source": [
        "# With NumPy array\n",
        "data = np.random.random((1000, 32))\n",
        "labels = np.random.random((1000, 10))\n",
        "\n",
        "model.evaluate(data, labels, batch_size=32)\n",
        "\n",
        "# With a Dataset\n",
        "dataset = tf.data.Dataset.from_tensor_slices((data, labels))\n",
        "dataset = dataset.batch(32)\n",
        "\n",
        "model.evaluate(dataset)"
      ],
      "execution_count": 10,
      "outputs": [
        {
          "output_type": "stream",
          "text": [
            "32/32 [==============================] - 0s 2ms/step - loss: 201694.5469 - categorical_accuracy: 0.0920\n",
            "32/32 [==============================] - 0s 3ms/step - loss: 201694.5469 - categorical_accuracy: 0.0920\n"
          ],
          "name": "stdout"
        },
        {
          "output_type": "execute_result",
          "data": {
            "text/plain": [
              "[201694.546875, 0.09200000017881393]"
            ]
          },
          "metadata": {
            "tags": []
          },
          "execution_count": 10
        }
      ]
    },
    {
      "cell_type": "markdown",
      "metadata": {
        "id": "drJJLu2cUVMh"
      },
      "source": [
        "And here's how to *predict* the output of the last layer in inference for the data provided, as a NumPy array:\n"
      ]
    },
    {
      "cell_type": "code",
      "metadata": {
        "colab": {
          "base_uri": "https://localhost:8080/"
        },
        "id": "ncyAmePtTtao",
        "outputId": "355d7912-d281-4380-de0e-414b217bcec1"
      },
      "source": [
        "result = model.predict(data, batch_size=32)\n",
        "print(result.shape)"
      ],
      "execution_count": 11,
      "outputs": [
        {
          "output_type": "stream",
          "text": [
            "(1000, 10)\n"
          ],
          "name": "stdout"
        }
      ]
    },
    {
      "cell_type": "markdown",
      "metadata": {
        "id": "L3cU0VPSU2uN"
      },
      "source": [
        "## **Callback**\n",
        "A callback is a object passed to a model to customize and extend its behavior during training. You can write you own custom callback, or use the built-in tf.keras.callback that include:\n",
        "*  tf.keras.callbacks.ModelCheckpoint : Save checkpoints of your model at regular intervals.\n",
        "*  tf.keras.callbacks.LearningRateSchedular : Dynamically change the learning rate.\n",
        "*  tf.keras.callback.EarlyStopping : Interrupt training when validation performance has stopped improving.\n",
        "*  tf.keras.callbacks.TensorBoard : Monitor the model's behavior using TensorBoard\n",
        "\n",
        "To use tf.keras.callbacks.Callback, pass it to the model;s fit method:I"
      ]
    },
    {
      "cell_type": "code",
      "metadata": {
        "colab": {
          "base_uri": "https://localhost:8080/"
        },
        "id": "SNoW-oHfUyVS",
        "outputId": "5d159687-c532-425e-dcbe-740c634ab25b"
      },
      "source": [
        "callbacks = [\n",
        "  # Interrupt training if 'val_loss' stops improving for over 2 epochs\n",
        "  tf.keras.callbacks.EarlyStopping(patience=2, monitor='val_loss'),\n",
        "  # Write TensorBoard logs to './logs' directory\n",
        "  tf.keras.callbacks.TensorBoard(log_dir='./logs')\n",
        "]\n",
        "\n",
        "model.fit(data, labels, batch_size=32, epochs=5, callbacks=callbacks,\n",
        "          validation_data=(val_data, val_labels))"
      ],
      "execution_count": 13,
      "outputs": [
        {
          "output_type": "stream",
          "text": [
            "Epoch 1/5\n",
            "32/32 [==============================] - 1s 16ms/step - loss: 267933.9688 - categorical_accuracy: 0.1050 - val_loss: 321866.0312 - val_categorical_accuracy: 0.0800\n",
            "Epoch 2/5\n",
            "32/32 [==============================] - 0s 4ms/step - loss: 298551.5625 - categorical_accuracy: 0.0980 - val_loss: 371493.1250 - val_categorical_accuracy: 0.1200\n",
            "Epoch 3/5\n",
            "32/32 [==============================] - 0s 4ms/step - loss: 310190.6875 - categorical_accuracy: 0.0940 - val_loss: 274501.3125 - val_categorical_accuracy: 0.1300\n",
            "Epoch 4/5\n",
            "32/32 [==============================] - 0s 4ms/step - loss: 311579.7500 - categorical_accuracy: 0.1050 - val_loss: 410467.3750 - val_categorical_accuracy: 0.1100\n",
            "Epoch 5/5\n",
            "32/32 [==============================] - 0s 4ms/step - loss: 331464.0938 - categorical_accuracy: 0.1000 - val_loss: 401894.7188 - val_categorical_accuracy: 0.1300\n"
          ],
          "name": "stdout"
        },
        {
          "output_type": "execute_result",
          "data": {
            "text/plain": [
              "<tensorflow.python.keras.callbacks.History at 0x7fec109b5a50>"
            ]
          },
          "metadata": {
            "tags": []
          },
          "execution_count": 13
        }
      ]
    },
    {
      "cell_type": "code",
      "metadata": {
        "colab": {
          "base_uri": "https://localhost:8080/"
        },
        "id": "UwY8qJ5hX6Bd",
        "outputId": "963d5f79-013c-4feb-ab7c-bac1a061b931"
      },
      "source": [
        "!ls"
      ],
      "execution_count": 14,
      "outputs": [
        {
          "output_type": "stream",
          "text": [
            "logs  sample_data\n"
          ],
          "name": "stdout"
        }
      ]
    },
    {
      "cell_type": "code",
      "metadata": {
        "colab": {
          "base_uri": "https://localhost:8080/"
        },
        "id": "TRkkRK02YE8N",
        "outputId": "ca536a05-54fe-46c9-9f7f-f8c01bb62fda"
      },
      "source": [
        "!ls logs"
      ],
      "execution_count": 15,
      "outputs": [
        {
          "output_type": "stream",
          "text": [
            "train  validation\n"
          ],
          "name": "stdout"
        }
      ]
    },
    {
      "cell_type": "code",
      "metadata": {
        "colab": {
          "base_uri": "https://localhost:8080/"
        },
        "id": "f8SayAXSYJaK",
        "outputId": "f7db309d-c7d1-4d56-85dc-58b06e6fec92"
      },
      "source": [
        "!ls logs/train"
      ],
      "execution_count": 16,
      "outputs": [
        {
          "output_type": "stream",
          "text": [
            "events.out.tfevents.1627111019.f89b2b0136f2.522.5126.v2    plugins\n",
            "events.out.tfevents.1627111019.f89b2b0136f2.profile-empty\n"
          ],
          "name": "stdout"
        }
      ]
    },
    {
      "cell_type": "markdown",
      "metadata": {
        "id": "8TrPZ0BpYTPB"
      },
      "source": [
        "## **Save and restore**\n",
        "Save and load the weigths of a model using tf.keras.Model.save_weigths:"
      ]
    },
    {
      "cell_type": "code",
      "metadata": {
        "id": "SGqpmvFlYNtk"
      },
      "source": [
        "model = tf.keras.Sequential([\n",
        "  layers.Dense(64, activation='relu', input_shape=(32,)),\n",
        "  layers.Dense(10, activation='softmax')])\n",
        "\n",
        "model.compile(optimizer=tf.keras.optimizers.Adam(0.001),\n",
        "              loss='categorical_crossentropy',\n",
        "              metrics=['accuracy'])"
      ],
      "execution_count": 18,
      "outputs": []
    },
    {
      "cell_type": "code",
      "metadata": {
        "colab": {
          "base_uri": "https://localhost:8080/"
        },
        "id": "vcs1vFpxZAsz",
        "outputId": "861cf3d7-e85a-4c71-de3d-2e6341db8893"
      },
      "source": [
        "# Save weigth to a TensorFlow Checkpoint file\n",
        "model.save_weights('./weigths/my_model')\n",
        "\n",
        "# Restore the model's state,\n",
        "# this requires a model with the same architecture.\n",
        "model.load_weights('./weigths/my_model')"
      ],
      "execution_count": 20,
      "outputs": [
        {
          "output_type": "execute_result",
          "data": {
            "text/plain": [
              "<tensorflow.python.training.tracking.util.CheckpointLoadStatus at 0x7fec703d67d0>"
            ]
          },
          "metadata": {
            "tags": []
          },
          "execution_count": 20
        }
      ]
    },
    {
      "cell_type": "code",
      "metadata": {
        "colab": {
          "base_uri": "https://localhost:8080/"
        },
        "id": "3DBb_iRdZgHH",
        "outputId": "ebf7b032-d85a-49d0-be65-67c20d740077"
      },
      "source": [
        "!ls"
      ],
      "execution_count": 21,
      "outputs": [
        {
          "output_type": "stream",
          "text": [
            "logs  sample_data  weigths\n"
          ],
          "name": "stdout"
        }
      ]
    },
    {
      "cell_type": "code",
      "metadata": {
        "colab": {
          "base_uri": "https://localhost:8080/"
        },
        "id": "c1YJZgaJZkW2",
        "outputId": "3b1f712c-a8ee-41ee-cf95-f71648b85794"
      },
      "source": [
        "!ls weigths"
      ],
      "execution_count": 23,
      "outputs": [
        {
          "output_type": "stream",
          "text": [
            "checkpoint  my_model.data-00000-of-00001  my_model.index\n"
          ],
          "name": "stdout"
        }
      ]
    },
    {
      "cell_type": "markdown",
      "metadata": {
        "id": "TH3gZT4FZ4Mz"
      },
      "source": [
        "By default, this saves the model's weights in the TensorFlow checkpoint file formate. Weights can also be saved to the keras HDF5 format (the default for the multi-backend implementation of keras)"
      ]
    },
    {
      "cell_type": "code",
      "metadata": {
        "id": "aQoSWNU7Zta3"
      },
      "source": [
        "# Save weights to a HDF5 file\n",
        "model.save_weights('my_model.h5', save_format='h5')\n",
        "\n",
        "# Restore the model's state\n",
        "model.load_weights('my_model.h5')"
      ],
      "execution_count": 24,
      "outputs": []
    },
    {
      "cell_type": "code",
      "metadata": {
        "colab": {
          "base_uri": "https://localhost:8080/"
        },
        "id": "JqDWyavzaywk",
        "outputId": "5756ddd5-8849-4042-85ec-a31f68ccfec6"
      },
      "source": [
        "!ls"
      ],
      "execution_count": 26,
      "outputs": [
        {
          "output_type": "stream",
          "text": [
            "logs  my_model.h5  sample_data\tweigths\n"
          ],
          "name": "stdout"
        }
      ]
    },
    {
      "cell_type": "markdown",
      "metadata": {
        "id": "1Z195X2zbvlk"
      },
      "source": [
        "## **Save just the model configuration**\n",
        "A model's configuration can be saved-this serializes the model architecture without any weights. A saved configuration can recreate and initialize the same model, even without the code that defined the original model. Keras spports JSON and YAML serialization formates:\n"
      ]
    },
    {
      "cell_type": "code",
      "metadata": {
        "colab": {
          "base_uri": "https://localhost:8080/",
          "height": 247
        },
        "id": "xTrJhW3jazuU",
        "outputId": "0121bccc-d7e8-4676-b0cf-73df234dfd0f"
      },
      "source": [
        "# Serialize a model to JSON format\n",
        "json_string = model.to_json()\n",
        "json_string "
      ],
      "execution_count": 27,
      "outputs": [
        {
          "output_type": "execute_result",
          "data": {
            "application/vnd.google.colaboratory.intrinsic+json": {
              "type": "string"
            },
            "text/plain": [
              "'{\"class_name\": \"Sequential\", \"config\": {\"name\": \"sequential_3\", \"layers\": [{\"class_name\": \"InputLayer\", \"config\": {\"batch_input_shape\": [null, 32], \"dtype\": \"float32\", \"sparse\": false, \"ragged\": false, \"name\": \"dense_14_input\"}}, {\"class_name\": \"Dense\", \"config\": {\"name\": \"dense_14\", \"trainable\": true, \"batch_input_shape\": [null, 32], \"dtype\": \"float32\", \"units\": 64, \"activation\": \"relu\", \"use_bias\": true, \"kernel_initializer\": {\"class_name\": \"GlorotUniform\", \"config\": {\"seed\": null}}, \"bias_initializer\": {\"class_name\": \"Zeros\", \"config\": {}}, \"kernel_regularizer\": null, \"bias_regularizer\": null, \"activity_regularizer\": null, \"kernel_constraint\": null, \"bias_constraint\": null}}, {\"class_name\": \"Dense\", \"config\": {\"name\": \"dense_15\", \"trainable\": true, \"dtype\": \"float32\", \"units\": 10, \"activation\": \"softmax\", \"use_bias\": true, \"kernel_initializer\": {\"class_name\": \"GlorotUniform\", \"config\": {\"seed\": null}}, \"bias_initializer\": {\"class_name\": \"Zeros\", \"config\": {}}, \"kernel_regularizer\": null, \"bias_regularizer\": null, \"activity_regularizer\": null, \"kernel_constraint\": null, \"bias_constraint\": null}}]}, \"keras_version\": \"2.5.0\", \"backend\": \"tensorflow\"}'"
            ]
          },
          "metadata": {
            "tags": []
          },
          "execution_count": 27
        }
      ]
    },
    {
      "cell_type": "code",
      "metadata": {
        "colab": {
          "base_uri": "https://localhost:8080/"
        },
        "id": "-wtZMOZ9dAlj",
        "outputId": "0c2f3ef7-2b27-438e-cb34-07dd96830f9f"
      },
      "source": [
        "import json\n",
        "import pprint\n",
        "pprint.pprint(json.loads(json_string))"
      ],
      "execution_count": 29,
      "outputs": [
        {
          "output_type": "stream",
          "text": [
            "{'backend': 'tensorflow',\n",
            " 'class_name': 'Sequential',\n",
            " 'config': {'layers': [{'class_name': 'InputLayer',\n",
            "                        'config': {'batch_input_shape': [None, 32],\n",
            "                                   'dtype': 'float32',\n",
            "                                   'name': 'dense_14_input',\n",
            "                                   'ragged': False,\n",
            "                                   'sparse': False}},\n",
            "                       {'class_name': 'Dense',\n",
            "                        'config': {'activation': 'relu',\n",
            "                                   'activity_regularizer': None,\n",
            "                                   'batch_input_shape': [None, 32],\n",
            "                                   'bias_constraint': None,\n",
            "                                   'bias_initializer': {'class_name': 'Zeros',\n",
            "                                                        'config': {}},\n",
            "                                   'bias_regularizer': None,\n",
            "                                   'dtype': 'float32',\n",
            "                                   'kernel_constraint': None,\n",
            "                                   'kernel_initializer': {'class_name': 'GlorotUniform',\n",
            "                                                          'config': {'seed': None}},\n",
            "                                   'kernel_regularizer': None,\n",
            "                                   'name': 'dense_14',\n",
            "                                   'trainable': True,\n",
            "                                   'units': 64,\n",
            "                                   'use_bias': True}},\n",
            "                       {'class_name': 'Dense',\n",
            "                        'config': {'activation': 'softmax',\n",
            "                                   'activity_regularizer': None,\n",
            "                                   'bias_constraint': None,\n",
            "                                   'bias_initializer': {'class_name': 'Zeros',\n",
            "                                                        'config': {}},\n",
            "                                   'bias_regularizer': None,\n",
            "                                   'dtype': 'float32',\n",
            "                                   'kernel_constraint': None,\n",
            "                                   'kernel_initializer': {'class_name': 'GlorotUniform',\n",
            "                                                          'config': {'seed': None}},\n",
            "                                   'kernel_regularizer': None,\n",
            "                                   'name': 'dense_15',\n",
            "                                   'trainable': True,\n",
            "                                   'units': 10,\n",
            "                                   'use_bias': True}}],\n",
            "            'name': 'sequential_3'},\n",
            " 'keras_version': '2.5.0'}\n"
          ],
          "name": "stdout"
        }
      ]
    },
    {
      "cell_type": "markdown",
      "metadata": {
        "id": "_mP_SJ9xdUok"
      },
      "source": [
        "Recreate the model (newly initialized) from the JSON:"
      ]
    },
    {
      "cell_type": "code",
      "metadata": {
        "id": "6iw9qAH2dNj8"
      },
      "source": [
        "fresh_model = tf.keras.models.model_from_json(json_string)"
      ],
      "execution_count": 30,
      "outputs": []
    },
    {
      "cell_type": "markdown",
      "metadata": {
        "id": "npDLEWb3dmur"
      },
      "source": [
        "Serializing a model to YAML format requires that you install pyyaml you import TensorFlow:"
      ]
    },
    {
      "cell_type": "code",
      "metadata": {
        "colab": {
          "base_uri": "https://localhost:8080/"
        },
        "id": "Xw5hpuGSdlUj",
        "outputId": "18464df7-675e-419d-c8c1-ef26843e5b68"
      },
      "source": [
        "yaml_string = model.to_yaml()\n",
        "print(yaml_string)"
      ],
      "execution_count": 31,
      "outputs": [
        {
          "output_type": "stream",
          "text": [
            "backend: tensorflow\n",
            "class_name: Sequential\n",
            "config:\n",
            "  layers:\n",
            "  - class_name: InputLayer\n",
            "    config:\n",
            "      batch_input_shape: !!python/tuple [null, 32]\n",
            "      dtype: float32\n",
            "      name: dense_14_input\n",
            "      ragged: false\n",
            "      sparse: false\n",
            "  - class_name: Dense\n",
            "    config:\n",
            "      activation: relu\n",
            "      activity_regularizer: null\n",
            "      batch_input_shape: !!python/tuple [null, 32]\n",
            "      bias_constraint: null\n",
            "      bias_initializer:\n",
            "        class_name: Zeros\n",
            "        config: {}\n",
            "      bias_regularizer: null\n",
            "      dtype: float32\n",
            "      kernel_constraint: null\n",
            "      kernel_initializer:\n",
            "        class_name: GlorotUniform\n",
            "        config: {seed: null}\n",
            "      kernel_regularizer: null\n",
            "      name: dense_14\n",
            "      trainable: true\n",
            "      units: 64\n",
            "      use_bias: true\n",
            "  - class_name: Dense\n",
            "    config:\n",
            "      activation: softmax\n",
            "      activity_regularizer: null\n",
            "      bias_constraint: null\n",
            "      bias_initializer:\n",
            "        class_name: Zeros\n",
            "        config: {}\n",
            "      bias_regularizer: null\n",
            "      dtype: float32\n",
            "      kernel_constraint: null\n",
            "      kernel_initializer:\n",
            "        class_name: GlorotUniform\n",
            "        config: {seed: null}\n",
            "      kernel_regularizer: null\n",
            "      name: dense_15\n",
            "      trainable: true\n",
            "      units: 10\n",
            "      use_bias: true\n",
            "  name: sequential_3\n",
            "keras_version: 2.5.0\n",
            "\n"
          ],
          "name": "stdout"
        }
      ]
    },
    {
      "cell_type": "markdown",
      "metadata": {
        "id": "geT6isTCeEyz"
      },
      "source": [
        "Recreate the model from the YAML:"
      ]
    },
    {
      "cell_type": "code",
      "metadata": {
        "id": "5JJqKa2ad9v9"
      },
      "source": [
        "fresh_model = tf.keras.models.model_from_yaml(yaml_string)"
      ],
      "execution_count": 32,
      "outputs": []
    },
    {
      "cell_type": "markdown",
      "metadata": {
        "id": "5j4woT0MeShE"
      },
      "source": [
        "Note: Subclassed models are not serializable because their architecture is defined by the Python code in the body of the call method.\n",
        "\n",
        "# Save the entire model in one file\n",
        "The entire model can be saved to a file that contains the weight values, the model's cofiguration, and even the optimizer's configuration. This allows you to checkpoint a model and resume training later-from the exact same state-without access to the original code."
      ]
    },
    {
      "cell_type": "code",
      "metadata": {
        "colab": {
          "base_uri": "https://localhost:8080/"
        },
        "id": "GdXbeVs4ePBs",
        "outputId": "cd0cf251-ca7d-49cd-8759-066d3853129b"
      },
      "source": [
        " # Create a simple model\n",
        " model = tf.keras.Sequential([\n",
        "    layers.Dense(10, activation='softmax', input_shape=(32,)),\n",
        "    layers.Dense(10, activation='softmax')\n",
        "])\n",
        " \n",
        "model.compile(optimizer='rmsprop',\n",
        "              loss='categorical_crossentropy',\n",
        "              metrics=['accuracy'])\n",
        "model.fit(data, labels, batch_size=32, epochs=5)\n",
        "\n",
        "# Save entire model to a HDF5 file\n",
        "model.save('my_model.h5')\n",
        "\n",
        "# Recreate the extract same model, including weights and optimizer.\n",
        "model = tf.keras.models.load_model('my_model.h5')"
      ],
      "execution_count": 33,
      "outputs": [
        {
          "output_type": "stream",
          "text": [
            "Epoch 1/5\n",
            "32/32 [==============================] - 0s 3ms/step - loss: 11.5395 - accuracy: 0.1090\n",
            "Epoch 2/5\n",
            "32/32 [==============================] - 0s 3ms/step - loss: 11.5520 - accuracy: 0.1080\n",
            "Epoch 3/5\n",
            "32/32 [==============================] - 0s 3ms/step - loss: 11.5560 - accuracy: 0.1080\n",
            "Epoch 4/5\n",
            "32/32 [==============================] - 0s 3ms/step - loss: 11.5522 - accuracy: 0.1100\n",
            "Epoch 5/5\n",
            "32/32 [==============================] - 0s 3ms/step - loss: 11.5572 - accuracy: 0.1100\n"
          ],
          "name": "stdout"
        }
      ]
    },
    {
      "cell_type": "markdown",
      "metadata": {
        "id": "OUvqVJmmgvTU"
      },
      "source": [
        "## **Multiple GPUs**\n",
        "tf.keras models can run multiple GPUs using `tf.distribute.Strategy` This API provides distributed training on multiple GPUs with almost no changes to existing code.\n",
        "\n",
        "Currently, `tf.distribute.MirroredStrategy` is the only supported strategy. `MirroredStrategy` does in-graph replication with synchronous training using all-reduce on a single machine. To use `distribute.Strategy`s, nest the optimizer instantiation and model construction and compilation in a `Strategy's.scope()`, then train the model.\n",
        "\n",
        "The following example distributes a tf.keras.Model across multiple GPUs on a single machine.\n",
        "\n",
        "First, define a model inside the distributed strategy scope:"
      ]
    },
    {
      "cell_type": "code",
      "metadata": {
        "colab": {
          "base_uri": "https://localhost:8080/"
        },
        "id": "TJVGOVYGgO1x",
        "outputId": "65fd4a3e-7eba-470e-cefd-2d5360f99ff6"
      },
      "source": [
        "strategy = tf.distribute.MirroredStrategy()\n",
        "\n",
        "with strategy.scope():\n",
        "  model = tf.keras.Sequential()\n",
        "  model.add(layers.Dense(16, activation='relu', input_shape=(10,)))\n",
        "  model.add(layers.Dense(1, activation='sigmoid'))\n",
        "\n",
        "  optimizer = tf.keras.optimizers.SGD(0.2)\n",
        "\n",
        "  model.compile(loss='binary_crossentropy', optimizer=optimizer)\n",
        "\n",
        "model.summary()"
      ],
      "execution_count": 34,
      "outputs": [
        {
          "output_type": "stream",
          "text": [
            "WARNING:tensorflow:Collective ops is not configured at program startup. Some performance features may not be enabled.\n",
            "INFO:tensorflow:Using MirroredStrategy with devices ('/job:localhost/replica:0/task:0/device:GPU:0',)\n",
            "INFO:tensorflow:Reduce to /job:localhost/replica:0/task:0/device:CPU:0 then broadcast to ('/job:localhost/replica:0/task:0/device:CPU:0',).\n",
            "INFO:tensorflow:Reduce to /job:localhost/replica:0/task:0/device:CPU:0 then broadcast to ('/job:localhost/replica:0/task:0/device:CPU:0',).\n",
            "INFO:tensorflow:Reduce to /job:localhost/replica:0/task:0/device:CPU:0 then broadcast to ('/job:localhost/replica:0/task:0/device:CPU:0',).\n",
            "INFO:tensorflow:Reduce to /job:localhost/replica:0/task:0/device:CPU:0 then broadcast to ('/job:localhost/replica:0/task:0/device:CPU:0',).\n",
            "Model: \"sequential_5\"\n",
            "_________________________________________________________________\n",
            "Layer (type)                 Output Shape              Param #   \n",
            "=================================================================\n",
            "dense_18 (Dense)             (None, 16)                176       \n",
            "_________________________________________________________________\n",
            "dense_19 (Dense)             (None, 1)                 17        \n",
            "=================================================================\n",
            "Total params: 193\n",
            "Trainable params: 193\n",
            "Non-trainable params: 0\n",
            "_________________________________________________________________\n"
          ],
          "name": "stdout"
        }
      ]
    },
    {
      "cell_type": "markdown",
      "metadata": {
        "id": "jrKJ8mPVjd4s"
      },
      "source": [
        "Next, train the model on data as usual:"
      ]
    },
    {
      "cell_type": "code",
      "metadata": {
        "colab": {
          "base_uri": "https://localhost:8080/"
        },
        "id": "8Jef-hyujT7z",
        "outputId": "f51dcde4-58c4-48d2-c89c-c10cb84eb4f9"
      },
      "source": [
        "x = np.random.random((1024, 10))\n",
        "y = np.random.randint(2, size=(1024, 1))\n",
        "\n",
        "x = tf.cast(x, tf.float32)\n",
        "dataset = tf.data.Dataset.from_tensor_slices((x, y))\n",
        "dataset = dataset.shuffle(buffer_size=1024).batch(32)\n",
        "\n",
        "model.fit(dataset, epochs=1)"
      ],
      "execution_count": 36,
      "outputs": [
        {
          "output_type": "stream",
          "text": [
            "INFO:tensorflow:Reduce to /job:localhost/replica:0/task:0/device:CPU:0 then broadcast to ('/job:localhost/replica:0/task:0/device:CPU:0',).\n",
            "INFO:tensorflow:Reduce to /job:localhost/replica:0/task:0/device:CPU:0 then broadcast to ('/job:localhost/replica:0/task:0/device:CPU:0',).\n",
            "INFO:tensorflow:Reduce to /job:localhost/replica:0/task:0/device:CPU:0 then broadcast to ('/job:localhost/replica:0/task:0/device:CPU:0',).\n",
            "INFO:tensorflow:Reduce to /job:localhost/replica:0/task:0/device:CPU:0 then broadcast to ('/job:localhost/replica:0/task:0/device:CPU:0',).\n",
            "32/32 [==============================] - 3s 3ms/step - loss: 0.7208\n"
          ],
          "name": "stdout"
        },
        {
          "output_type": "execute_result",
          "data": {
            "text/plain": [
              "<tensorflow.python.keras.callbacks.History at 0x7fec0fe8fd50>"
            ]
          },
          "metadata": {
            "tags": []
          },
          "execution_count": 36
        }
      ]
    }
  ]
}