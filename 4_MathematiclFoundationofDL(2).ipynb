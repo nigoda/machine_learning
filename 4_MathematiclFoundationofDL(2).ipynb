{
  "nbformat": 4,
  "nbformat_minor": 0,
  "metadata": {
    "colab": {
      "name": "  4.MathematiclFoundationofDL(2).ipynb",
      "provenance": [],
      "collapsed_sections": [],
      "authorship_tag": "ABX9TyOTnPIAUJxbA6m1vyA/7fEq",
      "include_colab_link": true
    },
    "kernelspec": {
      "name": "python3",
      "display_name": "Python 3"
    }
  },
  "cells": [
    {
      "cell_type": "markdown",
      "metadata": {
        "id": "view-in-github",
        "colab_type": "text"
      },
      "source": [
        "<a href=\"https://colab.research.google.com/github/nigoda/machine_learning/blob/main/4_MathematiclFoundationofDL(2).ipynb\" target=\"_parent\"><img src=\"https://colab.research.google.com/assets/colab-badge.svg\" alt=\"Open In Colab\"/></a>"
      ]
    },
    {
      "cell_type": "code",
      "metadata": {
        "id": "VhdQRIA5uZ0v",
        "colab": {
          "base_uri": "https://localhost:8080/"
        },
        "outputId": "77871be5-1806-44b0-949c-f6d49e6bcc4e"
      },
      "source": [
        "import numpy as np\n",
        "\n",
        "w = np.array([[1,0.5],\n",
        "              [2,1]])\n",
        "print(w.ndim,w.shape)"
      ],
      "execution_count": null,
      "outputs": [
        {
          "output_type": "stream",
          "text": [
            "2 (2, 2)\n"
          ],
          "name": "stdout"
        }
      ]
    },
    {
      "cell_type": "code",
      "metadata": {
        "id": "I6t5hW9o1pxZ",
        "colab": {
          "base_uri": "https://localhost:8080/"
        },
        "outputId": "316adaf0-40e8-453c-99c5-9049bbfa9006"
      },
      "source": [
        "input = np.array([[1,2],\n",
        "                 [-1,2]])\n",
        "print(input.ndim,input.shape)"
      ],
      "execution_count": null,
      "outputs": [
        {
          "output_type": "stream",
          "text": [
            "2 (2, 2)\n"
          ],
          "name": "stdout"
        }
      ]
    },
    {
      "cell_type": "code",
      "metadata": {
        "id": "O6jFQo-o2iJi",
        "colab": {
          "base_uri": "https://localhost:8080/"
        },
        "outputId": "5c863c38-a3b3-47c1-e7b9-f3b37dfc1252"
      },
      "source": [
        "b = np.array([-2.0 , 0.5])\n",
        "print(b.ndim,b.shape)"
      ],
      "execution_count": null,
      "outputs": [
        {
          "output_type": "stream",
          "text": [
            "1 (2,)\n"
          ],
          "name": "stdout"
        }
      ]
    },
    {
      "cell_type": "code",
      "metadata": {
        "id": "pLCBrGpU3oFM",
        "colab": {
          "base_uri": "https://localhost:8080/"
        },
        "outputId": "10ed7949-8e89-4084-d3b3-a8c44279bd5d"
      },
      "source": [
        "#lets apply linear combination\n",
        "z = np.dot(w,input) \n",
        "print(z)\n",
        "z = z + b\n",
        "print(z)"
      ],
      "execution_count": null,
      "outputs": [
        {
          "output_type": "stream",
          "text": [
            "[[0.5 3. ]\n",
            " [1.  6. ]]\n",
            "[[-1.5  3.5]\n",
            " [-1.   6.5]]\n"
          ],
          "name": "stdout"
        }
      ]
    },
    {
      "cell_type": "code",
      "metadata": {
        "id": "ENT2CvH-4iYu",
        "colab": {
          "base_uri": "https://localhost:8080/"
        },
        "outputId": "75802a7e-3e02-4dba-e0fe-8b7d8792a6d1"
      },
      "source": [
        "#lets apply non-linear activation with relu\n",
        "output = np.maximum(0.,z)\n",
        "print('shape of output = ',output.shape)\n",
        "print(output)\n"
      ],
      "execution_count": null,
      "outputs": [
        {
          "output_type": "stream",
          "text": [
            "shape of output =  (2, 2)\n",
            "[[0.  3.5]\n",
            " [0.  6.5]]\n"
          ],
          "name": "stdout"
        }
      ]
    },
    {
      "cell_type": "markdown",
      "metadata": {
        "id": "7v4WmOJs5kI-"
      },
      "source": [
        "### **Relu vialuzation**"
      ]
    },
    {
      "cell_type": "code",
      "metadata": {
        "id": "Wo_uW7V75hAB",
        "colab": {
          "base_uri": "https://localhost:8080/",
          "height": 296
        },
        "outputId": "fc9f6e4c-e3b1-4e7e-d4a8-ef218a4f3a21"
      },
      "source": [
        "import matplotlib.pyplot as plt\n",
        "x = np.linspace(-10,10,100)\n",
        "z = np.maximum(0.,x)\n",
        "plt.plot(x, z)\n",
        "plt.xlabel('x')\n",
        "plt.ylabel('relu(x)')"
      ],
      "execution_count": null,
      "outputs": [
        {
          "output_type": "execute_result",
          "data": {
            "text/plain": [
              "Text(0, 0.5, 'relu(x)')"
            ]
          },
          "metadata": {
            "tags": []
          },
          "execution_count": 22
        },
        {
          "output_type": "display_data",
          "data": {
            "image/png": "[encoded data removed]",
            "text/plain": [
              "<Figure size 432x288 with 1 Axes>"
            ]
          },
          "metadata": {
            "tags": [],
            "needs_background": "light"
          }
        }
      ]
    },
    {
      "cell_type": "code",
      "metadata": {
        "id": "jeaV1ZnA7Y7U",
        "colab": {
          "base_uri": "https://localhost:8080/",
          "height": 296
        },
        "outputId": "c2b838c7-ad0b-40c4-c3c7-d705c7fd0905"
      },
      "source": [
        "#sigmoid activation\n",
        "import math\n",
        "x = np.linspace(-10,10,100)\n",
        "z = 1/(1+np.exp(-x))\n",
        "plt.plot(x,z)\n",
        "plt.xlabel('x')\n",
        "plt.ylabel('sigmoid(x)')"
      ],
      "execution_count": null,
      "outputs": [
        {
          "output_type": "execute_result",
          "data": {
            "text/plain": [
              "Text(0, 0.5, 'sigmoid(x)')"
            ]
          },
          "metadata": {
            "tags": []
          },
          "execution_count": 24
        },
        {
          "output_type": "display_data",
          "data": {
            "image/png": "[encoded data removed]",
            "text/plain": [
              "<Figure size 432x288 with 1 Axes>"
            ]
          },
          "metadata": {
            "tags": [],
            "needs_background": "light"
          }
        }
      ]
    },
    {
      "cell_type": "markdown",
      "metadata": {
        "id": "UUDO0Gq2-XWy"
      },
      "source": [
        "### **Broadcasting**"
      ]
    },
    {
      "cell_type": "code",
      "metadata": {
        "id": "2DWobLYK9eye",
        "colab": {
          "base_uri": "https://localhost:8080/"
        },
        "outputId": "d15c0c8e-4eae-4f25-852d-87567449d9a6"
      },
      "source": [
        "x_1 = np.random.rand(32,10)\n",
        "x_2 = np.random.rand(10,)\n",
        "#print(x_1)\n",
        "#print('\\n')\n",
        "print(x_2)\n",
        "print('shape of x_1 is ',x_1.shape,'and x_2 is ',x_2.shape )"
      ],
      "execution_count": null,
      "outputs": [
        {
          "output_type": "stream",
          "text": [
            "[0.18970246 0.42649098 0.57975253 0.20141242 0.44907573 0.96901247\n",
            " 0.63149541 0.39181756 0.51388342 0.44499697]\n",
            "shape of x_1 is  (32, 10) and x_2 is  (10,)\n"
          ],
          "name": "stdout"
        }
      ]
    },
    {
      "cell_type": "code",
      "metadata": {
        "id": "zidZwav3_cJB",
        "colab": {
          "base_uri": "https://localhost:8080/"
        },
        "outputId": "b0918fc9-14e1-4050-d545-34ad12c799fe"
      },
      "source": [
        "#Boardcasting\n",
        "#1. Add an axis to match ndim of larger tensor.\n",
        "x_2 = np.expand_dims(x_2,axis = 0)\n",
        "print(x_2)\n",
        "print('\\n')\n",
        "print(x_2.shape)"
      ],
      "execution_count": null,
      "outputs": [
        {
          "output_type": "stream",
          "text": [
            "[[0.18970246 0.42649098 0.57975253 0.20141242 0.44907573 0.96901247\n",
            "  0.63149541 0.39181756 0.51388342 0.44499697]]\n",
            "\n",
            "\n",
            "(1, 10)\n"
          ],
          "name": "stdout"
        }
      ]
    },
    {
      "cell_type": "code",
      "metadata": {
        "id": "mWHZzvkLBUuL",
        "colab": {
          "base_uri": "https://localhost:8080/"
        },
        "outputId": "dbff884b-2d83-4c69-9b06-d830e09dba6d"
      },
      "source": [
        "#2. Smaller tensor is repeated on the new axis\n",
        "x_2 = np.repeat(x_2,32,axis = 0)\n",
        "print(x_2,'\\n')\n",
        "print(x_2.shape)\n"
      ],
      "execution_count": null,
      "outputs": [
        {
          "output_type": "stream",
          "text": [
            "[[0.18970246 0.42649098 0.57975253 0.20141242 0.44907573 0.96901247\n",
            "  0.63149541 0.39181756 0.51388342 0.44499697]\n",
            " [0.18970246 0.42649098 0.57975253 0.20141242 0.44907573 0.96901247\n",
            "  0.63149541 0.39181756 0.51388342 0.44499697]\n",
            " [0.18970246 0.42649098 0.57975253 0.20141242 0.44907573 0.96901247\n",
            "  0.63149541 0.39181756 0.51388342 0.44499697]\n",
            " [0.18970246 0.42649098 0.57975253 0.20141242 0.44907573 0.96901247\n",
            "  0.63149541 0.39181756 0.51388342 0.44499697]\n",
            " [0.18970246 0.42649098 0.57975253 0.20141242 0.44907573 0.96901247\n",
            "  0.63149541 0.39181756 0.51388342 0.44499697]\n",
            " [0.18970246 0.42649098 0.57975253 0.20141242 0.44907573 0.96901247\n",
            "  0.63149541 0.39181756 0.51388342 0.44499697]\n",
            " [0.18970246 0.42649098 0.57975253 0.20141242 0.44907573 0.96901247\n",
            "  0.63149541 0.39181756 0.51388342 0.44499697]\n",
            " [0.18970246 0.42649098 0.57975253 0.20141242 0.44907573 0.96901247\n",
            "  0.63149541 0.39181756 0.51388342 0.44499697]\n",
            " [0.18970246 0.42649098 0.57975253 0.20141242 0.44907573 0.96901247\n",
            "  0.63149541 0.39181756 0.51388342 0.44499697]\n",
            " [0.18970246 0.42649098 0.57975253 0.20141242 0.44907573 0.96901247\n",
            "  0.63149541 0.39181756 0.51388342 0.44499697]\n",
            " [0.18970246 0.42649098 0.57975253 0.20141242 0.44907573 0.96901247\n",
            "  0.63149541 0.39181756 0.51388342 0.44499697]\n",
            " [0.18970246 0.42649098 0.57975253 0.20141242 0.44907573 0.96901247\n",
            "  0.63149541 0.39181756 0.51388342 0.44499697]\n",
            " [0.18970246 0.42649098 0.57975253 0.20141242 0.44907573 0.96901247\n",
            "  0.63149541 0.39181756 0.51388342 0.44499697]\n",
            " [0.18970246 0.42649098 0.57975253 0.20141242 0.44907573 0.96901247\n",
            "  0.63149541 0.39181756 0.51388342 0.44499697]\n",
            " [0.18970246 0.42649098 0.57975253 0.20141242 0.44907573 0.96901247\n",
            "  0.63149541 0.39181756 0.51388342 0.44499697]\n",
            " [0.18970246 0.42649098 0.57975253 0.20141242 0.44907573 0.96901247\n",
            "  0.63149541 0.39181756 0.51388342 0.44499697]\n",
            " [0.18970246 0.42649098 0.57975253 0.20141242 0.44907573 0.96901247\n",
            "  0.63149541 0.39181756 0.51388342 0.44499697]\n",
            " [0.18970246 0.42649098 0.57975253 0.20141242 0.44907573 0.96901247\n",
            "  0.63149541 0.39181756 0.51388342 0.44499697]\n",
            " [0.18970246 0.42649098 0.57975253 0.20141242 0.44907573 0.96901247\n",
            "  0.63149541 0.39181756 0.51388342 0.44499697]\n",
            " [0.18970246 0.42649098 0.57975253 0.20141242 0.44907573 0.96901247\n",
            "  0.63149541 0.39181756 0.51388342 0.44499697]\n",
            " [0.18970246 0.42649098 0.57975253 0.20141242 0.44907573 0.96901247\n",
            "  0.63149541 0.39181756 0.51388342 0.44499697]\n",
            " [0.18970246 0.42649098 0.57975253 0.20141242 0.44907573 0.96901247\n",
            "  0.63149541 0.39181756 0.51388342 0.44499697]\n",
            " [0.18970246 0.42649098 0.57975253 0.20141242 0.44907573 0.96901247\n",
            "  0.63149541 0.39181756 0.51388342 0.44499697]\n",
            " [0.18970246 0.42649098 0.57975253 0.20141242 0.44907573 0.96901247\n",
            "  0.63149541 0.39181756 0.51388342 0.44499697]\n",
            " [0.18970246 0.42649098 0.57975253 0.20141242 0.44907573 0.96901247\n",
            "  0.63149541 0.39181756 0.51388342 0.44499697]\n",
            " [0.18970246 0.42649098 0.57975253 0.20141242 0.44907573 0.96901247\n",
            "  0.63149541 0.39181756 0.51388342 0.44499697]\n",
            " [0.18970246 0.42649098 0.57975253 0.20141242 0.44907573 0.96901247\n",
            "  0.63149541 0.39181756 0.51388342 0.44499697]\n",
            " [0.18970246 0.42649098 0.57975253 0.20141242 0.44907573 0.96901247\n",
            "  0.63149541 0.39181756 0.51388342 0.44499697]\n",
            " [0.18970246 0.42649098 0.57975253 0.20141242 0.44907573 0.96901247\n",
            "  0.63149541 0.39181756 0.51388342 0.44499697]\n",
            " [0.18970246 0.42649098 0.57975253 0.20141242 0.44907573 0.96901247\n",
            "  0.63149541 0.39181756 0.51388342 0.44499697]\n",
            " [0.18970246 0.42649098 0.57975253 0.20141242 0.44907573 0.96901247\n",
            "  0.63149541 0.39181756 0.51388342 0.44499697]\n",
            " [0.18970246 0.42649098 0.57975253 0.20141242 0.44907573 0.96901247\n",
            "  0.63149541 0.39181756 0.51388342 0.44499697]] \n",
            "\n",
            "(32, 10)\n"
          ],
          "name": "stdout"
        }
      ]
    },
    {
      "cell_type": "code",
      "metadata": {
        "id": "8kIqfXqPCxNU",
        "colab": {
          "base_uri": "https://localhost:8080/"
        },
        "outputId": "ae70bd64-0fc5-42ed-839a-af13e2b483e0"
      },
      "source": [
        "#numpy implements broadcasting\n",
        "x_1 = np.random.rand(32,10)\n",
        "x_2 = np.random.rand(10,)\n",
        "print((x_1+x_2).shape)"
      ],
      "execution_count": null,
      "outputs": [
        {
          "output_type": "stream",
          "text": [
            "(32, 10)\n"
          ],
          "name": "stdout"
        }
      ]
    },
    {
      "cell_type": "code",
      "metadata": {
        "id": "wsaz4I3oD1p7",
        "colab": {
          "base_uri": "https://localhost:8080/"
        },
        "outputId": "c278b0cc-a4b3-4b26-f1d5-e65ff2b05a1a"
      },
      "source": [
        "#Reshaping\n",
        "x = np.array([[0.,1.],[2.,3.],[4.,5.]])\n",
        "print(x.shape)"
      ],
      "execution_count": null,
      "outputs": [
        {
          "output_type": "stream",
          "text": [
            "(3, 2)\n"
          ],
          "name": "stdout"
        }
      ]
    },
    {
      "cell_type": "code",
      "metadata": {
        "id": "MQnu_6jjGTGB",
        "colab": {
          "base_uri": "https://localhost:8080/"
        },
        "outputId": "67fe6ea1-bd3f-4e5f-97da-c503d80974ca"
      },
      "source": [
        " x= x.reshape((6,1))\n",
        " print(x.shape)\n",
        " x"
      ],
      "execution_count": null,
      "outputs": [
        {
          "output_type": "stream",
          "text": [
            "(6, 1)\n"
          ],
          "name": "stdout"
        },
        {
          "output_type": "execute_result",
          "data": {
            "text/plain": [
              "array([[0.],\n",
              "       [1.],\n",
              "       [2.],\n",
              "       [3.],\n",
              "       [4.],\n",
              "       [5.]])"
            ]
          },
          "metadata": {
            "tags": []
          },
          "execution_count": 72
        }
      ]
    },
    {
      "cell_type": "code",
      "metadata": {
        "id": "pLY4cmo0LU17",
        "colab": {
          "base_uri": "https://localhost:8080/"
        },
        "outputId": "d5c13d9d-e0f2-46fe-80de-19b4602ccfdd"
      },
      "source": [
        "x = x.reshape((2,3))\n",
        "print(x.shape)\n",
        "x"
      ],
      "execution_count": null,
      "outputs": [
        {
          "output_type": "stream",
          "text": [
            "(2, 3)\n"
          ],
          "name": "stdout"
        },
        {
          "output_type": "execute_result",
          "data": {
            "text/plain": [
              "array([[0., 1., 2.],\n",
              "       [3., 4., 5.]])"
            ]
          },
          "metadata": {
            "tags": []
          },
          "execution_count": 73
        }
      ]
    },
    {
      "cell_type": "code",
      "metadata": {
        "id": "mBDdo5uzL0lQ",
        "colab": {
          "base_uri": "https://localhost:8080/"
        },
        "outputId": "1d9d4097-449c-4144-9acf-2cc291d19650"
      },
      "source": [
        "#Tranposition(is a special case of reshaping)\n",
        "x = np.zeros((300,20))\n",
        "x = np.transpose(x)\n",
        "print(x.shape)"
      ],
      "execution_count": null,
      "outputs": [
        {
          "output_type": "stream",
          "text": [
            "(20, 300)\n"
          ],
          "name": "stdout"
        }
      ]
    }
  ]
}